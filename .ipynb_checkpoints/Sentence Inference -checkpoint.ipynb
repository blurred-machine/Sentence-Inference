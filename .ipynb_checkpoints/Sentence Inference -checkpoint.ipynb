{
 "cells": [
  {
   "cell_type": "markdown",
   "metadata": {},
   "source": [
    "# Sentence-Inference"
   ]
  },
  {
   "cell_type": "markdown",
   "metadata": {},
   "source": [
    "### The problem is for every given pair of sentences ie. (sentence-1, sentence-2), determine if sentence-2 can be logically inferred given sentence-1."
   ]
  },
  {
   "cell_type": "markdown",
   "metadata": {},
   "source": [
    "## 1. Importing libraries and data"
   ]
  },
  {
   "cell_type": "markdown",
   "metadata": {},
   "source": [
    "### 1.1 Importing libraries"
   ]
  },
  {
   "cell_type": "code",
   "execution_count": 1,
   "metadata": {},
   "outputs": [
    {
     "name": "stderr",
     "output_type": "stream",
     "text": [
      "Using TensorFlow backend.\n"
     ]
    }
   ],
   "source": [
    "import pandas as pd\n",
    "import numpy as np\n",
    "import matplotlib.pyplot as plt\n",
    "%matplotlib inline\n",
    "import seaborn as sns\n",
    "\n",
    "from bs4 import BeautifulSoup\n",
    "import re\n",
    "from tqdm import tqdm \n",
    "from sklearn.preprocessing import LabelEncoder\n",
    "\n",
    "from sklearn.feature_extraction import text\n",
    "import warnings\n",
    "warnings.filterwarnings(\"ignore\")\n",
    "from keras.preprocessing import sequence\n",
    "\n",
    "from sklearn.feature_extraction.text import TfidfTransformer\n",
    "from sklearn.feature_extraction.text import TfidfVectorizer\n",
    "\n",
    "from sklearn.feature_extraction.text import CountVectorizer\n",
    "from sklearn import metrics\n",
    "from sklearn.metrics import roc_curve, auc\n",
    "from nltk.stem.porter import PorterStemmer\n",
    "\n",
    "from difflib import SequenceMatcher\n",
    "\n",
    "import re\n",
    "\n",
    "from nltk.corpus import stopwords\n",
    "from nltk import word_tokenize, ngrams\n",
    "eng_stopwords = set(stopwords.words('english'))\n",
    "\n",
    "from gensim.models import Word2Vec\n",
    "from gensim.models import KeyedVectors\n",
    "import pickle\n",
    "\n",
    "from sklearn.model_selection import KFold, cross_val_score, train_test_split\n",
    "from sklearn.metrics import confusion_matrix,classification_report\n",
    "from sklearn.metrics import accuracy_score\n",
    "\n",
    "from sklearn.cluster import KMeans\n",
    "from sklearn.neighbors import KNeighborsClassifier\n",
    "from sklearn.svm import SVC\n",
    "from sklearn.multioutput import MultiOutputClassifier\n",
    "from sklearn.ensemble import GradientBoostingClassifier\n",
    "from sklearn.tree import DecisionTreeClassifier\n",
    "from sklearn.naive_bayes import GaussianNB\n",
    "from sklearn.linear_model import LogisticRegression\n",
    "from sklearn.ensemble import RandomForestClassifier\n",
    "import xgboost as xgb\n",
    "\n",
    "import tensorflow as tf\n",
    "from tensorflow.keras.models import Sequential\n",
    "from tensorflow.keras.layers import Dense, Dropout\n",
    "from tensorflow.keras.wrappers.scikit_learn import KerasClassifier\n",
    "\n",
    "\n",
    "from keras.preprocessing.text import Tokenizer\n",
    "from keras.preprocessing.sequence import pad_sequences\n",
    "from keras.layers import Dense , Input , LSTM , Embedding, Dropout , Activation, GRU, Flatten\n",
    "from keras.layers import Bidirectional, GlobalMaxPool1D\n",
    "from keras.models import Model, Sequential\n",
    "from keras.layers import Convolution1D\n",
    "from keras import initializers, regularizers, constraints, optimizers, layers"
   ]
  },
  {
   "cell_type": "markdown",
   "metadata": {},
   "source": [
    "### 1.2 Importing Dataset"
   ]
  },
  {
   "cell_type": "code",
   "execution_count": 2,
   "metadata": {},
   "outputs": [
    {
     "data": {
      "text/html": [
       "<div>\n",
       "<style scoped>\n",
       "    .dataframe tbody tr th:only-of-type {\n",
       "        vertical-align: middle;\n",
       "    }\n",
       "\n",
       "    .dataframe tbody tr th {\n",
       "        vertical-align: top;\n",
       "    }\n",
       "\n",
       "    .dataframe thead th {\n",
       "        text-align: right;\n",
       "    }\n",
       "</style>\n",
       "<table border=\"1\" class=\"dataframe\">\n",
       "  <thead>\n",
       "    <tr style=\"text-align: right;\">\n",
       "      <th></th>\n",
       "      <th>gold_label</th>\n",
       "      <th>sentence1</th>\n",
       "      <th>sentence2</th>\n",
       "    </tr>\n",
       "  </thead>\n",
       "  <tbody>\n",
       "    <tr>\n",
       "      <th>0</th>\n",
       "      <td>contradiction</td>\n",
       "      <td>A group of men with cowboy hats are watching a...</td>\n",
       "      <td>A group of women are watching a horse race</td>\n",
       "    </tr>\n",
       "    <tr>\n",
       "      <th>1</th>\n",
       "      <td>entailment</td>\n",
       "      <td>A kid with his head shaved sitting and holding...</td>\n",
       "      <td>Child sits with a cigarette.</td>\n",
       "    </tr>\n",
       "    <tr>\n",
       "      <th>2</th>\n",
       "      <td>neutral</td>\n",
       "      <td>A woman riding a bicycle past a car and a grou...</td>\n",
       "      <td>A woman riding a bicycle near a group of her f...</td>\n",
       "    </tr>\n",
       "    <tr>\n",
       "      <th>3</th>\n",
       "      <td>neutral</td>\n",
       "      <td>A woman looking through what appears to be a t...</td>\n",
       "      <td>An female astronamer looking toward the stars ...</td>\n",
       "    </tr>\n",
       "    <tr>\n",
       "      <th>4</th>\n",
       "      <td>entailment</td>\n",
       "      <td>A large group of people stand outside on a roa...</td>\n",
       "      <td>One group of people are watching what another ...</td>\n",
       "    </tr>\n",
       "    <tr>\n",
       "      <th>5</th>\n",
       "      <td>contradiction</td>\n",
       "      <td>A small dark-haired boy climbing in a large tree.</td>\n",
       "      <td>A small dark-haired boy is climbing over a car...</td>\n",
       "    </tr>\n",
       "    <tr>\n",
       "      <th>6</th>\n",
       "      <td>neutral</td>\n",
       "      <td>A man sits beside parked cars on a city street.</td>\n",
       "      <td>A man is sitting on a bench.</td>\n",
       "    </tr>\n",
       "    <tr>\n",
       "      <th>7</th>\n",
       "      <td>entailment</td>\n",
       "      <td>A dog looks content sitting on a bed after rip...</td>\n",
       "      <td>a dog sitting on a bed after ripping up paper.</td>\n",
       "    </tr>\n",
       "    <tr>\n",
       "      <th>8</th>\n",
       "      <td>contradiction</td>\n",
       "      <td>Young children and parents splashing around a ...</td>\n",
       "      <td>There are families eating lunch</td>\n",
       "    </tr>\n",
       "    <tr>\n",
       "      <th>9</th>\n",
       "      <td>entailment</td>\n",
       "      <td>A football coach guiding one of his players on...</td>\n",
       "      <td>The coach knows how to play football.</td>\n",
       "    </tr>\n",
       "  </tbody>\n",
       "</table>\n",
       "</div>"
      ],
      "text/plain": [
       "      gold_label                                          sentence1  \\\n",
       "0  contradiction  A group of men with cowboy hats are watching a...   \n",
       "1     entailment  A kid with his head shaved sitting and holding...   \n",
       "2        neutral  A woman riding a bicycle past a car and a grou...   \n",
       "3        neutral  A woman looking through what appears to be a t...   \n",
       "4     entailment  A large group of people stand outside on a roa...   \n",
       "5  contradiction  A small dark-haired boy climbing in a large tree.   \n",
       "6        neutral    A man sits beside parked cars on a city street.   \n",
       "7     entailment  A dog looks content sitting on a bed after rip...   \n",
       "8  contradiction  Young children and parents splashing around a ...   \n",
       "9     entailment  A football coach guiding one of his players on...   \n",
       "\n",
       "                                           sentence2  \n",
       "0         A group of women are watching a horse race  \n",
       "1                       Child sits with a cigarette.  \n",
       "2  A woman riding a bicycle near a group of her f...  \n",
       "3  An female astronamer looking toward the stars ...  \n",
       "4  One group of people are watching what another ...  \n",
       "5  A small dark-haired boy is climbing over a car...  \n",
       "6                       A man is sitting on a bench.  \n",
       "7     a dog sitting on a bed after ripping up paper.  \n",
       "8                    There are families eating lunch  \n",
       "9              The coach knows how to play football.  "
      ]
     },
     "execution_count": 2,
     "metadata": {},
     "output_type": "execute_result"
    }
   ],
   "source": [
    "# reading training file with the data\n",
    "df_train = pd.read_csv(\"data_set/train.csv\")\n",
    "df_train.head(10)"
   ]
  },
  {
   "cell_type": "code",
   "execution_count": 3,
   "metadata": {},
   "outputs": [
    {
     "data": {
      "text/html": [
       "<div>\n",
       "<style scoped>\n",
       "    .dataframe tbody tr th:only-of-type {\n",
       "        vertical-align: middle;\n",
       "    }\n",
       "\n",
       "    .dataframe tbody tr th {\n",
       "        vertical-align: top;\n",
       "    }\n",
       "\n",
       "    .dataframe thead th {\n",
       "        text-align: right;\n",
       "    }\n",
       "</style>\n",
       "<table border=\"1\" class=\"dataframe\">\n",
       "  <thead>\n",
       "    <tr style=\"text-align: right;\">\n",
       "      <th></th>\n",
       "      <th>sentence1</th>\n",
       "      <th>sentence2</th>\n",
       "    </tr>\n",
       "  </thead>\n",
       "  <tbody>\n",
       "    <tr>\n",
       "      <th>0</th>\n",
       "      <td>Number 13 kicks a soccer ball towards the goal...</td>\n",
       "      <td>A player fighting in a soccer game.</td>\n",
       "    </tr>\n",
       "    <tr>\n",
       "      <th>1</th>\n",
       "      <td>A woman walks next to a subway exit.</td>\n",
       "      <td>A woman is on here way home.</td>\n",
       "    </tr>\n",
       "    <tr>\n",
       "      <th>2</th>\n",
       "      <td>A man walks down the alley talking on his cell...</td>\n",
       "      <td>A man is walking down a wooded path and talkin...</td>\n",
       "    </tr>\n",
       "    <tr>\n",
       "      <th>3</th>\n",
       "      <td>Indian women playing musical chairs with white...</td>\n",
       "      <td>indain woman playing cricket with white woman</td>\n",
       "    </tr>\n",
       "    <tr>\n",
       "      <th>4</th>\n",
       "      <td>An older perhaps Asian man who is wearing a sl...</td>\n",
       "      <td>A tall human wearing</td>\n",
       "    </tr>\n",
       "  </tbody>\n",
       "</table>\n",
       "</div>"
      ],
      "text/plain": [
       "                                           sentence1  \\\n",
       "0  Number 13 kicks a soccer ball towards the goal...   \n",
       "1               A woman walks next to a subway exit.   \n",
       "2  A man walks down the alley talking on his cell...   \n",
       "3  Indian women playing musical chairs with white...   \n",
       "4  An older perhaps Asian man who is wearing a sl...   \n",
       "\n",
       "                                           sentence2  \n",
       "0                A player fighting in a soccer game.  \n",
       "1                       A woman is on here way home.  \n",
       "2  A man is walking down a wooded path and talkin...  \n",
       "3      indain woman playing cricket with white woman  \n",
       "4                               A tall human wearing  "
      ]
     },
     "execution_count": 3,
     "metadata": {},
     "output_type": "execute_result"
    }
   ],
   "source": [
    "df_test = pd.read_csv(\"data_set/test.csv\")\n",
    "df_test.head()"
   ]
  },
  {
   "cell_type": "code",
   "execution_count": 4,
   "metadata": {},
   "outputs": [
    {
     "name": "stdout",
     "output_type": "stream",
     "text": [
      "<class 'pandas.core.frame.DataFrame'>\n",
      "RangeIndex: 9349 entries, 0 to 9348\n",
      "Data columns (total 3 columns):\n",
      "gold_label    9349 non-null object\n",
      "sentence1     9349 non-null object\n",
      "sentence2     9349 non-null object\n",
      "dtypes: object(3)\n",
      "memory usage: 219.2+ KB\n"
     ]
    }
   ],
   "source": [
    "df_train.info()"
   ]
  },
  {
   "cell_type": "code",
   "execution_count": 5,
   "metadata": {},
   "outputs": [
    {
     "data": {
      "text/plain": [
       "(9349, 3)"
      ]
     },
     "execution_count": 5,
     "metadata": {},
     "output_type": "execute_result"
    }
   ],
   "source": [
    "df_train.shape"
   ]
  },
  {
   "cell_type": "code",
   "execution_count": 6,
   "metadata": {},
   "outputs": [
    {
     "data": {
      "text/plain": [
       "gold_label    False\n",
       "sentence1     False\n",
       "sentence2     False\n",
       "dtype: bool"
      ]
     },
     "execution_count": 6,
     "metadata": {},
     "output_type": "execute_result"
    }
   ],
   "source": [
    "# checking if there any missing value in the dataset\n",
    "df_train.isna().any()"
   ]
  },
  {
   "cell_type": "code",
   "execution_count": 7,
   "metadata": {},
   "outputs": [
    {
     "data": {
      "text/plain": [
       "entailment       3166\n",
       "contradiction    3114\n",
       "neutral          3069\n",
       "Name: gold_label, dtype: int64"
      ]
     },
     "execution_count": 7,
     "metadata": {},
     "output_type": "execute_result"
    }
   ],
   "source": [
    "# checking the total number of classes for the target variable\n",
    "df_train.gold_label.value_counts()"
   ]
  },
  {
   "cell_type": "markdown",
   "metadata": {},
   "source": [
    "### NOTE: the data seems to be balanced with no missing values. <br> Now, I can proceed with data cleaning. "
   ]
  },
  {
   "cell_type": "markdown",
   "metadata": {},
   "source": [
    "## 2. Cleaning Data "
   ]
  },
  {
   "cell_type": "code",
   "execution_count": 8,
   "metadata": {},
   "outputs": [],
   "source": [
    "# I have used a custom list of stop words which do not have exceptional strings like 'no', 'nor', 'not'\n",
    "stopwords= set(['br', 'the', 'i', 'me', 'my', 'myself', 'we', 'our', 'ours', 'ourselves', 'you', \"you're\", \"you've\",\\\n",
    "            \"you'll\", \"you'd\", 'your', 'yours', 'yourself', 'yourselves', 'he', 'him', 'his', 'himself', \\\n",
    "            'she', \"she's\", 'her', 'hers', 'herself', 'it', \"it's\", 'its', 'itself', 'they', 'them', 'their',\\\n",
    "            'theirs', 'themselves', 'what', 'which', 'who', 'whom', 'this', 'that', \"that'll\", 'these', 'those', \\\n",
    "            'am', 'is', 'are', 'was', 'were', 'be', 'been', 'being', 'have', 'has', 'had', 'having', 'do', 'does', \\\n",
    "            'did', 'doing', 'a', 'an', 'the', 'and', 'but', 'if', 'or', 'because', 'as', 'until', 'while', 'of', \\\n",
    "            'at', 'by', 'for', 'with', 'about', 'against', 'between', 'into', 'through', 'during', 'before', 'after',\\\n",
    "            'above', 'below', 'to', 'from', 'up', 'down', 'in', 'out', 'on', 'off', 'over', 'under', 'again', 'further',\\\n",
    "            'then', 'once', 'here', 'there', 'when', 'where', 'why', 'how', 'all', 'any', 'both', 'each', 'few', 'more',\\\n",
    "            'most', 'other', 'some', 'such', 'only', 'own', 'same', 'so', 'than', 'too', 'very', \\\n",
    "            's', 't', 'can', 'will', 'just', 'don', \"don't\", 'should', \"should've\", 'now', 'd', 'll', 'm', 'o', 're', \\\n",
    "            've', 'y', 'ain', 'aren', \"aren't\", 'couldn', \"couldn't\", 'didn', \"didn't\", 'doesn', \"doesn't\", 'hadn',\\\n",
    "            \"hadn't\", 'hasn', \"hasn't\", 'haven', \"haven't\", 'isn', \"isn't\", 'ma', 'mightn', \"mightn't\", 'mustn',\\\n",
    "            \"mustn't\", 'needn', \"needn't\", 'shan', \"shan't\", 'shouldn', \"shouldn't\", 'wasn', \"wasn't\", 'weren', \"weren't\", \\\n",
    "            'won', \"won't\", 'wouldn', \"wouldn't\"])"
   ]
  },
  {
   "cell_type": "code",
   "execution_count": 9,
   "metadata": {},
   "outputs": [],
   "source": [
    "def decontracted(phrase):\n",
    "    '''\n",
    "     Here is this function I will replace the words which has short hand representation of two words added together, \n",
    "     like won't is represtative of would not, etc. to the full hand representations of them.\n",
    "    '''\n",
    "    \n",
    "    phrase = re.sub(r\"won't\", \"will not\", phrase)\n",
    "    phrase = re.sub(r\"can\\'t\", \"can not\", phrase)\n",
    "    phrase = re.sub(r\"n\\'t\", \" not\", phrase)\n",
    "    phrase = re.sub(r\"\\'re\", \" are\", phrase)\n",
    "    phrase = re.sub(r\"\\'s\", \" is\", phrase)\n",
    "    phrase = re.sub(r\"\\'d\", \" would\", phrase)\n",
    "    phrase = re.sub(r\"\\'ll\", \" will\", phrase)\n",
    "    phrase = re.sub(r\"\\'t\", \" not\", phrase)\n",
    "    phrase = re.sub(r\"\\'ve\", \" have\", phrase)\n",
    "    phrase = re.sub(r\"\\'m\", \" am\", phrase)\n",
    "    return phrase"
   ]
  },
  {
   "cell_type": "code",
   "execution_count": 10,
   "metadata": {},
   "outputs": [],
   "source": [
    "def clean_text(sentance):\n",
    "    '''\n",
    "    Here is this function I will clean the data by following the steps:\n",
    "    * remove the hyperlinks like http://...\n",
    "    * Remove the HTML and XML tags using BeautifulSoup library.\n",
    "    * removing white spaces and numerical values.\n",
    "    * keeping only ascii characters.\n",
    "    * and finally removing all stopwords from the text and making all characters to lowercase.\n",
    "    '''\n",
    "    \n",
    "    sentance = re.sub(r\"http\\S+\", \"\", sentance)\n",
    "    sentance = BeautifulSoup(sentance, 'lxml').get_text()\n",
    "    sentance = decontracted(sentance)\n",
    "    sentance = re.sub(\"\\S*\\d\\S*\", \"\", sentance).strip()\n",
    "    sentance = re.sub('[^A-Za-z]+', ' ', sentance)\n",
    "    sentance = ' '.join(e.lower() for e in sentance.split() if e.lower() not in stopwords)\n",
    "    return sentance.strip()"
   ]
  },
  {
   "cell_type": "code",
   "execution_count": 11,
   "metadata": {},
   "outputs": [
    {
     "data": {
      "text/html": [
       "<div>\n",
       "<style scoped>\n",
       "    .dataframe tbody tr th:only-of-type {\n",
       "        vertical-align: middle;\n",
       "    }\n",
       "\n",
       "    .dataframe tbody tr th {\n",
       "        vertical-align: top;\n",
       "    }\n",
       "\n",
       "    .dataframe thead th {\n",
       "        text-align: right;\n",
       "    }\n",
       "</style>\n",
       "<table border=\"1\" class=\"dataframe\">\n",
       "  <thead>\n",
       "    <tr style=\"text-align: right;\">\n",
       "      <th></th>\n",
       "      <th>gold_label</th>\n",
       "      <th>sentence1</th>\n",
       "      <th>sentence2</th>\n",
       "    </tr>\n",
       "  </thead>\n",
       "  <tbody>\n",
       "    <tr>\n",
       "      <th>0</th>\n",
       "      <td>contradiction</td>\n",
       "      <td>A group of men with cowboy hats are watching a...</td>\n",
       "      <td>A group of women are watching a horse race</td>\n",
       "    </tr>\n",
       "    <tr>\n",
       "      <th>1</th>\n",
       "      <td>entailment</td>\n",
       "      <td>A kid with his head shaved sitting and holding...</td>\n",
       "      <td>Child sits with a cigarette.</td>\n",
       "    </tr>\n",
       "    <tr>\n",
       "      <th>2</th>\n",
       "      <td>neutral</td>\n",
       "      <td>A woman riding a bicycle past a car and a grou...</td>\n",
       "      <td>A woman riding a bicycle near a group of her f...</td>\n",
       "    </tr>\n",
       "    <tr>\n",
       "      <th>3</th>\n",
       "      <td>neutral</td>\n",
       "      <td>A woman looking through what appears to be a t...</td>\n",
       "      <td>An female astronamer looking toward the stars ...</td>\n",
       "    </tr>\n",
       "    <tr>\n",
       "      <th>4</th>\n",
       "      <td>entailment</td>\n",
       "      <td>A large group of people stand outside on a roa...</td>\n",
       "      <td>One group of people are watching what another ...</td>\n",
       "    </tr>\n",
       "    <tr>\n",
       "      <th>5</th>\n",
       "      <td>contradiction</td>\n",
       "      <td>A small dark-haired boy climbing in a large tree.</td>\n",
       "      <td>A small dark-haired boy is climbing over a car...</td>\n",
       "    </tr>\n",
       "    <tr>\n",
       "      <th>6</th>\n",
       "      <td>neutral</td>\n",
       "      <td>A man sits beside parked cars on a city street.</td>\n",
       "      <td>A man is sitting on a bench.</td>\n",
       "    </tr>\n",
       "    <tr>\n",
       "      <th>7</th>\n",
       "      <td>entailment</td>\n",
       "      <td>A dog looks content sitting on a bed after rip...</td>\n",
       "      <td>a dog sitting on a bed after ripping up paper.</td>\n",
       "    </tr>\n",
       "    <tr>\n",
       "      <th>8</th>\n",
       "      <td>contradiction</td>\n",
       "      <td>Young children and parents splashing around a ...</td>\n",
       "      <td>There are families eating lunch</td>\n",
       "    </tr>\n",
       "    <tr>\n",
       "      <th>9</th>\n",
       "      <td>entailment</td>\n",
       "      <td>A football coach guiding one of his players on...</td>\n",
       "      <td>The coach knows how to play football.</td>\n",
       "    </tr>\n",
       "  </tbody>\n",
       "</table>\n",
       "</div>"
      ],
      "text/plain": [
       "      gold_label                                          sentence1  \\\n",
       "0  contradiction  A group of men with cowboy hats are watching a...   \n",
       "1     entailment  A kid with his head shaved sitting and holding...   \n",
       "2        neutral  A woman riding a bicycle past a car and a grou...   \n",
       "3        neutral  A woman looking through what appears to be a t...   \n",
       "4     entailment  A large group of people stand outside on a roa...   \n",
       "5  contradiction  A small dark-haired boy climbing in a large tree.   \n",
       "6        neutral    A man sits beside parked cars on a city street.   \n",
       "7     entailment  A dog looks content sitting on a bed after rip...   \n",
       "8  contradiction  Young children and parents splashing around a ...   \n",
       "9     entailment  A football coach guiding one of his players on...   \n",
       "\n",
       "                                           sentence2  \n",
       "0         A group of women are watching a horse race  \n",
       "1                       Child sits with a cigarette.  \n",
       "2  A woman riding a bicycle near a group of her f...  \n",
       "3  An female astronamer looking toward the stars ...  \n",
       "4  One group of people are watching what another ...  \n",
       "5  A small dark-haired boy is climbing over a car...  \n",
       "6                       A man is sitting on a bench.  \n",
       "7     a dog sitting on a bed after ripping up paper.  \n",
       "8                    There are families eating lunch  \n",
       "9              The coach knows how to play football.  "
      ]
     },
     "execution_count": 11,
     "metadata": {},
     "output_type": "execute_result"
    }
   ],
   "source": [
    "# data before cleaning\n",
    "df_train.head(10)"
   ]
  },
  {
   "cell_type": "code",
   "execution_count": 12,
   "metadata": {},
   "outputs": [
    {
     "name": "stderr",
     "output_type": "stream",
     "text": [
      "100%|█████████████████████████████████████████████████████████████████████████████| 9349/9349 [00:09<00:00, 972.32it/s]\n"
     ]
    }
   ],
   "source": [
    "preprocessed_sentence1 = []\n",
    "preprocessed_sentence2 = []\n",
    "\n",
    "for i in tqdm(range(len(df_train)), position=0, leave=True):\n",
    "    df_train.sentence1[i] = clean_text(df_train.sentence1[i])\n",
    "    df_train.sentence2[i] = clean_text(df_train.sentence2[i])\n",
    "    preprocessed_sentence1.append(df_train.sentence1[i])\n",
    "    preprocessed_sentence2.append(df_train.sentence2[i])"
   ]
  },
  {
   "cell_type": "code",
   "execution_count": 13,
   "metadata": {},
   "outputs": [
    {
     "name": "stderr",
     "output_type": "stream",
     "text": [
      "100%|██████████████████████████████████████████████████████████████████████████████| 493/493 [00:00<00:00, 1110.49it/s]\n"
     ]
    }
   ],
   "source": [
    "for i in tqdm(range(len(df_test)), position=0, leave=True):\n",
    "    df_test.sentence1[i] = clean_text(df_test.sentence1[i])\n",
    "    df_test.sentence2[i] = clean_text(df_test.sentence2[i])"
   ]
  },
  {
   "cell_type": "code",
   "execution_count": 14,
   "metadata": {},
   "outputs": [
    {
     "data": {
      "text/plain": [
       "['group men cowboy hats watching rodeo',\n",
       " 'kid head shaved sitting holding lit cigarette',\n",
       " 'woman riding bicycle past car group people sidewalk',\n",
       " 'woman looking appears telescope',\n",
       " 'large group people stand outside road people higher level look',\n",
       " 'small dark haired boy climbing large tree',\n",
       " 'man sits beside parked cars city street',\n",
       " 'dog looks content sitting bed ripping paper',\n",
       " 'young children parents splashing around public fountain',\n",
       " 'football coach guiding one players']"
      ]
     },
     "execution_count": 14,
     "metadata": {},
     "output_type": "execute_result"
    }
   ],
   "source": [
    "# this is how the clean processed data looks\n",
    "preprocessed_sentence1[:10]"
   ]
  },
  {
   "cell_type": "code",
   "execution_count": 15,
   "metadata": {},
   "outputs": [
    {
     "data": {
      "text/html": [
       "<div>\n",
       "<style scoped>\n",
       "    .dataframe tbody tr th:only-of-type {\n",
       "        vertical-align: middle;\n",
       "    }\n",
       "\n",
       "    .dataframe tbody tr th {\n",
       "        vertical-align: top;\n",
       "    }\n",
       "\n",
       "    .dataframe thead th {\n",
       "        text-align: right;\n",
       "    }\n",
       "</style>\n",
       "<table border=\"1\" class=\"dataframe\">\n",
       "  <thead>\n",
       "    <tr style=\"text-align: right;\">\n",
       "      <th></th>\n",
       "      <th>gold_label</th>\n",
       "      <th>sentence1</th>\n",
       "      <th>sentence2</th>\n",
       "    </tr>\n",
       "  </thead>\n",
       "  <tbody>\n",
       "    <tr>\n",
       "      <th>0</th>\n",
       "      <td>contradiction</td>\n",
       "      <td>group men cowboy hats watching rodeo</td>\n",
       "      <td>group women watching horse race</td>\n",
       "    </tr>\n",
       "    <tr>\n",
       "      <th>1</th>\n",
       "      <td>entailment</td>\n",
       "      <td>kid head shaved sitting holding lit cigarette</td>\n",
       "      <td>child sits cigarette</td>\n",
       "    </tr>\n",
       "    <tr>\n",
       "      <th>2</th>\n",
       "      <td>neutral</td>\n",
       "      <td>woman riding bicycle past car group people sid...</td>\n",
       "      <td>woman riding bicycle near group friends sidewalk</td>\n",
       "    </tr>\n",
       "    <tr>\n",
       "      <th>3</th>\n",
       "      <td>neutral</td>\n",
       "      <td>woman looking appears telescope</td>\n",
       "      <td>female astronamer looking toward stars telescope</td>\n",
       "    </tr>\n",
       "    <tr>\n",
       "      <th>4</th>\n",
       "      <td>entailment</td>\n",
       "      <td>large group people stand outside road people h...</td>\n",
       "      <td>one group people watching another group</td>\n",
       "    </tr>\n",
       "    <tr>\n",
       "      <th>5</th>\n",
       "      <td>contradiction</td>\n",
       "      <td>small dark haired boy climbing large tree</td>\n",
       "      <td>small dark haired boy climbing car seat</td>\n",
       "    </tr>\n",
       "    <tr>\n",
       "      <th>6</th>\n",
       "      <td>neutral</td>\n",
       "      <td>man sits beside parked cars city street</td>\n",
       "      <td>man sitting bench</td>\n",
       "    </tr>\n",
       "    <tr>\n",
       "      <th>7</th>\n",
       "      <td>entailment</td>\n",
       "      <td>dog looks content sitting bed ripping paper</td>\n",
       "      <td>dog sitting bed ripping paper</td>\n",
       "    </tr>\n",
       "    <tr>\n",
       "      <th>8</th>\n",
       "      <td>contradiction</td>\n",
       "      <td>young children parents splashing around public...</td>\n",
       "      <td>families eating lunch</td>\n",
       "    </tr>\n",
       "    <tr>\n",
       "      <th>9</th>\n",
       "      <td>entailment</td>\n",
       "      <td>football coach guiding one players</td>\n",
       "      <td>coach knows play football</td>\n",
       "    </tr>\n",
       "  </tbody>\n",
       "</table>\n",
       "</div>"
      ],
      "text/plain": [
       "      gold_label                                          sentence1  \\\n",
       "0  contradiction               group men cowboy hats watching rodeo   \n",
       "1     entailment      kid head shaved sitting holding lit cigarette   \n",
       "2        neutral  woman riding bicycle past car group people sid...   \n",
       "3        neutral                    woman looking appears telescope   \n",
       "4     entailment  large group people stand outside road people h...   \n",
       "5  contradiction          small dark haired boy climbing large tree   \n",
       "6        neutral            man sits beside parked cars city street   \n",
       "7     entailment        dog looks content sitting bed ripping paper   \n",
       "8  contradiction  young children parents splashing around public...   \n",
       "9     entailment                 football coach guiding one players   \n",
       "\n",
       "                                          sentence2  \n",
       "0                   group women watching horse race  \n",
       "1                              child sits cigarette  \n",
       "2  woman riding bicycle near group friends sidewalk  \n",
       "3  female astronamer looking toward stars telescope  \n",
       "4           one group people watching another group  \n",
       "5           small dark haired boy climbing car seat  \n",
       "6                                 man sitting bench  \n",
       "7                     dog sitting bed ripping paper  \n",
       "8                             families eating lunch  \n",
       "9                         coach knows play football  "
      ]
     },
     "execution_count": 15,
     "metadata": {},
     "output_type": "execute_result"
    }
   ],
   "source": [
    "# data after cleaning\n",
    "df_train.head(10)"
   ]
  },
  {
   "cell_type": "code",
   "execution_count": 16,
   "metadata": {},
   "outputs": [],
   "source": [
    "# converting the gold_label column into a categorical column\n",
    "df_train['gold_label'] = df_train['gold_label'].astype('category')"
   ]
  },
  {
   "cell_type": "code",
   "execution_count": 17,
   "metadata": {},
   "outputs": [
    {
     "data": {
      "text/html": [
       "<div>\n",
       "<style scoped>\n",
       "    .dataframe tbody tr th:only-of-type {\n",
       "        vertical-align: middle;\n",
       "    }\n",
       "\n",
       "    .dataframe tbody tr th {\n",
       "        vertical-align: top;\n",
       "    }\n",
       "\n",
       "    .dataframe thead th {\n",
       "        text-align: right;\n",
       "    }\n",
       "</style>\n",
       "<table border=\"1\" class=\"dataframe\">\n",
       "  <thead>\n",
       "    <tr style=\"text-align: right;\">\n",
       "      <th></th>\n",
       "      <th>gold_label</th>\n",
       "      <th>sentence1</th>\n",
       "      <th>sentence2</th>\n",
       "      <th>gold_label_encoded</th>\n",
       "    </tr>\n",
       "  </thead>\n",
       "  <tbody>\n",
       "    <tr>\n",
       "      <th>0</th>\n",
       "      <td>contradiction</td>\n",
       "      <td>group men cowboy hats watching rodeo</td>\n",
       "      <td>group women watching horse race</td>\n",
       "      <td>0</td>\n",
       "    </tr>\n",
       "    <tr>\n",
       "      <th>1</th>\n",
       "      <td>entailment</td>\n",
       "      <td>kid head shaved sitting holding lit cigarette</td>\n",
       "      <td>child sits cigarette</td>\n",
       "      <td>1</td>\n",
       "    </tr>\n",
       "    <tr>\n",
       "      <th>2</th>\n",
       "      <td>neutral</td>\n",
       "      <td>woman riding bicycle past car group people sid...</td>\n",
       "      <td>woman riding bicycle near group friends sidewalk</td>\n",
       "      <td>2</td>\n",
       "    </tr>\n",
       "    <tr>\n",
       "      <th>3</th>\n",
       "      <td>neutral</td>\n",
       "      <td>woman looking appears telescope</td>\n",
       "      <td>female astronamer looking toward stars telescope</td>\n",
       "      <td>2</td>\n",
       "    </tr>\n",
       "    <tr>\n",
       "      <th>4</th>\n",
       "      <td>entailment</td>\n",
       "      <td>large group people stand outside road people h...</td>\n",
       "      <td>one group people watching another group</td>\n",
       "      <td>1</td>\n",
       "    </tr>\n",
       "    <tr>\n",
       "      <th>5</th>\n",
       "      <td>contradiction</td>\n",
       "      <td>small dark haired boy climbing large tree</td>\n",
       "      <td>small dark haired boy climbing car seat</td>\n",
       "      <td>0</td>\n",
       "    </tr>\n",
       "    <tr>\n",
       "      <th>6</th>\n",
       "      <td>neutral</td>\n",
       "      <td>man sits beside parked cars city street</td>\n",
       "      <td>man sitting bench</td>\n",
       "      <td>2</td>\n",
       "    </tr>\n",
       "    <tr>\n",
       "      <th>7</th>\n",
       "      <td>entailment</td>\n",
       "      <td>dog looks content sitting bed ripping paper</td>\n",
       "      <td>dog sitting bed ripping paper</td>\n",
       "      <td>1</td>\n",
       "    </tr>\n",
       "    <tr>\n",
       "      <th>8</th>\n",
       "      <td>contradiction</td>\n",
       "      <td>young children parents splashing around public...</td>\n",
       "      <td>families eating lunch</td>\n",
       "      <td>0</td>\n",
       "    </tr>\n",
       "    <tr>\n",
       "      <th>9</th>\n",
       "      <td>entailment</td>\n",
       "      <td>football coach guiding one players</td>\n",
       "      <td>coach knows play football</td>\n",
       "      <td>1</td>\n",
       "    </tr>\n",
       "  </tbody>\n",
       "</table>\n",
       "</div>"
      ],
      "text/plain": [
       "      gold_label                                          sentence1  \\\n",
       "0  contradiction               group men cowboy hats watching rodeo   \n",
       "1     entailment      kid head shaved sitting holding lit cigarette   \n",
       "2        neutral  woman riding bicycle past car group people sid...   \n",
       "3        neutral                    woman looking appears telescope   \n",
       "4     entailment  large group people stand outside road people h...   \n",
       "5  contradiction          small dark haired boy climbing large tree   \n",
       "6        neutral            man sits beside parked cars city street   \n",
       "7     entailment        dog looks content sitting bed ripping paper   \n",
       "8  contradiction  young children parents splashing around public...   \n",
       "9     entailment                 football coach guiding one players   \n",
       "\n",
       "                                          sentence2  gold_label_encoded  \n",
       "0                   group women watching horse race                   0  \n",
       "1                              child sits cigarette                   1  \n",
       "2  woman riding bicycle near group friends sidewalk                   2  \n",
       "3  female astronamer looking toward stars telescope                   2  \n",
       "4           one group people watching another group                   1  \n",
       "5           small dark haired boy climbing car seat                   0  \n",
       "6                                 man sitting bench                   2  \n",
       "7                     dog sitting bed ripping paper                   1  \n",
       "8                             families eating lunch                   0  \n",
       "9                         coach knows play football                   1  "
      ]
     },
     "execution_count": 17,
     "metadata": {},
     "output_type": "execute_result"
    }
   ],
   "source": [
    "# converting the gold_label column into numerical values using LabelEncoder\n",
    "encoder = LabelEncoder()\n",
    "df_train['gold_label_encoded'] = encoder.fit_transform(df_train['gold_label'])\n",
    "df_train.head(10)"
   ]
  },
  {
   "cell_type": "markdown",
   "metadata": {},
   "source": [
    "## Data Visualization"
   ]
  },
  {
   "cell_type": "code",
   "execution_count": 18,
   "metadata": {},
   "outputs": [
    {
     "name": "stdout",
     "output_type": "stream",
     "text": [
      "Average Length of sentence 1:  7.985239063001391\n",
      "Average Length of sentence 2:  4.091774521339181\n"
     ]
    }
   ],
   "source": [
    "# this cell shows the average length of words in each sentence\n",
    "avg_length_s1 = df_train['sentence1'].apply(lambda x: len(x.split(\" \"))).mean()\n",
    "avg_length_s2 = df_train['sentence2'].apply(lambda x: len(x.split(\" \"))).mean()\n",
    "print(\"Average Length of sentence 1: \", avg_length_s1)\n",
    "print(\"Average Length of sentence 2: \", avg_length_s2)"
   ]
  },
  {
   "cell_type": "code",
   "execution_count": 19,
   "metadata": {},
   "outputs": [
    {
     "data": {
      "image/png": "[encoded data removed]",
      "text/plain": [
       "<Figure size 720x360 with 1 Axes>"
      ]
     },
     "metadata": {
      "needs_background": "light"
     },
     "output_type": "display_data"
    }
   ],
   "source": [
    "# this plot shows that the data is balanced and all the three categories have very similar number of examples.\n",
    "contradiction_len = df_train[df_train['gold_label'] == 'contradiction'].shape[0]\n",
    "entailment_len = df_train[df_train['gold_label'] == 'entailment'].shape[0]\n",
    "neutral_len = df_train[df_train['gold_label'] == 'neutral'].shape[0]\n",
    "\n",
    "plt.rcParams['figure.figsize'] = (10, 5)\n",
    "plt.bar(0,contradiction_len,3, label=\"contradiction\", color='blue')\n",
    "plt.bar(5,entailment_len,3, label=\"entailment\", color='red')\n",
    "plt.bar(10,neutral_len,3, label=\"neutral\", color='green')\n",
    "\n",
    "plt.legend()\n",
    "plt.ylabel('Number of examples')\n",
    "plt.title('Propertion of examples')\n",
    "plt.show()"
   ]
  },
  {
   "cell_type": "code",
   "execution_count": 20,
   "metadata": {},
   "outputs": [],
   "source": [
    "def length(text):\n",
    "    '''\n",
    "    function to calculate length of a series\n",
    "    '''\n",
    "    return len(text)"
   ]
  },
  {
   "cell_type": "code",
   "execution_count": 21,
   "metadata": {},
   "outputs": [
    {
     "data": {
      "image/png": "[encoded data removed]",
      "text/plain": [
       "<Figure size 1296x432 with 1 Axes>"
      ]
     },
     "metadata": {
      "needs_background": "light"
     },
     "output_type": "display_data"
    }
   ],
   "source": [
    "# Here I am creating the length_s1 column for the training and testing datasets which contains the length of sentence1\n",
    "df_train['length_s1'] = df_train['sentence1'] .apply(length)\n",
    "df_test['length_s1'] = df_test['sentence1'] .apply(length)\n",
    "\n",
    "# Here I am plotting the above created column for all the three categories of the gold_label column\n",
    "plt.rcParams['figure.figsize'] = (18.0, 6.0)\n",
    "bins = 150\n",
    "plt.hist(df_train[df_train['gold_label'] == 'contradiction']['length_s1'], alpha = 0.6, bins=bins, label='contradiction')\n",
    "plt.hist(df_train[df_train['gold_label'] == 'entailment']['length_s1'], alpha = 0.6, bins=bins, label='entailment')\n",
    "plt.hist(df_train[df_train['gold_label'] == 'neutral']['length_s1'], alpha = 0.6, bins=bins, label='neutral')\n",
    "plt.xlabel('length')\n",
    "plt.ylabel('numbers')\n",
    "plt.legend(loc='upper right')\n",
    "plt.xlim(0,150)\n",
    "plt.grid()\n",
    "plt.savefig('./images/length_of_doc_s1.png')\n",
    "plt.show()"
   ]
  },
  {
   "cell_type": "code",
   "execution_count": 22,
   "metadata": {},
   "outputs": [
    {
     "data": {
      "image/png": "[encoded data removed]",
      "text/plain": [
       "<Figure size 1296x432 with 1 Axes>"
      ]
     },
     "metadata": {
      "needs_background": "light"
     },
     "output_type": "display_data"
    }
   ],
   "source": [
    "# Here I am creating the length_s2 column for the training and testing datasets which contains the length of sentence2\n",
    "\n",
    "df_train['length_s2'] = df_train['sentence2'] .apply(length)\n",
    "df_test['length_s2'] = df_test['sentence2'] .apply(length)\n",
    "\n",
    "# Here I am plotting the above created column for all the three categories of the gold_label column\n",
    "plt.rcParams['figure.figsize'] = (18.0, 6.0)\n",
    "bins = 150\n",
    "plt.hist(df_train[df_train['gold_label'] == 'contradiction']['length_s2'], alpha = 0.6, bins=bins, label='contradiction')\n",
    "plt.hist(df_train[df_train['gold_label'] == 'entailment']['length_s2'], alpha = 0.6, bins=bins, label='entailment')\n",
    "plt.hist(df_train[df_train['gold_label'] == 'neutral']['length_s2'], alpha = 0.6, bins=bins, label='neutral')\n",
    "plt.xlabel('length')\n",
    "plt.ylabel('numbers')\n",
    "plt.legend(loc='upper right')\n",
    "plt.xlim(0,150)\n",
    "plt.grid()\n",
    "plt.savefig('./images/length_of_doc_s2.png')\n",
    "plt.show()"
   ]
  },
  {
   "cell_type": "markdown",
   "metadata": {},
   "source": [
    "<hr>"
   ]
  },
  {
   "cell_type": "markdown",
   "metadata": {},
   "source": [
    "## Feature Engineering"
   ]
  },
  {
   "cell_type": "code",
   "execution_count": 23,
   "metadata": {},
   "outputs": [],
   "source": [
    "def seq_similarity(a, b):\n",
    "    '''this function calculate the similarity between two strings using sequence matcher'''\n",
    "    return SequenceMatcher(None, a, b).ratio()\n",
    "    \n",
    "def seq_match_df(df_data):\n",
    "    '''this function will apply the seq_similarity on the dataset passed as parameter for both sentences'''\n",
    "    col1 = 'sentence1'\n",
    "    col2 = 'sentence2'\n",
    "    df_data[col1] = df_data[col1].str.replace(r'\\d', '')\n",
    "    df_data[col2] = df_data[col2].str.replace(r'\\d', '')\n",
    "    df_data['seq_sim'] = 0\n",
    "    df_data['seq_sim'] = df_data.apply(lambda x: seq_similarity(x[col1], x[col2]), axis=1)\n",
    "    return df_data\n",
    "\n",
    "# applying the sequence matching on the training and testing datasets\n",
    "df_train_result_seq = seq_match_df(df_train)\n",
    "df_test_result_seq = seq_match_df(df_test)"
   ]
  },
  {
   "cell_type": "code",
   "execution_count": 24,
   "metadata": {},
   "outputs": [],
   "source": [
    "vectorizer = text.TfidfVectorizer()\n",
    "\n",
    "def cosine_sim(test1, test2):\n",
    "    '''this function calculate the cosine similarity between two strings \n",
    "    using Term frequency and Inverse document frequency vector'''\n",
    "    tfidf = vectorizer.fit_transform([test1, test2])\n",
    "    result = ((tfidf * tfidf.T).A)[0,1]\n",
    "    return result\n",
    "    \n",
    "def cosine_sim_df(df_data):\n",
    "    col1 = 'sentence1'\n",
    "    col2 = 'sentence2'\n",
    "    df_data[col1] = df_data[col1].str.replace(r'\\d', '')\n",
    "    df_data[col2] = df_data[col2].str.replace(r'\\d', '')\n",
    "    df_data['cos_sim'] = 0\n",
    "    df_data['cos_sim'] = df_data.apply(lambda x: cosine_sim(x[col1], x[col2]), axis=1)\n",
    "    return df_data\n",
    "\n",
    "df_train_result_cos = cosine_sim_df(df_train)\n",
    "df_test_result_cos = cosine_sim_df(df_test)"
   ]
  },
  {
   "cell_type": "markdown",
   "metadata": {},
   "source": [
    "### Unigram"
   ]
  },
  {
   "cell_type": "code",
   "execution_count": 25,
   "metadata": {},
   "outputs": [],
   "source": [
    "\n",
    "def get_unigrams(que):\n",
    "    '''this function will generat the unigram for a string'''\n",
    "    return [word for word in word_tokenize(que.lower()) if word not in eng_stopwords]\n",
    "\n",
    "\n",
    "# Here I am applying the above function to get unigrams for sentence1 and sentence2\n",
    "df_train[\"unigrams_s1\"] = df_train['sentence1'].apply(lambda x: get_unigrams(str(x)))\n",
    "df_train[\"unigrams_s2\"] = df_train['sentence2'].apply(lambda x: get_unigrams(str(x)))\n",
    "df_test[\"unigrams_s1\"] = df_test['sentence1'].apply(lambda x: get_unigrams(str(x)))\n",
    "df_test[\"unigrams_s2\"] = df_test['sentence2'].apply(lambda x: get_unigrams(str(x)))"
   ]
  },
  {
   "cell_type": "code",
   "execution_count": 26,
   "metadata": {},
   "outputs": [],
   "source": [
    "def get_common_unigrams(row):\n",
    "    '''this function finds the intersection between two unigrams in pandas and return length of intersection'''\n",
    "    return len(set(row[\"unigrams_s1\"]).intersection(set(row[\"unigrams_s2\"])) ) \n",
    "\n",
    "# Here I am applying the above function to get unique unigrams\n",
    "df_train[\"unigrams_common_count\"] = df_train.apply(lambda row: get_common_unigrams(row), axis=1)\n",
    "df_test[\"unigrams_common_count\"] = df_test.apply(lambda row: get_common_unigrams(row), axis=1)"
   ]
  },
  {
   "cell_type": "code",
   "execution_count": 27,
   "metadata": {},
   "outputs": [],
   "source": [
    "def get_common_unigram_ratio(row):\n",
    "    '''this function will genetate the ratio of common unigrams to the maximum of union of the two sets'''\n",
    "    return float(row[\"unigrams_common_count\"]) / max(len( set(row[\"unigrams_s1\"]).union(set(row[\"unigrams_s2\"]))), 1)\n",
    "\n",
    "# Here I am applying the above function to get unique unigrams ratio\n",
    "df_train[\"unigrams_common_ratio\"] = df_train.apply(lambda row: get_common_unigram_ratio(row),axis=1)\n",
    "df_test[\"unigrams_common_ratio\"] = df_test.apply(lambda row: get_common_unigram_ratio(row),axis=1)"
   ]
  },
  {
   "cell_type": "markdown",
   "metadata": {},
   "source": [
    "### Bigram"
   ]
  },
  {
   "cell_type": "code",
   "execution_count": 28,
   "metadata": {},
   "outputs": [],
   "source": [
    "def get_bigrams(que):\n",
    "    '''this function creates the bigram for a string'''\n",
    "    return [ i for i in ngrams(que,2)]\n",
    "\n",
    "# Here I am applying the above function to get bigrams for sentence1 and sentence2\n",
    "df_train[\"bigrams_s1\"] = df_train[\"unigrams_s1\"].apply(lambda x: get_bigrams(x))\n",
    "df_train[\"bigrams_s2\"] = df_train[\"unigrams_s2\"].apply(lambda x: get_bigrams(x))\n",
    "df_test[\"bigrams_s1\"] = df_test[\"unigrams_s1\"].apply(lambda x: get_bigrams(x))\n",
    "df_test[\"bigrams_s2\"] = df_test[\"unigrams_s2\"].apply(lambda x: get_bigrams(x))"
   ]
  },
  {
   "cell_type": "code",
   "execution_count": 29,
   "metadata": {},
   "outputs": [],
   "source": [
    "def get_common_bigrams(row):\n",
    "    '''this function finds the intersection between two bigrams in pandas and return length of intersection'''\n",
    "    return len( set(row['bigrams_s1']).intersection(set(row['bigrams_s2'])) )\n",
    "\n",
    "# Here I am applying the above function to get unique bigrams\n",
    "df_train[\"bigrams_common_count\"] = df_train.apply(lambda row: get_common_bigrams(row), axis=1)\n",
    "df_test[\"bigrams_common_count\"] = df_test.apply(lambda row: get_common_bigrams(row), axis=1)"
   ]
  },
  {
   "cell_type": "code",
   "execution_count": 30,
   "metadata": {},
   "outputs": [],
   "source": [
    "def get_common_bigram_ratio(row):\n",
    "    '''this function will genetate the ratio of common bigrams to the maximum of union of the two sets'''\n",
    "    return float(row[\"bigrams_common_count\"]) / max(len( set(row[\"bigrams_s1\"]).union(set(row[\"bigrams_s2\"]))), 1)\n",
    "\n",
    "# Here I am applying the above function to get unique bigrams ratio\n",
    "df_train[\"bigrams_common_ratio\"] = df_train.apply(lambda row: get_common_bigram_ratio(row), axis=1)\n",
    "df_test[\"bigrams_common_ratio\"] = df_test.apply(lambda row: get_common_bigram_ratio(row), axis=1)"
   ]
  },
  {
   "cell_type": "code",
   "execution_count": 31,
   "metadata": {},
   "outputs": [],
   "source": [
    "# train_data_features_2 = vectorizer.fit_transform(X_train[\"sentence2\"])\n",
    "# train_data_features_2 = train_data_features_2.toarray()\n",
    "# print(train_data_features_2.shape)\n",
    "\n",
    "# train_data_features_1 = vectorizer.fit_transform(X_train['sentence1'])\n",
    "# train_data_features_1 = train_data_features_1.toarray()\n",
    "# print(train_data_features_1.shape)\n",
    "\n",
    "# train_data_features_12 = np.stack((train_data_features_1, train_data_features_2), axis=0) \n",
    "# print(train_data_features_12.shape)\n",
    "\n",
    "# train_data_features_12 = train_data_features_12.reshape(train_data_features_1.shape[0], -1)\n",
    "# print(train_data_features_12.shape)"
   ]
  },
  {
   "cell_type": "code",
   "execution_count": 32,
   "metadata": {},
   "outputs": [],
   "source": [
    "# test_data_features_2 = vectorizer.fit_transform(X_test[\"sentence2\"])\n",
    "# test_data_features_2 = test_data_features_2.toarray()\n",
    "# print(test_data_features_2.shape)\n",
    "\n",
    "# test_data_features_1 = vectorizer.fit_transform(X_test['sentence1'])\n",
    "# test_data_features_1 = test_data_features_1.toarray()\n",
    "# print(test_data_features_1.shape)\n",
    "\n",
    "# test_data_features_12 = np.stack((test_data_features_1, test_data_features_2), axis=0) \n",
    "# print(test_data_features_12.shape)\n",
    "\n",
    "# test_data_features_12 = test_data_features_12.reshape(test_data_features_1.shape[0], -1)\n",
    "# print(test_data_features_12.shape)"
   ]
  },
  {
   "cell_type": "code",
   "execution_count": 33,
   "metadata": {},
   "outputs": [],
   "source": [
    "# vocab = vectorizer.get_feature_names()\n",
    "# print(vocab)"
   ]
  },
  {
   "cell_type": "code",
   "execution_count": 34,
   "metadata": {},
   "outputs": [
    {
     "data": {
      "text/html": [
       "<div>\n",
       "<style scoped>\n",
       "    .dataframe tbody tr th:only-of-type {\n",
       "        vertical-align: middle;\n",
       "    }\n",
       "\n",
       "    .dataframe tbody tr th {\n",
       "        vertical-align: top;\n",
       "    }\n",
       "\n",
       "    .dataframe thead th {\n",
       "        text-align: right;\n",
       "    }\n",
       "</style>\n",
       "<table border=\"1\" class=\"dataframe\">\n",
       "  <thead>\n",
       "    <tr style=\"text-align: right;\">\n",
       "      <th></th>\n",
       "      <th>gold_label</th>\n",
       "      <th>sentence1</th>\n",
       "      <th>sentence2</th>\n",
       "      <th>gold_label_encoded</th>\n",
       "      <th>length_s1</th>\n",
       "      <th>length_s2</th>\n",
       "      <th>seq_sim</th>\n",
       "      <th>cos_sim</th>\n",
       "      <th>unigrams_s1</th>\n",
       "      <th>unigrams_s2</th>\n",
       "      <th>unigrams_common_count</th>\n",
       "      <th>unigrams_common_ratio</th>\n",
       "      <th>bigrams_s1</th>\n",
       "      <th>bigrams_s2</th>\n",
       "      <th>bigrams_common_count</th>\n",
       "      <th>bigrams_common_ratio</th>\n",
       "    </tr>\n",
       "  </thead>\n",
       "  <tbody>\n",
       "    <tr>\n",
       "      <th>0</th>\n",
       "      <td>contradiction</td>\n",
       "      <td>group men cowboy hats watching rodeo</td>\n",
       "      <td>group women watching horse race</td>\n",
       "      <td>0</td>\n",
       "      <td>36</td>\n",
       "      <td>31</td>\n",
       "      <td>0.626866</td>\n",
       "      <td>0.225765</td>\n",
       "      <td>[group, men, cowboy, hats, watching, rodeo]</td>\n",
       "      <td>[group, women, watching, horse, race]</td>\n",
       "      <td>2</td>\n",
       "      <td>0.222222</td>\n",
       "      <td>[(group, men), (men, cowboy), (cowboy, hats), ...</td>\n",
       "      <td>[(group, women), (women, watching), (watching,...</td>\n",
       "      <td>0</td>\n",
       "      <td>0.000000</td>\n",
       "    </tr>\n",
       "    <tr>\n",
       "      <th>1</th>\n",
       "      <td>entailment</td>\n",
       "      <td>kid head shaved sitting holding lit cigarette</td>\n",
       "      <td>child sits cigarette</td>\n",
       "      <td>1</td>\n",
       "      <td>45</td>\n",
       "      <td>20</td>\n",
       "      <td>0.492308</td>\n",
       "      <td>0.125367</td>\n",
       "      <td>[kid, head, shaved, sitting, holding, lit, cig...</td>\n",
       "      <td>[child, sits, cigarette]</td>\n",
       "      <td>1</td>\n",
       "      <td>0.111111</td>\n",
       "      <td>[(kid, head), (head, shaved), (shaved, sitting...</td>\n",
       "      <td>[(child, sits), (sits, cigarette)]</td>\n",
       "      <td>0</td>\n",
       "      <td>0.000000</td>\n",
       "    </tr>\n",
       "    <tr>\n",
       "      <th>2</th>\n",
       "      <td>neutral</td>\n",
       "      <td>woman riding bicycle past car group people sid...</td>\n",
       "      <td>woman riding bicycle near group friends sidewalk</td>\n",
       "      <td>2</td>\n",
       "      <td>51</td>\n",
       "      <td>48</td>\n",
       "      <td>0.808081</td>\n",
       "      <td>0.505606</td>\n",
       "      <td>[woman, riding, bicycle, past, car, group, peo...</td>\n",
       "      <td>[woman, riding, bicycle, near, group, friends,...</td>\n",
       "      <td>5</td>\n",
       "      <td>0.500000</td>\n",
       "      <td>[(woman, riding), (riding, bicycle), (bicycle,...</td>\n",
       "      <td>[(woman, riding), (riding, bicycle), (bicycle,...</td>\n",
       "      <td>2</td>\n",
       "      <td>0.181818</td>\n",
       "    </tr>\n",
       "  </tbody>\n",
       "</table>\n",
       "</div>"
      ],
      "text/plain": [
       "      gold_label                                          sentence1  \\\n",
       "0  contradiction               group men cowboy hats watching rodeo   \n",
       "1     entailment      kid head shaved sitting holding lit cigarette   \n",
       "2        neutral  woman riding bicycle past car group people sid...   \n",
       "\n",
       "                                          sentence2  gold_label_encoded  \\\n",
       "0                   group women watching horse race                   0   \n",
       "1                              child sits cigarette                   1   \n",
       "2  woman riding bicycle near group friends sidewalk                   2   \n",
       "\n",
       "   length_s1  length_s2   seq_sim   cos_sim  \\\n",
       "0         36         31  0.626866  0.225765   \n",
       "1         45         20  0.492308  0.125367   \n",
       "2         51         48  0.808081  0.505606   \n",
       "\n",
       "                                         unigrams_s1  \\\n",
       "0        [group, men, cowboy, hats, watching, rodeo]   \n",
       "1  [kid, head, shaved, sitting, holding, lit, cig...   \n",
       "2  [woman, riding, bicycle, past, car, group, peo...   \n",
       "\n",
       "                                         unigrams_s2  unigrams_common_count  \\\n",
       "0              [group, women, watching, horse, race]                      2   \n",
       "1                           [child, sits, cigarette]                      1   \n",
       "2  [woman, riding, bicycle, near, group, friends,...                      5   \n",
       "\n",
       "   unigrams_common_ratio                                         bigrams_s1  \\\n",
       "0               0.222222  [(group, men), (men, cowboy), (cowboy, hats), ...   \n",
       "1               0.111111  [(kid, head), (head, shaved), (shaved, sitting...   \n",
       "2               0.500000  [(woman, riding), (riding, bicycle), (bicycle,...   \n",
       "\n",
       "                                          bigrams_s2  bigrams_common_count  \\\n",
       "0  [(group, women), (women, watching), (watching,...                     0   \n",
       "1                 [(child, sits), (sits, cigarette)]                     0   \n",
       "2  [(woman, riding), (riding, bicycle), (bicycle,...                     2   \n",
       "\n",
       "   bigrams_common_ratio  \n",
       "0              0.000000  \n",
       "1              0.000000  \n",
       "2              0.181818  "
      ]
     },
     "execution_count": 34,
     "metadata": {},
     "output_type": "execute_result"
    }
   ],
   "source": [
    "df_train.head(3)"
   ]
  },
  {
   "cell_type": "code",
   "execution_count": null,
   "metadata": {},
   "outputs": [],
   "source": []
  },
  {
   "cell_type": "code",
   "execution_count": 35,
   "metadata": {},
   "outputs": [],
   "source": [
    "# Here I am removing the object columns from the dataset and creating the input and target datasets for training\n",
    "df_X = df_train.drop(['gold_label', 'sentence1', 'sentence2', 'unigrams_s1',\n",
    "                      'unigrams_s2', 'bigrams_s1', 'bigrams_s2', 'gold_label_encoded'], axis=1)\n",
    "df_y = df_train[\"gold_label_encoded\"]"
   ]
  },
  {
   "cell_type": "code",
   "execution_count": 36,
   "metadata": {},
   "outputs": [],
   "source": [
    "# Here I am removing the object columns from the test dataset and creating the input dataset for testing\n",
    "df_test_X = df_test.drop(['sentence1', 'sentence2', 'unigrams_s1',\n",
    "                      'unigrams_s2', 'bigrams_s1', 'bigrams_s2'], axis=1)"
   ]
  },
  {
   "cell_type": "code",
   "execution_count": 37,
   "metadata": {},
   "outputs": [
    {
     "data": {
      "text/html": [
       "<div>\n",
       "<style scoped>\n",
       "    .dataframe tbody tr th:only-of-type {\n",
       "        vertical-align: middle;\n",
       "    }\n",
       "\n",
       "    .dataframe tbody tr th {\n",
       "        vertical-align: top;\n",
       "    }\n",
       "\n",
       "    .dataframe thead th {\n",
       "        text-align: right;\n",
       "    }\n",
       "</style>\n",
       "<table border=\"1\" class=\"dataframe\">\n",
       "  <thead>\n",
       "    <tr style=\"text-align: right;\">\n",
       "      <th></th>\n",
       "      <th>length_s1</th>\n",
       "      <th>length_s2</th>\n",
       "      <th>seq_sim</th>\n",
       "      <th>cos_sim</th>\n",
       "      <th>unigrams_common_count</th>\n",
       "      <th>unigrams_common_ratio</th>\n",
       "      <th>bigrams_common_count</th>\n",
       "      <th>bigrams_common_ratio</th>\n",
       "    </tr>\n",
       "  </thead>\n",
       "  <tbody>\n",
       "    <tr>\n",
       "      <th>0</th>\n",
       "      <td>36</td>\n",
       "      <td>31</td>\n",
       "      <td>0.626866</td>\n",
       "      <td>0.225765</td>\n",
       "      <td>2</td>\n",
       "      <td>0.222222</td>\n",
       "      <td>0</td>\n",
       "      <td>0.000000</td>\n",
       "    </tr>\n",
       "    <tr>\n",
       "      <th>1</th>\n",
       "      <td>45</td>\n",
       "      <td>20</td>\n",
       "      <td>0.492308</td>\n",
       "      <td>0.125367</td>\n",
       "      <td>1</td>\n",
       "      <td>0.111111</td>\n",
       "      <td>0</td>\n",
       "      <td>0.000000</td>\n",
       "    </tr>\n",
       "    <tr>\n",
       "      <th>2</th>\n",
       "      <td>51</td>\n",
       "      <td>48</td>\n",
       "      <td>0.808081</td>\n",
       "      <td>0.505606</td>\n",
       "      <td>5</td>\n",
       "      <td>0.500000</td>\n",
       "      <td>2</td>\n",
       "      <td>0.181818</td>\n",
       "    </tr>\n",
       "  </tbody>\n",
       "</table>\n",
       "</div>"
      ],
      "text/plain": [
       "   length_s1  length_s2   seq_sim   cos_sim  unigrams_common_count  \\\n",
       "0         36         31  0.626866  0.225765                      2   \n",
       "1         45         20  0.492308  0.125367                      1   \n",
       "2         51         48  0.808081  0.505606                      5   \n",
       "\n",
       "   unigrams_common_ratio  bigrams_common_count  bigrams_common_ratio  \n",
       "0               0.222222                     0              0.000000  \n",
       "1               0.111111                     0              0.000000  \n",
       "2               0.500000                     2              0.181818  "
      ]
     },
     "execution_count": 37,
     "metadata": {},
     "output_type": "execute_result"
    }
   ],
   "source": [
    "df_X.head(3)"
   ]
  },
  {
   "cell_type": "code",
   "execution_count": 38,
   "metadata": {},
   "outputs": [
    {
     "data": {
      "text/html": [
       "<div>\n",
       "<style scoped>\n",
       "    .dataframe tbody tr th:only-of-type {\n",
       "        vertical-align: middle;\n",
       "    }\n",
       "\n",
       "    .dataframe tbody tr th {\n",
       "        vertical-align: top;\n",
       "    }\n",
       "\n",
       "    .dataframe thead th {\n",
       "        text-align: right;\n",
       "    }\n",
       "</style>\n",
       "<table border=\"1\" class=\"dataframe\">\n",
       "  <thead>\n",
       "    <tr style=\"text-align: right;\">\n",
       "      <th></th>\n",
       "      <th>length_s1</th>\n",
       "      <th>length_s2</th>\n",
       "      <th>seq_sim</th>\n",
       "      <th>cos_sim</th>\n",
       "      <th>unigrams_common_count</th>\n",
       "      <th>unigrams_common_ratio</th>\n",
       "      <th>bigrams_common_count</th>\n",
       "      <th>bigrams_common_ratio</th>\n",
       "    </tr>\n",
       "  </thead>\n",
       "  <tbody>\n",
       "    <tr>\n",
       "      <th>0</th>\n",
       "      <td>58</td>\n",
       "      <td>27</td>\n",
       "      <td>0.423529</td>\n",
       "      <td>0.299580</td>\n",
       "      <td>2</td>\n",
       "      <td>0.200000</td>\n",
       "      <td>1</td>\n",
       "      <td>0.1</td>\n",
       "    </tr>\n",
       "    <tr>\n",
       "      <th>1</th>\n",
       "      <td>28</td>\n",
       "      <td>14</td>\n",
       "      <td>0.523810</td>\n",
       "      <td>0.150640</td>\n",
       "      <td>1</td>\n",
       "      <td>0.142857</td>\n",
       "      <td>0</td>\n",
       "      <td>0.0</td>\n",
       "    </tr>\n",
       "    <tr>\n",
       "      <th>2</th>\n",
       "      <td>33</td>\n",
       "      <td>37</td>\n",
       "      <td>0.685714</td>\n",
       "      <td>0.225765</td>\n",
       "      <td>2</td>\n",
       "      <td>0.222222</td>\n",
       "      <td>0</td>\n",
       "      <td>0.0</td>\n",
       "    </tr>\n",
       "  </tbody>\n",
       "</table>\n",
       "</div>"
      ],
      "text/plain": [
       "   length_s1  length_s2   seq_sim   cos_sim  unigrams_common_count  \\\n",
       "0         58         27  0.423529  0.299580                      2   \n",
       "1         28         14  0.523810  0.150640                      1   \n",
       "2         33         37  0.685714  0.225765                      2   \n",
       "\n",
       "   unigrams_common_ratio  bigrams_common_count  bigrams_common_ratio  \n",
       "0               0.200000                     1                   0.1  \n",
       "1               0.142857                     0                   0.0  \n",
       "2               0.222222                     0                   0.0  "
      ]
     },
     "execution_count": 38,
     "metadata": {},
     "output_type": "execute_result"
    }
   ],
   "source": [
    "df_test_X.head(3)"
   ]
  },
  {
   "cell_type": "markdown",
   "metadata": {},
   "source": [
    "### Plotting the correlation"
   ]
  },
  {
   "cell_type": "code",
   "execution_count": 39,
   "metadata": {},
   "outputs": [
    {
     "data": {
      "image/png": "[encoded data removed]",
      "text/plain": [
       "<Figure size 864x720 with 2 Axes>"
      ]
     },
     "metadata": {
      "needs_background": "light"
     },
     "output_type": "display_data"
    }
   ],
   "source": [
    "# here I am plotting the heatmap based on the correlation matrix of features in the dataset. \n",
    "df_X.corr()\n",
    "f, ax = plt.subplots(figsize=(12, 10))\n",
    "sns.heatmap(df_X.corr(), annot=True, linewidths=0.5, square=True, vmax=0.3, center=0, cmap=sns.cubehelix_palette())\n",
    "plt.savefig('./images/correlation_heatmap.png')"
   ]
  },
  {
   "cell_type": "markdown",
   "metadata": {},
   "source": [
    "### Scaling Data"
   ]
  },
  {
   "cell_type": "code",
   "execution_count": 40,
   "metadata": {},
   "outputs": [
    {
     "name": "stdout",
     "output_type": "stream",
     "text": [
      "[[0.11842105 0.18918919 0.61765248 ... 0.22222222 0.         0.        ]\n",
      " [0.15789474 0.11486486 0.47977208 ... 0.11111111 0.         0.        ]\n",
      " [0.18421053 0.30405405 0.80334206 ... 0.5        0.08333333 0.18181818]\n",
      " ...\n",
      " [0.29385965 0.23648649 0.42473468 ... 0.13333333 0.         0.        ]\n",
      " [0.11842105 0.25675676 0.5342312  ... 0.3        0.04166667 0.1       ]\n",
      " [0.18859649 0.35135135 0.93296412 ... 0.77777778 0.20833333 0.55555556]]\n",
      "[[0.21491228 0.16216216 0.40929557 ... 0.2        0.04166667 0.1       ]\n",
      " [0.08333333 0.07432432 0.51205173 ... 0.14285714 0.         0.        ]\n",
      " [0.10526316 0.22972973 0.67795414 ... 0.22222222 0.         0.        ]\n",
      " ...\n",
      " [0.22368421 0.14189189 0.24368019 ... 0.         0.         0.        ]\n",
      " [0.19298246 0.10135135 0.14849591 ... 0.         0.         0.        ]\n",
      " [0.1754386  0.16891892 0.5342312  ... 0.375      0.04166667 0.125     ]]\n"
     ]
    }
   ],
   "source": [
    "# In this cell I am scaling the complete input dataset using MinMaxScaler \n",
    "# which will fit the data in the range of inclusive [0, 1]\n",
    "# fitting the training input data and transforming both training and testing data\n",
    "\n",
    "from sklearn.preprocessing import MinMaxScaler\n",
    "scaler = MinMaxScaler()\n",
    "df_scaled = scaler.fit_transform(df_X)\n",
    "df_test_scaled = scaler.transform(df_test_X)\n",
    "print(df_scaled)\n",
    "print(df_test_scaled)"
   ]
  },
  {
   "cell_type": "code",
   "execution_count": 41,
   "metadata": {},
   "outputs": [
    {
     "data": {
      "text/plain": [
       "(7479, 8)"
      ]
     },
     "execution_count": 41,
     "metadata": {},
     "output_type": "execute_result"
    }
   ],
   "source": [
    "# Here I am splitting the trainign data into train and validation datasets in a ratio of 80:20 percentage.\n",
    "X_train, X_cv, y_train, y_cv = train_test_split(df_scaled, df_y, test_size=0.2, random_state=42)\n",
    "X_train.shape"
   ]
  },
  {
   "cell_type": "markdown",
   "metadata": {},
   "source": [
    "## Building ML Models"
   ]
  },
  {
   "cell_type": "code",
   "execution_count": 42,
   "metadata": {},
   "outputs": [],
   "source": [
    "def model_evaluation(y_test, y_pred):\n",
    "    '''\n",
    "    this function will claculate the evaluation matrix for the real output and predicted output values and generate report for:\n",
    "    * Confusion Matrix\n",
    "    * Matrics like True Positive, True Negative, False Positive and False Negative\n",
    "    * Calculate accuracy based on the above factors\n",
    "    * generate classification report\n",
    "    '''\n",
    "    cm = confusion_matrix(y_test, y_pred)\n",
    "\n",
    "    print(\"Confusion Matrix:\")\n",
    "    print(cm, end=\"\\n\\n\")\n",
    "\n",
    "    TN = cm[0, 0]\n",
    "    FN = cm[0, 1]\n",
    "    FP = cm[1, 0]\n",
    "    TP = cm[1, 1]\n",
    "\n",
    "    P = FN+TP\n",
    "    N = TN+FP\n",
    "\n",
    "    TPR = TP/P\n",
    "    TNR = TN/N\n",
    "    FPR = FP/N\n",
    "    FNR = FN/P\n",
    "\n",
    "    accuracy = (TN+TP)/(P+N)\n",
    "#     print(\"Test Accuracy: \"+str(accuracy), end=\"\\n\\n\")\n",
    "    print(\"Test Accuracy: \"+str(accuracy_score(y_test, y_pred)), end=\"\\n\\n\")\n",
    "    print(\"All 4 parameters: \",TN, FN, FP, TP, end=\"\\n\\n\")\n",
    "    print(\"TPR: {}\".format(TPR))\n",
    "    print(\"TNR: {}\".format(TNR))\n",
    "    print(\"FPR: {}\".format(FPR))\n",
    "    print(\"FNR: {}\".format(FNR))\n",
    "    print()\n",
    "    \n",
    "    print(classification_report(y_test, y_pred))"
   ]
  },
  {
   "cell_type": "markdown",
   "metadata": {},
   "source": [
    "#### Classification models"
   ]
  },
  {
   "cell_type": "code",
   "execution_count": 43,
   "metadata": {},
   "outputs": [
    {
     "name": "stdout",
     "output_type": "stream",
     "text": [
      "LR [0.49298034 0.48215002 0.52667469] 0.5006016847172082\n",
      "NB [0.44925792 0.44003209 0.45166466] 0.44698489102821237\n",
      "RF [0.44524669 0.45286803 0.46931408] 0.4558096002139324\n",
      "Dtree [0.43241075 0.4055355  0.41716807] 0.41837144003208987\n",
      "XGB [0.50300842 0.49578821 0.53269154] 0.5104960556224094\n",
      "KNN [0.46048937 0.459286   0.47412756] 0.46463430939965233\n",
      "SVC [0.49177698 0.48054553 0.50701966] 0.4931140526808397\n"
     ]
    }
   ],
   "source": [
    "# Here I am making a list of some high performing classification machine learnign models \n",
    "# and over each iteration I am printing their performance for 3 cross validations.\n",
    "\n",
    "models = []\n",
    "models.append((\"LR\",LogisticRegression()))\n",
    "models.append((\"NB\",GaussianNB()))\n",
    "models.append((\"RF\",RandomForestClassifier()))\n",
    "models.append((\"Dtree\",DecisionTreeClassifier()))\n",
    "models.append((\"XGB\",xgb.XGBClassifier()))\n",
    "models.append((\"KNN\",KNeighborsClassifier()))\n",
    "models.append((\"SVC\",SVC()))\n",
    "\n",
    "for name,model in models:\n",
    "    kfold = KFold(n_splits=3, random_state=42)\n",
    "    cv_result = cross_val_score(model,X_train,y_train, cv = kfold, scoring = \"accuracy\")\n",
    "    print(name, cv_result, np.mean(cv_result))"
   ]
  },
  {
   "cell_type": "markdown",
   "metadata": {},
   "source": [
    "#### XGB Classifier"
   ]
  },
  {
   "cell_type": "code",
   "execution_count": 44,
   "metadata": {},
   "outputs": [
    {
     "name": "stdout",
     "output_type": "stream",
     "text": [
      "prediction:  [1 2 1 ... 0 0 0]\n",
      "\n",
      "Confusion Matrix:\n",
      "[[380 110 125]\n",
      " [151 396  90]\n",
      " [269 129 220]]\n",
      "\n",
      "Test Accuracy: 0.532620320855615\n",
      "\n",
      "All 4 parameters:  380 110 151 396\n",
      "\n",
      "TPR: 0.782608695652174\n",
      "TNR: 0.7156308851224106\n",
      "FPR: 0.2843691148775895\n",
      "FNR: 0.21739130434782608\n",
      "\n",
      "              precision    recall  f1-score   support\n",
      "\n",
      "           0       0.47      0.62      0.54       615\n",
      "           1       0.62      0.62      0.62       637\n",
      "           2       0.51      0.36      0.42       618\n",
      "\n",
      "   micro avg       0.53      0.53      0.53      1870\n",
      "   macro avg       0.53      0.53      0.53      1870\n",
      "weighted avg       0.54      0.53      0.53      1870\n",
      "\n"
     ]
    }
   ],
   "source": [
    "# Based on the performance analysis of the above models I am selecting XGBClassifier\n",
    "# Here I am training the XGBClassifier using training dataset and validating the matrics using validation dataset.\n",
    "# finally I am generating the performance report of the model.\n",
    "\n",
    "xgb_classifier = xgb.XGBClassifier()\n",
    "hist = xgb_classifier.fit(X_train, y_train)\n",
    "predictions = xgb_classifier.predict(X_cv)\n",
    "print(\"prediction: \", predictions, end=\"\\n\\n\")\n",
    "model_evaluation(y_cv, predictions)"
   ]
  },
  {
   "cell_type": "markdown",
   "metadata": {},
   "source": [
    "### Working on Neural Network"
   ]
  },
  {
   "cell_type": "code",
   "execution_count": 45,
   "metadata": {},
   "outputs": [],
   "source": [
    "def show_learning_curve(hist, fig_name):\n",
    "    '''\n",
    "    this function will plot the graph showing the network's performance on training data \n",
    "    and plots metrics like loss, val_loss, accuracy, val_accuracy.\n",
    "    '''\n",
    "    plt.plot(hist.history['loss'], 'y', label='train loss')\n",
    "    plt.plot(hist.history['val_loss'], 'r', label='val loss')\n",
    "    plt.xlabel('epoch')\n",
    "    plt.ylabel('loss')\n",
    "    plt.legend(loc='lower left')\n",
    "    plt.savefig(f'./images/{fig_name}_loss.png')\n",
    "    plt.show()\n",
    "    \n",
    "    plt.plot(hist.history['accuracy'], 'b', label='train acc')\n",
    "    plt.plot(hist.history['val_accuracy'], 'g', label='val acc')\n",
    "    plt.xlabel('epoch')\n",
    "    plt.ylabel('accuracy')\n",
    "    plt.legend(loc='upper left')\n",
    "    plt.savefig(f'./images/{fig_name}_accuracy.png')\n",
    "    plt.show()\n"
   ]
  },
  {
   "cell_type": "markdown",
   "metadata": {},
   "source": [
    "#### Multi-layer Perceptron"
   ]
  },
  {
   "cell_type": "code",
   "execution_count": 46,
   "metadata": {},
   "outputs": [
    {
     "name": "stdout",
     "output_type": "stream",
     "text": [
      "Confusion Matrix:\n",
      "[[335  85 195]\n",
      " [129 380 128]\n",
      " [226 103 289]]\n",
      "\n",
      "Test Accuracy: 0.5368983957219251\n",
      "\n",
      "All 4 parameters:  335 85 129 380\n",
      "\n",
      "TPR: 0.8172043010752689\n",
      "TNR: 0.7219827586206896\n",
      "FPR: 0.27801724137931033\n",
      "FNR: 0.1827956989247312\n",
      "\n",
      "              precision    recall  f1-score   support\n",
      "\n",
      "           0       0.49      0.54      0.51       615\n",
      "           1       0.67      0.60      0.63       637\n",
      "           2       0.47      0.47      0.47       618\n",
      "\n",
      "   micro avg       0.54      0.54      0.54      1870\n",
      "   macro avg       0.54      0.54      0.54      1870\n",
      "weighted avg       0.54      0.54      0.54      1870\n",
      "\n"
     ]
    }
   ],
   "source": [
    "# Here I am training the Multi Layer Perceptron Classifier which is available in sklearn library\n",
    "# using training dataset and validating the matrics using validation dataset.\n",
    "# finally I am generating the performance report of the model.\n",
    "\n",
    "from sklearn.neural_network import MLPClassifier\n",
    "mpl_model = MLPClassifier(hidden_layer_sizes=(20,90,120), learning_rate_init=0.001, max_iter=5000)\n",
    "mpl_model.fit(X_train, y_train)\n",
    "predictions = mpl_model.predict(X_cv)\n",
    "\n",
    "model_evaluation(y_cv, predictions)"
   ]
  },
  {
   "cell_type": "markdown",
   "metadata": {},
   "source": [
    "#### Sequential Network"
   ]
  },
  {
   "cell_type": "code",
   "execution_count": 47,
   "metadata": {},
   "outputs": [
    {
     "name": "stdout",
     "output_type": "stream",
     "text": [
      "WARNING:tensorflow:From C:\\Users\\paras\\Anaconda3\\lib\\site-packages\\tensorflow_core\\python\\ops\\resource_variable_ops.py:1630: calling BaseResourceVariable.__init__ (from tensorflow.python.ops.resource_variable_ops) with constraint is deprecated and will be removed in a future version.\n",
      "Instructions for updating:\n",
      "If using Keras pass *_constraint arguments to layers.\n",
      "WARNING:tensorflow:From C:\\Users\\paras\\Anaconda3\\lib\\site-packages\\tensorflow_core\\python\\ops\\nn_impl.py:183: where (from tensorflow.python.ops.array_ops) is deprecated and will be removed in a future version.\n",
      "Instructions for updating:\n",
      "Use tf.where in 2.0, which has the same broadcast rule as np.where\n",
      "WARNING:tensorflow:From C:\\Users\\paras\\Anaconda3\\lib\\site-packages\\keras\\backend\\tensorflow_backend.py:422: The name tf.global_variables is deprecated. Please use tf.compat.v1.global_variables instead.\n",
      "\n",
      "Train on 7479 samples, validate on 1870 samples\n",
      "Epoch 1/100\n",
      "7479/7479 [==============================] - 0s 63us/step - loss: 0.0833 - accuracy: 0.3395 - val_loss: -0.2788 - val_accuracy: 0.3353\n",
      "Epoch 2/100\n",
      "7479/7479 [==============================] - 0s 37us/step - loss: -0.1327 - accuracy: 0.3395 - val_loss: -0.5853 - val_accuracy: 0.3353\n",
      "Epoch 3/100\n",
      "7479/7479 [==============================] - 0s 38us/step - loss: -0.3228 - accuracy: 0.3395 - val_loss: -1.1687 - val_accuracy: 0.3353\n",
      "Epoch 4/100\n",
      "7479/7479 [==============================] - 0s 36us/step - loss: -0.8653 - accuracy: 0.3395 - val_loss: -2.4144 - val_accuracy: 0.3353\n",
      "Epoch 5/100\n",
      "7479/7479 [==============================] - 0s 34us/step - loss: -1.7589 - accuracy: 0.3395 - val_loss: -4.7725 - val_accuracy: 0.3353\n",
      "Epoch 6/100\n",
      "7479/7479 [==============================] - 0s 33us/step - loss: -3.3458 - accuracy: 0.3395 - val_loss: -8.8769 - val_accuracy: 0.3353\n",
      "Epoch 7/100\n",
      "7479/7479 [==============================] - 0s 39us/step - loss: -6.4075 - accuracy: 0.3395 - val_loss: -15.7291 - val_accuracy: 0.3353\n",
      "Epoch 8/100\n",
      "7479/7479 [==============================] - 0s 35us/step - loss: -11.6363 - accuracy: 0.3395 - val_loss: -27.4733 - val_accuracy: 0.3353\n",
      "Epoch 9/100\n",
      "7479/7479 [==============================] - 0s 35us/step - loss: -20.8319 - accuracy: 0.3395 - val_loss: -44.6127 - val_accuracy: 0.3353\n",
      "Epoch 10/100\n",
      "7479/7479 [==============================] - 0s 40us/step - loss: -31.7264 - accuracy: 0.3394 - val_loss: -68.5959 - val_accuracy: 0.3353\n",
      "Epoch 11/100\n",
      "7479/7479 [==============================] - 0s 40us/step - loss: -50.7258 - accuracy: 0.3395 - val_loss: -105.3735 - val_accuracy: 0.3353\n",
      "Epoch 12/100\n",
      "7479/7479 [==============================] - 0s 41us/step - loss: -82.0068 - accuracy: 0.3403 - val_loss: -159.8897 - val_accuracy: 0.3358\n",
      "Epoch 13/100\n",
      "7479/7479 [==============================] - 0s 44us/step - loss: -104.7681 - accuracy: 0.3399 - val_loss: -223.3469 - val_accuracy: 0.3353\n",
      "Epoch 14/100\n",
      "7479/7479 [==============================] - 0s 36us/step - loss: -154.5108 - accuracy: 0.3389 - val_loss: -312.4018 - val_accuracy: 0.3342\n",
      "Epoch 15/100\n",
      "7479/7479 [==============================] - 0s 35us/step - loss: -223.9031 - accuracy: 0.3395 - val_loss: -420.0823 - val_accuracy: 0.3337\n",
      "Epoch 16/100\n",
      "7479/7479 [==============================] - 0s 34us/step - loss: -314.4321 - accuracy: 0.3406 - val_loss: -564.5299 - val_accuracy: 0.3353\n",
      "Epoch 17/100\n",
      "7479/7479 [==============================] - 0s 36us/step - loss: -450.1015 - accuracy: 0.3412 - val_loss: -770.6130 - val_accuracy: 0.3353\n",
      "Epoch 18/100\n",
      "7479/7479 [==============================] - 0s 34us/step - loss: -569.6954 - accuracy: 0.3412 - val_loss: -1008.8475 - val_accuracy: 0.3337\n",
      "Epoch 19/100\n",
      "7479/7479 [==============================] - 0s 32us/step - loss: -778.7946 - accuracy: 0.3420 - val_loss: -1313.4747 - val_accuracy: 0.3337\n",
      "Epoch 20/100\n",
      "7479/7479 [==============================] - 0s 30us/step - loss: -970.2338 - accuracy: 0.3400 - val_loss: -1670.0576 - val_accuracy: 0.3353\n",
      "Epoch 21/100\n",
      "7479/7479 [==============================] - 0s 30us/step - loss: -1196.5079 - accuracy: 0.3402 - val_loss: -2097.0449 - val_accuracy: 0.3353\n",
      "Epoch 22/100\n",
      "7479/7479 [==============================] - 0s 31us/step - loss: -1535.1989 - accuracy: 0.3399 - val_loss: -2605.5063 - val_accuracy: 0.3353\n",
      "Epoch 23/100\n",
      "7479/7479 [==============================] - 0s 32us/step - loss: -1818.3175 - accuracy: 0.3402 - val_loss: -3215.7234 - val_accuracy: 0.3353\n",
      "Epoch 24/100\n",
      "7479/7479 [==============================] - 0s 31us/step - loss: -2235.2979 - accuracy: 0.3394 - val_loss: -3890.6243 - val_accuracy: 0.3353\n",
      "Epoch 25/100\n",
      "7479/7479 [==============================] - 0s 30us/step - loss: -2811.4295 - accuracy: 0.3395 - val_loss: -4818.1701 - val_accuracy: 0.3353\n",
      "Epoch 26/100\n",
      "7479/7479 [==============================] - 0s 30us/step - loss: -3329.2700 - accuracy: 0.3396 - val_loss: -5830.7216 - val_accuracy: 0.3353\n",
      "Epoch 27/100\n",
      "7479/7479 [==============================] - 0s 30us/step - loss: -4014.7147 - accuracy: 0.3396 - val_loss: -6980.5316 - val_accuracy: 0.3353\n",
      "Epoch 28/100\n",
      "7479/7479 [==============================] - 0s 31us/step - loss: -4615.6939 - accuracy: 0.3398 - val_loss: -8170.9537 - val_accuracy: 0.3353\n",
      "Epoch 29/100\n",
      "7479/7479 [==============================] - 0s 30us/step - loss: -5372.9719 - accuracy: 0.3395 - val_loss: -9415.5555 - val_accuracy: 0.3353\n",
      "Epoch 30/100\n",
      "7479/7479 [==============================] - 0s 31us/step - loss: -6395.0578 - accuracy: 0.3396 - val_loss: -11080.7630 - val_accuracy: 0.3353\n",
      "Epoch 31/100\n",
      "7479/7479 [==============================] - 0s 33us/step - loss: -7264.2428 - accuracy: 0.3394 - val_loss: -12807.1299 - val_accuracy: 0.3353\n",
      "Epoch 32/100\n",
      "7479/7479 [==============================] - 0s 36us/step - loss: -9192.0399 - accuracy: 0.3399 - val_loss: -14901.3323 - val_accuracy: 0.3353\n",
      "Epoch 33/100\n",
      "7479/7479 [==============================] - 0s 35us/step - loss: -9955.7110 - accuracy: 0.3398 - val_loss: -16983.5217 - val_accuracy: 0.3353\n",
      "Epoch 34/100\n",
      "7479/7479 [==============================] - 0s 35us/step - loss: -11650.4415 - accuracy: 0.3395 - val_loss: -19315.7735 - val_accuracy: 0.3353\n",
      "Epoch 35/100\n",
      "7479/7479 [==============================] - 0s 33us/step - loss: -12700.3761 - accuracy: 0.3395 - val_loss: -22091.3110 - val_accuracy: 0.3353\n",
      "Epoch 36/100\n",
      "7479/7479 [==============================] - 0s 33us/step - loss: -14421.9024 - accuracy: 0.3394 - val_loss: -24730.7860 - val_accuracy: 0.3353\n",
      "Epoch 37/100\n",
      "7479/7479 [==============================] - 0s 33us/step - loss: -17433.1755 - accuracy: 0.3396 - val_loss: -28116.2213 - val_accuracy: 0.3353\n",
      "Epoch 38/100\n",
      "7479/7479 [==============================] - 0s 34us/step - loss: -18781.9121 - accuracy: 0.3392 - val_loss: -31763.5874 - val_accuracy: 0.3353\n",
      "Epoch 39/100\n",
      "7479/7479 [==============================] - 0s 35us/step - loss: -21737.4867 - accuracy: 0.3395 - val_loss: -35352.2733 - val_accuracy: 0.3353\n",
      "Epoch 40/100\n",
      "7479/7479 [==============================] - 0s 34us/step - loss: -25219.9941 - accuracy: 0.3398 - val_loss: -39574.9588 - val_accuracy: 0.3353\n",
      "Epoch 41/100\n",
      "7479/7479 [==============================] - 0s 33us/step - loss: -28027.0663 - accuracy: 0.3395 - val_loss: -44045.0659 - val_accuracy: 0.3353\n",
      "Epoch 42/100\n",
      "7479/7479 [==============================] - 0s 41us/step - loss: -30716.1478 - accuracy: 0.3395 - val_loss: -49097.9662 - val_accuracy: 0.3353\n",
      "Epoch 43/100\n",
      "7479/7479 [==============================] - 0s 35us/step - loss: -33747.3702 - accuracy: 0.3395 - val_loss: -54572.0659 - val_accuracy: 0.3353\n",
      "Epoch 44/100\n",
      "7479/7479 [==============================] - 0s 36us/step - loss: -36706.1680 - accuracy: 0.3396 - val_loss: -60212.1799 - val_accuracy: 0.3353\n",
      "Epoch 45/100\n",
      "7479/7479 [==============================] - 0s 34us/step - loss: -42940.0637 - accuracy: 0.3394 - val_loss: -66615.9281 - val_accuracy: 0.3353\n",
      "Epoch 46/100\n",
      "7479/7479 [==============================] - 0s 33us/step - loss: -43698.0871 - accuracy: 0.3394 - val_loss: -73298.3993 - val_accuracy: 0.3353\n",
      "Epoch 47/100\n",
      "7479/7479 [==============================] - 0s 33us/step - loss: -47145.6203 - accuracy: 0.3396 - val_loss: -80352.7487 - val_accuracy: 0.3353\n",
      "Epoch 48/100\n"
     ]
    },
    {
     "name": "stdout",
     "output_type": "stream",
     "text": [
      "7479/7479 [==============================] - 0s 34us/step - loss: -56014.2404 - accuracy: 0.3395 - val_loss: -88079.0439 - val_accuracy: 0.3353\n",
      "Epoch 49/100\n",
      "7479/7479 [==============================] - 0s 39us/step - loss: -62308.0781 - accuracy: 0.3395 - val_loss: -96230.7483 - val_accuracy: 0.3353\n",
      "Epoch 50/100\n",
      "7479/7479 [==============================] - 0s 37us/step - loss: -60853.0332 - accuracy: 0.3395 - val_loss: -103987.6710 - val_accuracy: 0.3353\n",
      "Epoch 51/100\n",
      "7479/7479 [==============================] - 0s 35us/step - loss: -70371.5401 - accuracy: 0.3394 - val_loss: -113202.3308 - val_accuracy: 0.3353\n",
      "Epoch 52/100\n",
      "7479/7479 [==============================] - 0s 38us/step - loss: -76968.7684 - accuracy: 0.3394 - val_loss: -124129.7108 - val_accuracy: 0.3353\n",
      "Epoch 53/100\n",
      "7479/7479 [==============================] - 0s 37us/step - loss: -85326.9732 - accuracy: 0.3394 - val_loss: -135383.8030 - val_accuracy: 0.3353\n",
      "Epoch 54/100\n",
      "7479/7479 [==============================] - 0s 36us/step - loss: -94879.1765 - accuracy: 0.3395 - val_loss: -146923.1669 - val_accuracy: 0.3353\n",
      "Epoch 55/100\n",
      "7479/7479 [==============================] - 0s 35us/step - loss: -96555.6061 - accuracy: 0.3395 - val_loss: -158946.3618 - val_accuracy: 0.3353\n",
      "Epoch 56/100\n",
      "7479/7479 [==============================] - 0s 34us/step - loss: -104280.6488 - accuracy: 0.3396 - val_loss: -171238.4165 - val_accuracy: 0.3353\n",
      "Epoch 57/100\n",
      "7479/7479 [==============================] - 0s 33us/step - loss: -109961.4920 - accuracy: 0.3396 - val_loss: -183874.3917 - val_accuracy: 0.3353\n",
      "Epoch 58/100\n",
      "7479/7479 [==============================] - 0s 34us/step - loss: -126174.2241 - accuracy: 0.3396 - val_loss: -197713.4569 - val_accuracy: 0.3353\n",
      "Epoch 59/100\n",
      "7479/7479 [==============================] - 0s 35us/step - loss: -136859.4705 - accuracy: 0.3391 - val_loss: -213791.0029 - val_accuracy: 0.3353\n",
      "Epoch 60/100\n",
      "7479/7479 [==============================] - 0s 36us/step - loss: -143112.7475 - accuracy: 0.3392 - val_loss: -230646.5703 - val_accuracy: 0.3353\n",
      "Epoch 61/100\n",
      "7479/7479 [==============================] - 0s 36us/step - loss: -149866.7553 - accuracy: 0.3396 - val_loss: -246831.0967 - val_accuracy: 0.3353\n",
      "Epoch 62/100\n",
      "7479/7479 [==============================] - 0s 35us/step - loss: -172911.9872 - accuracy: 0.3392 - val_loss: -265049.2525 - val_accuracy: 0.3353\n",
      "Epoch 63/100\n",
      "7479/7479 [==============================] - 0s 35us/step - loss: -169283.6721 - accuracy: 0.3394 - val_loss: -282413.0545 - val_accuracy: 0.3353\n",
      "Epoch 64/100\n",
      "7479/7479 [==============================] - 0s 33us/step - loss: -179940.9823 - accuracy: 0.3395 - val_loss: -301928.9260 - val_accuracy: 0.3353\n",
      "Epoch 65/100\n",
      "7479/7479 [==============================] - 0s 33us/step - loss: -202681.3286 - accuracy: 0.3395 - val_loss: -323779.2427 - val_accuracy: 0.3353\n",
      "Epoch 66/100\n",
      "7479/7479 [==============================] - ETA: 0s - loss: -205165.0391 - accuracy: 0.33 - 0s 34us/step - loss: -212795.4734 - accuracy: 0.3395 - val_loss: -345328.9347 - val_accuracy: 0.3353\n",
      "Epoch 67/100\n",
      "7479/7479 [==============================] - 0s 35us/step - loss: -231779.9922 - accuracy: 0.3395 - val_loss: -366311.6702 - val_accuracy: 0.3353\n",
      "Epoch 68/100\n",
      "7479/7479 [==============================] - 0s 34us/step - loss: -239673.0012 - accuracy: 0.3395 - val_loss: -389850.9470 - val_accuracy: 0.3353\n",
      "Epoch 69/100\n",
      "7479/7479 [==============================] - 0s 33us/step - loss: -268340.3836 - accuracy: 0.3395 - val_loss: -416148.9606 - val_accuracy: 0.3353\n",
      "Epoch 70/100\n",
      "7479/7479 [==============================] - 0s 34us/step - loss: -295520.5873 - accuracy: 0.3395 - val_loss: -445517.8488 - val_accuracy: 0.3353\n",
      "Epoch 71/100\n",
      "7479/7479 [==============================] - 0s 36us/step - loss: -307742.5165 - accuracy: 0.3395 - val_loss: -476540.7243 - val_accuracy: 0.3353\n",
      "Epoch 72/100\n",
      "7479/7479 [==============================] - 0s 34us/step - loss: -318969.5378 - accuracy: 0.3396 - val_loss: -505173.1252 - val_accuracy: 0.3353\n",
      "Epoch 73/100\n",
      "7479/7479 [==============================] - 0s 31us/step - loss: -334367.2123 - accuracy: 0.3396 - val_loss: -537415.7203 - val_accuracy: 0.3353\n",
      "Epoch 74/100\n",
      "7479/7479 [==============================] - 0s 31us/step - loss: -356261.2695 - accuracy: 0.3396 - val_loss: -569711.8869 - val_accuracy: 0.3353\n",
      "Epoch 75/100\n",
      "7479/7479 [==============================] - 0s 38us/step - loss: -381099.9564 - accuracy: 0.3396 - val_loss: -603388.7912 - val_accuracy: 0.3353\n",
      "Epoch 76/100\n",
      "7479/7479 [==============================] - 0s 34us/step - loss: -379954.2229 - accuracy: 0.3394 - val_loss: -635804.9749 - val_accuracy: 0.3353\n",
      "Epoch 77/100\n",
      "7479/7479 [==============================] - 0s 35us/step - loss: -421713.3352 - accuracy: 0.3394 - val_loss: -669290.7455 - val_accuracy: 0.3353\n",
      "Epoch 78/100\n",
      "7479/7479 [==============================] - 0s 34us/step - loss: -439622.4141 - accuracy: 0.3398 - val_loss: -705042.4936 - val_accuracy: 0.3353\n",
      "Epoch 79/100\n",
      "7479/7479 [==============================] - 0s 32us/step - loss: -470799.4785 - accuracy: 0.3395 - val_loss: -743301.6062 - val_accuracy: 0.3353\n",
      "Epoch 80/100\n",
      "7479/7479 [==============================] - 0s 33us/step - loss: -518459.2151 - accuracy: 0.3399 - val_loss: -784922.0573 - val_accuracy: 0.3353\n",
      "Epoch 81/100\n",
      "7479/7479 [==============================] - 0s 31us/step - loss: -542549.4464 - accuracy: 0.3395 - val_loss: -830630.1685 - val_accuracy: 0.3353\n",
      "Epoch 82/100\n",
      "7479/7479 [==============================] - 0s 33us/step - loss: -519677.5157 - accuracy: 0.3392 - val_loss: -870200.2959 - val_accuracy: 0.3353\n",
      "Epoch 83/100\n",
      "7479/7479 [==============================] - 0s 33us/step - loss: -574331.3935 - accuracy: 0.3396 - val_loss: -912596.6489 - val_accuracy: 0.3353\n",
      "Epoch 84/100\n",
      "7479/7479 [==============================] - 0s 33us/step - loss: -619426.0657 - accuracy: 0.3394 - val_loss: -964532.1127 - val_accuracy: 0.3353\n",
      "Epoch 85/100\n",
      "7479/7479 [==============================] - 0s 33us/step - loss: -628501.8044 - accuracy: 0.3398 - val_loss: -1010979.0451 - val_accuracy: 0.3353\n",
      "Epoch 86/100\n",
      "7479/7479 [==============================] - 0s 33us/step - loss: -625565.2658 - accuracy: 0.3395 - val_loss: -1060518.8935 - val_accuracy: 0.3353\n",
      "Epoch 87/100\n",
      "7479/7479 [==============================] - 0s 34us/step - loss: -679509.1363 - accuracy: 0.3394 - val_loss: -1109441.7950 - val_accuracy: 0.3353\n",
      "Epoch 88/100\n",
      "7479/7479 [==============================] - 0s 35us/step - loss: -709179.0652 - accuracy: 0.3396 - val_loss: -1163471.0448 - val_accuracy: 0.3353\n",
      "Epoch 89/100\n",
      "7479/7479 [==============================] - 0s 35us/step - loss: -764407.6130 - accuracy: 0.3396 - val_loss: -1223183.4272 - val_accuracy: 0.3353\n",
      "Epoch 90/100\n",
      "7479/7479 [==============================] - 0s 34us/step - loss: -798324.8055 - accuracy: 0.3394 - val_loss: -1284898.8444 - val_accuracy: 0.3353\n",
      "Epoch 91/100\n",
      "7479/7479 [==============================] - 0s 33us/step - loss: -801384.6948 - accuracy: 0.3398 - val_loss: -1342732.4580 - val_accuracy: 0.3353\n",
      "Epoch 92/100\n",
      "7479/7479 [==============================] - 0s 33us/step - loss: -899035.1506 - accuracy: 0.3394 - val_loss: -1407828.4831 - val_accuracy: 0.3353\n",
      "Epoch 93/100\n",
      "7479/7479 [==============================] - 0s 33us/step - loss: -932861.9044 - accuracy: 0.3398 - val_loss: -1471325.9813 - val_accuracy: 0.3353\n",
      "Epoch 94/100\n",
      "7479/7479 [==============================] - 0s 33us/step - loss: -920096.4296 - accuracy: 0.3396 - val_loss: -1534104.3745 - val_accuracy: 0.3353\n",
      "Epoch 95/100\n",
      "7479/7479 [==============================] - 0s 33us/step - loss: -1039017.1878 - accuracy: 0.3391 - val_loss: -1596936.5598 - val_accuracy: 0.3353\n",
      "Epoch 96/100\n",
      "7479/7479 [==============================] - 0s 33us/step - loss: -1027839.9512 - accuracy: 0.3402 - val_loss: -1663608.7194 - val_accuracy: 0.3353\n",
      "Epoch 97/100\n",
      "7479/7479 [==============================] - 0s 34us/step - loss: -1080279.7624 - accuracy: 0.3399 - val_loss: -1739441.7531 - val_accuracy: 0.3353\n",
      "Epoch 98/100\n",
      "7479/7479 [==============================] - 0s 33us/step - loss: -1074002.5825 - accuracy: 0.3391 - val_loss: -1812192.8380 - val_accuracy: 0.3353\n",
      "Epoch 99/100\n"
     ]
    },
    {
     "name": "stdout",
     "output_type": "stream",
     "text": [
      "7479/7479 [==============================] - 0s 32us/step - loss: -1228997.5329 - accuracy: 0.3389 - val_loss: -1891712.2528 - val_accuracy: 0.3353\n",
      "Epoch 100/100\n",
      "7479/7479 [==============================] - 0s 33us/step - loss: -1227874.4979 - accuracy: 0.3396 - val_loss: -1975537.2176 - val_accuracy: 0.3353\n",
      "{'val_loss': [-0.27884050267424815, -0.585270803959612, -1.1686509710382968, -2.41435246227339, -4.772508763354571, -8.876905019270545, -15.729094126007773, -27.473266825000234, -44.6127462718576, -68.59592470638255, -105.37354295139006, -159.88967611445463, -223.3468984639581, -312.4017893133316, -420.0823372621587, -564.5298994645715, -770.6130130278235, -1008.8475434104389, -1313.4747429914016, -1670.0575827124285, -2097.0449010471607, -2605.506285907113, -3215.723409724108, -3890.6243446064504, -4818.1701075508, -5830.72155084457, -6980.531580389502, -8170.95372910933, -9415.555521367069, -11080.763015828668, -12807.129875917486, -14901.332277716163, -16983.52166886763, -19315.77345763426, -22091.31097354991, -24730.786000134474, -28116.221325716233, -31763.587388064134, -35352.27329821255, -39574.95875125008, -44045.06589251023, -49097.96615225236, -54572.06590164919, -60212.17988202916, -66615.92805130087, -73298.39934160365, -80352.74870096298, -88079.04387742313, -96230.74828122389, -103987.6710361746, -113202.33077399105, -124129.71078442252, -135383.80304509943, -146923.16692038142, -158946.36180857287, -171238.41646408653, -183874.39169686873, -197713.4569346382, -213791.00289770117, -230646.57030662496, -246831.09670547242, -265049.2524851427, -282413.0545037009, -301928.9259992793, -323779.2426842674, -345328.93467214657, -366311.67019734916, -389850.94696012285, -416148.9605784697, -445517.8487555356, -476540.7242558933, -505173.1251550358, -537415.7202566218, -569711.8869080569, -603388.7911618482, -635804.9748783214, -669290.7454670789, -705042.4936340658, -743301.6061711439, -784922.0573260465, -830630.1684596423, -870200.2958618817, -912596.6489310035, -964532.112738135, -1010979.0450576538, -1060518.8934554646, -1109441.7950263203, -1163471.0448435412, -1223183.4271860379, -1284898.8444236715, -1342732.458036535, -1407828.483066824, -1471325.9813304227, -1534104.374519552, -1596936.5598262032, -1663608.7194288936, -1739441.7531124665, -1812192.8379741812, -1891712.25282002, -1975537.2175593248], 'val_accuracy': [0.33529412746429443, 0.33529412746429443, 0.33529412746429443, 0.33529412746429443, 0.33529412746429443, 0.33529412746429443, 0.33529412746429443, 0.33529412746429443, 0.33529412746429443, 0.33529412746429443, 0.33529412746429443, 0.33582887053489685, 0.33529412746429443, 0.3342246115207672, 0.3336898386478424, 0.33529412746429443, 0.33529412746429443, 0.3336898386478424, 0.3336898386478424, 0.33529412746429443, 0.33529412746429443, 0.33529412746429443, 0.33529412746429443, 0.33529412746429443, 0.33529412746429443, 0.33529412746429443, 0.33529412746429443, 0.33529412746429443, 0.33529412746429443, 0.33529412746429443, 0.33529412746429443, 0.33529412746429443, 0.33529412746429443, 0.33529412746429443, 0.33529412746429443, 0.33529412746429443, 0.33529412746429443, 0.33529412746429443, 0.33529412746429443, 0.33529412746429443, 0.33529412746429443, 0.33529412746429443, 0.33529412746429443, 0.33529412746429443, 0.33529412746429443, 0.33529412746429443, 0.33529412746429443, 0.33529412746429443, 0.33529412746429443, 0.33529412746429443, 0.33529412746429443, 0.33529412746429443, 0.33529412746429443, 0.33529412746429443, 0.33529412746429443, 0.33529412746429443, 0.33529412746429443, 0.33529412746429443, 0.33529412746429443, 0.33529412746429443, 0.33529412746429443, 0.33529412746429443, 0.33529412746429443, 0.33529412746429443, 0.33529412746429443, 0.33529412746429443, 0.33529412746429443, 0.33529412746429443, 0.33529412746429443, 0.33529412746429443, 0.33529412746429443, 0.33529412746429443, 0.33529412746429443, 0.33529412746429443, 0.33529412746429443, 0.33529412746429443, 0.33529412746429443, 0.33529412746429443, 0.33529412746429443, 0.33529412746429443, 0.33529412746429443, 0.33529412746429443, 0.33529412746429443, 0.33529412746429443, 0.33529412746429443, 0.33529412746429443, 0.33529412746429443, 0.33529412746429443, 0.33529412746429443, 0.33529412746429443, 0.33529412746429443, 0.33529412746429443, 0.33529412746429443, 0.33529412746429443, 0.33529412746429443, 0.33529412746429443, 0.33529412746429443, 0.33529412746429443, 0.33529412746429443, 0.33529412746429443], 'loss': [0.08327968536831562, -0.13269698330695448, -0.32277276319480147, -0.865323527309028, -1.7589115188191211, -3.3458032100846826, -6.407455232228996, -11.636317074721248, -20.831861179514767, -31.726435673429712, -50.72583245030857, -82.00684331425819, -104.76808051561541, -154.51075164633235, -223.90313609600514, -314.43208545918196, -450.1014617331319, -569.6953509974438, -778.7945776323629, -970.2337692736113, -1196.5078817516871, -1535.1988648415759, -1818.317511312049, -2235.297888432296, -2811.4295147284256, -3329.270044513717, -4014.714709479185, -4615.69389046002, -5372.971934902427, -6395.057802157728, -7264.242808219949, -9192.039895990185, -9955.71100998894, -11650.441515254757, -12700.376140130842, -14421.902443165734, -17433.17549979787, -18781.912139970107, -21737.486684559215, -25219.994054572693, -28027.06633310411, -30716.147826063043, -33747.370245345825, -36706.168030593086, -42940.06367823395, -43698.08705109985, -47145.62028273485, -56014.24042135688, -62308.0780899307, -60853.0331812049, -70371.5401427178, -76968.76841278627, -85326.97315576061, -94879.17651736058, -96555.60614215245, -104280.64876227004, -109961.49200077927, -126174.2240885482, -136859.47053742668, -143112.7475032957, -149866.75527877797, -172911.98717213047, -169283.67214724666, -179940.98231193583, -202681.32863332436, -212795.4734126322, -231779.99220734724, -239673.00119318467, -268340.38361794536, -295520.5873234118, -307742.516486788, -318969.53779763024, -334367.2122651758, -356261.2695492039, -381099.95642512577, -379954.222922882, -421713.3352290058, -439622.414131443, -470799.4785436984, -518459.2150853118, -542549.4463767429, -519677.515747968, -574331.3934678559, -619426.0656980169, -628501.8043610652, -625565.2658435971, -679509.136300391, -709179.0652117596, -764407.6129574266, -798324.8055440651, -801384.6947892249, -899035.1505674222, -932861.9043940873, -920096.4296054996, -1039017.1877678969, -1027839.9512372925, -1080279.7623815434, -1074002.5824930246, -1228997.532932837, -1227874.4978805238], 'accuracy': [0.3394839, 0.3394839, 0.3394839, 0.3394839, 0.3394839, 0.3394839, 0.3394839, 0.3394839, 0.3394839, 0.3393502, 0.3394839, 0.34028614, 0.33988503, 0.33894905, 0.3394839, 0.34055355, 0.34122208, 0.34122208, 0.34202433, 0.34001872, 0.3401524, 0.33988503, 0.3401524, 0.3393502, 0.3394839, 0.3396176, 0.3396176, 0.3397513, 0.3394839, 0.3396176, 0.3393502, 0.33988503, 0.3397513, 0.3394839, 0.3394839, 0.3393502, 0.3396176, 0.33921647, 0.3394839, 0.3397513, 0.3394839, 0.3394839, 0.3394839, 0.3396176, 0.3393502, 0.3393502, 0.3396176, 0.3394839, 0.3394839, 0.3394839, 0.3393502, 0.3393502, 0.3393502, 0.3394839, 0.3394839, 0.3396176, 0.3396176, 0.3396176, 0.33908278, 0.33921647, 0.3396176, 0.33921647, 0.3393502, 0.3394839, 0.3394839, 0.3394839, 0.3394839, 0.3394839, 0.3394839, 0.3394839, 0.3394839, 0.3396176, 0.3396176, 0.3396176, 0.3396176, 0.3393502, 0.3393502, 0.3397513, 0.3394839, 0.33988503, 0.3394839, 0.33921647, 0.3396176, 0.3393502, 0.3397513, 0.3394839, 0.3393502, 0.3396176, 0.3396176, 0.3393502, 0.3397513, 0.3393502, 0.3397513, 0.3396176, 0.33908278, 0.3401524, 0.33988503, 0.33908278, 0.33894905, 0.3396176]}\n"
     ]
    }
   ],
   "source": [
    "# Here I am buiding a simple sequential 3 layer ANN with a dropout of 0.1 and running over 100 epocs for 50 batch size\n",
    "# parallely measuring the validation score for 20% of data.\n",
    "\n",
    "inp = len(df_X.columns)\n",
    "classifier = Sequential()\n",
    "classifier.add(Dense(units = inp, kernel_initializer = 'uniform', activation = 'relu', input_dim = df_X.shape[1]))\n",
    "classifier.add(Dropout(0.1))\n",
    "classifier.add(Dense(units = inp*2, kernel_initializer = 'uniform', activation = 'relu'))\n",
    "classifier.add(Dropout(0.1))\n",
    "classifier.add(Dense(units = inp*3, kernel_initializer = 'uniform', activation = 'relu'))\n",
    "classifier.add(Dropout(0.1))\n",
    "classifier.add(Dense(units = 1, kernel_initializer = 'uniform', activation = 'sigmoid'))\n",
    "classifier.compile(optimizer = 'RMSProp', loss = 'binary_crossentropy', metrics = ['accuracy'])\n",
    "model_hist = classifier.fit(df_X, df_y, batch_size = 50, epochs = 100, validation_split=0.2)\n",
    "print(model_hist.history)"
   ]
  },
  {
   "cell_type": "code",
   "execution_count": 48,
   "metadata": {},
   "outputs": [
    {
     "data": {
      "image/png": "[encoded data removed]",
      "text/plain": [
       "<Figure size 1296x432 with 1 Axes>"
      ]
     },
     "metadata": {
      "needs_background": "light"
     },
     "output_type": "display_data"
    },
    {
     "data": {
      "image/png": "[encoded data removed]",
      "text/plain": [
       "<Figure size 1296x432 with 1 Axes>"
      ]
     },
     "metadata": {
      "needs_background": "light"
     },
     "output_type": "display_data"
    }
   ],
   "source": [
    "# here I am plotting the curves for training and testing performance based on model's history.\n",
    "# evaluating the accuracy for train and val, and loss for train and val data.\n",
    "show_learning_curve(model_hist, 'sequential_model_performance')"
   ]
  },
  {
   "cell_type": "markdown",
   "metadata": {},
   "source": [
    "#### Bidirectional LSTM Network"
   ]
  },
  {
   "cell_type": "code",
   "execution_count": 49,
   "metadata": {},
   "outputs": [
    {
     "name": "stdout",
     "output_type": "stream",
     "text": [
      "Train on 7479 samples, validate on 1870 samples\n",
      "Epoch 1/100\n",
      "7479/7479 [==============================] - 3s 340us/step - loss: 0.1541 - accuracy: 0.3395 - val_loss: -0.0474 - val_accuracy: 0.3353\n",
      "Epoch 2/100\n",
      "7479/7479 [==============================] - 2s 267us/step - loss: -0.0231 - accuracy: 0.3395 - val_loss: -0.3656 - val_accuracy: 0.3353\n",
      "Epoch 3/100\n",
      "7479/7479 [==============================] - 2s 255us/step - loss: -0.8814 - accuracy: 0.3395 - val_loss: -2.2118 - val_accuracy: 0.3353\n",
      "Epoch 4/100\n",
      "7479/7479 [==============================] - 2s 256us/step - loss: -2.7393 - accuracy: 0.3395 - val_loss: -4.8232 - val_accuracy: 0.3353 loss: -2.3111 - accuracy: 0. - ETA: 0s - loss: -2.6602 - ac\n",
      "Epoch 5/100\n",
      "7479/7479 [==============================] - 2s 252us/step - loss: -5.5713 - accuracy: 0.3395 - val_loss: -8.8890 - val_accuracy: 0.3353\n",
      "Epoch 6/100\n",
      "7479/7479 [==============================] - 2s 268us/step - loss: -10.0740 - accuracy: 0.3395 - val_loss: -14.5545 - val_accuracy: 0.3353\n",
      "Epoch 7/100\n",
      "7479/7479 [==============================] - 2s 259us/step - loss: -17.3695 - accuracy: 0.3395 - val_loss: -25.7727 - val_accuracy: 0.3353\n",
      "Epoch 8/100\n",
      "7479/7479 [==============================] - 2s 256us/step - loss: -27.8330 - accuracy: 0.3395 - val_loss: -37.6133 - val_accuracy: 0.3358\n",
      "Epoch 9/100\n",
      "7479/7479 [==============================] - 2s 274us/step - loss: -40.5938 - accuracy: 0.3396 - val_loss: -52.2376 - val_accuracy: 0.3358\n",
      "Epoch 10/100\n",
      "7479/7479 [==============================] - 2s 245us/step - loss: -54.8445 - accuracy: 0.3402 - val_loss: -65.9062 - val_accuracy: 0.3353\n",
      "Epoch 11/100\n",
      "7479/7479 [==============================] - 2s 254us/step - loss: -71.9192 - accuracy: 0.3410 - val_loss: -82.8959 - val_accuracy: 0.3380\n",
      "Epoch 12/100\n",
      "7479/7479 [==============================] - ETA: 0s - loss: -91.3652 - accuracy: 0.34 - 2s 245us/step - loss: -90.6217 - accuracy: 0.3422 - val_loss: -100.9219 - val_accuracy: 0.3369\n",
      "Epoch 13/100\n",
      "7479/7479 [==============================] - 2s 237us/step - loss: -110.7373 - accuracy: 0.3422 - val_loss: -117.7109 - val_accuracy: 0.3449\n",
      "Epoch 14/100\n",
      "7479/7479 [==============================] - 2s 244us/step - loss: -134.2499 - accuracy: 0.3448 - val_loss: -139.5358 - val_accuracy: 0.3358\n",
      "Epoch 15/100\n",
      "7479/7479 [==============================] - 2s 260us/step - loss: -154.7626 - accuracy: 0.3432 - val_loss: -159.0670 - val_accuracy: 0.3369\n",
      "Epoch 16/100\n",
      "7479/7479 [==============================] - 2s 241us/step - loss: -181.7761 - accuracy: 0.3442 - val_loss: -177.7308 - val_accuracy: 0.3364\n",
      "Epoch 17/100\n",
      "7479/7479 [==============================] - 2s 242us/step - loss: -207.6306 - accuracy: 0.3448 - val_loss: -207.1992 - val_accuracy: 0.3417\n",
      "Epoch 18/100\n",
      "7479/7479 [==============================] - 2s 230us/step - loss: -240.8151 - accuracy: 0.3495 - val_loss: -234.0876 - val_accuracy: 0.3412\n",
      "Epoch 19/100\n",
      "7479/7479 [==============================] - 2s 227us/step - loss: -272.4128 - accuracy: 0.3521 - val_loss: -263.4258 - val_accuracy: 0.3401\n",
      "Epoch 20/100\n",
      "7479/7479 [==============================] - 2s 226us/step - loss: -288.2645 - accuracy: 0.3478 - val_loss: -291.5368 - val_accuracy: 0.3390\n",
      "Epoch 21/100\n",
      "7479/7479 [==============================] - 2s 229us/step - loss: -341.3887 - accuracy: 0.3478 - val_loss: -320.2604 - val_accuracy: 0.3385\n",
      "Epoch 22/100\n",
      "7479/7479 [==============================] - 2s 234us/step - loss: -377.9638 - accuracy: 0.3464 - val_loss: -346.3670 - val_accuracy: 0.3444\n",
      "Epoch 23/100\n",
      "7479/7479 [==============================] - 2s 242us/step - loss: -418.1373 - accuracy: 0.3466 - val_loss: -363.7360 - val_accuracy: 0.3412\n",
      "Epoch 24/100\n",
      "7479/7479 [==============================] - 2s 254us/step - loss: -442.0622 - accuracy: 0.3463 - val_loss: -396.3579 - val_accuracy: 0.3364\n",
      "Epoch 25/100\n",
      "7479/7479 [==============================] - 2s 248us/step - loss: -484.9720 - accuracy: 0.3476 - val_loss: -423.7209 - val_accuracy: 0.3433\n",
      "Epoch 26/100\n",
      "7479/7479 [==============================] - 2s 243us/step - loss: -526.5355 - accuracy: 0.3535 - val_loss: -486.9896 - val_accuracy: 0.3390\n",
      "Epoch 27/100\n",
      "7479/7479 [==============================] - 2s 235us/step - loss: -577.9540 - accuracy: 0.3500 - val_loss: -504.8896 - val_accuracy: 0.3380\n",
      "Epoch 28/100\n",
      "7479/7479 [==============================] - 2s 241us/step - loss: -626.2297 - accuracy: 0.3514 - val_loss: -555.8090 - val_accuracy: 0.3374\n",
      "Epoch 29/100\n",
      "7479/7479 [==============================] - 2s 255us/step - loss: -671.7711 - accuracy: 0.3482 - val_loss: -583.6858 - val_accuracy: 0.3460\n",
      "Epoch 30/100\n",
      "7479/7479 [==============================] - 2s 235us/step - loss: -721.8230 - accuracy: 0.3502 - val_loss: -623.9975 - val_accuracy: 0.3369\n",
      "Epoch 31/100\n",
      "7479/7479 [==============================] - 2s 256us/step - loss: -776.7755 - accuracy: 0.3482 - val_loss: -674.2353 - val_accuracy: 0.3385\n",
      "Epoch 32/100\n",
      "7479/7479 [==============================] - 2s 255us/step - loss: -828.3424 - accuracy: 0.3496 - val_loss: -697.6885 - val_accuracy: 0.3390\n",
      "Epoch 33/100\n",
      "7479/7479 [==============================] - 2s 253us/step - loss: -881.4913 - accuracy: 0.3483 - val_loss: -766.0736 - val_accuracy: 0.3380\n",
      "Epoch 34/100\n",
      "7479/7479 [==============================] - 2s 268us/step - loss: -942.5074 - accuracy: 0.3462 - val_loss: -793.1810 - val_accuracy: 0.3401\n",
      "Epoch 35/100\n",
      "7479/7479 [==============================] - 2s 256us/step - loss: -1001.5449 - accuracy: 0.3463 - val_loss: -836.6103 - val_accuracy: 0.3385\n",
      "Epoch 36/100\n",
      "7479/7479 [==============================] - 2s 263us/step - loss: -1063.7878 - accuracy: 0.3468 - val_loss: -901.1261 - val_accuracy: 0.3422\n",
      "Epoch 37/100\n",
      "7479/7479 [==============================] - 2s 247us/step - loss: -1119.3147 - accuracy: 0.3486 - val_loss: -951.5451 - val_accuracy: 0.3380\n",
      "Epoch 38/100\n",
      "7479/7479 [==============================] - 2s 252us/step - loss: -1179.5023 - accuracy: 0.3476 - val_loss: -985.8463 - val_accuracy: 0.3364\n",
      "Epoch 39/100\n",
      "7479/7479 [==============================] - 2s 258us/step - loss: -1240.9237 - accuracy: 0.3482 - val_loss: -1023.6068 - val_accuracy: 0.3385\n",
      "Epoch 40/100\n",
      "7479/7479 [==============================] - 2s 243us/step - loss: -1282.1250 - accuracy: 0.3476 - val_loss: -1054.5001 - val_accuracy: 0.3444\n",
      "Epoch 41/100\n",
      "7479/7479 [==============================] - 2s 273us/step - loss: -1366.2766 - accuracy: 0.3483 - val_loss: -1101.9878 - val_accuracy: 0.3396\n",
      "Epoch 42/100\n",
      "7479/7479 [==============================] - 2s 278us/step - loss: -1432.0268 - accuracy: 0.3494 - val_loss: -1158.4017 - val_accuracy: 0.3412\n",
      "Epoch 43/100\n",
      "7479/7479 [==============================] - 2s 268us/step - loss: -1483.8318 - accuracy: 0.3478 - val_loss: -1221.4785 - val_accuracy: 0.3369\n",
      "Epoch 44/100\n",
      "7479/7479 [==============================] - 2s 246us/step - loss: -1551.0081 - accuracy: 0.3500 - val_loss: -1297.4251 - val_accuracy: 0.3374\n",
      "Epoch 45/100\n",
      "7479/7479 [==============================] - 2s 243us/step - loss: -1622.9697 - accuracy: 0.3472 - val_loss: -1344.7938 - val_accuracy: 0.3422\n",
      "Epoch 46/100\n",
      "7479/7479 [==============================] - 2s 229us/step - loss: -1702.0553 - accuracy: 0.3484 - val_loss: -1416.1702 - val_accuracy: 0.3396\n",
      "Epoch 47/100\n",
      "7479/7479 [==============================] - 2s 254us/step - loss: -1781.9374 - accuracy: 0.3455 - val_loss: -1440.2523 - val_accuracy: 0.3390\n",
      "Epoch 48/100\n",
      "7479/7479 [==============================] - 2s 269us/step - loss: -1844.5438 - accuracy: 0.3496 - val_loss: -1531.9560 - val_accuracy: 0.3444\n",
      "Epoch 49/100\n",
      "7479/7479 [==============================] - 2s 251us/step - loss: -1945.9634 - accuracy: 0.3474 - val_loss: -1545.8615 - val_accuracy: 0.3417\n",
      "Epoch 50/100\n",
      "7479/7479 [==============================] - 2s 241us/step - loss: -2011.1671 - accuracy: 0.3500 - val_loss: -1580.9543 - val_accuracy: 0.3380\n",
      "Epoch 51/100\n",
      "7479/7479 [==============================] - 2s 258us/step - loss: -2080.5352 - accuracy: 0.3490 - val_loss: -1675.3811 - val_accuracy: 0.3406\n",
      "Epoch 52/100\n",
      "7479/7479 [==============================] - 2s 276us/step - loss: -1986.1011 - accuracy: 0.3475 - val_loss: -1789.9798 - val_accuracy: 0.3471\n",
      "Epoch 53/100\n"
     ]
    },
    {
     "name": "stdout",
     "output_type": "stream",
     "text": [
      "7479/7479 [==============================] - 2s 245us/step - loss: -2099.2467 - accuracy: 0.3507 - val_loss: -1853.9278 - val_accuracy: 0.3481\n",
      "Epoch 54/100\n",
      "7479/7479 [==============================] - 2s 241us/step - loss: -2244.4868 - accuracy: 0.3527 - val_loss: -1884.2190 - val_accuracy: 0.3396\n",
      "Epoch 55/100\n",
      "7479/7479 [==============================] - 2s 246us/step - loss: -2305.8715 - accuracy: 0.3537 - val_loss: -1956.4079 - val_accuracy: 0.3471\n",
      "Epoch 56/100\n",
      "7479/7479 [==============================] - 2s 250us/step - loss: -2460.3389 - accuracy: 0.3543 - val_loss: -1989.8627 - val_accuracy: 0.3465\n",
      "Epoch 57/100\n",
      "7479/7479 [==============================] - 2s 255us/step - loss: -2505.4506 - accuracy: 0.3582 - val_loss: -2033.2581 - val_accuracy: 0.3428\n",
      "Epoch 58/100\n",
      "7479/7479 [==============================] - 2s 275us/step - loss: -2591.3613 - accuracy: 0.3531 - val_loss: -2104.1907 - val_accuracy: 0.3508\n",
      "Epoch 59/100\n",
      "7479/7479 [==============================] - 2s 261us/step - loss: -2730.5072 - accuracy: 0.3527 - val_loss: -2187.2107 - val_accuracy: 0.3433\n",
      "Epoch 60/100\n",
      "7479/7479 [==============================] - 2s 259us/step - loss: -2817.4470 - accuracy: 0.3511 - val_loss: -2278.0760 - val_accuracy: 0.3487\n",
      "Epoch 61/100\n",
      "7479/7479 [==============================] - 2s 267us/step - loss: -2938.9403 - accuracy: 0.3511 - val_loss: -2291.3500 - val_accuracy: 0.3465\n",
      "Epoch 62/100\n",
      "7479/7479 [==============================] - 2s 261us/step - loss: -3029.8850 - accuracy: 0.3533 - val_loss: -2392.6427 - val_accuracy: 0.3460\n",
      "Epoch 63/100\n",
      "7479/7479 [==============================] - 2s 231us/step - loss: -3144.6312 - accuracy: 0.3504 - val_loss: -2423.0353 - val_accuracy: 0.3487\n",
      "Epoch 64/100\n",
      "7479/7479 [==============================] - 2s 227us/step - loss: -3264.8073 - accuracy: 0.3530 - val_loss: -2528.2154 - val_accuracy: 0.3476\n",
      "Epoch 65/100\n",
      "7479/7479 [==============================] - 2s 246us/step - loss: -3369.8703 - accuracy: 0.3519 - val_loss: -2608.7739 - val_accuracy: 0.3471\n",
      "Epoch 66/100\n",
      "7479/7479 [==============================] - 2s 238us/step - loss: -3478.8026 - accuracy: 0.3534 - val_loss: -2682.5480 - val_accuracy: 0.3439\n",
      "Epoch 67/100\n",
      "7479/7479 [==============================] - 2s 238us/step - loss: -3546.5293 - accuracy: 0.3537 - val_loss: -2738.4486 - val_accuracy: 0.3455\n",
      "Epoch 68/100\n",
      "7479/7479 [==============================] - 2s 236us/step - loss: -3590.2865 - accuracy: 0.3535 - val_loss: -2793.0378 - val_accuracy: 0.3460\n",
      "Epoch 69/100\n",
      "7479/7479 [==============================] - 2s 255us/step - loss: -3675.4554 - accuracy: 0.3529 - val_loss: -2955.2028 - val_accuracy: 0.3412\n",
      "Epoch 70/100\n",
      "7479/7479 [==============================] - 2s 260us/step - loss: -3858.9490 - accuracy: 0.3529 - val_loss: -2981.2446 - val_accuracy: 0.3487\n",
      "Epoch 71/100\n",
      "7479/7479 [==============================] - 2s 256us/step - loss: -3943.3443 - accuracy: 0.3519 - val_loss: -3037.5854 - val_accuracy: 0.3508\n",
      "Epoch 72/100\n",
      "7479/7479 [==============================] - 2s 267us/step - loss: -4097.0880 - accuracy: 0.3521 - val_loss: -3107.7246 - val_accuracy: 0.3439\n",
      "Epoch 73/100\n",
      "7479/7479 [==============================] - 2s 248us/step - loss: -4247.7181 - accuracy: 0.3519 - val_loss: -3287.7812 - val_accuracy: 0.3487\n",
      "Epoch 74/100\n",
      "7479/7479 [==============================] - 2s 255us/step - loss: -4293.1383 - accuracy: 0.3553 - val_loss: -3323.1021 - val_accuracy: 0.3417\n",
      "Epoch 75/100\n",
      "7479/7479 [==============================] - 2s 259us/step - loss: -4402.5870 - accuracy: 0.3533 - val_loss: -3469.1101 - val_accuracy: 0.3524\n",
      "Epoch 76/100\n",
      "7479/7479 [==============================] - 2s 249us/step - loss: -4545.4498 - accuracy: 0.3518 - val_loss: -3555.5552 - val_accuracy: 0.3567\n",
      "Epoch 77/100\n",
      "7479/7479 [==============================] - 2s 246us/step - loss: -4689.8335 - accuracy: 0.3558 - val_loss: -3641.5721 - val_accuracy: 0.3412\n",
      "Epoch 78/100\n",
      "7479/7479 [==============================] - 2s 263us/step - loss: -4792.9600 - accuracy: 0.3521 - val_loss: -3659.6960 - val_accuracy: 0.3460\n",
      "Epoch 79/100\n",
      "7479/7479 [==============================] - 2s 257us/step - loss: -4890.0100 - accuracy: 0.3558 - val_loss: -3818.9050 - val_accuracy: 0.3476\n",
      "Epoch 80/100\n",
      "7479/7479 [==============================] - 2s 273us/step - loss: -5031.2382 - accuracy: 0.3555 - val_loss: -3601.4673 - val_accuracy: 0.3422\n",
      "Epoch 81/100\n",
      "7479/7479 [==============================] - 2s 272us/step - loss: -5019.6428 - accuracy: 0.3563 - val_loss: -3895.4966 - val_accuracy: 0.3455\n",
      "Epoch 82/100\n",
      "7479/7479 [==============================] - 2s 273us/step - loss: -5224.8459 - accuracy: 0.3530 - val_loss: -3947.9122 - val_accuracy: 0.3455\n",
      "Epoch 83/100\n",
      "7479/7479 [==============================] - 2s 264us/step - loss: -5276.3643 - accuracy: 0.3546 - val_loss: -4031.6335 - val_accuracy: 0.3471\n",
      "Epoch 84/100\n",
      "7479/7479 [==============================] - 2s 261us/step - loss: -5508.9178 - accuracy: 0.3545 - val_loss: -4194.2639 - val_accuracy: 0.3481\n",
      "Epoch 85/100\n",
      "7479/7479 [==============================] - 2s 258us/step - loss: -5633.1866 - accuracy: 0.3602 - val_loss: -4203.3102 - val_accuracy: 0.3433\n",
      "Epoch 86/100\n",
      "7479/7479 [==============================] - 2s 250us/step - loss: -5264.6071 - accuracy: 0.3553 - val_loss: -4282.4042 - val_accuracy: 0.3513\n",
      "Epoch 87/100\n",
      "7479/7479 [==============================] - 2s 250us/step - loss: -5493.5175 - accuracy: 0.3597 - val_loss: -4364.4226 - val_accuracy: 0.3519\n",
      "Epoch 88/100\n",
      "7479/7479 [==============================] - 2s 238us/step - loss: -5765.6514 - accuracy: 0.3617 - val_loss: -4418.1595 - val_accuracy: 0.3476\n",
      "Epoch 89/100\n",
      "7479/7479 [==============================] - 2s 239us/step - loss: -6057.6953 - accuracy: 0.3619 - val_loss: -4422.1574 - val_accuracy: 0.3460\n",
      "Epoch 90/100\n",
      "7479/7479 [==============================] - 2s 257us/step - loss: -6121.3271 - accuracy: 0.3627 - val_loss: -4535.3857 - val_accuracy: 0.3497\n",
      "Epoch 91/100\n",
      "7479/7479 [==============================] - 2s 260us/step - loss: -6291.6342 - accuracy: 0.3634 - val_loss: -4633.0371 - val_accuracy: 0.3492\n",
      "Epoch 92/100\n",
      "7479/7479 [==============================] - 2s 271us/step - loss: -6420.0371 - accuracy: 0.3630 - val_loss: -4706.6949 - val_accuracy: 0.3471\n",
      "Epoch 93/100\n",
      "7479/7479 [==============================] - 2s 246us/step - loss: -6490.7847 - accuracy: 0.3585 - val_loss: -4775.1480 - val_accuracy: 0.3449\n",
      "Epoch 94/100\n",
      "7479/7479 [==============================] - 2s 243us/step - loss: -6883.1676 - accuracy: 0.3601 - val_loss: -4910.6755 - val_accuracy: 0.3455\n",
      "Epoch 95/100\n",
      "7479/7479 [==============================] - 2s 235us/step - loss: -7106.9941 - accuracy: 0.3586 - val_loss: -5052.2473 - val_accuracy: 0.3449\n",
      "Epoch 96/100\n",
      "7479/7479 [==============================] - 2s 242us/step - loss: -7232.0346 - accuracy: 0.3579 - val_loss: -5216.8004 - val_accuracy: 0.3412\n",
      "Epoch 97/100\n",
      "7479/7479 [==============================] - 2s 243us/step - loss: -7330.4938 - accuracy: 0.3562 - val_loss: -5226.6936 - val_accuracy: 0.3524\n",
      "Epoch 98/100\n",
      "7479/7479 [==============================] - 2s 270us/step - loss: -7464.7753 - accuracy: 0.3582 - val_loss: -5415.0528 - val_accuracy: 0.3476\n",
      "Epoch 99/100\n",
      "7479/7479 [==============================] - 2s 265us/step - loss: -7646.3450 - accuracy: 0.3574 - val_loss: -5572.3182 - val_accuracy: 0.3535\n",
      "Epoch 100/100\n",
      "7479/7479 [==============================] - 2s 268us/step - loss: -7906.3741 - accuracy: 0.3617 - val_loss: -5616.6228 - val_accuracy: 0.3455\n",
      "{'val_loss': [-0.04744589536196806, -0.3655650589395972, -2.211787578973541, -4.823167750542177, -8.889016063375907, -14.55452194723754, -25.772690915806407, -37.61325947868633, -52.23756481874435, -65.90624611996074, -82.895927102808, -100.92192216225486, -117.7109124137756, -139.53575363771162, -159.06696056427165, -177.73077042727547, -207.19916489545037, -234.08760398211965, -263.42576461169807, -291.536810650545, -320.2603607381729, -346.36702133754994, -363.73604395045317, -396.35786849547196, -423.72092915091287, -486.98964642458424, -504.8896107432995, -555.8089522805443, -583.6857918673021, -623.9975099410602, -674.2352733510063, -697.6884870478176, -766.0736061952969, -793.1810489491345, -836.6102606829475, -901.1261342502532, -951.5450716069676, -985.8463279295732, -1023.606773294867, -1054.5001422914272, -1101.9877634303455, -1158.4017435981627, -1221.478543694644, -1297.4250879134725, -1344.7937707748006, -1416.1701657708315, -1440.2522530275232, -1531.9560206408169, -1545.8614720329244, -1580.9543210707884, -1675.3811099567515, -1789.9797810437208, -1853.9277549172468, -1884.2189623710306, -1956.407900805142, -1989.8627152468432, -2033.2581314301108, -2104.190717748142, -2187.2106704711914, -2278.0760381362015, -2291.3499589195862, -2392.64274448252, -2423.0352790546926, -2528.2153785011983, -2608.7738780057366, -2682.5479733880193, -2738.4486040329552, -2793.0378066116477, -2955.202766908044, -2981.244607078838, -3037.5853551798327, -3107.7245538476955, -3287.781163595577, -3323.1021312978814, -3469.1100638486487, -3555.5551543720267, -3641.5720662815684, -3659.69599981869, -3818.9049503918, -3601.4672773177613, -3895.4965519624598, -3947.9121860361356, -4031.6334716470483, -4194.263855959643, -4203.310204572219, -4282.4042227025975, -4364.422611420167, -4418.159527375737, -4422.157372540969, -4535.385700491023, -4633.0371158620255, -4706.694948533002, -4775.147953135444, -4910.6755365381905, -5052.247336469232, -5216.80042332124, -5226.693641091413, -5415.05276146547, -5572.318166477795, -5616.622839371788], 'val_accuracy': [0.33529412746429443, 0.33529412746429443, 0.33529412746429443, 0.33529412746429443, 0.33529412746429443, 0.33529412746429443, 0.33529412746429443, 0.33582887053489685, 0.33582887053489685, 0.33529412746429443, 0.3379679024219513, 0.3368983864784241, 0.3449198007583618, 0.33582887053489685, 0.3368983864784241, 0.33636364340782166, 0.34171122312545776, 0.34117648005485535, 0.3401069641113281, 0.3390374183654785, 0.3385026752948761, 0.344385027885437, 0.34117648005485535, 0.33636364340782166, 0.3433155119419098, 0.3390374183654785, 0.3379679024219513, 0.3374331593513489, 0.34598931670188904, 0.3368983864784241, 0.3385026752948761, 0.3390374183654785, 0.3379679024219513, 0.3401069641113281, 0.3385026752948761, 0.34224599599838257, 0.3379679024219513, 0.33636364340782166, 0.3385026752948761, 0.344385027885437, 0.3395721912384033, 0.34117648005485535, 0.3368983864784241, 0.3374331593513489, 0.34224599599838257, 0.3395721912384033, 0.3390374183654785, 0.344385027885437, 0.34171122312545776, 0.3379679024219513, 0.34064170718193054, 0.34705883264541626, 0.3481283485889435, 0.3395721912384033, 0.34705883264541626, 0.34652405977249146, 0.342780739068985, 0.35080215334892273, 0.3433155119419098, 0.3486630916595459, 0.34652405977249146, 0.34598931670188904, 0.3486630916595459, 0.3475935757160187, 0.34705883264541626, 0.3438502550125122, 0.34545454382896423, 0.34598931670188904, 0.34117648005485535, 0.3486630916595459, 0.35080215334892273, 0.3438502550125122, 0.3486630916595459, 0.34171122312545776, 0.35240641236305237, 0.35668450593948364, 0.34117648005485535, 0.34598931670188904, 0.3475935757160187, 0.34224599599838257, 0.34545454382896423, 0.34545454382896423, 0.34705883264541626, 0.3481283485889435, 0.3433155119419098, 0.35133689641952515, 0.35187166929244995, 0.3475935757160187, 0.34598931670188904, 0.3497326076030731, 0.3491978645324707, 0.34705883264541626, 0.3449198007583618, 0.34545454382896423, 0.3449198007583618, 0.34117648005485535, 0.35240641236305237, 0.3475935757160187, 0.3534759283065796, 0.34545454382896423], 'loss': [0.154111548859503, -0.023125180556011867, -0.8813531565811046, -2.739305570600588, -5.571299482184533, -10.074030624902061, -17.369495833174305, -27.832953712394776, -40.59383182287184, -54.84447441288838, -71.91922204534961, -90.62170686202502, -110.73734335093467, -134.24992870854126, -154.76263184291759, -181.776069420706, -207.63060792153303, -240.81513778636412, -272.4127534827274, -288.2645385375968, -341.3887355419177, -377.96375926762823, -418.13734814514686, -442.06215288193886, -484.9720134130055, -526.5355392248016, -577.9539518526553, -626.2296983993282, -671.7711476485254, -721.8229814615937, -776.7754677723302, -828.3423804201406, -881.4913380425601, -942.5074353047211, -1001.5449345052234, -1063.7878295759704, -1119.3147499226268, -1179.502287559545, -1240.9236918874149, -1282.1249626705808, -1366.2766210206898, -1432.0267909948066, -1483.8318029644176, -1551.0081319909696, -1622.9696683235898, -1702.0552680185413, -1781.9374486303757, -1844.5437899833216, -1945.9633624870871, -2011.1670918072557, -2080.535153495387, -1986.1010959335533, -2099.246740184855, -2244.4867508336492, -2305.8715035236683, -2460.3388607488278, -2505.450568870262, -2591.3612819972054, -2730.507205029225, -2817.4470367962576, -2938.940257032346, -3029.885023124971, -3144.6312380414674, -3264.8073294479304, -3369.8703423643005, -3478.802584314302, -3546.529296276196, -3590.286509714689, -3675.455406855096, -3858.9490235016647, -3943.3443013371466, -4097.087992825376, -4247.718063020917, -4293.138265292232, -4402.587037781309, -4545.449806307229, -4689.833457268405, -4792.9600120296545, -4890.009976155076, -5031.238169184916, -5019.6428035119425, -5224.845881544088, -5276.364307802427, -5508.917754869631, -5633.18662422375, -5264.607074616666, -5493.517539517193, -5765.651368759488, -6057.695341063049, -6121.32708344075, -6291.634160749382, -6420.0370870605, -6490.784726500559, -6883.16758312843, -7106.994069987559, -7232.034618061197, -7330.4938200496545, -7464.775259853159, -7646.345023588248, -7906.374060740843], 'accuracy': [0.3394839, 0.3394839, 0.3394839, 0.3394839, 0.3394839, 0.3394839, 0.3394839, 0.3394839, 0.3396176, 0.3401524, 0.34095466, 0.34215805, 0.34215805, 0.34483218, 0.3432277, 0.34416366, 0.34483218, 0.34951198, 0.35205242, 0.34777376, 0.34777376, 0.34643668, 0.3465704, 0.346303, 0.34764007, 0.3535232, 0.35004678, 0.35138386, 0.3481749, 0.3501805, 0.3481749, 0.34964567, 0.3483086, 0.34616926, 0.346303, 0.34683782, 0.348576, 0.34764007, 0.3481749, 0.34764007, 0.3483086, 0.34937826, 0.34777376, 0.35004678, 0.34723893, 0.34844232, 0.34550074, 0.34964567, 0.34737265, 0.35004678, 0.34897715, 0.34750634, 0.35071534, 0.35272095, 0.35365692, 0.35432544, 0.35820296, 0.3531221, 0.35272095, 0.35111645, 0.35111645, 0.35325578, 0.35044792, 0.35298836, 0.3519187, 0.3533895, 0.35365692, 0.3535232, 0.35285467, 0.35285467, 0.3519187, 0.35205242, 0.3519187, 0.3552614, 0.35325578, 0.351785, 0.35579622, 0.35205242, 0.35579622, 0.3555288, 0.35633105, 0.35298836, 0.35459286, 0.35445917, 0.36020857, 0.3552614, 0.35967374, 0.36167938, 0.3619468, 0.36274904, 0.36341757, 0.36301646, 0.35847038, 0.36007488, 0.3586041, 0.35793555, 0.35619736, 0.35820296, 0.35740072, 0.36167938]}\n"
     ]
    }
   ],
   "source": [
    "# Here I am buiding a Sequential Bidirectional LSTM ANN  with an input embedding layer of (2000, 128)\n",
    "# and running over 100 epocs for 50 batch size\n",
    "# parallely measuring the validation score for 20% of data.\n",
    "\n",
    "model = Sequential()\n",
    "model.add(Embedding(2000, 128))\n",
    "model.add(Bidirectional(LSTM(32, return_sequences = True)))\n",
    "model.add(GlobalMaxPool1D())\n",
    "model.add(Dense(20, activation=\"relu\"))\n",
    "# model.add(Dropout(0.05))\n",
    "model.add(Dense(1, activation=\"sigmoid\"))\n",
    "model.compile(loss='binary_crossentropy', optimizer='adam', metrics=['accuracy'])\n",
    "\n",
    "model_hist = model.fit(df_X, df_y, batch_size=50, epochs=100, validation_split=0.2)\n",
    "print(model_hist.history)"
   ]
  },
  {
   "cell_type": "code",
   "execution_count": 50,
   "metadata": {},
   "outputs": [
    {
     "data": {
      "image/png": "[encoded data removed]",
      "text/plain": [
       "<Figure size 1296x432 with 1 Axes>"
      ]
     },
     "metadata": {
      "needs_background": "light"
     },
     "output_type": "display_data"
    },
    {
     "data": {
      "image/png": "[encoded data removed]",
      "text/plain": [
       "<Figure size 1296x432 with 1 Axes>"
      ]
     },
     "metadata": {
      "needs_background": "light"
     },
     "output_type": "display_data"
    }
   ],
   "source": [
    "# here I am plotting the curves for training and testing performance based on model's history.\n",
    "# evaluating the accuracy for train and val, and loss for train and val data.\n",
    "show_learning_curve(model_hist, 'bidirectional_LSTM_model_performance')"
   ]
  },
  {
   "cell_type": "markdown",
   "metadata": {},
   "source": [
    "#### NOTE: Neural networks are not able to perform well on the data as the quantuty of data is very less and for a ANN to train, and I found XGBoost and MLPClassifier to perform pretty well as compared to other models, so I will be using MLPClassifier\n"
   ]
  },
  {
   "cell_type": "markdown",
   "metadata": {},
   "source": [
    "## Predicting gold_label for test data"
   ]
  },
  {
   "cell_type": "code",
   "execution_count": 51,
   "metadata": {},
   "outputs": [
    {
     "name": "stdout",
     "output_type": "stream",
     "text": [
      "[2 0 2 2 0 2 0 0 0 2 1 2 1 0 0 1 1 1 0 2 0 0 0 1 0 0 2 2 1 0 2 0 2 1 0 1 0\n",
      " 1 2 0 0 2 0 2 0 0 0 1 1 0 2 2 0 2 2 0 0 2 2 0 1 0 0 0 2 0 2 1 0 0 0 0 0 0\n",
      " 0 0 0 0 0 2 1 0 1 1 1 0 2 1 2 0 2 0 1 0 1 2 2 2 0 0 1 2 1 2 2 1 2 0 2 1 0\n",
      " 1 0 0 2 1 0 0 2 1 0 1 2 0 2 0 0 0 1 2 2 0 2 2 1 0 1 0 0 2 0 0 0 0 2 2 1 2\n",
      " 1 1 2 0 2 0 0 2 2 2 1 1 2 0 0 2 1 0 0 0 1 0 1 1 2 1 0 0 2 0 1 1 1 0 2 1 1\n",
      " 1 1 2 1 0 2 1 0 0 2 2 2 0 0 0 2 2 1 0 1 1 2 2 0 1 2 1 0 2 0 1 0 1 0 2 2 1\n",
      " 0 0 1 2 0 1 2 2 1 2 2 0 1 0 1 0 2 0 1 0 1 1 1 2 0 0 1 0 1 2 1 2 2 2 2 0 0\n",
      " 1 2 2 1 2 1 1 1 0 2 2 1 0 1 1 0 0 0 0 1 2 1 2 0 0 0 2 1 1 2 1 1 0 0 2 0 2\n",
      " 1 2 1 0 0 2 0 2 2 2 1 1 0 1 2 2 2 0 1 2 2 0 0 0 0 0 2 1 2 2 2 0 0 1 0 2 0\n",
      " 2 0 2 2 0 1 1 2 0 0 2 2 1 2 2 1 0 0 2 1 1 1 0 0 2 0 0 0 0 1 1 2 0 0 2 0 2\n",
      " 2 1 1 1 0 1 2 2 1 1 2 2 2 2 1 0 1 1 1 0 1 2 0 1 1 1 1 2 0 0 2 1 2 1 1 2 1\n",
      " 2 2 2 1 2 2 0 0 1 1 1 2 0 1 2 0 0 1 0 0 1 1 1 2 1 0 0 0 0 1 1 0 2 0 0 0 1\n",
      " 2 0 0 0 0 0 0 1 1 2 1 0 2 1 1 2 1 0 0 0 2 0 1 0 0 0 0 2 2 0 0 1 0 0 0 2 0\n",
      " 0 2 0 2 2 2 1 0 0 0 0 2]\n"
     ]
    }
   ],
   "source": [
    "# Here I am predicting the output for the test dataset using the Multilayer perceptron model\n",
    "test_prediction = mpl_model.predict(df_test_scaled)\n",
    "print(test_prediction)"
   ]
  },
  {
   "cell_type": "code",
   "execution_count": 52,
   "metadata": {},
   "outputs": [
    {
     "data": {
      "text/plain": [
       "array(['neutral', 'contradiction', 'neutral', 'neutral', 'contradiction',\n",
       "       'neutral', 'contradiction', 'contradiction', 'contradiction',\n",
       "       'neutral', 'entailment', 'neutral', 'entailment', 'contradiction',\n",
       "       'contradiction', 'entailment', 'entailment', 'entailment',\n",
       "       'contradiction', 'neutral', 'contradiction', 'contradiction',\n",
       "       'contradiction', 'entailment', 'contradiction', 'contradiction',\n",
       "       'neutral', 'neutral', 'entailment', 'contradiction', 'neutral',\n",
       "       'contradiction', 'neutral', 'entailment', 'contradiction',\n",
       "       'entailment', 'contradiction', 'entailment', 'neutral',\n",
       "       'contradiction', 'contradiction', 'neutral', 'contradiction',\n",
       "       'neutral', 'contradiction', 'contradiction', 'contradiction',\n",
       "       'entailment', 'entailment', 'contradiction', 'neutral', 'neutral',\n",
       "       'contradiction', 'neutral', 'neutral', 'contradiction',\n",
       "       'contradiction', 'neutral', 'neutral', 'contradiction',\n",
       "       'entailment', 'contradiction', 'contradiction', 'contradiction',\n",
       "       'neutral', 'contradiction', 'neutral', 'entailment',\n",
       "       'contradiction', 'contradiction', 'contradiction', 'contradiction',\n",
       "       'contradiction', 'contradiction', 'contradiction', 'contradiction',\n",
       "       'contradiction', 'contradiction', 'contradiction', 'neutral',\n",
       "       'entailment', 'contradiction', 'entailment', 'entailment',\n",
       "       'entailment', 'contradiction', 'neutral', 'entailment', 'neutral',\n",
       "       'contradiction', 'neutral', 'contradiction', 'entailment',\n",
       "       'contradiction', 'entailment', 'neutral', 'neutral', 'neutral',\n",
       "       'contradiction', 'contradiction', 'entailment', 'neutral',\n",
       "       'entailment', 'neutral', 'neutral', 'entailment', 'neutral',\n",
       "       'contradiction', 'neutral', 'entailment', 'contradiction',\n",
       "       'entailment', 'contradiction', 'contradiction', 'neutral',\n",
       "       'entailment', 'contradiction', 'contradiction', 'neutral',\n",
       "       'entailment', 'contradiction', 'entailment', 'neutral',\n",
       "       'contradiction', 'neutral', 'contradiction', 'contradiction',\n",
       "       'contradiction', 'entailment', 'neutral', 'neutral',\n",
       "       'contradiction', 'neutral', 'neutral', 'entailment',\n",
       "       'contradiction', 'entailment', 'contradiction', 'contradiction',\n",
       "       'neutral', 'contradiction', 'contradiction', 'contradiction',\n",
       "       'contradiction', 'neutral', 'neutral', 'entailment', 'neutral',\n",
       "       'entailment', 'entailment', 'neutral', 'contradiction', 'neutral',\n",
       "       'contradiction', 'contradiction', 'neutral', 'neutral', 'neutral',\n",
       "       'entailment', 'entailment', 'neutral', 'contradiction',\n",
       "       'contradiction', 'neutral', 'entailment', 'contradiction',\n",
       "       'contradiction', 'contradiction', 'entailment', 'contradiction',\n",
       "       'entailment', 'entailment', 'neutral', 'entailment',\n",
       "       'contradiction', 'contradiction', 'neutral', 'contradiction',\n",
       "       'entailment', 'entailment', 'entailment', 'contradiction',\n",
       "       'neutral', 'entailment', 'entailment', 'entailment', 'entailment',\n",
       "       'neutral', 'entailment', 'contradiction', 'neutral', 'entailment',\n",
       "       'contradiction', 'contradiction', 'neutral', 'neutral', 'neutral',\n",
       "       'contradiction', 'contradiction', 'contradiction', 'neutral',\n",
       "       'neutral', 'entailment', 'contradiction', 'entailment',\n",
       "       'entailment', 'neutral', 'neutral', 'contradiction', 'entailment',\n",
       "       'neutral', 'entailment', 'contradiction', 'neutral',\n",
       "       'contradiction', 'entailment', 'contradiction', 'entailment',\n",
       "       'contradiction', 'neutral', 'neutral', 'entailment',\n",
       "       'contradiction', 'contradiction', 'entailment', 'neutral',\n",
       "       'contradiction', 'entailment', 'neutral', 'neutral', 'entailment',\n",
       "       'neutral', 'neutral', 'contradiction', 'entailment',\n",
       "       'contradiction', 'entailment', 'contradiction', 'neutral',\n",
       "       'contradiction', 'entailment', 'contradiction', 'entailment',\n",
       "       'entailment', 'entailment', 'neutral', 'contradiction',\n",
       "       'contradiction', 'entailment', 'contradiction', 'entailment',\n",
       "       'neutral', 'entailment', 'neutral', 'neutral', 'neutral',\n",
       "       'neutral', 'contradiction', 'contradiction', 'entailment',\n",
       "       'neutral', 'neutral', 'entailment', 'neutral', 'entailment',\n",
       "       'entailment', 'entailment', 'contradiction', 'neutral', 'neutral',\n",
       "       'entailment', 'contradiction', 'entailment', 'entailment',\n",
       "       'contradiction', 'contradiction', 'contradiction', 'contradiction',\n",
       "       'entailment', 'neutral', 'entailment', 'neutral', 'contradiction',\n",
       "       'contradiction', 'contradiction', 'neutral', 'entailment',\n",
       "       'entailment', 'neutral', 'entailment', 'entailment',\n",
       "       'contradiction', 'contradiction', 'neutral', 'contradiction',\n",
       "       'neutral', 'entailment', 'neutral', 'entailment', 'contradiction',\n",
       "       'contradiction', 'neutral', 'contradiction', 'neutral', 'neutral',\n",
       "       'neutral', 'entailment', 'entailment', 'contradiction',\n",
       "       'entailment', 'neutral', 'neutral', 'neutral', 'contradiction',\n",
       "       'entailment', 'neutral', 'neutral', 'contradiction',\n",
       "       'contradiction', 'contradiction', 'contradiction', 'contradiction',\n",
       "       'neutral', 'entailment', 'neutral', 'neutral', 'neutral',\n",
       "       'contradiction', 'contradiction', 'entailment', 'contradiction',\n",
       "       'neutral', 'contradiction', 'neutral', 'contradiction', 'neutral',\n",
       "       'neutral', 'contradiction', 'entailment', 'entailment', 'neutral',\n",
       "       'contradiction', 'contradiction', 'neutral', 'neutral',\n",
       "       'entailment', 'neutral', 'neutral', 'entailment', 'contradiction',\n",
       "       'contradiction', 'neutral', 'entailment', 'entailment',\n",
       "       'entailment', 'contradiction', 'contradiction', 'neutral',\n",
       "       'contradiction', 'contradiction', 'contradiction', 'contradiction',\n",
       "       'entailment', 'entailment', 'neutral', 'contradiction',\n",
       "       'contradiction', 'neutral', 'contradiction', 'neutral', 'neutral',\n",
       "       'entailment', 'entailment', 'entailment', 'contradiction',\n",
       "       'entailment', 'neutral', 'neutral', 'entailment', 'entailment',\n",
       "       'neutral', 'neutral', 'neutral', 'neutral', 'entailment',\n",
       "       'contradiction', 'entailment', 'entailment', 'entailment',\n",
       "       'contradiction', 'entailment', 'neutral', 'contradiction',\n",
       "       'entailment', 'entailment', 'entailment', 'entailment', 'neutral',\n",
       "       'contradiction', 'contradiction', 'neutral', 'entailment',\n",
       "       'neutral', 'entailment', 'entailment', 'neutral', 'entailment',\n",
       "       'neutral', 'neutral', 'neutral', 'entailment', 'neutral',\n",
       "       'neutral', 'contradiction', 'contradiction', 'entailment',\n",
       "       'entailment', 'entailment', 'neutral', 'contradiction',\n",
       "       'entailment', 'neutral', 'contradiction', 'contradiction',\n",
       "       'entailment', 'contradiction', 'contradiction', 'entailment',\n",
       "       'entailment', 'entailment', 'neutral', 'entailment',\n",
       "       'contradiction', 'contradiction', 'contradiction', 'contradiction',\n",
       "       'entailment', 'entailment', 'contradiction', 'neutral',\n",
       "       'contradiction', 'contradiction', 'contradiction', 'entailment',\n",
       "       'neutral', 'contradiction', 'contradiction', 'contradiction',\n",
       "       'contradiction', 'contradiction', 'contradiction', 'entailment',\n",
       "       'entailment', 'neutral', 'entailment', 'contradiction', 'neutral',\n",
       "       'entailment', 'entailment', 'neutral', 'entailment',\n",
       "       'contradiction', 'contradiction', 'contradiction', 'neutral',\n",
       "       'contradiction', 'entailment', 'contradiction', 'contradiction',\n",
       "       'contradiction', 'contradiction', 'neutral', 'neutral',\n",
       "       'contradiction', 'contradiction', 'entailment', 'contradiction',\n",
       "       'contradiction', 'contradiction', 'neutral', 'contradiction',\n",
       "       'contradiction', 'neutral', 'contradiction', 'neutral', 'neutral',\n",
       "       'neutral', 'entailment', 'contradiction', 'contradiction',\n",
       "       'contradiction', 'contradiction', 'neutral'], dtype=object)"
      ]
     },
     "execution_count": 52,
     "metadata": {},
     "output_type": "execute_result"
    }
   ],
   "source": [
    "inv_encoded_predictions = encoder.inverse_transform(test_prediction)\n",
    "inv_encoded_predictions"
   ]
  },
  {
   "cell_type": "markdown",
   "metadata": {},
   "source": [
    "## Building the prediction csv file"
   ]
  },
  {
   "cell_type": "code",
   "execution_count": 53,
   "metadata": {},
   "outputs": [],
   "source": [
    "# Here I am converting the predicted values to the final dataset which is to be submitted.\n",
    "output = pd.DataFrame( data={\"gold_label\":inv_encoded_predictions} )\n",
    "output.to_csv( \"predicted.csv.csv\", index=False, quoting=3)"
   ]
  },
  {
   "cell_type": "markdown",
   "metadata": {},
   "source": [
    "<hr><hr>"
   ]
  },
  {
   "cell_type": "markdown",
   "metadata": {},
   "source": [
    "### Future Scope of this Project\n",
    "* Since the dataset was very small, training a Neural network was not a good idea so I choose to move ahead with ML algorithms. \n",
    "* So, working on a large dataset can improve the learning.\n",
    "* Advanced NLP techniques can be implemented to find the semantic relationship between both the sentences to get a better result.\n",
    "* Due to lack of time I decided to follow this approach but with various iterations during the development, model's performance can increase significantly.\n",
    "* `Data Cleaning` was done signifantly well but can be done using other approaches.\n",
    "* `Feature engineering` is one important part which require good knowledge of NLP which can be worked upon in future.\n",
    "* Dimensionality reduction based on experimentation on using `PCA` or `t-SNE` can be perfromed to optimize model performance and remove useless features.\n",
    "* `Hypothesis testing` can be done in making useful decissions about the feature, whether they contribute in predicting right `gold_label` or not.\n",
    "* `Word ebedding` can be implemented to get a better semantic relationship between words.\n",
    "* Working with more better Neural Networks will be a better choice for this kind of problem, although `bidirectional LSTM` should perform well with large dataset.\n",
    "* Finally once we get a good model performance over the data, we can implement hyperparameter tuning to tune those small knobs in the `bidirectional LSTM` model to extract the best performance out of it.\n",
    "* for any suggestions contact me at [paras.varshney97@gmail.com](paras.varshney97@gmail.com)"
   ]
  },
  {
   "cell_type": "markdown",
   "metadata": {},
   "source": [
    "### Assignment By:\n",
    "#### Paras Varshney\n",
    "* https://www.linkedin.com/in/pv009\n",
    "* https://github.com/paras009\n",
    "* https://towardsdatascience.com/@pv009"
   ]
  },
  {
   "cell_type": "markdown",
   "metadata": {},
   "source": [
    "#### end "
   ]
  }
 ],
 "metadata": {
  "kernelspec": {
   "display_name": "Python 3",
   "language": "python",
   "name": "python3"
  },
  "language_info": {
   "codemirror_mode": {
    "name": "ipython",
    "version": 3
   },
   "file_extension": ".py",
   "mimetype": "text/x-python",
   "name": "python",
   "nbconvert_exporter": "python",
   "pygments_lexer": "ipython3",
   "version": "3.7.3"
  }
 },
 "nbformat": 4,
 "nbformat_minor": 2
}
