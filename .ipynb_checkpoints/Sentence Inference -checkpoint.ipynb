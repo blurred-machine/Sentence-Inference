{
 "cells": [
  {
   "cell_type": "markdown",
   "metadata": {},
   "source": [
    "# Sentence-Inference"
   ]
  },
  {
   "cell_type": "markdown",
   "metadata": {},
   "source": [
    "### The problem is for every given pair of sentences ie. (sentence-1, sentence-2), determine if sentence-2 can be logically inferred given sentence-1."
   ]
  },
  {
   "cell_type": "markdown",
   "metadata": {},
   "source": [
    "## 1. Importing libraries and data"
   ]
  },
  {
   "cell_type": "markdown",
   "metadata": {},
   "source": [
    "### 1.1 Importing libraries"
   ]
  },
  {
   "cell_type": "code",
   "execution_count": 50,
   "metadata": {},
   "outputs": [],
   "source": [
    "import pandas as pd\n",
    "import numpy as np\n",
    "import matplotlib.pyplot as plt\n",
    "%matplotlib inline\n",
    "import seaborn as sns\n",
    "\n",
    "from bs4 import BeautifulSoup\n",
    "import re\n",
    "from tqdm import tqdm \n",
    "from sklearn.preprocessing import LabelEncoder\n",
    "\n",
    "from sklearn.feature_extraction import text\n",
    "import warnings\n",
    "warnings.filterwarnings(\"ignore\")\n",
    "from keras.preprocessing import sequence\n",
    "\n",
    "from sklearn.feature_extraction.text import TfidfTransformer\n",
    "from sklearn.feature_extraction.text import TfidfVectorizer\n",
    "\n",
    "from sklearn.feature_extraction.text import CountVectorizer\n",
    "from sklearn import metrics\n",
    "from sklearn.metrics import roc_curve, auc\n",
    "from nltk.stem.porter import PorterStemmer\n",
    "\n",
    "from difflib import SequenceMatcher\n",
    "\n",
    "import re\n",
    "\n",
    "from nltk.corpus import stopwords\n",
    "from nltk import word_tokenize, ngrams\n",
    "eng_stopwords = set(stopwords.words('english'))\n",
    "\n",
    "from gensim.models import Word2Vec\n",
    "from gensim.models import KeyedVectors\n",
    "import pickle\n",
    "\n",
    "from sklearn.model_selection import KFold, cross_val_score, train_test_split\n",
    "from sklearn.metrics import confusion_matrix,classification_report\n",
    "from sklearn.metrics import accuracy_score\n",
    "\n",
    "from sklearn.cluster import KMeans\n",
    "from sklearn.neighbors import KNeighborsClassifier\n",
    "from sklearn.svm import SVC\n",
    "from sklearn.multioutput import MultiOutputClassifier\n",
    "from sklearn.ensemble import GradientBoostingClassifier\n",
    "from sklearn.tree import DecisionTreeClassifier\n",
    "from sklearn.naive_bayes import GaussianNB\n",
    "from sklearn.linear_model import LogisticRegression\n",
    "from sklearn.ensemble import RandomForestClassifier\n",
    "import xgboost as xgb\n",
    "\n",
    "import tensorflow as tf\n",
    "from tensorflow.keras.models import Sequential\n",
    "from tensorflow.keras.layers import Dense, Dropout\n",
    "from tensorflow.keras.wrappers.scikit_learn import KerasClassifier\n",
    "\n",
    "\n",
    "from keras.preprocessing.text import Tokenizer\n",
    "from keras.preprocessing.sequence import pad_sequences\n",
    "from keras.layers import Dense , Input , LSTM , Embedding, Dropout , Activation, GRU, Flatten\n",
    "from keras.layers import Bidirectional, GlobalMaxPool1D\n",
    "from keras.models import Model, Sequential\n",
    "from keras.layers import Convolution1D\n",
    "from keras import initializers, regularizers, constraints, optimizers, layers"
   ]
  },
  {
   "cell_type": "markdown",
   "metadata": {},
   "source": [
    "### 1.2 Importing Dataset"
   ]
  },
  {
   "cell_type": "code",
   "execution_count": 2,
   "metadata": {},
   "outputs": [
    {
     "data": {
      "text/html": [
       "<div>\n",
       "<style scoped>\n",
       "    .dataframe tbody tr th:only-of-type {\n",
       "        vertical-align: middle;\n",
       "    }\n",
       "\n",
       "    .dataframe tbody tr th {\n",
       "        vertical-align: top;\n",
       "    }\n",
       "\n",
       "    .dataframe thead th {\n",
       "        text-align: right;\n",
       "    }\n",
       "</style>\n",
       "<table border=\"1\" class=\"dataframe\">\n",
       "  <thead>\n",
       "    <tr style=\"text-align: right;\">\n",
       "      <th></th>\n",
       "      <th>gold_label</th>\n",
       "      <th>sentence1</th>\n",
       "      <th>sentence2</th>\n",
       "    </tr>\n",
       "  </thead>\n",
       "  <tbody>\n",
       "    <tr>\n",
       "      <th>0</th>\n",
       "      <td>contradiction</td>\n",
       "      <td>A group of men with cowboy hats are watching a...</td>\n",
       "      <td>A group of women are watching a horse race</td>\n",
       "    </tr>\n",
       "    <tr>\n",
       "      <th>1</th>\n",
       "      <td>entailment</td>\n",
       "      <td>A kid with his head shaved sitting and holding...</td>\n",
       "      <td>Child sits with a cigarette.</td>\n",
       "    </tr>\n",
       "    <tr>\n",
       "      <th>2</th>\n",
       "      <td>neutral</td>\n",
       "      <td>A woman riding a bicycle past a car and a grou...</td>\n",
       "      <td>A woman riding a bicycle near a group of her f...</td>\n",
       "    </tr>\n",
       "    <tr>\n",
       "      <th>3</th>\n",
       "      <td>neutral</td>\n",
       "      <td>A woman looking through what appears to be a t...</td>\n",
       "      <td>An female astronamer looking toward the stars ...</td>\n",
       "    </tr>\n",
       "    <tr>\n",
       "      <th>4</th>\n",
       "      <td>entailment</td>\n",
       "      <td>A large group of people stand outside on a roa...</td>\n",
       "      <td>One group of people are watching what another ...</td>\n",
       "    </tr>\n",
       "    <tr>\n",
       "      <th>5</th>\n",
       "      <td>contradiction</td>\n",
       "      <td>A small dark-haired boy climbing in a large tree.</td>\n",
       "      <td>A small dark-haired boy is climbing over a car...</td>\n",
       "    </tr>\n",
       "    <tr>\n",
       "      <th>6</th>\n",
       "      <td>neutral</td>\n",
       "      <td>A man sits beside parked cars on a city street.</td>\n",
       "      <td>A man is sitting on a bench.</td>\n",
       "    </tr>\n",
       "    <tr>\n",
       "      <th>7</th>\n",
       "      <td>entailment</td>\n",
       "      <td>A dog looks content sitting on a bed after rip...</td>\n",
       "      <td>a dog sitting on a bed after ripping up paper.</td>\n",
       "    </tr>\n",
       "    <tr>\n",
       "      <th>8</th>\n",
       "      <td>contradiction</td>\n",
       "      <td>Young children and parents splashing around a ...</td>\n",
       "      <td>There are families eating lunch</td>\n",
       "    </tr>\n",
       "    <tr>\n",
       "      <th>9</th>\n",
       "      <td>entailment</td>\n",
       "      <td>A football coach guiding one of his players on...</td>\n",
       "      <td>The coach knows how to play football.</td>\n",
       "    </tr>\n",
       "  </tbody>\n",
       "</table>\n",
       "</div>"
      ],
      "text/plain": [
       "      gold_label                                          sentence1  \\\n",
       "0  contradiction  A group of men with cowboy hats are watching a...   \n",
       "1     entailment  A kid with his head shaved sitting and holding...   \n",
       "2        neutral  A woman riding a bicycle past a car and a grou...   \n",
       "3        neutral  A woman looking through what appears to be a t...   \n",
       "4     entailment  A large group of people stand outside on a roa...   \n",
       "5  contradiction  A small dark-haired boy climbing in a large tree.   \n",
       "6        neutral    A man sits beside parked cars on a city street.   \n",
       "7     entailment  A dog looks content sitting on a bed after rip...   \n",
       "8  contradiction  Young children and parents splashing around a ...   \n",
       "9     entailment  A football coach guiding one of his players on...   \n",
       "\n",
       "                                           sentence2  \n",
       "0         A group of women are watching a horse race  \n",
       "1                       Child sits with a cigarette.  \n",
       "2  A woman riding a bicycle near a group of her f...  \n",
       "3  An female astronamer looking toward the stars ...  \n",
       "4  One group of people are watching what another ...  \n",
       "5  A small dark-haired boy is climbing over a car...  \n",
       "6                       A man is sitting on a bench.  \n",
       "7     a dog sitting on a bed after ripping up paper.  \n",
       "8                    There are families eating lunch  \n",
       "9              The coach knows how to play football.  "
      ]
     },
     "execution_count": 2,
     "metadata": {},
     "output_type": "execute_result"
    }
   ],
   "source": [
    "# reading training file with the data\n",
    "df_train = pd.read_csv(\"data_set/train.csv\")\n",
    "df_train.head(10)"
   ]
  },
  {
   "cell_type": "code",
   "execution_count": 3,
   "metadata": {},
   "outputs": [
    {
     "data": {
      "text/html": [
       "<div>\n",
       "<style scoped>\n",
       "    .dataframe tbody tr th:only-of-type {\n",
       "        vertical-align: middle;\n",
       "    }\n",
       "\n",
       "    .dataframe tbody tr th {\n",
       "        vertical-align: top;\n",
       "    }\n",
       "\n",
       "    .dataframe thead th {\n",
       "        text-align: right;\n",
       "    }\n",
       "</style>\n",
       "<table border=\"1\" class=\"dataframe\">\n",
       "  <thead>\n",
       "    <tr style=\"text-align: right;\">\n",
       "      <th></th>\n",
       "      <th>sentence1</th>\n",
       "      <th>sentence2</th>\n",
       "    </tr>\n",
       "  </thead>\n",
       "  <tbody>\n",
       "    <tr>\n",
       "      <th>0</th>\n",
       "      <td>Number 13 kicks a soccer ball towards the goal...</td>\n",
       "      <td>A player fighting in a soccer game.</td>\n",
       "    </tr>\n",
       "    <tr>\n",
       "      <th>1</th>\n",
       "      <td>A woman walks next to a subway exit.</td>\n",
       "      <td>A woman is on here way home.</td>\n",
       "    </tr>\n",
       "    <tr>\n",
       "      <th>2</th>\n",
       "      <td>A man walks down the alley talking on his cell...</td>\n",
       "      <td>A man is walking down a wooded path and talkin...</td>\n",
       "    </tr>\n",
       "    <tr>\n",
       "      <th>3</th>\n",
       "      <td>Indian women playing musical chairs with white...</td>\n",
       "      <td>indain woman playing cricket with white woman</td>\n",
       "    </tr>\n",
       "    <tr>\n",
       "      <th>4</th>\n",
       "      <td>An older perhaps Asian man who is wearing a sl...</td>\n",
       "      <td>A tall human wearing</td>\n",
       "    </tr>\n",
       "  </tbody>\n",
       "</table>\n",
       "</div>"
      ],
      "text/plain": [
       "                                           sentence1  \\\n",
       "0  Number 13 kicks a soccer ball towards the goal...   \n",
       "1               A woman walks next to a subway exit.   \n",
       "2  A man walks down the alley talking on his cell...   \n",
       "3  Indian women playing musical chairs with white...   \n",
       "4  An older perhaps Asian man who is wearing a sl...   \n",
       "\n",
       "                                           sentence2  \n",
       "0                A player fighting in a soccer game.  \n",
       "1                       A woman is on here way home.  \n",
       "2  A man is walking down a wooded path and talkin...  \n",
       "3      indain woman playing cricket with white woman  \n",
       "4                               A tall human wearing  "
      ]
     },
     "execution_count": 3,
     "metadata": {},
     "output_type": "execute_result"
    }
   ],
   "source": [
    "df_test = pd.read_csv(\"data_set/test.csv\")\n",
    "df_test.head()"
   ]
  },
  {
   "cell_type": "code",
   "execution_count": 4,
   "metadata": {},
   "outputs": [
    {
     "name": "stdout",
     "output_type": "stream",
     "text": [
      "<class 'pandas.core.frame.DataFrame'>\n",
      "RangeIndex: 9349 entries, 0 to 9348\n",
      "Data columns (total 3 columns):\n",
      "gold_label    9349 non-null object\n",
      "sentence1     9349 non-null object\n",
      "sentence2     9349 non-null object\n",
      "dtypes: object(3)\n",
      "memory usage: 219.2+ KB\n"
     ]
    }
   ],
   "source": [
    "df_train.info()"
   ]
  },
  {
   "cell_type": "code",
   "execution_count": 5,
   "metadata": {},
   "outputs": [
    {
     "data": {
      "text/plain": [
       "(9349, 3)"
      ]
     },
     "execution_count": 5,
     "metadata": {},
     "output_type": "execute_result"
    }
   ],
   "source": [
    "df_train.shape"
   ]
  },
  {
   "cell_type": "code",
   "execution_count": 6,
   "metadata": {},
   "outputs": [
    {
     "data": {
      "text/plain": [
       "gold_label    False\n",
       "sentence1     False\n",
       "sentence2     False\n",
       "dtype: bool"
      ]
     },
     "execution_count": 6,
     "metadata": {},
     "output_type": "execute_result"
    }
   ],
   "source": [
    "# checking if there any missing value in the dataset\n",
    "df_train.isna().any()"
   ]
  },
  {
   "cell_type": "code",
   "execution_count": 7,
   "metadata": {},
   "outputs": [
    {
     "data": {
      "text/plain": [
       "entailment       3166\n",
       "contradiction    3114\n",
       "neutral          3069\n",
       "Name: gold_label, dtype: int64"
      ]
     },
     "execution_count": 7,
     "metadata": {},
     "output_type": "execute_result"
    }
   ],
   "source": [
    "# checking the total number of classes for the target variable\n",
    "df_train.gold_label.value_counts()"
   ]
  },
  {
   "cell_type": "markdown",
   "metadata": {},
   "source": [
    "### NOTE: the data seems to be balanced with no missing values. <br> Now, I can proceed with data cleaning. "
   ]
  },
  {
   "cell_type": "markdown",
   "metadata": {},
   "source": [
    "## 2. Cleaning Data "
   ]
  },
  {
   "cell_type": "code",
   "execution_count": 8,
   "metadata": {},
   "outputs": [],
   "source": [
    "# I have used a custom list of stop words which do not have exceptional strings like 'no', 'nor', 'not'\n",
    "stopwords= set(['br', 'the', 'i', 'me', 'my', 'myself', 'we', 'our', 'ours', 'ourselves', 'you', \"you're\", \"you've\",\\\n",
    "            \"you'll\", \"you'd\", 'your', 'yours', 'yourself', 'yourselves', 'he', 'him', 'his', 'himself', \\\n",
    "            'she', \"she's\", 'her', 'hers', 'herself', 'it', \"it's\", 'its', 'itself', 'they', 'them', 'their',\\\n",
    "            'theirs', 'themselves', 'what', 'which', 'who', 'whom', 'this', 'that', \"that'll\", 'these', 'those', \\\n",
    "            'am', 'is', 'are', 'was', 'were', 'be', 'been', 'being', 'have', 'has', 'had', 'having', 'do', 'does', \\\n",
    "            'did', 'doing', 'a', 'an', 'the', 'and', 'but', 'if', 'or', 'because', 'as', 'until', 'while', 'of', \\\n",
    "            'at', 'by', 'for', 'with', 'about', 'against', 'between', 'into', 'through', 'during', 'before', 'after',\\\n",
    "            'above', 'below', 'to', 'from', 'up', 'down', 'in', 'out', 'on', 'off', 'over', 'under', 'again', 'further',\\\n",
    "            'then', 'once', 'here', 'there', 'when', 'where', 'why', 'how', 'all', 'any', 'both', 'each', 'few', 'more',\\\n",
    "            'most', 'other', 'some', 'such', 'only', 'own', 'same', 'so', 'than', 'too', 'very', \\\n",
    "            's', 't', 'can', 'will', 'just', 'don', \"don't\", 'should', \"should've\", 'now', 'd', 'll', 'm', 'o', 're', \\\n",
    "            've', 'y', 'ain', 'aren', \"aren't\", 'couldn', \"couldn't\", 'didn', \"didn't\", 'doesn', \"doesn't\", 'hadn',\\\n",
    "            \"hadn't\", 'hasn', \"hasn't\", 'haven', \"haven't\", 'isn', \"isn't\", 'ma', 'mightn', \"mightn't\", 'mustn',\\\n",
    "            \"mustn't\", 'needn', \"needn't\", 'shan', \"shan't\", 'shouldn', \"shouldn't\", 'wasn', \"wasn't\", 'weren', \"weren't\", \\\n",
    "            'won', \"won't\", 'wouldn', \"wouldn't\"])"
   ]
  },
  {
   "cell_type": "code",
   "execution_count": 9,
   "metadata": {},
   "outputs": [],
   "source": [
    "def decontracted(phrase):\n",
    "    '''\n",
    "     Here is this function I will replace the words which has short hand representation of two words added together, \n",
    "     like won't is represtative of would not, etc. to the full hand representations of them.\n",
    "    '''\n",
    "    \n",
    "    phrase = re.sub(r\"won't\", \"will not\", phrase)\n",
    "    phrase = re.sub(r\"can\\'t\", \"can not\", phrase)\n",
    "    phrase = re.sub(r\"n\\'t\", \" not\", phrase)\n",
    "    phrase = re.sub(r\"\\'re\", \" are\", phrase)\n",
    "    phrase = re.sub(r\"\\'s\", \" is\", phrase)\n",
    "    phrase = re.sub(r\"\\'d\", \" would\", phrase)\n",
    "    phrase = re.sub(r\"\\'ll\", \" will\", phrase)\n",
    "    phrase = re.sub(r\"\\'t\", \" not\", phrase)\n",
    "    phrase = re.sub(r\"\\'ve\", \" have\", phrase)\n",
    "    phrase = re.sub(r\"\\'m\", \" am\", phrase)\n",
    "    return phrase"
   ]
  },
  {
   "cell_type": "code",
   "execution_count": 10,
   "metadata": {},
   "outputs": [],
   "source": [
    "def clean_text(sentance):\n",
    "    '''\n",
    "    Here is this function I will clean the data by following the steps:\n",
    "    * remove the hyperlinks like http://...\n",
    "    * Remove the HTML and XML tags using BeautifulSoup library.\n",
    "    * removing white spaces and numerical values.\n",
    "    * keeping only ascii characters.\n",
    "    * and finally removing all stopwords from the text and making all characters to lowercase.\n",
    "    '''\n",
    "    \n",
    "    sentance = re.sub(r\"http\\S+\", \"\", sentance)\n",
    "    sentance = BeautifulSoup(sentance, 'lxml').get_text()\n",
    "    sentance = decontracted(sentance)\n",
    "    sentance = re.sub(\"\\S*\\d\\S*\", \"\", sentance).strip()\n",
    "    sentance = re.sub('[^A-Za-z]+', ' ', sentance)\n",
    "    sentance = ' '.join(e.lower() for e in sentance.split() if e.lower() not in stopwords)\n",
    "    return sentance.strip()"
   ]
  },
  {
   "cell_type": "code",
   "execution_count": 11,
   "metadata": {},
   "outputs": [
    {
     "data": {
      "text/html": [
       "<div>\n",
       "<style scoped>\n",
       "    .dataframe tbody tr th:only-of-type {\n",
       "        vertical-align: middle;\n",
       "    }\n",
       "\n",
       "    .dataframe tbody tr th {\n",
       "        vertical-align: top;\n",
       "    }\n",
       "\n",
       "    .dataframe thead th {\n",
       "        text-align: right;\n",
       "    }\n",
       "</style>\n",
       "<table border=\"1\" class=\"dataframe\">\n",
       "  <thead>\n",
       "    <tr style=\"text-align: right;\">\n",
       "      <th></th>\n",
       "      <th>gold_label</th>\n",
       "      <th>sentence1</th>\n",
       "      <th>sentence2</th>\n",
       "    </tr>\n",
       "  </thead>\n",
       "  <tbody>\n",
       "    <tr>\n",
       "      <th>0</th>\n",
       "      <td>contradiction</td>\n",
       "      <td>A group of men with cowboy hats are watching a...</td>\n",
       "      <td>A group of women are watching a horse race</td>\n",
       "    </tr>\n",
       "    <tr>\n",
       "      <th>1</th>\n",
       "      <td>entailment</td>\n",
       "      <td>A kid with his head shaved sitting and holding...</td>\n",
       "      <td>Child sits with a cigarette.</td>\n",
       "    </tr>\n",
       "    <tr>\n",
       "      <th>2</th>\n",
       "      <td>neutral</td>\n",
       "      <td>A woman riding a bicycle past a car and a grou...</td>\n",
       "      <td>A woman riding a bicycle near a group of her f...</td>\n",
       "    </tr>\n",
       "    <tr>\n",
       "      <th>3</th>\n",
       "      <td>neutral</td>\n",
       "      <td>A woman looking through what appears to be a t...</td>\n",
       "      <td>An female astronamer looking toward the stars ...</td>\n",
       "    </tr>\n",
       "    <tr>\n",
       "      <th>4</th>\n",
       "      <td>entailment</td>\n",
       "      <td>A large group of people stand outside on a roa...</td>\n",
       "      <td>One group of people are watching what another ...</td>\n",
       "    </tr>\n",
       "    <tr>\n",
       "      <th>5</th>\n",
       "      <td>contradiction</td>\n",
       "      <td>A small dark-haired boy climbing in a large tree.</td>\n",
       "      <td>A small dark-haired boy is climbing over a car...</td>\n",
       "    </tr>\n",
       "    <tr>\n",
       "      <th>6</th>\n",
       "      <td>neutral</td>\n",
       "      <td>A man sits beside parked cars on a city street.</td>\n",
       "      <td>A man is sitting on a bench.</td>\n",
       "    </tr>\n",
       "    <tr>\n",
       "      <th>7</th>\n",
       "      <td>entailment</td>\n",
       "      <td>A dog looks content sitting on a bed after rip...</td>\n",
       "      <td>a dog sitting on a bed after ripping up paper.</td>\n",
       "    </tr>\n",
       "    <tr>\n",
       "      <th>8</th>\n",
       "      <td>contradiction</td>\n",
       "      <td>Young children and parents splashing around a ...</td>\n",
       "      <td>There are families eating lunch</td>\n",
       "    </tr>\n",
       "    <tr>\n",
       "      <th>9</th>\n",
       "      <td>entailment</td>\n",
       "      <td>A football coach guiding one of his players on...</td>\n",
       "      <td>The coach knows how to play football.</td>\n",
       "    </tr>\n",
       "  </tbody>\n",
       "</table>\n",
       "</div>"
      ],
      "text/plain": [
       "      gold_label                                          sentence1  \\\n",
       "0  contradiction  A group of men with cowboy hats are watching a...   \n",
       "1     entailment  A kid with his head shaved sitting and holding...   \n",
       "2        neutral  A woman riding a bicycle past a car and a grou...   \n",
       "3        neutral  A woman looking through what appears to be a t...   \n",
       "4     entailment  A large group of people stand outside on a roa...   \n",
       "5  contradiction  A small dark-haired boy climbing in a large tree.   \n",
       "6        neutral    A man sits beside parked cars on a city street.   \n",
       "7     entailment  A dog looks content sitting on a bed after rip...   \n",
       "8  contradiction  Young children and parents splashing around a ...   \n",
       "9     entailment  A football coach guiding one of his players on...   \n",
       "\n",
       "                                           sentence2  \n",
       "0         A group of women are watching a horse race  \n",
       "1                       Child sits with a cigarette.  \n",
       "2  A woman riding a bicycle near a group of her f...  \n",
       "3  An female astronamer looking toward the stars ...  \n",
       "4  One group of people are watching what another ...  \n",
       "5  A small dark-haired boy is climbing over a car...  \n",
       "6                       A man is sitting on a bench.  \n",
       "7     a dog sitting on a bed after ripping up paper.  \n",
       "8                    There are families eating lunch  \n",
       "9              The coach knows how to play football.  "
      ]
     },
     "execution_count": 11,
     "metadata": {},
     "output_type": "execute_result"
    }
   ],
   "source": [
    "# data before cleaning\n",
    "df_train.head(10)"
   ]
  },
  {
   "cell_type": "code",
   "execution_count": 12,
   "metadata": {},
   "outputs": [
    {
     "name": "stderr",
     "output_type": "stream",
     "text": [
      "100%|████████████████████████████████████████████████████████████████████████████| 9349/9349 [00:09<00:00, 1020.71it/s]\n"
     ]
    }
   ],
   "source": [
    "preprocessed_sentence1 = []\n",
    "preprocessed_sentence2 = []\n",
    "\n",
    "for i in tqdm(range(len(df_train)), position=0, leave=True):\n",
    "    df_train.sentence1[i] = clean_text(df_train.sentence1[i])\n",
    "    df_train.sentence2[i] = clean_text(df_train.sentence2[i])\n",
    "    preprocessed_sentence1.append(df_train.sentence1[i])\n",
    "    preprocessed_sentence2.append(df_train.sentence2[i])"
   ]
  },
  {
   "cell_type": "code",
   "execution_count": 13,
   "metadata": {},
   "outputs": [
    {
     "name": "stderr",
     "output_type": "stream",
     "text": [
      "100%|██████████████████████████████████████████████████████████████████████████████| 493/493 [00:00<00:00, 1177.48it/s]\n"
     ]
    }
   ],
   "source": [
    "for i in tqdm(range(len(df_test)), position=0, leave=True):\n",
    "    df_test.sentence1[i] = clean_text(df_test.sentence1[i])\n",
    "    df_test.sentence2[i] = clean_text(df_test.sentence2[i])"
   ]
  },
  {
   "cell_type": "code",
   "execution_count": 14,
   "metadata": {},
   "outputs": [
    {
     "data": {
      "text/plain": [
       "['group men cowboy hats watching rodeo',\n",
       " 'kid head shaved sitting holding lit cigarette',\n",
       " 'woman riding bicycle past car group people sidewalk',\n",
       " 'woman looking appears telescope',\n",
       " 'large group people stand outside road people higher level look',\n",
       " 'small dark haired boy climbing large tree',\n",
       " 'man sits beside parked cars city street',\n",
       " 'dog looks content sitting bed ripping paper',\n",
       " 'young children parents splashing around public fountain',\n",
       " 'football coach guiding one players']"
      ]
     },
     "execution_count": 14,
     "metadata": {},
     "output_type": "execute_result"
    }
   ],
   "source": [
    "# this is how the clean processed data looks\n",
    "preprocessed_sentence1[:10]"
   ]
  },
  {
   "cell_type": "code",
   "execution_count": 15,
   "metadata": {},
   "outputs": [
    {
     "data": {
      "text/html": [
       "<div>\n",
       "<style scoped>\n",
       "    .dataframe tbody tr th:only-of-type {\n",
       "        vertical-align: middle;\n",
       "    }\n",
       "\n",
       "    .dataframe tbody tr th {\n",
       "        vertical-align: top;\n",
       "    }\n",
       "\n",
       "    .dataframe thead th {\n",
       "        text-align: right;\n",
       "    }\n",
       "</style>\n",
       "<table border=\"1\" class=\"dataframe\">\n",
       "  <thead>\n",
       "    <tr style=\"text-align: right;\">\n",
       "      <th></th>\n",
       "      <th>gold_label</th>\n",
       "      <th>sentence1</th>\n",
       "      <th>sentence2</th>\n",
       "    </tr>\n",
       "  </thead>\n",
       "  <tbody>\n",
       "    <tr>\n",
       "      <th>0</th>\n",
       "      <td>contradiction</td>\n",
       "      <td>group men cowboy hats watching rodeo</td>\n",
       "      <td>group women watching horse race</td>\n",
       "    </tr>\n",
       "    <tr>\n",
       "      <th>1</th>\n",
       "      <td>entailment</td>\n",
       "      <td>kid head shaved sitting holding lit cigarette</td>\n",
       "      <td>child sits cigarette</td>\n",
       "    </tr>\n",
       "    <tr>\n",
       "      <th>2</th>\n",
       "      <td>neutral</td>\n",
       "      <td>woman riding bicycle past car group people sid...</td>\n",
       "      <td>woman riding bicycle near group friends sidewalk</td>\n",
       "    </tr>\n",
       "    <tr>\n",
       "      <th>3</th>\n",
       "      <td>neutral</td>\n",
       "      <td>woman looking appears telescope</td>\n",
       "      <td>female astronamer looking toward stars telescope</td>\n",
       "    </tr>\n",
       "    <tr>\n",
       "      <th>4</th>\n",
       "      <td>entailment</td>\n",
       "      <td>large group people stand outside road people h...</td>\n",
       "      <td>one group people watching another group</td>\n",
       "    </tr>\n",
       "    <tr>\n",
       "      <th>5</th>\n",
       "      <td>contradiction</td>\n",
       "      <td>small dark haired boy climbing large tree</td>\n",
       "      <td>small dark haired boy climbing car seat</td>\n",
       "    </tr>\n",
       "    <tr>\n",
       "      <th>6</th>\n",
       "      <td>neutral</td>\n",
       "      <td>man sits beside parked cars city street</td>\n",
       "      <td>man sitting bench</td>\n",
       "    </tr>\n",
       "    <tr>\n",
       "      <th>7</th>\n",
       "      <td>entailment</td>\n",
       "      <td>dog looks content sitting bed ripping paper</td>\n",
       "      <td>dog sitting bed ripping paper</td>\n",
       "    </tr>\n",
       "    <tr>\n",
       "      <th>8</th>\n",
       "      <td>contradiction</td>\n",
       "      <td>young children parents splashing around public...</td>\n",
       "      <td>families eating lunch</td>\n",
       "    </tr>\n",
       "    <tr>\n",
       "      <th>9</th>\n",
       "      <td>entailment</td>\n",
       "      <td>football coach guiding one players</td>\n",
       "      <td>coach knows play football</td>\n",
       "    </tr>\n",
       "  </tbody>\n",
       "</table>\n",
       "</div>"
      ],
      "text/plain": [
       "      gold_label                                          sentence1  \\\n",
       "0  contradiction               group men cowboy hats watching rodeo   \n",
       "1     entailment      kid head shaved sitting holding lit cigarette   \n",
       "2        neutral  woman riding bicycle past car group people sid...   \n",
       "3        neutral                    woman looking appears telescope   \n",
       "4     entailment  large group people stand outside road people h...   \n",
       "5  contradiction          small dark haired boy climbing large tree   \n",
       "6        neutral            man sits beside parked cars city street   \n",
       "7     entailment        dog looks content sitting bed ripping paper   \n",
       "8  contradiction  young children parents splashing around public...   \n",
       "9     entailment                 football coach guiding one players   \n",
       "\n",
       "                                          sentence2  \n",
       "0                   group women watching horse race  \n",
       "1                              child sits cigarette  \n",
       "2  woman riding bicycle near group friends sidewalk  \n",
       "3  female astronamer looking toward stars telescope  \n",
       "4           one group people watching another group  \n",
       "5           small dark haired boy climbing car seat  \n",
       "6                                 man sitting bench  \n",
       "7                     dog sitting bed ripping paper  \n",
       "8                             families eating lunch  \n",
       "9                         coach knows play football  "
      ]
     },
     "execution_count": 15,
     "metadata": {},
     "output_type": "execute_result"
    }
   ],
   "source": [
    "# data after cleaning\n",
    "df_train.head(10)"
   ]
  },
  {
   "cell_type": "code",
   "execution_count": 16,
   "metadata": {},
   "outputs": [],
   "source": [
    "# converting the gold_label column into a categorical column\n",
    "df_train['gold_label'] = df_train['gold_label'].astype('category')"
   ]
  },
  {
   "cell_type": "code",
   "execution_count": 17,
   "metadata": {},
   "outputs": [
    {
     "data": {
      "text/html": [
       "<div>\n",
       "<style scoped>\n",
       "    .dataframe tbody tr th:only-of-type {\n",
       "        vertical-align: middle;\n",
       "    }\n",
       "\n",
       "    .dataframe tbody tr th {\n",
       "        vertical-align: top;\n",
       "    }\n",
       "\n",
       "    .dataframe thead th {\n",
       "        text-align: right;\n",
       "    }\n",
       "</style>\n",
       "<table border=\"1\" class=\"dataframe\">\n",
       "  <thead>\n",
       "    <tr style=\"text-align: right;\">\n",
       "      <th></th>\n",
       "      <th>gold_label</th>\n",
       "      <th>sentence1</th>\n",
       "      <th>sentence2</th>\n",
       "      <th>gold_label_encoded</th>\n",
       "    </tr>\n",
       "  </thead>\n",
       "  <tbody>\n",
       "    <tr>\n",
       "      <th>0</th>\n",
       "      <td>contradiction</td>\n",
       "      <td>group men cowboy hats watching rodeo</td>\n",
       "      <td>group women watching horse race</td>\n",
       "      <td>0</td>\n",
       "    </tr>\n",
       "    <tr>\n",
       "      <th>1</th>\n",
       "      <td>entailment</td>\n",
       "      <td>kid head shaved sitting holding lit cigarette</td>\n",
       "      <td>child sits cigarette</td>\n",
       "      <td>1</td>\n",
       "    </tr>\n",
       "    <tr>\n",
       "      <th>2</th>\n",
       "      <td>neutral</td>\n",
       "      <td>woman riding bicycle past car group people sid...</td>\n",
       "      <td>woman riding bicycle near group friends sidewalk</td>\n",
       "      <td>2</td>\n",
       "    </tr>\n",
       "    <tr>\n",
       "      <th>3</th>\n",
       "      <td>neutral</td>\n",
       "      <td>woman looking appears telescope</td>\n",
       "      <td>female astronamer looking toward stars telescope</td>\n",
       "      <td>2</td>\n",
       "    </tr>\n",
       "    <tr>\n",
       "      <th>4</th>\n",
       "      <td>entailment</td>\n",
       "      <td>large group people stand outside road people h...</td>\n",
       "      <td>one group people watching another group</td>\n",
       "      <td>1</td>\n",
       "    </tr>\n",
       "    <tr>\n",
       "      <th>5</th>\n",
       "      <td>contradiction</td>\n",
       "      <td>small dark haired boy climbing large tree</td>\n",
       "      <td>small dark haired boy climbing car seat</td>\n",
       "      <td>0</td>\n",
       "    </tr>\n",
       "    <tr>\n",
       "      <th>6</th>\n",
       "      <td>neutral</td>\n",
       "      <td>man sits beside parked cars city street</td>\n",
       "      <td>man sitting bench</td>\n",
       "      <td>2</td>\n",
       "    </tr>\n",
       "    <tr>\n",
       "      <th>7</th>\n",
       "      <td>entailment</td>\n",
       "      <td>dog looks content sitting bed ripping paper</td>\n",
       "      <td>dog sitting bed ripping paper</td>\n",
       "      <td>1</td>\n",
       "    </tr>\n",
       "    <tr>\n",
       "      <th>8</th>\n",
       "      <td>contradiction</td>\n",
       "      <td>young children parents splashing around public...</td>\n",
       "      <td>families eating lunch</td>\n",
       "      <td>0</td>\n",
       "    </tr>\n",
       "    <tr>\n",
       "      <th>9</th>\n",
       "      <td>entailment</td>\n",
       "      <td>football coach guiding one players</td>\n",
       "      <td>coach knows play football</td>\n",
       "      <td>1</td>\n",
       "    </tr>\n",
       "  </tbody>\n",
       "</table>\n",
       "</div>"
      ],
      "text/plain": [
       "      gold_label                                          sentence1  \\\n",
       "0  contradiction               group men cowboy hats watching rodeo   \n",
       "1     entailment      kid head shaved sitting holding lit cigarette   \n",
       "2        neutral  woman riding bicycle past car group people sid...   \n",
       "3        neutral                    woman looking appears telescope   \n",
       "4     entailment  large group people stand outside road people h...   \n",
       "5  contradiction          small dark haired boy climbing large tree   \n",
       "6        neutral            man sits beside parked cars city street   \n",
       "7     entailment        dog looks content sitting bed ripping paper   \n",
       "8  contradiction  young children parents splashing around public...   \n",
       "9     entailment                 football coach guiding one players   \n",
       "\n",
       "                                          sentence2  gold_label_encoded  \n",
       "0                   group women watching horse race                   0  \n",
       "1                              child sits cigarette                   1  \n",
       "2  woman riding bicycle near group friends sidewalk                   2  \n",
       "3  female astronamer looking toward stars telescope                   2  \n",
       "4           one group people watching another group                   1  \n",
       "5           small dark haired boy climbing car seat                   0  \n",
       "6                                 man sitting bench                   2  \n",
       "7                     dog sitting bed ripping paper                   1  \n",
       "8                             families eating lunch                   0  \n",
       "9                         coach knows play football                   1  "
      ]
     },
     "execution_count": 17,
     "metadata": {},
     "output_type": "execute_result"
    }
   ],
   "source": [
    "# converting the gold_label column into numerical values using LabelEncoder\n",
    "encoder = LabelEncoder()\n",
    "df_train['gold_label_encoded'] = encoder.fit_transform(df_train['gold_label'])\n",
    "df_train.head(10)"
   ]
  },
  {
   "cell_type": "markdown",
   "metadata": {},
   "source": [
    "## Data Visualization"
   ]
  },
  {
   "cell_type": "code",
   "execution_count": 18,
   "metadata": {},
   "outputs": [
    {
     "name": "stdout",
     "output_type": "stream",
     "text": [
      "Average Length of sentence 1:  7.985239063001391\n",
      "Average Length of sentence 2:  4.091774521339181\n"
     ]
    }
   ],
   "source": [
    "# this cell shows the average length of words in each sentence\n",
    "avg_length_s1 = df_train['sentence1'].apply(lambda x: len(x.split(\" \"))).mean()\n",
    "avg_length_s2 = df_train['sentence2'].apply(lambda x: len(x.split(\" \"))).mean()\n",
    "print(\"Average Length of sentence 1: \", avg_length_s1)\n",
    "print(\"Average Length of sentence 2: \", avg_length_s2)"
   ]
  },
  {
   "cell_type": "code",
   "execution_count": 19,
   "metadata": {},
   "outputs": [
    {
     "data": {
      "image/png": "[encoded data removed]",
      "text/plain": [
       "<Figure size 720x360 with 1 Axes>"
      ]
     },
     "metadata": {
      "needs_background": "light"
     },
     "output_type": "display_data"
    }
   ],
   "source": [
    "# this plot shows that the data is balanced and all the three categories have very similar number of examples.\n",
    "contradiction_len = df_train[df_train['gold_label'] == 'contradiction'].shape[0]\n",
    "entailment_len = df_train[df_train['gold_label'] == 'entailment'].shape[0]\n",
    "neutral_len = df_train[df_train['gold_label'] == 'neutral'].shape[0]\n",
    "\n",
    "plt.rcParams['figure.figsize'] = (10, 5)\n",
    "plt.bar(0,contradiction_len,3, label=\"contradiction\", color='blue')\n",
    "plt.bar(5,entailment_len,3, label=\"entailment\", color='red')\n",
    "plt.bar(10,neutral_len,3, label=\"neutral\", color='green')\n",
    "\n",
    "plt.legend()\n",
    "plt.ylabel('Number of examples')\n",
    "plt.title('Propertion of examples')\n",
    "plt.show()"
   ]
  },
  {
   "cell_type": "code",
   "execution_count": 20,
   "metadata": {},
   "outputs": [],
   "source": [
    "def length(text):\n",
    "    '''\n",
    "    function to calculate length of a series\n",
    "    '''\n",
    "    return len(text)"
   ]
  },
  {
   "cell_type": "code",
   "execution_count": 21,
   "metadata": {},
   "outputs": [
    {
     "data": {
      "image/png": "[encoded data removed]",
      "text/plain": [
       "<Figure size 1296x432 with 1 Axes>"
      ]
     },
     "metadata": {
      "needs_background": "light"
     },
     "output_type": "display_data"
    }
   ],
   "source": [
    "# Here I am creating the length_s1 column for the training and testing datasets which contains the length of sentence1\n",
    "df_train['length_s1'] = df_train['sentence1'] .apply(length)\n",
    "df_test['length_s1'] = df_test['sentence1'] .apply(length)\n",
    "\n",
    "# Here I am plotting the above created column for all the three categories of the gold_label column\n",
    "plt.rcParams['figure.figsize'] = (18.0, 6.0)\n",
    "bins = 150\n",
    "plt.hist(df_train[df_train['gold_label'] == 'contradiction']['length_s1'], alpha = 0.6, bins=bins, label='contradiction')\n",
    "plt.hist(df_train[df_train['gold_label'] == 'entailment']['length_s1'], alpha = 0.6, bins=bins, label='entailment')\n",
    "plt.hist(df_train[df_train['gold_label'] == 'neutral']['length_s1'], alpha = 0.6, bins=bins, label='neutral')\n",
    "plt.xlabel('length')\n",
    "plt.ylabel('numbers')\n",
    "plt.legend(loc='upper right')\n",
    "plt.xlim(0,150)\n",
    "plt.grid()\n",
    "plt.show()"
   ]
  },
  {
   "cell_type": "code",
   "execution_count": 22,
   "metadata": {},
   "outputs": [
    {
     "data": {
      "image/png": "[encoded data removed]",
      "text/plain": [
       "<Figure size 1296x432 with 1 Axes>"
      ]
     },
     "metadata": {
      "needs_background": "light"
     },
     "output_type": "display_data"
    }
   ],
   "source": [
    "# Here I am creating the length_s2 column for the training and testing datasets which contains the length of sentence2\n",
    "\n",
    "df_train['length_s2'] = df_train['sentence2'] .apply(length)\n",
    "df_test['length_s2'] = df_test['sentence2'] .apply(length)\n",
    "\n",
    "# Here I am plotting the above created column for all the three categories of the gold_label column\n",
    "plt.rcParams['figure.figsize'] = (18.0, 6.0)\n",
    "bins = 150\n",
    "plt.hist(df_train[df_train['gold_label'] == 'contradiction']['length_s2'], alpha = 0.6, bins=bins, label='contradiction')\n",
    "plt.hist(df_train[df_train['gold_label'] == 'entailment']['length_s2'], alpha = 0.6, bins=bins, label='entailment')\n",
    "plt.hist(df_train[df_train['gold_label'] == 'neutral']['length_s2'], alpha = 0.6, bins=bins, label='neutral')\n",
    "plt.xlabel('length')\n",
    "plt.ylabel('numbers')\n",
    "plt.legend(loc='upper right')\n",
    "plt.xlim(0,150)\n",
    "plt.grid()\n",
    "plt.show()"
   ]
  },
  {
   "cell_type": "markdown",
   "metadata": {},
   "source": [
    "<hr>"
   ]
  },
  {
   "cell_type": "markdown",
   "metadata": {},
   "source": [
    "## Feature Engineering"
   ]
  },
  {
   "cell_type": "code",
   "execution_count": 23,
   "metadata": {},
   "outputs": [],
   "source": [
    "def seq_similarity(a, b):\n",
    "    '''this function calculate the similarity between two strings using sequence matcher'''\n",
    "    return SequenceMatcher(None, a, b).ratio()\n",
    "    \n",
    "def seq_match_df(df_data):\n",
    "    '''this function will apply the seq_similarity on the dataset passed as parameter for both sentences'''\n",
    "    col1 = 'sentence1'\n",
    "    col2 = 'sentence2'\n",
    "    df_data[col1] = df_data[col1].str.replace(r'\\d', '')\n",
    "    df_data[col2] = df_data[col2].str.replace(r'\\d', '')\n",
    "    df_data['seq_sim'] = 0\n",
    "    df_data['seq_sim'] = df_data.apply(lambda x: seq_similarity(x[col1], x[col2]), axis=1)\n",
    "    return df_data\n",
    "\n",
    "# applying the sequence matching on the training and testing datasets\n",
    "df_train_result_seq = seq_match_df(df_train)\n",
    "df_test_result_seq = seq_match_df(df_test)"
   ]
  },
  {
   "cell_type": "code",
   "execution_count": 24,
   "metadata": {},
   "outputs": [],
   "source": [
    "vectorizer = text.TfidfVectorizer()\n",
    "\n",
    "def cosine_sim(test1, test2):\n",
    "    '''this function calculate the cosine similarity between two strings \n",
    "    using Term frequency and Inverse document frequency vector'''\n",
    "    tfidf = vectorizer.fit_transform([test1, test2])\n",
    "    result = ((tfidf * tfidf.T).A)[0,1]\n",
    "    return result\n",
    "    \n",
    "def cosine_sim_df(df_data):\n",
    "    col1 = 'sentence1'\n",
    "    col2 = 'sentence2'\n",
    "    df_data[col1] = df_data[col1].str.replace(r'\\d', '')\n",
    "    df_data[col2] = df_data[col2].str.replace(r'\\d', '')\n",
    "    df_data['cos_sim'] = 0\n",
    "    df_data['cos_sim'] = df_data.apply(lambda x: cosine_sim(x[col1], x[col2]), axis=1)\n",
    "    return df_data\n",
    "\n",
    "df_train_result_cos = cosine_sim_df(df_train)\n",
    "df_test_result_cos = cosine_sim_df(df_test)"
   ]
  },
  {
   "cell_type": "markdown",
   "metadata": {},
   "source": [
    "### Unigram"
   ]
  },
  {
   "cell_type": "code",
   "execution_count": 25,
   "metadata": {},
   "outputs": [],
   "source": [
    "\n",
    "def get_unigrams(que):\n",
    "    '''this function will generat the unigram for a string'''\n",
    "    return [word for word in word_tokenize(que.lower()) if word not in eng_stopwords]\n",
    "\n",
    "\n",
    "# Here I am applying the above function to get unigrams for sentence1 and sentence2\n",
    "df_train[\"unigrams_s1\"] = df_train['sentence1'].apply(lambda x: get_unigrams(str(x)))\n",
    "df_train[\"unigrams_s2\"] = df_train['sentence2'].apply(lambda x: get_unigrams(str(x)))\n",
    "df_test[\"unigrams_s1\"] = df_test['sentence1'].apply(lambda x: get_unigrams(str(x)))\n",
    "df_test[\"unigrams_s2\"] = df_test['sentence2'].apply(lambda x: get_unigrams(str(x)))"
   ]
  },
  {
   "cell_type": "code",
   "execution_count": 26,
   "metadata": {},
   "outputs": [],
   "source": [
    "def get_common_unigrams(row):\n",
    "    '''this function finds the intersection between two unigrams in pandas and return length of intersection'''\n",
    "    return len(set(row[\"unigrams_s1\"]).intersection(set(row[\"unigrams_s2\"])) ) \n",
    "\n",
    "# Here I am applying the above function to get unique unigrams\n",
    "df_train[\"unigrams_common_count\"] = df_train.apply(lambda row: get_common_unigrams(row), axis=1)\n",
    "df_test[\"unigrams_common_count\"] = df_test.apply(lambda row: get_common_unigrams(row), axis=1)"
   ]
  },
  {
   "cell_type": "code",
   "execution_count": 27,
   "metadata": {},
   "outputs": [],
   "source": [
    "def get_common_unigram_ratio(row):\n",
    "    '''this function will genetate the ratio of common unigrams to the maximum of union of the two sets'''\n",
    "    return float(row[\"unigrams_common_count\"]) / max(len( set(row[\"unigrams_s1\"]).union(set(row[\"unigrams_s2\"]))), 1)\n",
    "\n",
    "# Here I am applying the above function to get unique unigrams ratio\n",
    "df_train[\"unigrams_common_ratio\"] = df_train.apply(lambda row: get_common_unigram_ratio(row),axis=1)\n",
    "df_test[\"unigrams_common_ratio\"] = df_test.apply(lambda row: get_common_unigram_ratio(row),axis=1)"
   ]
  },
  {
   "cell_type": "markdown",
   "metadata": {},
   "source": [
    "### Bigram"
   ]
  },
  {
   "cell_type": "code",
   "execution_count": 28,
   "metadata": {},
   "outputs": [],
   "source": [
    "def get_bigrams(que):\n",
    "    '''this function creates the bigram for a string'''\n",
    "    return [ i for i in ngrams(que,2)]\n",
    "\n",
    "# Here I am applying the above function to get bigrams for sentence1 and sentence2\n",
    "df_train[\"bigrams_s1\"] = df_train[\"unigrams_s1\"].apply(lambda x: get_bigrams(x))\n",
    "df_train[\"bigrams_s2\"] = df_train[\"unigrams_s2\"].apply(lambda x: get_bigrams(x))\n",
    "df_test[\"bigrams_s1\"] = df_test[\"unigrams_s1\"].apply(lambda x: get_bigrams(x))\n",
    "df_test[\"bigrams_s2\"] = df_test[\"unigrams_s2\"].apply(lambda x: get_bigrams(x))"
   ]
  },
  {
   "cell_type": "code",
   "execution_count": 29,
   "metadata": {},
   "outputs": [],
   "source": [
    "def get_common_bigrams(row):\n",
    "    '''this function finds the intersection between two bigrams in pandas and return length of intersection'''\n",
    "    return len( set(row['bigrams_s1']).intersection(set(row['bigrams_s2'])) )\n",
    "\n",
    "# Here I am applying the above function to get unique bigrams\n",
    "df_train[\"bigrams_common_count\"] = df_train.apply(lambda row: get_common_bigrams(row), axis=1)\n",
    "df_test[\"bigrams_common_count\"] = df_test.apply(lambda row: get_common_bigrams(row), axis=1)"
   ]
  },
  {
   "cell_type": "code",
   "execution_count": 30,
   "metadata": {},
   "outputs": [],
   "source": [
    "def get_common_bigram_ratio(row):\n",
    "    '''this function will genetate the ratio of common bigrams to the maximum of union of the two sets'''\n",
    "    return float(row[\"bigrams_common_count\"]) / max(len( set(row[\"bigrams_s1\"]).union(set(row[\"bigrams_s2\"]))), 1)\n",
    "\n",
    "# Here I am applying the above function to get unique bigrams ratio\n",
    "df_train[\"bigrams_common_ratio\"] = df_train.apply(lambda row: get_common_bigram_ratio(row), axis=1)\n",
    "df_test[\"bigrams_common_ratio\"] = df_test.apply(lambda row: get_common_bigram_ratio(row), axis=1)"
   ]
  },
  {
   "cell_type": "code",
   "execution_count": 31,
   "metadata": {},
   "outputs": [],
   "source": [
    "# train_data_features_2 = vectorizer.fit_transform(X_train[\"sentence2\"])\n",
    "# train_data_features_2 = train_data_features_2.toarray()\n",
    "# print(train_data_features_2.shape)\n",
    "\n",
    "# train_data_features_1 = vectorizer.fit_transform(X_train['sentence1'])\n",
    "# train_data_features_1 = train_data_features_1.toarray()\n",
    "# print(train_data_features_1.shape)\n",
    "\n",
    "# train_data_features_12 = np.stack((train_data_features_1, train_data_features_2), axis=0) \n",
    "# print(train_data_features_12.shape)\n",
    "\n",
    "# train_data_features_12 = train_data_features_12.reshape(train_data_features_1.shape[0], -1)\n",
    "# print(train_data_features_12.shape)"
   ]
  },
  {
   "cell_type": "code",
   "execution_count": 32,
   "metadata": {},
   "outputs": [],
   "source": [
    "# test_data_features_2 = vectorizer.fit_transform(X_test[\"sentence2\"])\n",
    "# test_data_features_2 = test_data_features_2.toarray()\n",
    "# print(test_data_features_2.shape)\n",
    "\n",
    "# test_data_features_1 = vectorizer.fit_transform(X_test['sentence1'])\n",
    "# test_data_features_1 = test_data_features_1.toarray()\n",
    "# print(test_data_features_1.shape)\n",
    "\n",
    "# test_data_features_12 = np.stack((test_data_features_1, test_data_features_2), axis=0) \n",
    "# print(test_data_features_12.shape)\n",
    "\n",
    "# test_data_features_12 = test_data_features_12.reshape(test_data_features_1.shape[0], -1)\n",
    "# print(test_data_features_12.shape)"
   ]
  },
  {
   "cell_type": "code",
   "execution_count": 33,
   "metadata": {},
   "outputs": [],
   "source": [
    "# vocab = vectorizer.get_feature_names()\n",
    "# print(vocab)"
   ]
  },
  {
   "cell_type": "code",
   "execution_count": 34,
   "metadata": {},
   "outputs": [
    {
     "data": {
      "text/html": [
       "<div>\n",
       "<style scoped>\n",
       "    .dataframe tbody tr th:only-of-type {\n",
       "        vertical-align: middle;\n",
       "    }\n",
       "\n",
       "    .dataframe tbody tr th {\n",
       "        vertical-align: top;\n",
       "    }\n",
       "\n",
       "    .dataframe thead th {\n",
       "        text-align: right;\n",
       "    }\n",
       "</style>\n",
       "<table border=\"1\" class=\"dataframe\">\n",
       "  <thead>\n",
       "    <tr style=\"text-align: right;\">\n",
       "      <th></th>\n",
       "      <th>gold_label</th>\n",
       "      <th>sentence1</th>\n",
       "      <th>sentence2</th>\n",
       "      <th>gold_label_encoded</th>\n",
       "      <th>length_s1</th>\n",
       "      <th>length_s2</th>\n",
       "      <th>seq_sim</th>\n",
       "      <th>cos_sim</th>\n",
       "      <th>unigrams_s1</th>\n",
       "      <th>unigrams_s2</th>\n",
       "      <th>unigrams_common_count</th>\n",
       "      <th>unigrams_common_ratio</th>\n",
       "      <th>bigrams_s1</th>\n",
       "      <th>bigrams_s2</th>\n",
       "      <th>bigrams_common_count</th>\n",
       "      <th>bigrams_common_ratio</th>\n",
       "    </tr>\n",
       "  </thead>\n",
       "  <tbody>\n",
       "    <tr>\n",
       "      <th>0</th>\n",
       "      <td>contradiction</td>\n",
       "      <td>group men cowboy hats watching rodeo</td>\n",
       "      <td>group women watching horse race</td>\n",
       "      <td>0</td>\n",
       "      <td>36</td>\n",
       "      <td>31</td>\n",
       "      <td>0.626866</td>\n",
       "      <td>0.225765</td>\n",
       "      <td>[group, men, cowboy, hats, watching, rodeo]</td>\n",
       "      <td>[group, women, watching, horse, race]</td>\n",
       "      <td>2</td>\n",
       "      <td>0.222222</td>\n",
       "      <td>[(group, men), (men, cowboy), (cowboy, hats), ...</td>\n",
       "      <td>[(group, women), (women, watching), (watching,...</td>\n",
       "      <td>0</td>\n",
       "      <td>0.000000</td>\n",
       "    </tr>\n",
       "    <tr>\n",
       "      <th>1</th>\n",
       "      <td>entailment</td>\n",
       "      <td>kid head shaved sitting holding lit cigarette</td>\n",
       "      <td>child sits cigarette</td>\n",
       "      <td>1</td>\n",
       "      <td>45</td>\n",
       "      <td>20</td>\n",
       "      <td>0.492308</td>\n",
       "      <td>0.125367</td>\n",
       "      <td>[kid, head, shaved, sitting, holding, lit, cig...</td>\n",
       "      <td>[child, sits, cigarette]</td>\n",
       "      <td>1</td>\n",
       "      <td>0.111111</td>\n",
       "      <td>[(kid, head), (head, shaved), (shaved, sitting...</td>\n",
       "      <td>[(child, sits), (sits, cigarette)]</td>\n",
       "      <td>0</td>\n",
       "      <td>0.000000</td>\n",
       "    </tr>\n",
       "    <tr>\n",
       "      <th>2</th>\n",
       "      <td>neutral</td>\n",
       "      <td>woman riding bicycle past car group people sid...</td>\n",
       "      <td>woman riding bicycle near group friends sidewalk</td>\n",
       "      <td>2</td>\n",
       "      <td>51</td>\n",
       "      <td>48</td>\n",
       "      <td>0.808081</td>\n",
       "      <td>0.505606</td>\n",
       "      <td>[woman, riding, bicycle, past, car, group, peo...</td>\n",
       "      <td>[woman, riding, bicycle, near, group, friends,...</td>\n",
       "      <td>5</td>\n",
       "      <td>0.500000</td>\n",
       "      <td>[(woman, riding), (riding, bicycle), (bicycle,...</td>\n",
       "      <td>[(woman, riding), (riding, bicycle), (bicycle,...</td>\n",
       "      <td>2</td>\n",
       "      <td>0.181818</td>\n",
       "    </tr>\n",
       "  </tbody>\n",
       "</table>\n",
       "</div>"
      ],
      "text/plain": [
       "      gold_label                                          sentence1  \\\n",
       "0  contradiction               group men cowboy hats watching rodeo   \n",
       "1     entailment      kid head shaved sitting holding lit cigarette   \n",
       "2        neutral  woman riding bicycle past car group people sid...   \n",
       "\n",
       "                                          sentence2  gold_label_encoded  \\\n",
       "0                   group women watching horse race                   0   \n",
       "1                              child sits cigarette                   1   \n",
       "2  woman riding bicycle near group friends sidewalk                   2   \n",
       "\n",
       "   length_s1  length_s2   seq_sim   cos_sim  \\\n",
       "0         36         31  0.626866  0.225765   \n",
       "1         45         20  0.492308  0.125367   \n",
       "2         51         48  0.808081  0.505606   \n",
       "\n",
       "                                         unigrams_s1  \\\n",
       "0        [group, men, cowboy, hats, watching, rodeo]   \n",
       "1  [kid, head, shaved, sitting, holding, lit, cig...   \n",
       "2  [woman, riding, bicycle, past, car, group, peo...   \n",
       "\n",
       "                                         unigrams_s2  unigrams_common_count  \\\n",
       "0              [group, women, watching, horse, race]                      2   \n",
       "1                           [child, sits, cigarette]                      1   \n",
       "2  [woman, riding, bicycle, near, group, friends,...                      5   \n",
       "\n",
       "   unigrams_common_ratio                                         bigrams_s1  \\\n",
       "0               0.222222  [(group, men), (men, cowboy), (cowboy, hats), ...   \n",
       "1               0.111111  [(kid, head), (head, shaved), (shaved, sitting...   \n",
       "2               0.500000  [(woman, riding), (riding, bicycle), (bicycle,...   \n",
       "\n",
       "                                          bigrams_s2  bigrams_common_count  \\\n",
       "0  [(group, women), (women, watching), (watching,...                     0   \n",
       "1                 [(child, sits), (sits, cigarette)]                     0   \n",
       "2  [(woman, riding), (riding, bicycle), (bicycle,...                     2   \n",
       "\n",
       "   bigrams_common_ratio  \n",
       "0              0.000000  \n",
       "1              0.000000  \n",
       "2              0.181818  "
      ]
     },
     "execution_count": 34,
     "metadata": {},
     "output_type": "execute_result"
    }
   ],
   "source": [
    "df_train.head(3)"
   ]
  },
  {
   "cell_type": "code",
   "execution_count": null,
   "metadata": {},
   "outputs": [],
   "source": []
  },
  {
   "cell_type": "code",
   "execution_count": 35,
   "metadata": {},
   "outputs": [],
   "source": [
    "# Here I am removing the object columns from the dataset and creating the input and target datasets for training\n",
    "df_X = df_train.drop(['gold_label', 'sentence1', 'sentence2', 'unigrams_s1',\n",
    "                      'unigrams_s2', 'bigrams_s1', 'bigrams_s2', 'gold_label_encoded'], axis=1)\n",
    "df_y = df_train[\"gold_label_encoded\"]"
   ]
  },
  {
   "cell_type": "code",
   "execution_count": 36,
   "metadata": {},
   "outputs": [],
   "source": [
    "# Here I am removing the object columns from the test dataset and creating the input dataset for testing\n",
    "df_test_X = df_test.drop(['sentence1', 'sentence2', 'unigrams_s1',\n",
    "                      'unigrams_s2', 'bigrams_s1', 'bigrams_s2'], axis=1)"
   ]
  },
  {
   "cell_type": "code",
   "execution_count": 37,
   "metadata": {},
   "outputs": [
    {
     "data": {
      "text/html": [
       "<div>\n",
       "<style scoped>\n",
       "    .dataframe tbody tr th:only-of-type {\n",
       "        vertical-align: middle;\n",
       "    }\n",
       "\n",
       "    .dataframe tbody tr th {\n",
       "        vertical-align: top;\n",
       "    }\n",
       "\n",
       "    .dataframe thead th {\n",
       "        text-align: right;\n",
       "    }\n",
       "</style>\n",
       "<table border=\"1\" class=\"dataframe\">\n",
       "  <thead>\n",
       "    <tr style=\"text-align: right;\">\n",
       "      <th></th>\n",
       "      <th>length_s1</th>\n",
       "      <th>length_s2</th>\n",
       "      <th>seq_sim</th>\n",
       "      <th>cos_sim</th>\n",
       "      <th>unigrams_common_count</th>\n",
       "      <th>unigrams_common_ratio</th>\n",
       "      <th>bigrams_common_count</th>\n",
       "      <th>bigrams_common_ratio</th>\n",
       "    </tr>\n",
       "  </thead>\n",
       "  <tbody>\n",
       "    <tr>\n",
       "      <th>0</th>\n",
       "      <td>36</td>\n",
       "      <td>31</td>\n",
       "      <td>0.626866</td>\n",
       "      <td>0.225765</td>\n",
       "      <td>2</td>\n",
       "      <td>0.222222</td>\n",
       "      <td>0</td>\n",
       "      <td>0.000000</td>\n",
       "    </tr>\n",
       "    <tr>\n",
       "      <th>1</th>\n",
       "      <td>45</td>\n",
       "      <td>20</td>\n",
       "      <td>0.492308</td>\n",
       "      <td>0.125367</td>\n",
       "      <td>1</td>\n",
       "      <td>0.111111</td>\n",
       "      <td>0</td>\n",
       "      <td>0.000000</td>\n",
       "    </tr>\n",
       "    <tr>\n",
       "      <th>2</th>\n",
       "      <td>51</td>\n",
       "      <td>48</td>\n",
       "      <td>0.808081</td>\n",
       "      <td>0.505606</td>\n",
       "      <td>5</td>\n",
       "      <td>0.500000</td>\n",
       "      <td>2</td>\n",
       "      <td>0.181818</td>\n",
       "    </tr>\n",
       "  </tbody>\n",
       "</table>\n",
       "</div>"
      ],
      "text/plain": [
       "   length_s1  length_s2   seq_sim   cos_sim  unigrams_common_count  \\\n",
       "0         36         31  0.626866  0.225765                      2   \n",
       "1         45         20  0.492308  0.125367                      1   \n",
       "2         51         48  0.808081  0.505606                      5   \n",
       "\n",
       "   unigrams_common_ratio  bigrams_common_count  bigrams_common_ratio  \n",
       "0               0.222222                     0              0.000000  \n",
       "1               0.111111                     0              0.000000  \n",
       "2               0.500000                     2              0.181818  "
      ]
     },
     "execution_count": 37,
     "metadata": {},
     "output_type": "execute_result"
    }
   ],
   "source": [
    "df_X.head(3)"
   ]
  },
  {
   "cell_type": "code",
   "execution_count": 38,
   "metadata": {},
   "outputs": [
    {
     "data": {
      "text/html": [
       "<div>\n",
       "<style scoped>\n",
       "    .dataframe tbody tr th:only-of-type {\n",
       "        vertical-align: middle;\n",
       "    }\n",
       "\n",
       "    .dataframe tbody tr th {\n",
       "        vertical-align: top;\n",
       "    }\n",
       "\n",
       "    .dataframe thead th {\n",
       "        text-align: right;\n",
       "    }\n",
       "</style>\n",
       "<table border=\"1\" class=\"dataframe\">\n",
       "  <thead>\n",
       "    <tr style=\"text-align: right;\">\n",
       "      <th></th>\n",
       "      <th>length_s1</th>\n",
       "      <th>length_s2</th>\n",
       "      <th>seq_sim</th>\n",
       "      <th>cos_sim</th>\n",
       "      <th>unigrams_common_count</th>\n",
       "      <th>unigrams_common_ratio</th>\n",
       "      <th>bigrams_common_count</th>\n",
       "      <th>bigrams_common_ratio</th>\n",
       "    </tr>\n",
       "  </thead>\n",
       "  <tbody>\n",
       "    <tr>\n",
       "      <th>0</th>\n",
       "      <td>58</td>\n",
       "      <td>27</td>\n",
       "      <td>0.423529</td>\n",
       "      <td>0.299580</td>\n",
       "      <td>2</td>\n",
       "      <td>0.200000</td>\n",
       "      <td>1</td>\n",
       "      <td>0.1</td>\n",
       "    </tr>\n",
       "    <tr>\n",
       "      <th>1</th>\n",
       "      <td>28</td>\n",
       "      <td>14</td>\n",
       "      <td>0.523810</td>\n",
       "      <td>0.150640</td>\n",
       "      <td>1</td>\n",
       "      <td>0.142857</td>\n",
       "      <td>0</td>\n",
       "      <td>0.0</td>\n",
       "    </tr>\n",
       "    <tr>\n",
       "      <th>2</th>\n",
       "      <td>33</td>\n",
       "      <td>37</td>\n",
       "      <td>0.685714</td>\n",
       "      <td>0.225765</td>\n",
       "      <td>2</td>\n",
       "      <td>0.222222</td>\n",
       "      <td>0</td>\n",
       "      <td>0.0</td>\n",
       "    </tr>\n",
       "  </tbody>\n",
       "</table>\n",
       "</div>"
      ],
      "text/plain": [
       "   length_s1  length_s2   seq_sim   cos_sim  unigrams_common_count  \\\n",
       "0         58         27  0.423529  0.299580                      2   \n",
       "1         28         14  0.523810  0.150640                      1   \n",
       "2         33         37  0.685714  0.225765                      2   \n",
       "\n",
       "   unigrams_common_ratio  bigrams_common_count  bigrams_common_ratio  \n",
       "0               0.200000                     1                   0.1  \n",
       "1               0.142857                     0                   0.0  \n",
       "2               0.222222                     0                   0.0  "
      ]
     },
     "execution_count": 38,
     "metadata": {},
     "output_type": "execute_result"
    }
   ],
   "source": [
    "df_test_X.head(3)"
   ]
  },
  {
   "cell_type": "markdown",
   "metadata": {},
   "source": [
    "### Scaling Data"
   ]
  },
  {
   "cell_type": "code",
   "execution_count": 39,
   "metadata": {},
   "outputs": [
    {
     "name": "stdout",
     "output_type": "stream",
     "text": [
      "[[0.11842105 0.18918919 0.61765248 ... 0.22222222 0.         0.        ]\n",
      " [0.15789474 0.11486486 0.47977208 ... 0.11111111 0.         0.        ]\n",
      " [0.18421053 0.30405405 0.80334206 ... 0.5        0.08333333 0.18181818]\n",
      " ...\n",
      " [0.29385965 0.23648649 0.42473468 ... 0.13333333 0.         0.        ]\n",
      " [0.11842105 0.25675676 0.5342312  ... 0.3        0.04166667 0.1       ]\n",
      " [0.18859649 0.35135135 0.93296412 ... 0.77777778 0.20833333 0.55555556]]\n",
      "[[0.21491228 0.16216216 0.40929557 ... 0.2        0.04166667 0.1       ]\n",
      " [0.08333333 0.07432432 0.51205173 ... 0.14285714 0.         0.        ]\n",
      " [0.10526316 0.22972973 0.67795414 ... 0.22222222 0.         0.        ]\n",
      " ...\n",
      " [0.22368421 0.14189189 0.24368019 ... 0.         0.         0.        ]\n",
      " [0.19298246 0.10135135 0.14849591 ... 0.         0.         0.        ]\n",
      " [0.1754386  0.16891892 0.5342312  ... 0.375      0.04166667 0.125     ]]\n"
     ]
    }
   ],
   "source": [
    "# In this cell I am scaling the complete input dataset using MinMaxScaler \n",
    "# which will fit the data in the range of inclusive [0, 1]\n",
    "# fitting the training input data and transforming both training and testing data\n",
    "\n",
    "from sklearn.preprocessing import MinMaxScaler\n",
    "scaler = MinMaxScaler()\n",
    "df_scaled = scaler.fit_transform(df_X)\n",
    "df_test_scaled = scaler.transform(df_test_X)\n",
    "print(df_scaled)\n",
    "print(df_test_scaled)"
   ]
  },
  {
   "cell_type": "code",
   "execution_count": 40,
   "metadata": {},
   "outputs": [
    {
     "data": {
      "text/plain": [
       "(7479, 8)"
      ]
     },
     "execution_count": 40,
     "metadata": {},
     "output_type": "execute_result"
    }
   ],
   "source": [
    "# Here I am splitting the trainign data into train and validation datasets in a ratio of 80:20 percentage.\n",
    "X_train, X_cv, y_train, y_cv = train_test_split(df_scaled, df_y, test_size=0.2, random_state=42)\n",
    "X_train.shape"
   ]
  },
  {
   "cell_type": "code",
   "execution_count": 41,
   "metadata": {},
   "outputs": [],
   "source": [
    "def model_evaluation(y_test, y_pred):\n",
    "    '''\n",
    "    this function will claculate the evaluation matrix for the real output and predicted output values and generate report for:\n",
    "    * Confusion Matrix\n",
    "    * Matrics like True Positive, True Negative, False Positive and False Negative\n",
    "    * Calculate accuracy based on the above factors\n",
    "    * generate classification report\n",
    "    '''\n",
    "    cm = confusion_matrix(y_test, y_pred)\n",
    "\n",
    "    print(\"Confusion Matrix:\")\n",
    "    print(cm, end=\"\\n\\n\")\n",
    "\n",
    "    TN = cm[0, 0]\n",
    "    FN = cm[0, 1]\n",
    "    FP = cm[1, 0]\n",
    "    TP = cm[1, 1]\n",
    "\n",
    "    P = FN+TP\n",
    "    N = TN+FP\n",
    "\n",
    "    TPR = TP/P\n",
    "    TNR = TN/N\n",
    "    FPR = FP/N\n",
    "    FNR = FN/P\n",
    "\n",
    "    accuracy = (TN+TP)/(P+N)\n",
    "    print(\"Test Accuracy: \"+str(accuracy), end=\"\\n\\n\")\n",
    "#     print(\"Test Accuracy: \"+str(accuracy_score(y_test, y_pred)), end=\"\\n\\n\")\n",
    "    print(\"All 4 parameters: \",TN, FN, FP, TP, end=\"\\n\\n\")\n",
    "    print(\"TPR: {}\".format(TPR))\n",
    "    print(\"TNR: {}\".format(TNR))\n",
    "    print(\"FPR: {}\".format(FPR))\n",
    "    print(\"FNR: {}\".format(FNR))\n",
    "    print()\n",
    "    \n",
    "    print(classification_report(y_test, y_pred))"
   ]
  },
  {
   "cell_type": "markdown",
   "metadata": {},
   "source": [
    "## Building ML Models"
   ]
  },
  {
   "cell_type": "markdown",
   "metadata": {},
   "source": [
    "#### Classification models"
   ]
  },
  {
   "cell_type": "code",
   "execution_count": 42,
   "metadata": {},
   "outputs": [
    {
     "name": "stdout",
     "output_type": "stream",
     "text": [
      "LR [0.49298034 0.48215002 0.52667469] 0.5006016847172082\n",
      "NB [0.44925792 0.44003209 0.45166466] 0.44698489102821237\n",
      "RF [0.45086241 0.45166466 0.46811071] 0.4568792619334135\n",
      "Dtree [0.42960289 0.40994785 0.42238267] 0.4206444711859874\n",
      "XGB [0.50300842 0.49578821 0.53269154] 0.5104960556224094\n",
      "KNN [0.46048937 0.459286   0.47412756] 0.46463430939965233\n",
      "SVC [0.49177698 0.48054553 0.50701966] 0.4931140526808397\n"
     ]
    }
   ],
   "source": [
    "# Here I am making a list of some high performing classification machine learnign models \n",
    "# and over each iteration I am printing their performance for 3 cross validations.\n",
    "\n",
    "models = []\n",
    "models.append((\"LR\",LogisticRegression()))\n",
    "models.append((\"NB\",GaussianNB()))\n",
    "models.append((\"RF\",RandomForestClassifier()))\n",
    "models.append((\"Dtree\",DecisionTreeClassifier()))\n",
    "models.append((\"XGB\",xgb.XGBClassifier()))\n",
    "models.append((\"KNN\",KNeighborsClassifier()))\n",
    "models.append((\"SVC\",SVC()))\n",
    "\n",
    "for name,model in models:\n",
    "    kfold = KFold(n_splits=3, random_state=42)\n",
    "    cv_result = cross_val_score(model,X_train,y_train, cv = kfold, scoring = \"accuracy\")\n",
    "    print(name, cv_result, np.mean(cv_result))"
   ]
  },
  {
   "cell_type": "markdown",
   "metadata": {},
   "source": [
    "#### XGB Classifier"
   ]
  },
  {
   "cell_type": "code",
   "execution_count": 43,
   "metadata": {},
   "outputs": [
    {
     "name": "stdout",
     "output_type": "stream",
     "text": [
      "prediction:  [1 2 1 ... 0 0 0]\n",
      "\n",
      "Confusion Matrix:\n",
      "[[380 110 125]\n",
      " [151 396  90]\n",
      " [269 129 220]]\n",
      "\n",
      "Test Accuracy: 0.7483124397299904\n",
      "\n",
      "All 4 parameters:  380 110 151 396\n",
      "\n",
      "TPR: 0.782608695652174\n",
      "TNR: 0.7156308851224106\n",
      "FPR: 0.2843691148775895\n",
      "FNR: 0.21739130434782608\n",
      "\n",
      "              precision    recall  f1-score   support\n",
      "\n",
      "           0       0.47      0.62      0.54       615\n",
      "           1       0.62      0.62      0.62       637\n",
      "           2       0.51      0.36      0.42       618\n",
      "\n",
      "   micro avg       0.53      0.53      0.53      1870\n",
      "   macro avg       0.53      0.53      0.53      1870\n",
      "weighted avg       0.54      0.53      0.53      1870\n",
      "\n"
     ]
    }
   ],
   "source": [
    "# Based on the performance analysis of the above models I am selecting XGBClassifier\n",
    "# Here I am training the XGBClassifier using training dataset and validating the matrics using validation dataset.\n",
    "# finally I am generating the performance report of the model.\n",
    "\n",
    "xgb_classifier = xgb.XGBClassifier()\n",
    "hist = xgb_classifier.fit(X_train, y_train)\n",
    "predictions = xgb_classifier.predict(X_cv)\n",
    "print(\"prediction: \", predictions, end=\"\\n\\n\")\n",
    "model_evaluation(y_cv, predictions)"
   ]
  },
  {
   "cell_type": "markdown",
   "metadata": {},
   "source": [
    "### Working on Neural Network"
   ]
  },
  {
   "cell_type": "code",
   "execution_count": 44,
   "metadata": {},
   "outputs": [],
   "source": [
    "def show_learning_curve(hist):\n",
    "    '''\n",
    "    this function will plot the graph showing the network's performance on training data \n",
    "    and plots metrics like loss, val_loss, accuracy, val_accuracy.\n",
    "    '''\n",
    "    plt.plot(hist.history['loss'], 'y', label='train loss')\n",
    "    plt.plot(hist.history['val_loss'], 'r', label='val loss')\n",
    "    plt.xlabel('epoch')\n",
    "    plt.ylabel('loss')\n",
    "    plt.legend(loc='lower left')\n",
    "    plt.show()\n",
    "    \n",
    "    plt.plot(hist.history['accuracy'], 'b', label='train acc')\n",
    "    plt.plot(hist.history['val_accuracy'], 'g', label='val acc')\n",
    "    plt.xlabel('epoch')\n",
    "    plt.ylabel('accuracy')\n",
    "    plt.legend(loc='upper left')\n",
    "    plt.show()"
   ]
  },
  {
   "cell_type": "markdown",
   "metadata": {},
   "source": [
    "#### Multi-layer Perceptron"
   ]
  },
  {
   "cell_type": "code",
   "execution_count": 45,
   "metadata": {},
   "outputs": [
    {
     "name": "stdout",
     "output_type": "stream",
     "text": [
      "Confusion Matrix:\n",
      "[[436  71 108]\n",
      " [210 358  69]\n",
      " [322  77 219]]\n",
      "\n",
      "Test Accuracy: 0.7386046511627907\n",
      "\n",
      "All 4 parameters:  436 71 210 358\n",
      "\n",
      "TPR: 0.8344988344988346\n",
      "TNR: 0.6749226006191951\n",
      "FPR: 0.32507739938080493\n",
      "FNR: 0.1655011655011655\n",
      "\n",
      "              precision    recall  f1-score   support\n",
      "\n",
      "           0       0.45      0.71      0.55       615\n",
      "           1       0.71      0.56      0.63       637\n",
      "           2       0.55      0.35      0.43       618\n",
      "\n",
      "   micro avg       0.54      0.54      0.54      1870\n",
      "   macro avg       0.57      0.54      0.54      1870\n",
      "weighted avg       0.57      0.54      0.54      1870\n",
      "\n"
     ]
    }
   ],
   "source": [
    "# Here I am training the Multi Layer Perceptron Classifier which is available in sklearn library\n",
    "# using training dataset and validating the matrics using validation dataset.\n",
    "# finally I am generating the performance report of the model.\n",
    "\n",
    "from sklearn.neural_network import MLPClassifier\n",
    "mpl_model = MLPClassifier(hidden_layer_sizes=(20,90,120), learning_rate_init=0.001, max_iter=5000)\n",
    "mpl_model.fit(X_train, y_train)\n",
    "predictions = mpl_model.predict(X_cv)\n",
    "\n",
    "model_evaluation(y_cv, predictions)"
   ]
  },
  {
   "cell_type": "markdown",
   "metadata": {},
   "source": [
    "#### Sequential Network"
   ]
  },
  {
   "cell_type": "code",
   "execution_count": 46,
   "metadata": {},
   "outputs": [
    {
     "name": "stdout",
     "output_type": "stream",
     "text": [
      "WARNING:tensorflow:From C:\\Users\\paras\\Anaconda3\\lib\\site-packages\\tensorflow_core\\python\\ops\\resource_variable_ops.py:1630: calling BaseResourceVariable.__init__ (from tensorflow.python.ops.resource_variable_ops) with constraint is deprecated and will be removed in a future version.\n",
      "Instructions for updating:\n",
      "If using Keras pass *_constraint arguments to layers.\n",
      "WARNING:tensorflow:From C:\\Users\\paras\\Anaconda3\\lib\\site-packages\\tensorflow_core\\python\\ops\\nn_impl.py:183: where (from tensorflow.python.ops.array_ops) is deprecated and will be removed in a future version.\n",
      "Instructions for updating:\n",
      "Use tf.where in 2.0, which has the same broadcast rule as np.where\n",
      "WARNING:tensorflow:From C:\\Users\\paras\\Anaconda3\\lib\\site-packages\\keras\\backend\\tensorflow_backend.py:422: The name tf.global_variables is deprecated. Please use tf.compat.v1.global_variables instead.\n",
      "\n",
      "Train on 7479 samples, validate on 1870 samples\n",
      "Epoch 1/5\n",
      "7479/7479 [==============================] - 0s 53us/step - loss: 0.0820 - accuracy: 0.3395 - val_loss: -0.2639 - val_accuracy: 0.3353\n",
      "Epoch 2/5\n",
      "7479/7479 [==============================] - 0s 34us/step - loss: -0.1255 - accuracy: 0.3395 - val_loss: -0.6130 - val_accuracy: 0.3353\n",
      "Epoch 3/5\n",
      "7479/7479 [==============================] - 0s 33us/step - loss: -0.3957 - accuracy: 0.3395 - val_loss: -1.3806 - val_accuracy: 0.3353\n",
      "Epoch 4/5\n",
      "7479/7479 [==============================] - 0s 33us/step - loss: -0.8838 - accuracy: 0.3395 - val_loss: -2.8546 - val_accuracy: 0.3353\n",
      "Epoch 5/5\n",
      "7479/7479 [==============================] - 0s 30us/step - loss: -2.0581 - accuracy: 0.3395 - val_loss: -6.0435 - val_accuracy: 0.3353\n",
      "{'val_loss': [-0.26389838372641067, -0.6130241156421243, -1.3805813210254365, -2.8545783977696604, -6.04353929028154], 'val_accuracy': [0.33529412746429443, 0.33529412746429443, 0.33529412746429443, 0.33529412746429443, 0.33529412746429443], 'loss': [0.0820090565407084, -0.12554998754669763, -0.3956501591327532, -0.8838208539321518, -2.0580781013130154], 'accuracy': [0.3394839, 0.3394839, 0.3394839, 0.3394839, 0.3394839]}\n"
     ]
    }
   ],
   "source": [
    "# Here I am buiding a simple sequential 3 layer ANN with a dropout of 0.1 and running over 100 epocs for 50 batch size\n",
    "# parallely measuring the validation score for 20% of data.\n",
    "\n",
    "inp = len(df_X.columns)\n",
    "classifier = Sequential()\n",
    "classifier.add(Dense(units = inp, kernel_initializer = 'uniform', activation = 'relu', input_dim = df_X.shape[1]))\n",
    "classifier.add(Dropout(0.1))\n",
    "classifier.add(Dense(units = inp*2, kernel_initializer = 'uniform', activation = 'relu'))\n",
    "classifier.add(Dropout(0.1))\n",
    "classifier.add(Dense(units = inp*3, kernel_initializer = 'uniform', activation = 'relu'))\n",
    "classifier.add(Dropout(0.1))\n",
    "classifier.add(Dense(units = 1, kernel_initializer = 'uniform', activation = 'sigmoid'))\n",
    "classifier.compile(optimizer = 'RMSProp', loss = 'binary_crossentropy', metrics = ['accuracy'])\n",
    "model_hist = classifier.fit(df_X, df_y, batch_size = 50, epochs = 5, validation_split=0.2)\n",
    "print(model_hist.history)"
   ]
  },
  {
   "cell_type": "code",
   "execution_count": 47,
   "metadata": {},
   "outputs": [
    {
     "data": {
      "image/png": "[encoded data removed]",
      "text/plain": [
       "<Figure size 1296x432 with 1 Axes>"
      ]
     },
     "metadata": {
      "needs_background": "light"
     },
     "output_type": "display_data"
    },
    {
     "data": {
      "image/png": "[encoded data removed]",
      "text/plain": [
       "<Figure size 1296x432 with 1 Axes>"
      ]
     },
     "metadata": {
      "needs_background": "light"
     },
     "output_type": "display_data"
    }
   ],
   "source": [
    "# here I am plotting the curves for training and testing performance based on model's history.\n",
    "# evaluating the accuracy for train and val, and loss for train and val data.\n",
    "show_learning_curve(model_hist)"
   ]
  },
  {
   "cell_type": "markdown",
   "metadata": {},
   "source": [
    "#### Bidirectional LSTM Network"
   ]
  },
  {
   "cell_type": "code",
   "execution_count": 51,
   "metadata": {},
   "outputs": [
    {
     "name": "stdout",
     "output_type": "stream",
     "text": [
      "Train on 7479 samples, validate on 1870 samples\n",
      "Epoch 1/5\n",
      "7479/7479 [==============================] - 2s 211us/step - loss: 0.1405 - accuracy: 0.3395 - val_loss: -0.0500 - val_accuracy: 0.3353\n",
      "Epoch 2/5\n",
      "7479/7479 [==============================] - 1s 145us/step - loss: 0.0251 - accuracy: 0.3395 - val_loss: -0.1954 - val_accuracy: 0.3353\n",
      "Epoch 3/5\n",
      "7479/7479 [==============================] - 1s 142us/step - loss: -0.3206 - accuracy: 0.3395 - val_loss: -0.9137 - val_accuracy: 0.3353\n",
      "Epoch 4/5\n",
      "7479/7479 [==============================] - 1s 141us/step - loss: -1.3061 - accuracy: 0.3395 - val_loss: -2.4590 - val_accuracy: 0.3353\n",
      "Epoch 5/5\n",
      "7479/7479 [==============================] - 2s 225us/step - loss: -3.2226 - accuracy: 0.3395 - val_loss: -5.0737 - val_accuracy: 0.3353\n",
      "{'val_loss': [-0.049963792110544275, -0.19540658012719794, -0.9136900601380649, -2.458987636521538, -5.073694222432406], 'val_accuracy': [0.33529412746429443, 0.33529412746429443, 0.33529412746429443, 0.33529412746429443, 0.33529412746429443], 'loss': [0.14053289880161687, 0.025103924385177202, -0.32057674190529845, -1.3061461138114012, -3.222568463535611], 'accuracy': [0.3394839, 0.3394839, 0.3394839, 0.3394839, 0.3394839]}\n"
     ]
    }
   ],
   "source": [
    "# Here I am buiding a Sequential Bidirectional LSTM ANN  with an input embedding layer of (2000, 128)\n",
    "# and running over 100 epocs for 50 batch size\n",
    "# parallely measuring the validation score for 20% of data.\n",
    "\n",
    "model = Sequential()\n",
    "model.add(Embedding(2000, 128))\n",
    "model.add(Bidirectional(LSTM(32, return_sequences = True)))\n",
    "model.add(GlobalMaxPool1D())\n",
    "model.add(Dense(20, activation=\"relu\"))\n",
    "# model.add(Dropout(0.05))\n",
    "model.add(Dense(1, activation=\"sigmoid\"))\n",
    "model.compile(loss='binary_crossentropy', optimizer='adam', metrics=['accuracy'])\n",
    "\n",
    "model_hist = model.fit(df_X, df_y, batch_size=50, epochs=5, validation_split=0.2)\n",
    "print(model_hist.history)"
   ]
  },
  {
   "cell_type": "code",
   "execution_count": 54,
   "metadata": {},
   "outputs": [
    {
     "data": {
      "image/png": "[encoded data removed]",
      "text/plain": [
       "<Figure size 432x288 with 1 Axes>"
      ]
     },
     "metadata": {
      "needs_background": "light"
     },
     "output_type": "display_data"
    },
    {
     "data": {
      "image/png": "[encoded data removed]",
      "text/plain": [
       "<Figure size 432x288 with 1 Axes>"
      ]
     },
     "metadata": {
      "needs_background": "light"
     },
     "output_type": "display_data"
    }
   ],
   "source": [
    "# here I am plotting the curves for training and testing performance based on model's history.\n",
    "# evaluating the accuracy for train and val, and loss for train and val data.\n",
    "show_learning_curve(model_hist)"
   ]
  },
  {
   "cell_type": "markdown",
   "metadata": {},
   "source": [
    "#### NOTE: Neural networks are not able to perform well on the data as the quantuty of data is very less and for a ANN to train, and I found XGBoost and MLPClassifier to perform pretty well as compared to other models, so I will be using MLPClassifier\n"
   ]
  },
  {
   "cell_type": "markdown",
   "metadata": {},
   "source": [
    "## Predicting gold_label for test data"
   ]
  },
  {
   "cell_type": "code",
   "execution_count": 57,
   "metadata": {},
   "outputs": [
    {
     "name": "stdout",
     "output_type": "stream",
     "text": [
      "[2 0 2 2 0 2 0 0 0 2 1 2 1 0 0 1 1 1 0 1 0 0 0 1 0 0 2 0 1 0 2 0 2 1 0 1 0\n",
      " 1 0 0 0 2 0 0 0 0 0 1 1 0 2 2 0 2 2 0 0 0 2 0 1 0 0 0 0 0 0 1 0 0 0 0 0 0\n",
      " 0 0 0 0 0 2 0 0 1 1 1 0 2 1 2 0 2 0 1 0 0 0 0 0 0 0 1 2 1 2 2 1 0 0 2 2 0\n",
      " 1 0 0 0 1 0 0 0 0 0 1 2 0 2 0 0 0 1 2 2 0 2 2 1 0 1 0 0 2 0 0 1 0 0 2 1 2\n",
      " 1 1 0 0 0 0 0 2 0 0 0 1 2 0 0 1 1 0 0 0 1 0 1 0 2 1 0 0 2 0 1 1 1 0 2 1 0\n",
      " 1 1 0 1 0 0 1 0 0 2 0 2 0 0 0 0 0 1 0 1 1 2 0 0 2 0 1 0 1 0 0 0 1 0 2 0 1\n",
      " 0 0 1 0 0 1 2 2 1 2 2 0 1 0 0 0 2 0 1 0 1 1 1 0 0 0 1 0 1 2 1 2 2 1 0 0 0\n",
      " 2 0 0 1 2 1 1 0 0 2 2 1 0 0 1 0 0 0 0 1 2 1 2 0 0 0 2 1 1 2 1 1 0 0 2 0 0\n",
      " 0 0 1 0 0 0 0 2 1 2 0 1 0 1 2 0 0 0 0 0 0 0 0 2 1 0 0 1 2 2 0 0 0 1 0 2 0\n",
      " 0 0 2 0 0 1 1 0 0 0 2 2 1 2 2 1 0 0 2 0 1 1 0 0 2 0 0 0 0 1 1 2 1 0 2 0 0\n",
      " 2 1 1 1 0 1 2 1 1 1 0 2 0 2 0 0 1 0 1 0 0 2 0 1 2 1 1 0 0 0 0 1 1 1 1 0 0\n",
      " 0 2 2 1 2 2 0 0 1 0 1 0 0 1 0 0 0 1 0 0 1 1 0 0 0 0 0 0 0 1 0 0 2 0 0 0 1\n",
      " 2 0 0 0 0 0 0 1 1 2 0 0 1 1 1 0 1 0 0 0 2 0 1 0 0 0 0 0 2 0 0 0 0 0 0 2 0\n",
      " 0 0 0 2 2 0 1 0 0 0 0 1]\n"
     ]
    }
   ],
   "source": [
    "# Here I am predicting the output for the test dataset using the Multilayer perceptron model\n",
    "test_prediction = mpl_model.predict(df_test_scaled)\n",
    "print(test_prediction)"
   ]
  },
  {
   "cell_type": "code",
   "execution_count": 59,
   "metadata": {},
   "outputs": [
    {
     "data": {
      "text/plain": [
       "array(['neutral', 'contradiction', 'neutral', 'neutral', 'contradiction',\n",
       "       'neutral', 'contradiction', 'contradiction', 'contradiction',\n",
       "       'neutral', 'entailment', 'neutral', 'entailment', 'contradiction',\n",
       "       'contradiction', 'entailment', 'entailment', 'entailment',\n",
       "       'contradiction', 'entailment', 'contradiction', 'contradiction',\n",
       "       'contradiction', 'entailment', 'contradiction', 'contradiction',\n",
       "       'neutral', 'contradiction', 'entailment', 'contradiction',\n",
       "       'neutral', 'contradiction', 'neutral', 'entailment',\n",
       "       'contradiction', 'entailment', 'contradiction', 'entailment',\n",
       "       'contradiction', 'contradiction', 'contradiction', 'neutral',\n",
       "       'contradiction', 'contradiction', 'contradiction', 'contradiction',\n",
       "       'contradiction', 'entailment', 'entailment', 'contradiction',\n",
       "       'neutral', 'neutral', 'contradiction', 'neutral', 'neutral',\n",
       "       'contradiction', 'contradiction', 'contradiction', 'neutral',\n",
       "       'contradiction', 'entailment', 'contradiction', 'contradiction',\n",
       "       'contradiction', 'contradiction', 'contradiction', 'contradiction',\n",
       "       'entailment', 'contradiction', 'contradiction', 'contradiction',\n",
       "       'contradiction', 'contradiction', 'contradiction', 'contradiction',\n",
       "       'contradiction', 'contradiction', 'contradiction', 'contradiction',\n",
       "       'neutral', 'contradiction', 'contradiction', 'entailment',\n",
       "       'entailment', 'entailment', 'contradiction', 'neutral',\n",
       "       'entailment', 'neutral', 'contradiction', 'neutral',\n",
       "       'contradiction', 'entailment', 'contradiction', 'contradiction',\n",
       "       'contradiction', 'contradiction', 'contradiction', 'contradiction',\n",
       "       'contradiction', 'entailment', 'neutral', 'entailment', 'neutral',\n",
       "       'neutral', 'entailment', 'contradiction', 'contradiction',\n",
       "       'neutral', 'neutral', 'contradiction', 'entailment',\n",
       "       'contradiction', 'contradiction', 'contradiction', 'entailment',\n",
       "       'contradiction', 'contradiction', 'contradiction', 'contradiction',\n",
       "       'contradiction', 'entailment', 'neutral', 'contradiction',\n",
       "       'neutral', 'contradiction', 'contradiction', 'contradiction',\n",
       "       'entailment', 'neutral', 'neutral', 'contradiction', 'neutral',\n",
       "       'neutral', 'entailment', 'contradiction', 'entailment',\n",
       "       'contradiction', 'contradiction', 'neutral', 'contradiction',\n",
       "       'contradiction', 'entailment', 'contradiction', 'contradiction',\n",
       "       'neutral', 'entailment', 'neutral', 'entailment', 'entailment',\n",
       "       'contradiction', 'contradiction', 'contradiction', 'contradiction',\n",
       "       'contradiction', 'neutral', 'contradiction', 'contradiction',\n",
       "       'contradiction', 'entailment', 'neutral', 'contradiction',\n",
       "       'contradiction', 'entailment', 'entailment', 'contradiction',\n",
       "       'contradiction', 'contradiction', 'entailment', 'contradiction',\n",
       "       'entailment', 'contradiction', 'neutral', 'entailment',\n",
       "       'contradiction', 'contradiction', 'neutral', 'contradiction',\n",
       "       'entailment', 'entailment', 'entailment', 'contradiction',\n",
       "       'neutral', 'entailment', 'contradiction', 'entailment',\n",
       "       'entailment', 'contradiction', 'entailment', 'contradiction',\n",
       "       'contradiction', 'entailment', 'contradiction', 'contradiction',\n",
       "       'neutral', 'contradiction', 'neutral', 'contradiction',\n",
       "       'contradiction', 'contradiction', 'contradiction', 'contradiction',\n",
       "       'entailment', 'contradiction', 'entailment', 'entailment',\n",
       "       'neutral', 'contradiction', 'contradiction', 'neutral',\n",
       "       'contradiction', 'entailment', 'contradiction', 'entailment',\n",
       "       'contradiction', 'contradiction', 'contradiction', 'entailment',\n",
       "       'contradiction', 'neutral', 'contradiction', 'entailment',\n",
       "       'contradiction', 'contradiction', 'entailment', 'contradiction',\n",
       "       'contradiction', 'entailment', 'neutral', 'neutral', 'entailment',\n",
       "       'neutral', 'neutral', 'contradiction', 'entailment',\n",
       "       'contradiction', 'contradiction', 'contradiction', 'neutral',\n",
       "       'contradiction', 'entailment', 'contradiction', 'entailment',\n",
       "       'entailment', 'entailment', 'contradiction', 'contradiction',\n",
       "       'contradiction', 'entailment', 'contradiction', 'entailment',\n",
       "       'neutral', 'entailment', 'neutral', 'neutral', 'entailment',\n",
       "       'contradiction', 'contradiction', 'contradiction', 'neutral',\n",
       "       'contradiction', 'contradiction', 'entailment', 'neutral',\n",
       "       'entailment', 'entailment', 'contradiction', 'contradiction',\n",
       "       'neutral', 'neutral', 'entailment', 'contradiction',\n",
       "       'contradiction', 'entailment', 'contradiction', 'contradiction',\n",
       "       'contradiction', 'contradiction', 'entailment', 'neutral',\n",
       "       'entailment', 'neutral', 'contradiction', 'contradiction',\n",
       "       'contradiction', 'neutral', 'entailment', 'entailment', 'neutral',\n",
       "       'entailment', 'entailment', 'contradiction', 'contradiction',\n",
       "       'neutral', 'contradiction', 'contradiction', 'contradiction',\n",
       "       'contradiction', 'entailment', 'contradiction', 'contradiction',\n",
       "       'contradiction', 'contradiction', 'neutral', 'entailment',\n",
       "       'neutral', 'contradiction', 'entailment', 'contradiction',\n",
       "       'entailment', 'neutral', 'contradiction', 'contradiction',\n",
       "       'contradiction', 'contradiction', 'contradiction', 'contradiction',\n",
       "       'contradiction', 'contradiction', 'neutral', 'entailment',\n",
       "       'contradiction', 'contradiction', 'entailment', 'neutral',\n",
       "       'neutral', 'contradiction', 'contradiction', 'contradiction',\n",
       "       'entailment', 'contradiction', 'neutral', 'contradiction',\n",
       "       'contradiction', 'contradiction', 'neutral', 'contradiction',\n",
       "       'contradiction', 'entailment', 'entailment', 'contradiction',\n",
       "       'contradiction', 'contradiction', 'neutral', 'neutral',\n",
       "       'entailment', 'neutral', 'neutral', 'entailment', 'contradiction',\n",
       "       'contradiction', 'neutral', 'contradiction', 'entailment',\n",
       "       'entailment', 'contradiction', 'contradiction', 'neutral',\n",
       "       'contradiction', 'contradiction', 'contradiction', 'contradiction',\n",
       "       'entailment', 'entailment', 'neutral', 'entailment',\n",
       "       'contradiction', 'neutral', 'contradiction', 'contradiction',\n",
       "       'neutral', 'entailment', 'entailment', 'entailment',\n",
       "       'contradiction', 'entailment', 'neutral', 'entailment',\n",
       "       'entailment', 'entailment', 'contradiction', 'neutral',\n",
       "       'contradiction', 'neutral', 'contradiction', 'contradiction',\n",
       "       'entailment', 'contradiction', 'entailment', 'contradiction',\n",
       "       'contradiction', 'neutral', 'contradiction', 'entailment',\n",
       "       'neutral', 'entailment', 'entailment', 'contradiction',\n",
       "       'contradiction', 'contradiction', 'contradiction', 'entailment',\n",
       "       'entailment', 'entailment', 'entailment', 'contradiction',\n",
       "       'contradiction', 'contradiction', 'neutral', 'neutral',\n",
       "       'entailment', 'neutral', 'neutral', 'contradiction',\n",
       "       'contradiction', 'entailment', 'contradiction', 'entailment',\n",
       "       'contradiction', 'contradiction', 'entailment', 'contradiction',\n",
       "       'contradiction', 'contradiction', 'entailment', 'contradiction',\n",
       "       'contradiction', 'entailment', 'entailment', 'contradiction',\n",
       "       'contradiction', 'contradiction', 'contradiction', 'contradiction',\n",
       "       'contradiction', 'contradiction', 'entailment', 'contradiction',\n",
       "       'contradiction', 'neutral', 'contradiction', 'contradiction',\n",
       "       'contradiction', 'entailment', 'neutral', 'contradiction',\n",
       "       'contradiction', 'contradiction', 'contradiction', 'contradiction',\n",
       "       'contradiction', 'entailment', 'entailment', 'neutral',\n",
       "       'contradiction', 'contradiction', 'entailment', 'entailment',\n",
       "       'entailment', 'contradiction', 'entailment', 'contradiction',\n",
       "       'contradiction', 'contradiction', 'neutral', 'contradiction',\n",
       "       'entailment', 'contradiction', 'contradiction', 'contradiction',\n",
       "       'contradiction', 'contradiction', 'neutral', 'contradiction',\n",
       "       'contradiction', 'contradiction', 'contradiction', 'contradiction',\n",
       "       'contradiction', 'neutral', 'contradiction', 'contradiction',\n",
       "       'contradiction', 'contradiction', 'neutral', 'neutral',\n",
       "       'contradiction', 'entailment', 'contradiction', 'contradiction',\n",
       "       'contradiction', 'contradiction', 'entailment'], dtype=object)"
      ]
     },
     "execution_count": 59,
     "metadata": {},
     "output_type": "execute_result"
    }
   ],
   "source": [
    "inv_encoded_predictions = encoder.inverse_transform(test_prediction)\n",
    "inv_encoded_predictions"
   ]
  },
  {
   "cell_type": "markdown",
   "metadata": {},
   "source": [
    "## Building the prediction csv file"
   ]
  },
  {
   "cell_type": "code",
   "execution_count": 60,
   "metadata": {},
   "outputs": [],
   "source": [
    "# todo:\n",
    "output = pd.DataFrame( data={\"gold_label\":inv_encoded_predictions} )\n",
    "output.to_csv( \"predicted.csv.csv\", index=False, quoting=3)"
   ]
  },
  {
   "cell_type": "markdown",
   "metadata": {},
   "source": [
    "### Future Scope of this Project\n",
    "* Since the dataset was very small, training a Neural network was not a good idea so I choose to move ahead with ML algorithms. \n",
    "* So, working on a large dataset can improve the learning.\n",
    "* Advanced NLP techniques can be implemented to find the semantic relationship between both the sentences to get a better result.\n",
    "* Due to lack of time I decided to follow this approach but with various iterations during the development, model's performance can increase significantly.\n",
    "* Working with more better Neural Networks will be a better choice for this kind of problem, although bidirectional LSTM should perform well with large dataset.\n",
    "* for any suggestions contact me at [paras.varshney97@gmail.com](paras.varshney97@gmail.com)"
   ]
  },
  {
   "cell_type": "markdown",
   "metadata": {},
   "source": [
    "### Assignment By:\n",
    "#### Paras Varshney\n",
    "* https://www.linkedin.com/in/pv009\n",
    "* https://github.com/paras009\n",
    "* https://towardsdatascience.com/@pv009"
   ]
  },
  {
   "cell_type": "markdown",
   "metadata": {},
   "source": [
    "#### end "
   ]
  }
 ],
 "metadata": {
  "kernelspec": {
   "display_name": "Python 3",
   "language": "python",
   "name": "python3"
  },
  "language_info": {
   "codemirror_mode": {
    "name": "ipython",
    "version": 3
   },
   "file_extension": ".py",
   "mimetype": "text/x-python",
   "name": "python",
   "nbconvert_exporter": "python",
   "pygments_lexer": "ipython3",
   "version": "3.7.3"
  }
 },
 "nbformat": 4,
 "nbformat_minor": 2
}
