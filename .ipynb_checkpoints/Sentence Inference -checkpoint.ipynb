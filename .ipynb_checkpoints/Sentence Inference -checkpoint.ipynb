{
 "cells": [
  {
   "cell_type": "markdown",
   "metadata": {},
   "source": [
    "# Sentence-Inference"
   ]
  },
  {
   "cell_type": "markdown",
   "metadata": {},
   "source": [
    "### The problem is for every given pair of sentences ie. (sentence-1, sentence-2), determine if sentence-2 can be logically inferred given sentence-1."
   ]
  },
  {
   "cell_type": "markdown",
   "metadata": {},
   "source": [
    "## Importing libraries and data"
   ]
  },
  {
   "cell_type": "markdown",
   "metadata": {},
   "source": [
    "### Importing libraries"
   ]
  },
  {
   "cell_type": "code",
   "execution_count": 1,
   "metadata": {},
   "outputs": [
    {
     "name": "stderr",
     "output_type": "stream",
     "text": [
      "Using TensorFlow backend.\n"
     ]
    }
   ],
   "source": [
    "import pandas as pd\n",
    "import numpy as np\n",
    "import matplotlib.pyplot as plt\n",
    "%matplotlib inline\n",
    "import seaborn as sns\n",
    "\n",
    "from bs4 import BeautifulSoup\n",
    "import re\n",
    "from tqdm import tqdm \n",
    "from sklearn.preprocessing import LabelEncoder\n",
    "\n",
    "from sklearn.feature_extraction import text\n",
    "import warnings\n",
    "warnings.filterwarnings(\"ignore\")\n",
    "from keras.preprocessing import sequence\n",
    "\n",
    "from sklearn.feature_extraction.text import TfidfTransformer\n",
    "from sklearn.feature_extraction.text import TfidfVectorizer\n",
    "\n",
    "from sklearn.feature_extraction.text import CountVectorizer\n",
    "from sklearn import metrics\n",
    "from sklearn.metrics import roc_curve, auc\n",
    "from nltk.stem.porter import PorterStemmer\n",
    "\n",
    "from difflib import SequenceMatcher\n",
    "\n",
    "import re\n",
    "\n",
    "from nltk.corpus import stopwords\n",
    "from nltk import word_tokenize, ngrams\n",
    "eng_stopwords = set(stopwords.words('english'))\n",
    "\n",
    "from gensim.models import Word2Vec\n",
    "from gensim.models import KeyedVectors\n",
    "import pickle\n",
    "\n",
    "from sklearn.model_selection import KFold, cross_val_score, train_test_split\n",
    "from sklearn.metrics import confusion_matrix,classification_report\n",
    "from sklearn.metrics import accuracy_score\n",
    "\n",
    "from sklearn.cluster import KMeans\n",
    "from sklearn.neighbors import KNeighborsClassifier\n",
    "from sklearn.svm import SVC\n",
    "from sklearn.multioutput import MultiOutputClassifier\n",
    "from sklearn.ensemble import GradientBoostingClassifier\n",
    "from sklearn.tree import DecisionTreeClassifier\n",
    "from sklearn.naive_bayes import GaussianNB\n",
    "from sklearn.linear_model import LogisticRegression\n",
    "from sklearn.ensemble import RandomForestClassifier\n",
    "import xgboost as xgb\n",
    "\n",
    "import tensorflow as tf\n",
    "from tensorflow.keras.models import Sequential\n",
    "from tensorflow.keras.layers import Dense, Dropout\n",
    "from tensorflow.keras.wrappers.scikit_learn import KerasClassifier\n",
    "\n",
    "\n",
    "from keras.preprocessing.text import Tokenizer\n",
    "from keras.preprocessing.sequence import pad_sequences\n",
    "from keras.layers import Dense , Input , LSTM , Embedding, Dropout , Activation, GRU, Flatten\n",
    "from keras.layers import Bidirectional, GlobalMaxPool1D\n",
    "from keras.models import Model, Sequential\n",
    "from keras.layers import Convolution1D\n",
    "from keras import initializers, regularizers, constraints, optimizers, layers"
   ]
  },
  {
   "cell_type": "markdown",
   "metadata": {},
   "source": [
    "### Importing Dataset"
   ]
  },
  {
   "cell_type": "code",
   "execution_count": 2,
   "metadata": {},
   "outputs": [
    {
     "data": {
      "text/html": [
       "<div>\n",
       "<style scoped>\n",
       "    .dataframe tbody tr th:only-of-type {\n",
       "        vertical-align: middle;\n",
       "    }\n",
       "\n",
       "    .dataframe tbody tr th {\n",
       "        vertical-align: top;\n",
       "    }\n",
       "\n",
       "    .dataframe thead th {\n",
       "        text-align: right;\n",
       "    }\n",
       "</style>\n",
       "<table border=\"1\" class=\"dataframe\">\n",
       "  <thead>\n",
       "    <tr style=\"text-align: right;\">\n",
       "      <th></th>\n",
       "      <th>gold_label</th>\n",
       "      <th>sentence1</th>\n",
       "      <th>sentence2</th>\n",
       "    </tr>\n",
       "  </thead>\n",
       "  <tbody>\n",
       "    <tr>\n",
       "      <th>0</th>\n",
       "      <td>contradiction</td>\n",
       "      <td>A group of men with cowboy hats are watching a...</td>\n",
       "      <td>A group of women are watching a horse race</td>\n",
       "    </tr>\n",
       "    <tr>\n",
       "      <th>1</th>\n",
       "      <td>entailment</td>\n",
       "      <td>A kid with his head shaved sitting and holding...</td>\n",
       "      <td>Child sits with a cigarette.</td>\n",
       "    </tr>\n",
       "    <tr>\n",
       "      <th>2</th>\n",
       "      <td>neutral</td>\n",
       "      <td>A woman riding a bicycle past a car and a grou...</td>\n",
       "      <td>A woman riding a bicycle near a group of her f...</td>\n",
       "    </tr>\n",
       "    <tr>\n",
       "      <th>3</th>\n",
       "      <td>neutral</td>\n",
       "      <td>A woman looking through what appears to be a t...</td>\n",
       "      <td>An female astronamer looking toward the stars ...</td>\n",
       "    </tr>\n",
       "    <tr>\n",
       "      <th>4</th>\n",
       "      <td>entailment</td>\n",
       "      <td>A large group of people stand outside on a roa...</td>\n",
       "      <td>One group of people are watching what another ...</td>\n",
       "    </tr>\n",
       "    <tr>\n",
       "      <th>5</th>\n",
       "      <td>contradiction</td>\n",
       "      <td>A small dark-haired boy climbing in a large tree.</td>\n",
       "      <td>A small dark-haired boy is climbing over a car...</td>\n",
       "    </tr>\n",
       "    <tr>\n",
       "      <th>6</th>\n",
       "      <td>neutral</td>\n",
       "      <td>A man sits beside parked cars on a city street.</td>\n",
       "      <td>A man is sitting on a bench.</td>\n",
       "    </tr>\n",
       "    <tr>\n",
       "      <th>7</th>\n",
       "      <td>entailment</td>\n",
       "      <td>A dog looks content sitting on a bed after rip...</td>\n",
       "      <td>a dog sitting on a bed after ripping up paper.</td>\n",
       "    </tr>\n",
       "    <tr>\n",
       "      <th>8</th>\n",
       "      <td>contradiction</td>\n",
       "      <td>Young children and parents splashing around a ...</td>\n",
       "      <td>There are families eating lunch</td>\n",
       "    </tr>\n",
       "    <tr>\n",
       "      <th>9</th>\n",
       "      <td>entailment</td>\n",
       "      <td>A football coach guiding one of his players on...</td>\n",
       "      <td>The coach knows how to play football.</td>\n",
       "    </tr>\n",
       "  </tbody>\n",
       "</table>\n",
       "</div>"
      ],
      "text/plain": [
       "      gold_label                                          sentence1  \\\n",
       "0  contradiction  A group of men with cowboy hats are watching a...   \n",
       "1     entailment  A kid with his head shaved sitting and holding...   \n",
       "2        neutral  A woman riding a bicycle past a car and a grou...   \n",
       "3        neutral  A woman looking through what appears to be a t...   \n",
       "4     entailment  A large group of people stand outside on a roa...   \n",
       "5  contradiction  A small dark-haired boy climbing in a large tree.   \n",
       "6        neutral    A man sits beside parked cars on a city street.   \n",
       "7     entailment  A dog looks content sitting on a bed after rip...   \n",
       "8  contradiction  Young children and parents splashing around a ...   \n",
       "9     entailment  A football coach guiding one of his players on...   \n",
       "\n",
       "                                           sentence2  \n",
       "0         A group of women are watching a horse race  \n",
       "1                       Child sits with a cigarette.  \n",
       "2  A woman riding a bicycle near a group of her f...  \n",
       "3  An female astronamer looking toward the stars ...  \n",
       "4  One group of people are watching what another ...  \n",
       "5  A small dark-haired boy is climbing over a car...  \n",
       "6                       A man is sitting on a bench.  \n",
       "7     a dog sitting on a bed after ripping up paper.  \n",
       "8                    There are families eating lunch  \n",
       "9              The coach knows how to play football.  "
      ]
     },
     "execution_count": 2,
     "metadata": {},
     "output_type": "execute_result"
    }
   ],
   "source": [
    "# reading training file with the data\n",
    "df_train = pd.read_csv(\"data_set/train.csv\")\n",
    "df_train.head(10)"
   ]
  },
  {
   "cell_type": "code",
   "execution_count": 3,
   "metadata": {},
   "outputs": [
    {
     "data": {
      "text/html": [
       "<div>\n",
       "<style scoped>\n",
       "    .dataframe tbody tr th:only-of-type {\n",
       "        vertical-align: middle;\n",
       "    }\n",
       "\n",
       "    .dataframe tbody tr th {\n",
       "        vertical-align: top;\n",
       "    }\n",
       "\n",
       "    .dataframe thead th {\n",
       "        text-align: right;\n",
       "    }\n",
       "</style>\n",
       "<table border=\"1\" class=\"dataframe\">\n",
       "  <thead>\n",
       "    <tr style=\"text-align: right;\">\n",
       "      <th></th>\n",
       "      <th>sentence1</th>\n",
       "      <th>sentence2</th>\n",
       "    </tr>\n",
       "  </thead>\n",
       "  <tbody>\n",
       "    <tr>\n",
       "      <th>0</th>\n",
       "      <td>Number 13 kicks a soccer ball towards the goal...</td>\n",
       "      <td>A player fighting in a soccer game.</td>\n",
       "    </tr>\n",
       "    <tr>\n",
       "      <th>1</th>\n",
       "      <td>A woman walks next to a subway exit.</td>\n",
       "      <td>A woman is on here way home.</td>\n",
       "    </tr>\n",
       "    <tr>\n",
       "      <th>2</th>\n",
       "      <td>A man walks down the alley talking on his cell...</td>\n",
       "      <td>A man is walking down a wooded path and talkin...</td>\n",
       "    </tr>\n",
       "    <tr>\n",
       "      <th>3</th>\n",
       "      <td>Indian women playing musical chairs with white...</td>\n",
       "      <td>indain woman playing cricket with white woman</td>\n",
       "    </tr>\n",
       "    <tr>\n",
       "      <th>4</th>\n",
       "      <td>An older perhaps Asian man who is wearing a sl...</td>\n",
       "      <td>A tall human wearing</td>\n",
       "    </tr>\n",
       "  </tbody>\n",
       "</table>\n",
       "</div>"
      ],
      "text/plain": [
       "                                           sentence1  \\\n",
       "0  Number 13 kicks a soccer ball towards the goal...   \n",
       "1               A woman walks next to a subway exit.   \n",
       "2  A man walks down the alley talking on his cell...   \n",
       "3  Indian women playing musical chairs with white...   \n",
       "4  An older perhaps Asian man who is wearing a sl...   \n",
       "\n",
       "                                           sentence2  \n",
       "0                A player fighting in a soccer game.  \n",
       "1                       A woman is on here way home.  \n",
       "2  A man is walking down a wooded path and talkin...  \n",
       "3      indain woman playing cricket with white woman  \n",
       "4                               A tall human wearing  "
      ]
     },
     "execution_count": 3,
     "metadata": {},
     "output_type": "execute_result"
    }
   ],
   "source": [
    "df_test = pd.read_csv(\"data_set/test.csv\")\n",
    "df_test.head()"
   ]
  },
  {
   "cell_type": "code",
   "execution_count": 4,
   "metadata": {},
   "outputs": [
    {
     "name": "stdout",
     "output_type": "stream",
     "text": [
      "<class 'pandas.core.frame.DataFrame'>\n",
      "RangeIndex: 9349 entries, 0 to 9348\n",
      "Data columns (total 3 columns):\n",
      "gold_label    9349 non-null object\n",
      "sentence1     9349 non-null object\n",
      "sentence2     9349 non-null object\n",
      "dtypes: object(3)\n",
      "memory usage: 219.2+ KB\n"
     ]
    }
   ],
   "source": [
    "df_train.info()"
   ]
  },
  {
   "cell_type": "code",
   "execution_count": 5,
   "metadata": {},
   "outputs": [
    {
     "data": {
      "text/plain": [
       "(9349, 3)"
      ]
     },
     "execution_count": 5,
     "metadata": {},
     "output_type": "execute_result"
    }
   ],
   "source": [
    "df_train.shape"
   ]
  },
  {
   "cell_type": "code",
   "execution_count": 6,
   "metadata": {},
   "outputs": [
    {
     "data": {
      "text/plain": [
       "gold_label    False\n",
       "sentence1     False\n",
       "sentence2     False\n",
       "dtype: bool"
      ]
     },
     "execution_count": 6,
     "metadata": {},
     "output_type": "execute_result"
    }
   ],
   "source": [
    "# checking if there any missing value in the dataset\n",
    "df_train.isna().any()"
   ]
  },
  {
   "cell_type": "code",
   "execution_count": 7,
   "metadata": {},
   "outputs": [
    {
     "data": {
      "text/plain": [
       "entailment       3166\n",
       "contradiction    3114\n",
       "neutral          3069\n",
       "Name: gold_label, dtype: int64"
      ]
     },
     "execution_count": 7,
     "metadata": {},
     "output_type": "execute_result"
    }
   ],
   "source": [
    "# checking the total number of classes for the target variable\n",
    "df_train.gold_label.value_counts()"
   ]
  },
  {
   "cell_type": "markdown",
   "metadata": {},
   "source": [
    "### NOTE: the data seems to be balanced with no missing values. <br> Now, I can proceed with data cleaning. "
   ]
  },
  {
   "cell_type": "markdown",
   "metadata": {},
   "source": [
    "## Cleaning Data "
   ]
  },
  {
   "cell_type": "code",
   "execution_count": 8,
   "metadata": {},
   "outputs": [],
   "source": [
    "# I have used a custom list of stop words which do not have exceptional strings like 'no', 'nor', 'not'\n",
    "stopwords= set(['br', 'the', 'i', 'me', 'my', 'myself', 'we', 'our', 'ours', 'ourselves', 'you', \"you're\", \"you've\",\\\n",
    "            \"you'll\", \"you'd\", 'your', 'yours', 'yourself', 'yourselves', 'he', 'him', 'his', 'himself', \\\n",
    "            'she', \"she's\", 'her', 'hers', 'herself', 'it', \"it's\", 'its', 'itself', 'they', 'them', 'their',\\\n",
    "            'theirs', 'themselves', 'what', 'which', 'who', 'whom', 'this', 'that', \"that'll\", 'these', 'those', \\\n",
    "            'am', 'is', 'are', 'was', 'were', 'be', 'been', 'being', 'have', 'has', 'had', 'having', 'do', 'does', \\\n",
    "            'did', 'doing', 'a', 'an', 'the', 'and', 'but', 'if', 'or', 'because', 'as', 'until', 'while', 'of', \\\n",
    "            'at', 'by', 'for', 'with', 'about', 'against', 'between', 'into', 'through', 'during', 'before', 'after',\\\n",
    "            'above', 'below', 'to', 'from', 'up', 'down', 'in', 'out', 'on', 'off', 'over', 'under', 'again', 'further',\\\n",
    "            'then', 'once', 'here', 'there', 'when', 'where', 'why', 'how', 'all', 'any', 'both', 'each', 'few', 'more',\\\n",
    "            'most', 'other', 'some', 'such', 'only', 'own', 'same', 'so', 'than', 'too', 'very', \\\n",
    "            's', 't', 'can', 'will', 'just', 'don', \"don't\", 'should', \"should've\", 'now', 'd', 'll', 'm', 'o', 're', \\\n",
    "            've', 'y', 'ain', 'aren', \"aren't\", 'couldn', \"couldn't\", 'didn', \"didn't\", 'doesn', \"doesn't\", 'hadn',\\\n",
    "            \"hadn't\", 'hasn', \"hasn't\", 'haven', \"haven't\", 'isn', \"isn't\", 'ma', 'mightn', \"mightn't\", 'mustn',\\\n",
    "            \"mustn't\", 'needn', \"needn't\", 'shan', \"shan't\", 'shouldn', \"shouldn't\", 'wasn', \"wasn't\", 'weren', \"weren't\", \\\n",
    "            'won', \"won't\", 'wouldn', \"wouldn't\"])"
   ]
  },
  {
   "cell_type": "code",
   "execution_count": 9,
   "metadata": {},
   "outputs": [],
   "source": [
    "def decontracted(phrase):\n",
    "    '''\n",
    "     Here is this function I will replace the words which has short hand representation of two words added together, \n",
    "     like won't is represtative of would not, etc. to the full hand representations of them.\n",
    "    '''\n",
    "    \n",
    "    phrase = re.sub(r\"won't\", \"will not\", phrase)\n",
    "    phrase = re.sub(r\"can\\'t\", \"can not\", phrase)\n",
    "    phrase = re.sub(r\"n\\'t\", \" not\", phrase)\n",
    "    phrase = re.sub(r\"\\'re\", \" are\", phrase)\n",
    "    phrase = re.sub(r\"\\'s\", \" is\", phrase)\n",
    "    phrase = re.sub(r\"\\'d\", \" would\", phrase)\n",
    "    phrase = re.sub(r\"\\'ll\", \" will\", phrase)\n",
    "    phrase = re.sub(r\"\\'t\", \" not\", phrase)\n",
    "    phrase = re.sub(r\"\\'ve\", \" have\", phrase)\n",
    "    phrase = re.sub(r\"\\'m\", \" am\", phrase)\n",
    "    return phrase"
   ]
  },
  {
   "cell_type": "code",
   "execution_count": 10,
   "metadata": {},
   "outputs": [],
   "source": [
    "def clean_text(sentance):\n",
    "    '''\n",
    "    Here is this function I will clean the data by following the steps:\n",
    "    * remove the hyperlinks like http://...\n",
    "    * Remove the HTML and XML tags using BeautifulSoup library.\n",
    "    * removing white spaces and numerical values.\n",
    "    * keeping only ascii characters.\n",
    "    * and finally removing all stopwords from the text and making all characters to lowercase.\n",
    "    '''\n",
    "    \n",
    "    sentance = re.sub(r\"http\\S+\", \"\", sentance)\n",
    "    sentance = BeautifulSoup(sentance, 'lxml').get_text()\n",
    "    sentance = decontracted(sentance)\n",
    "    sentance = re.sub(\"\\S*\\d\\S*\", \"\", sentance).strip()\n",
    "    sentance = re.sub('[^A-Za-z]+', ' ', sentance)\n",
    "    sentance = ' '.join(e.lower() for e in sentance.split() if e.lower() not in stopwords)\n",
    "    return sentance.strip()"
   ]
  },
  {
   "cell_type": "code",
   "execution_count": 11,
   "metadata": {},
   "outputs": [
    {
     "data": {
      "text/html": [
       "<div>\n",
       "<style scoped>\n",
       "    .dataframe tbody tr th:only-of-type {\n",
       "        vertical-align: middle;\n",
       "    }\n",
       "\n",
       "    .dataframe tbody tr th {\n",
       "        vertical-align: top;\n",
       "    }\n",
       "\n",
       "    .dataframe thead th {\n",
       "        text-align: right;\n",
       "    }\n",
       "</style>\n",
       "<table border=\"1\" class=\"dataframe\">\n",
       "  <thead>\n",
       "    <tr style=\"text-align: right;\">\n",
       "      <th></th>\n",
       "      <th>gold_label</th>\n",
       "      <th>sentence1</th>\n",
       "      <th>sentence2</th>\n",
       "    </tr>\n",
       "  </thead>\n",
       "  <tbody>\n",
       "    <tr>\n",
       "      <th>0</th>\n",
       "      <td>contradiction</td>\n",
       "      <td>A group of men with cowboy hats are watching a...</td>\n",
       "      <td>A group of women are watching a horse race</td>\n",
       "    </tr>\n",
       "    <tr>\n",
       "      <th>1</th>\n",
       "      <td>entailment</td>\n",
       "      <td>A kid with his head shaved sitting and holding...</td>\n",
       "      <td>Child sits with a cigarette.</td>\n",
       "    </tr>\n",
       "    <tr>\n",
       "      <th>2</th>\n",
       "      <td>neutral</td>\n",
       "      <td>A woman riding a bicycle past a car and a grou...</td>\n",
       "      <td>A woman riding a bicycle near a group of her f...</td>\n",
       "    </tr>\n",
       "    <tr>\n",
       "      <th>3</th>\n",
       "      <td>neutral</td>\n",
       "      <td>A woman looking through what appears to be a t...</td>\n",
       "      <td>An female astronamer looking toward the stars ...</td>\n",
       "    </tr>\n",
       "    <tr>\n",
       "      <th>4</th>\n",
       "      <td>entailment</td>\n",
       "      <td>A large group of people stand outside on a roa...</td>\n",
       "      <td>One group of people are watching what another ...</td>\n",
       "    </tr>\n",
       "    <tr>\n",
       "      <th>5</th>\n",
       "      <td>contradiction</td>\n",
       "      <td>A small dark-haired boy climbing in a large tree.</td>\n",
       "      <td>A small dark-haired boy is climbing over a car...</td>\n",
       "    </tr>\n",
       "    <tr>\n",
       "      <th>6</th>\n",
       "      <td>neutral</td>\n",
       "      <td>A man sits beside parked cars on a city street.</td>\n",
       "      <td>A man is sitting on a bench.</td>\n",
       "    </tr>\n",
       "    <tr>\n",
       "      <th>7</th>\n",
       "      <td>entailment</td>\n",
       "      <td>A dog looks content sitting on a bed after rip...</td>\n",
       "      <td>a dog sitting on a bed after ripping up paper.</td>\n",
       "    </tr>\n",
       "    <tr>\n",
       "      <th>8</th>\n",
       "      <td>contradiction</td>\n",
       "      <td>Young children and parents splashing around a ...</td>\n",
       "      <td>There are families eating lunch</td>\n",
       "    </tr>\n",
       "    <tr>\n",
       "      <th>9</th>\n",
       "      <td>entailment</td>\n",
       "      <td>A football coach guiding one of his players on...</td>\n",
       "      <td>The coach knows how to play football.</td>\n",
       "    </tr>\n",
       "  </tbody>\n",
       "</table>\n",
       "</div>"
      ],
      "text/plain": [
       "      gold_label                                          sentence1  \\\n",
       "0  contradiction  A group of men with cowboy hats are watching a...   \n",
       "1     entailment  A kid with his head shaved sitting and holding...   \n",
       "2        neutral  A woman riding a bicycle past a car and a grou...   \n",
       "3        neutral  A woman looking through what appears to be a t...   \n",
       "4     entailment  A large group of people stand outside on a roa...   \n",
       "5  contradiction  A small dark-haired boy climbing in a large tree.   \n",
       "6        neutral    A man sits beside parked cars on a city street.   \n",
       "7     entailment  A dog looks content sitting on a bed after rip...   \n",
       "8  contradiction  Young children and parents splashing around a ...   \n",
       "9     entailment  A football coach guiding one of his players on...   \n",
       "\n",
       "                                           sentence2  \n",
       "0         A group of women are watching a horse race  \n",
       "1                       Child sits with a cigarette.  \n",
       "2  A woman riding a bicycle near a group of her f...  \n",
       "3  An female astronamer looking toward the stars ...  \n",
       "4  One group of people are watching what another ...  \n",
       "5  A small dark-haired boy is climbing over a car...  \n",
       "6                       A man is sitting on a bench.  \n",
       "7     a dog sitting on a bed after ripping up paper.  \n",
       "8                    There are families eating lunch  \n",
       "9              The coach knows how to play football.  "
      ]
     },
     "execution_count": 11,
     "metadata": {},
     "output_type": "execute_result"
    }
   ],
   "source": [
    "# data before cleaning\n",
    "df_train.head(10)"
   ]
  },
  {
   "cell_type": "code",
   "execution_count": 12,
   "metadata": {},
   "outputs": [
    {
     "name": "stderr",
     "output_type": "stream",
     "text": [
      "100%|█████████████████████████████████████████████████████████████████████████████| 9349/9349 [00:09<00:00, 996.22it/s]\n"
     ]
    }
   ],
   "source": [
    "preprocessed_sentence1 = []\n",
    "preprocessed_sentence2 = []\n",
    "\n",
    "for i in tqdm(range(len(df_train)), position=0, leave=True):\n",
    "    df_train.sentence1[i] = clean_text(df_train.sentence1[i])\n",
    "    df_train.sentence2[i] = clean_text(df_train.sentence2[i])\n",
    "    preprocessed_sentence1.append(df_train.sentence1[i])\n",
    "    preprocessed_sentence2.append(df_train.sentence2[i])"
   ]
  },
  {
   "cell_type": "code",
   "execution_count": 13,
   "metadata": {},
   "outputs": [
    {
     "name": "stderr",
     "output_type": "stream",
     "text": [
      "100%|███████████████████████████████████████████████████████████████████████████████| 493/493 [00:00<00:00, 996.21it/s]\n"
     ]
    }
   ],
   "source": [
    "for i in tqdm(range(len(df_test)), position=0, leave=True):\n",
    "    df_test.sentence1[i] = clean_text(df_test.sentence1[i])\n",
    "    df_test.sentence2[i] = clean_text(df_test.sentence2[i])"
   ]
  },
  {
   "cell_type": "code",
   "execution_count": 14,
   "metadata": {},
   "outputs": [
    {
     "data": {
      "text/plain": [
       "['group men cowboy hats watching rodeo',\n",
       " 'kid head shaved sitting holding lit cigarette',\n",
       " 'woman riding bicycle past car group people sidewalk',\n",
       " 'woman looking appears telescope',\n",
       " 'large group people stand outside road people higher level look',\n",
       " 'small dark haired boy climbing large tree',\n",
       " 'man sits beside parked cars city street',\n",
       " 'dog looks content sitting bed ripping paper',\n",
       " 'young children parents splashing around public fountain',\n",
       " 'football coach guiding one players']"
      ]
     },
     "execution_count": 14,
     "metadata": {},
     "output_type": "execute_result"
    }
   ],
   "source": [
    "# this is how the clean processed data looks\n",
    "preprocessed_sentence1[:10]"
   ]
  },
  {
   "cell_type": "code",
   "execution_count": 15,
   "metadata": {},
   "outputs": [
    {
     "data": {
      "text/html": [
       "<div>\n",
       "<style scoped>\n",
       "    .dataframe tbody tr th:only-of-type {\n",
       "        vertical-align: middle;\n",
       "    }\n",
       "\n",
       "    .dataframe tbody tr th {\n",
       "        vertical-align: top;\n",
       "    }\n",
       "\n",
       "    .dataframe thead th {\n",
       "        text-align: right;\n",
       "    }\n",
       "</style>\n",
       "<table border=\"1\" class=\"dataframe\">\n",
       "  <thead>\n",
       "    <tr style=\"text-align: right;\">\n",
       "      <th></th>\n",
       "      <th>gold_label</th>\n",
       "      <th>sentence1</th>\n",
       "      <th>sentence2</th>\n",
       "    </tr>\n",
       "  </thead>\n",
       "  <tbody>\n",
       "    <tr>\n",
       "      <th>0</th>\n",
       "      <td>contradiction</td>\n",
       "      <td>group men cowboy hats watching rodeo</td>\n",
       "      <td>group women watching horse race</td>\n",
       "    </tr>\n",
       "    <tr>\n",
       "      <th>1</th>\n",
       "      <td>entailment</td>\n",
       "      <td>kid head shaved sitting holding lit cigarette</td>\n",
       "      <td>child sits cigarette</td>\n",
       "    </tr>\n",
       "    <tr>\n",
       "      <th>2</th>\n",
       "      <td>neutral</td>\n",
       "      <td>woman riding bicycle past car group people sid...</td>\n",
       "      <td>woman riding bicycle near group friends sidewalk</td>\n",
       "    </tr>\n",
       "    <tr>\n",
       "      <th>3</th>\n",
       "      <td>neutral</td>\n",
       "      <td>woman looking appears telescope</td>\n",
       "      <td>female astronamer looking toward stars telescope</td>\n",
       "    </tr>\n",
       "    <tr>\n",
       "      <th>4</th>\n",
       "      <td>entailment</td>\n",
       "      <td>large group people stand outside road people h...</td>\n",
       "      <td>one group people watching another group</td>\n",
       "    </tr>\n",
       "    <tr>\n",
       "      <th>5</th>\n",
       "      <td>contradiction</td>\n",
       "      <td>small dark haired boy climbing large tree</td>\n",
       "      <td>small dark haired boy climbing car seat</td>\n",
       "    </tr>\n",
       "    <tr>\n",
       "      <th>6</th>\n",
       "      <td>neutral</td>\n",
       "      <td>man sits beside parked cars city street</td>\n",
       "      <td>man sitting bench</td>\n",
       "    </tr>\n",
       "    <tr>\n",
       "      <th>7</th>\n",
       "      <td>entailment</td>\n",
       "      <td>dog looks content sitting bed ripping paper</td>\n",
       "      <td>dog sitting bed ripping paper</td>\n",
       "    </tr>\n",
       "    <tr>\n",
       "      <th>8</th>\n",
       "      <td>contradiction</td>\n",
       "      <td>young children parents splashing around public...</td>\n",
       "      <td>families eating lunch</td>\n",
       "    </tr>\n",
       "    <tr>\n",
       "      <th>9</th>\n",
       "      <td>entailment</td>\n",
       "      <td>football coach guiding one players</td>\n",
       "      <td>coach knows play football</td>\n",
       "    </tr>\n",
       "  </tbody>\n",
       "</table>\n",
       "</div>"
      ],
      "text/plain": [
       "      gold_label                                          sentence1  \\\n",
       "0  contradiction               group men cowboy hats watching rodeo   \n",
       "1     entailment      kid head shaved sitting holding lit cigarette   \n",
       "2        neutral  woman riding bicycle past car group people sid...   \n",
       "3        neutral                    woman looking appears telescope   \n",
       "4     entailment  large group people stand outside road people h...   \n",
       "5  contradiction          small dark haired boy climbing large tree   \n",
       "6        neutral            man sits beside parked cars city street   \n",
       "7     entailment        dog looks content sitting bed ripping paper   \n",
       "8  contradiction  young children parents splashing around public...   \n",
       "9     entailment                 football coach guiding one players   \n",
       "\n",
       "                                          sentence2  \n",
       "0                   group women watching horse race  \n",
       "1                              child sits cigarette  \n",
       "2  woman riding bicycle near group friends sidewalk  \n",
       "3  female astronamer looking toward stars telescope  \n",
       "4           one group people watching another group  \n",
       "5           small dark haired boy climbing car seat  \n",
       "6                                 man sitting bench  \n",
       "7                     dog sitting bed ripping paper  \n",
       "8                             families eating lunch  \n",
       "9                         coach knows play football  "
      ]
     },
     "execution_count": 15,
     "metadata": {},
     "output_type": "execute_result"
    }
   ],
   "source": [
    "# data after cleaning\n",
    "df_train.head(10)"
   ]
  },
  {
   "cell_type": "code",
   "execution_count": 16,
   "metadata": {},
   "outputs": [],
   "source": [
    "# converting the gold_label column into a categorical column\n",
    "df_train['gold_label'] = df_train['gold_label'].astype('category')"
   ]
  },
  {
   "cell_type": "code",
   "execution_count": 17,
   "metadata": {},
   "outputs": [
    {
     "data": {
      "text/html": [
       "<div>\n",
       "<style scoped>\n",
       "    .dataframe tbody tr th:only-of-type {\n",
       "        vertical-align: middle;\n",
       "    }\n",
       "\n",
       "    .dataframe tbody tr th {\n",
       "        vertical-align: top;\n",
       "    }\n",
       "\n",
       "    .dataframe thead th {\n",
       "        text-align: right;\n",
       "    }\n",
       "</style>\n",
       "<table border=\"1\" class=\"dataframe\">\n",
       "  <thead>\n",
       "    <tr style=\"text-align: right;\">\n",
       "      <th></th>\n",
       "      <th>gold_label</th>\n",
       "      <th>sentence1</th>\n",
       "      <th>sentence2</th>\n",
       "      <th>gold_label_encoded</th>\n",
       "    </tr>\n",
       "  </thead>\n",
       "  <tbody>\n",
       "    <tr>\n",
       "      <th>0</th>\n",
       "      <td>contradiction</td>\n",
       "      <td>group men cowboy hats watching rodeo</td>\n",
       "      <td>group women watching horse race</td>\n",
       "      <td>0</td>\n",
       "    </tr>\n",
       "    <tr>\n",
       "      <th>1</th>\n",
       "      <td>entailment</td>\n",
       "      <td>kid head shaved sitting holding lit cigarette</td>\n",
       "      <td>child sits cigarette</td>\n",
       "      <td>1</td>\n",
       "    </tr>\n",
       "    <tr>\n",
       "      <th>2</th>\n",
       "      <td>neutral</td>\n",
       "      <td>woman riding bicycle past car group people sid...</td>\n",
       "      <td>woman riding bicycle near group friends sidewalk</td>\n",
       "      <td>2</td>\n",
       "    </tr>\n",
       "    <tr>\n",
       "      <th>3</th>\n",
       "      <td>neutral</td>\n",
       "      <td>woman looking appears telescope</td>\n",
       "      <td>female astronamer looking toward stars telescope</td>\n",
       "      <td>2</td>\n",
       "    </tr>\n",
       "    <tr>\n",
       "      <th>4</th>\n",
       "      <td>entailment</td>\n",
       "      <td>large group people stand outside road people h...</td>\n",
       "      <td>one group people watching another group</td>\n",
       "      <td>1</td>\n",
       "    </tr>\n",
       "    <tr>\n",
       "      <th>5</th>\n",
       "      <td>contradiction</td>\n",
       "      <td>small dark haired boy climbing large tree</td>\n",
       "      <td>small dark haired boy climbing car seat</td>\n",
       "      <td>0</td>\n",
       "    </tr>\n",
       "    <tr>\n",
       "      <th>6</th>\n",
       "      <td>neutral</td>\n",
       "      <td>man sits beside parked cars city street</td>\n",
       "      <td>man sitting bench</td>\n",
       "      <td>2</td>\n",
       "    </tr>\n",
       "    <tr>\n",
       "      <th>7</th>\n",
       "      <td>entailment</td>\n",
       "      <td>dog looks content sitting bed ripping paper</td>\n",
       "      <td>dog sitting bed ripping paper</td>\n",
       "      <td>1</td>\n",
       "    </tr>\n",
       "    <tr>\n",
       "      <th>8</th>\n",
       "      <td>contradiction</td>\n",
       "      <td>young children parents splashing around public...</td>\n",
       "      <td>families eating lunch</td>\n",
       "      <td>0</td>\n",
       "    </tr>\n",
       "    <tr>\n",
       "      <th>9</th>\n",
       "      <td>entailment</td>\n",
       "      <td>football coach guiding one players</td>\n",
       "      <td>coach knows play football</td>\n",
       "      <td>1</td>\n",
       "    </tr>\n",
       "  </tbody>\n",
       "</table>\n",
       "</div>"
      ],
      "text/plain": [
       "      gold_label                                          sentence1  \\\n",
       "0  contradiction               group men cowboy hats watching rodeo   \n",
       "1     entailment      kid head shaved sitting holding lit cigarette   \n",
       "2        neutral  woman riding bicycle past car group people sid...   \n",
       "3        neutral                    woman looking appears telescope   \n",
       "4     entailment  large group people stand outside road people h...   \n",
       "5  contradiction          small dark haired boy climbing large tree   \n",
       "6        neutral            man sits beside parked cars city street   \n",
       "7     entailment        dog looks content sitting bed ripping paper   \n",
       "8  contradiction  young children parents splashing around public...   \n",
       "9     entailment                 football coach guiding one players   \n",
       "\n",
       "                                          sentence2  gold_label_encoded  \n",
       "0                   group women watching horse race                   0  \n",
       "1                              child sits cigarette                   1  \n",
       "2  woman riding bicycle near group friends sidewalk                   2  \n",
       "3  female astronamer looking toward stars telescope                   2  \n",
       "4           one group people watching another group                   1  \n",
       "5           small dark haired boy climbing car seat                   0  \n",
       "6                                 man sitting bench                   2  \n",
       "7                     dog sitting bed ripping paper                   1  \n",
       "8                             families eating lunch                   0  \n",
       "9                         coach knows play football                   1  "
      ]
     },
     "execution_count": 17,
     "metadata": {},
     "output_type": "execute_result"
    }
   ],
   "source": [
    "# converting the gold_label column into numerical values using LabelEncoder\n",
    "encoder = LabelEncoder()\n",
    "df_train['gold_label_encoded'] = encoder.fit_transform(df_train['gold_label'])\n",
    "df_train.head(10)"
   ]
  },
  {
   "cell_type": "markdown",
   "metadata": {},
   "source": [
    "## Data Visualization"
   ]
  },
  {
   "cell_type": "code",
   "execution_count": 18,
   "metadata": {},
   "outputs": [
    {
     "name": "stdout",
     "output_type": "stream",
     "text": [
      "Average Length of sentence 1:  7.985239063001391\n",
      "Average Length of sentence 2:  4.091774521339181\n"
     ]
    }
   ],
   "source": [
    "# this cell shows the average length of words in each sentence\n",
    "avg_length_s1 = df_train['sentence1'].apply(lambda x: len(x.split(\" \"))).mean()\n",
    "avg_length_s2 = df_train['sentence2'].apply(lambda x: len(x.split(\" \"))).mean()\n",
    "print(\"Average Length of sentence 1: \", avg_length_s1)\n",
    "print(\"Average Length of sentence 2: \", avg_length_s2)"
   ]
  },
  {
   "cell_type": "code",
   "execution_count": 19,
   "metadata": {},
   "outputs": [
    {
     "data": {
      "image/png": "[encoded data removed]",
      "text/plain": [
       "<Figure size 720x360 with 1 Axes>"
      ]
     },
     "metadata": {
      "needs_background": "light"
     },
     "output_type": "display_data"
    }
   ],
   "source": [
    "# this plot shows that the data is balanced and all the three categories have very similar number of examples.\n",
    "contradiction_len = df_train[df_train['gold_label'] == 'contradiction'].shape[0]\n",
    "entailment_len = df_train[df_train['gold_label'] == 'entailment'].shape[0]\n",
    "neutral_len = df_train[df_train['gold_label'] == 'neutral'].shape[0]\n",
    "\n",
    "plt.rcParams['figure.figsize'] = (10, 5)\n",
    "plt.bar(0,contradiction_len,3, label=\"contradiction\", color='blue')\n",
    "plt.bar(5,entailment_len,3, label=\"entailment\", color='red')\n",
    "plt.bar(10,neutral_len,3, label=\"neutral\", color='green')\n",
    "\n",
    "plt.legend()\n",
    "plt.ylabel('Number of examples')\n",
    "plt.title('Propertion of examples')\n",
    "plt.show()"
   ]
  },
  {
   "cell_type": "code",
   "execution_count": 20,
   "metadata": {},
   "outputs": [],
   "source": [
    "def length(text):\n",
    "    '''\n",
    "    function to calculate length of a series\n",
    "    '''\n",
    "    return len(text)"
   ]
  },
  {
   "cell_type": "code",
   "execution_count": 21,
   "metadata": {},
   "outputs": [
    {
     "data": {
      "image/png": "[encoded data removed]",
      "text/plain": [
       "<Figure size 1296x432 with 1 Axes>"
      ]
     },
     "metadata": {
      "needs_background": "light"
     },
     "output_type": "display_data"
    }
   ],
   "source": [
    "# Here I am creating the length_s1 column for the training and testing datasets which contains the length of sentence1\n",
    "df_train['length_s1'] = df_train['sentence1'] .apply(length)\n",
    "df_test['length_s1'] = df_test['sentence1'] .apply(length)\n",
    "\n",
    "# Here I am plotting the above created column for all the three categories of the gold_label column\n",
    "plt.rcParams['figure.figsize'] = (18.0, 6.0)\n",
    "bins = 150\n",
    "plt.hist(df_train[df_train['gold_label'] == 'contradiction']['length_s1'], alpha = 0.6, bins=bins, label='contradiction')\n",
    "plt.hist(df_train[df_train['gold_label'] == 'entailment']['length_s1'], alpha = 0.6, bins=bins, label='entailment')\n",
    "plt.hist(df_train[df_train['gold_label'] == 'neutral']['length_s1'], alpha = 0.6, bins=bins, label='neutral')\n",
    "plt.xlabel('length')\n",
    "plt.ylabel('numbers')\n",
    "plt.legend(loc='upper right')\n",
    "plt.xlim(0,150)\n",
    "plt.grid()\n",
    "plt.savefig('./images/length_of_doc_s1.png')\n",
    "plt.show()"
   ]
  },
  {
   "cell_type": "code",
   "execution_count": 22,
   "metadata": {},
   "outputs": [
    {
     "data": {
      "image/png": "[encoded data removed]",
      "text/plain": [
       "<Figure size 1296x432 with 1 Axes>"
      ]
     },
     "metadata": {
      "needs_background": "light"
     },
     "output_type": "display_data"
    }
   ],
   "source": [
    "# Here I am creating the length_s2 column for the training and testing datasets which contains the length of sentence2\n",
    "\n",
    "df_train['length_s2'] = df_train['sentence2'] .apply(length)\n",
    "df_test['length_s2'] = df_test['sentence2'] .apply(length)\n",
    "\n",
    "# Here I am plotting the above created column for all the three categories of the gold_label column\n",
    "plt.rcParams['figure.figsize'] = (18.0, 6.0)\n",
    "bins = 150\n",
    "plt.hist(df_train[df_train['gold_label'] == 'contradiction']['length_s2'], alpha = 0.6, bins=bins, label='contradiction')\n",
    "plt.hist(df_train[df_train['gold_label'] == 'entailment']['length_s2'], alpha = 0.6, bins=bins, label='entailment')\n",
    "plt.hist(df_train[df_train['gold_label'] == 'neutral']['length_s2'], alpha = 0.6, bins=bins, label='neutral')\n",
    "plt.xlabel('length')\n",
    "plt.ylabel('numbers')\n",
    "plt.legend(loc='upper right')\n",
    "plt.xlim(0,150)\n",
    "plt.grid()\n",
    "plt.savefig('./images/length_of_doc_s2.png')\n",
    "plt.show()"
   ]
  },
  {
   "cell_type": "markdown",
   "metadata": {},
   "source": [
    "<hr>"
   ]
  },
  {
   "cell_type": "markdown",
   "metadata": {},
   "source": [
    "## Feature Engineering"
   ]
  },
  {
   "cell_type": "code",
   "execution_count": 23,
   "metadata": {},
   "outputs": [],
   "source": [
    "def seq_similarity(a, b):\n",
    "    '''this function calculate the similarity between two strings using sequence matcher'''\n",
    "    return SequenceMatcher(None, a, b).ratio()\n",
    "    \n",
    "def seq_match_df(df_data):\n",
    "    '''this function will apply the seq_similarity on the dataset passed as parameter for both sentences'''\n",
    "    col1 = 'sentence1'\n",
    "    col2 = 'sentence2'\n",
    "    df_data[col1] = df_data[col1].str.replace(r'\\d', '')\n",
    "    df_data[col2] = df_data[col2].str.replace(r'\\d', '')\n",
    "    df_data['seq_sim'] = 0\n",
    "    df_data['seq_sim'] = df_data.apply(lambda x: seq_similarity(x[col1], x[col2]), axis=1)\n",
    "    return df_data\n",
    "\n",
    "# applying the sequence matching on the training and testing datasets\n",
    "df_train_result_seq = seq_match_df(df_train)\n",
    "df_test_result_seq = seq_match_df(df_test)"
   ]
  },
  {
   "cell_type": "code",
   "execution_count": 24,
   "metadata": {},
   "outputs": [],
   "source": [
    "vectorizer = text.TfidfVectorizer()\n",
    "\n",
    "def cosine_sim(test1, test2):\n",
    "    '''this function calculate the cosine similarity between two strings \n",
    "    using Term frequency and Inverse document frequency vector'''\n",
    "    tfidf = vectorizer.fit_transform([test1, test2])\n",
    "    result = ((tfidf * tfidf.T).A)[0,1]\n",
    "    return result\n",
    "    \n",
    "def cosine_sim_df(df_data):\n",
    "    '''this function will apply the cosine_sim on the dataset passed as parameter for both sentences'''\n",
    "    col1 = 'sentence1'\n",
    "    col2 = 'sentence2'\n",
    "    df_data[col1] = df_data[col1].str.replace(r'\\d', '')\n",
    "    df_data[col2] = df_data[col2].str.replace(r'\\d', '')\n",
    "    df_data['cos_sim'] = 0\n",
    "    df_data['cos_sim'] = df_data.apply(lambda x: cosine_sim(x[col1], x[col2]), axis=1)\n",
    "    return df_data\n",
    "\n",
    "# applying the cosine similarity on the training and testing datasets\n",
    "df_train_result_cos = cosine_sim_df(df_train)\n",
    "df_test_result_cos = cosine_sim_df(df_test)"
   ]
  },
  {
   "cell_type": "markdown",
   "metadata": {},
   "source": [
    "### Unigram"
   ]
  },
  {
   "cell_type": "code",
   "execution_count": 25,
   "metadata": {},
   "outputs": [],
   "source": [
    "\n",
    "def get_unigrams(que):\n",
    "    '''this function will generat the unigram for a string'''\n",
    "    return [word for word in word_tokenize(que.lower()) if word not in eng_stopwords]\n",
    "\n",
    "\n",
    "# Here I am applying the above function to get unigrams for sentence1 and sentence2\n",
    "df_train[\"unigrams_s1\"] = df_train['sentence1'].apply(lambda x: get_unigrams(str(x)))\n",
    "df_train[\"unigrams_s2\"] = df_train['sentence2'].apply(lambda x: get_unigrams(str(x)))\n",
    "df_test[\"unigrams_s1\"] = df_test['sentence1'].apply(lambda x: get_unigrams(str(x)))\n",
    "df_test[\"unigrams_s2\"] = df_test['sentence2'].apply(lambda x: get_unigrams(str(x)))"
   ]
  },
  {
   "cell_type": "code",
   "execution_count": 26,
   "metadata": {},
   "outputs": [],
   "source": [
    "def get_common_unigrams(row):\n",
    "    '''this function finds the intersection between two unigrams in pandas and return length of intersection'''\n",
    "    return len(set(row[\"unigrams_s1\"]).intersection(set(row[\"unigrams_s2\"])) ) \n",
    "\n",
    "# Here I am applying the above function to get unique unigrams\n",
    "df_train[\"unigrams_common_count\"] = df_train.apply(lambda row: get_common_unigrams(row), axis=1)\n",
    "df_test[\"unigrams_common_count\"] = df_test.apply(lambda row: get_common_unigrams(row), axis=1)"
   ]
  },
  {
   "cell_type": "code",
   "execution_count": 27,
   "metadata": {},
   "outputs": [],
   "source": [
    "def get_common_unigram_ratio(row):\n",
    "    '''this function will genetate the ratio of common unigrams to the maximum of union of the two sets'''\n",
    "    return float(row[\"unigrams_common_count\"]) / max(len( set(row[\"unigrams_s1\"]).union(set(row[\"unigrams_s2\"]))), 1)\n",
    "\n",
    "# Here I am applying the above function to get unique unigrams ratio\n",
    "df_train[\"unigrams_common_ratio\"] = df_train.apply(lambda row: get_common_unigram_ratio(row),axis=1)\n",
    "df_test[\"unigrams_common_ratio\"] = df_test.apply(lambda row: get_common_unigram_ratio(row),axis=1)"
   ]
  },
  {
   "cell_type": "markdown",
   "metadata": {},
   "source": [
    "### Bigram"
   ]
  },
  {
   "cell_type": "code",
   "execution_count": 28,
   "metadata": {},
   "outputs": [],
   "source": [
    "def get_bigrams(que):\n",
    "    '''this function creates the bigram for a string'''\n",
    "    return [ i for i in ngrams(que,2)]\n",
    "\n",
    "# Here I am applying the above function to get bigrams for sentence1 and sentence2\n",
    "df_train[\"bigrams_s1\"] = df_train[\"unigrams_s1\"].apply(lambda x: get_bigrams(x))\n",
    "df_train[\"bigrams_s2\"] = df_train[\"unigrams_s2\"].apply(lambda x: get_bigrams(x))\n",
    "df_test[\"bigrams_s1\"] = df_test[\"unigrams_s1\"].apply(lambda x: get_bigrams(x))\n",
    "df_test[\"bigrams_s2\"] = df_test[\"unigrams_s2\"].apply(lambda x: get_bigrams(x))"
   ]
  },
  {
   "cell_type": "code",
   "execution_count": 29,
   "metadata": {},
   "outputs": [],
   "source": [
    "def get_common_bigrams(row):\n",
    "    '''this function finds the intersection between two bigrams in pandas and return length of intersection'''\n",
    "    return len( set(row['bigrams_s1']).intersection(set(row['bigrams_s2'])) )\n",
    "\n",
    "# Here I am applying the above function to get unique bigrams\n",
    "df_train[\"bigrams_common_count\"] = df_train.apply(lambda row: get_common_bigrams(row), axis=1)\n",
    "df_test[\"bigrams_common_count\"] = df_test.apply(lambda row: get_common_bigrams(row), axis=1)"
   ]
  },
  {
   "cell_type": "code",
   "execution_count": 30,
   "metadata": {},
   "outputs": [],
   "source": [
    "def get_common_bigram_ratio(row):\n",
    "    '''this function will genetate the ratio of common bigrams to the maximum of union of the two sets'''\n",
    "    return float(row[\"bigrams_common_count\"]) / max(len( set(row[\"bigrams_s1\"]).union(set(row[\"bigrams_s2\"]))), 1)\n",
    "\n",
    "# Here I am applying the above function to get unique bigrams ratio\n",
    "df_train[\"bigrams_common_ratio\"] = df_train.apply(lambda row: get_common_bigram_ratio(row), axis=1)\n",
    "df_test[\"bigrams_common_ratio\"] = df_test.apply(lambda row: get_common_bigram_ratio(row), axis=1)"
   ]
  },
  {
   "cell_type": "code",
   "execution_count": 31,
   "metadata": {},
   "outputs": [],
   "source": [
    "# train_data_features_2 = vectorizer.fit_transform(X_train[\"sentence2\"])\n",
    "# train_data_features_2 = train_data_features_2.toarray()\n",
    "# print(train_data_features_2.shape)\n",
    "\n",
    "# train_data_features_1 = vectorizer.fit_transform(X_train['sentence1'])\n",
    "# train_data_features_1 = train_data_features_1.toarray()\n",
    "# print(train_data_features_1.shape)\n",
    "\n",
    "# train_data_features_12 = np.stack((train_data_features_1, train_data_features_2), axis=0) \n",
    "# print(train_data_features_12.shape)\n",
    "\n",
    "# train_data_features_12 = train_data_features_12.reshape(train_data_features_1.shape[0], -1)\n",
    "# print(train_data_features_12.shape)"
   ]
  },
  {
   "cell_type": "code",
   "execution_count": 32,
   "metadata": {},
   "outputs": [],
   "source": [
    "# test_data_features_2 = vectorizer.fit_transform(X_test[\"sentence2\"])\n",
    "# test_data_features_2 = test_data_features_2.toarray()\n",
    "# print(test_data_features_2.shape)\n",
    "\n",
    "# test_data_features_1 = vectorizer.fit_transform(X_test['sentence1'])\n",
    "# test_data_features_1 = test_data_features_1.toarray()\n",
    "# print(test_data_features_1.shape)\n",
    "\n",
    "# test_data_features_12 = np.stack((test_data_features_1, test_data_features_2), axis=0) \n",
    "# print(test_data_features_12.shape)\n",
    "\n",
    "# test_data_features_12 = test_data_features_12.reshape(test_data_features_1.shape[0], -1)\n",
    "# print(test_data_features_12.shape)"
   ]
  },
  {
   "cell_type": "code",
   "execution_count": 33,
   "metadata": {},
   "outputs": [],
   "source": [
    "# vocab = vectorizer.get_feature_names()\n",
    "# print(vocab)"
   ]
  },
  {
   "cell_type": "code",
   "execution_count": 34,
   "metadata": {},
   "outputs": [
    {
     "data": {
      "text/html": [
       "<div>\n",
       "<style scoped>\n",
       "    .dataframe tbody tr th:only-of-type {\n",
       "        vertical-align: middle;\n",
       "    }\n",
       "\n",
       "    .dataframe tbody tr th {\n",
       "        vertical-align: top;\n",
       "    }\n",
       "\n",
       "    .dataframe thead th {\n",
       "        text-align: right;\n",
       "    }\n",
       "</style>\n",
       "<table border=\"1\" class=\"dataframe\">\n",
       "  <thead>\n",
       "    <tr style=\"text-align: right;\">\n",
       "      <th></th>\n",
       "      <th>gold_label</th>\n",
       "      <th>sentence1</th>\n",
       "      <th>sentence2</th>\n",
       "      <th>gold_label_encoded</th>\n",
       "      <th>length_s1</th>\n",
       "      <th>length_s2</th>\n",
       "      <th>seq_sim</th>\n",
       "      <th>cos_sim</th>\n",
       "      <th>unigrams_s1</th>\n",
       "      <th>unigrams_s2</th>\n",
       "      <th>unigrams_common_count</th>\n",
       "      <th>unigrams_common_ratio</th>\n",
       "      <th>bigrams_s1</th>\n",
       "      <th>bigrams_s2</th>\n",
       "      <th>bigrams_common_count</th>\n",
       "      <th>bigrams_common_ratio</th>\n",
       "    </tr>\n",
       "  </thead>\n",
       "  <tbody>\n",
       "    <tr>\n",
       "      <th>0</th>\n",
       "      <td>contradiction</td>\n",
       "      <td>group men cowboy hats watching rodeo</td>\n",
       "      <td>group women watching horse race</td>\n",
       "      <td>0</td>\n",
       "      <td>36</td>\n",
       "      <td>31</td>\n",
       "      <td>0.626866</td>\n",
       "      <td>0.225765</td>\n",
       "      <td>[group, men, cowboy, hats, watching, rodeo]</td>\n",
       "      <td>[group, women, watching, horse, race]</td>\n",
       "      <td>2</td>\n",
       "      <td>0.222222</td>\n",
       "      <td>[(group, men), (men, cowboy), (cowboy, hats), ...</td>\n",
       "      <td>[(group, women), (women, watching), (watching,...</td>\n",
       "      <td>0</td>\n",
       "      <td>0.000000</td>\n",
       "    </tr>\n",
       "    <tr>\n",
       "      <th>1</th>\n",
       "      <td>entailment</td>\n",
       "      <td>kid head shaved sitting holding lit cigarette</td>\n",
       "      <td>child sits cigarette</td>\n",
       "      <td>1</td>\n",
       "      <td>45</td>\n",
       "      <td>20</td>\n",
       "      <td>0.492308</td>\n",
       "      <td>0.125367</td>\n",
       "      <td>[kid, head, shaved, sitting, holding, lit, cig...</td>\n",
       "      <td>[child, sits, cigarette]</td>\n",
       "      <td>1</td>\n",
       "      <td>0.111111</td>\n",
       "      <td>[(kid, head), (head, shaved), (shaved, sitting...</td>\n",
       "      <td>[(child, sits), (sits, cigarette)]</td>\n",
       "      <td>0</td>\n",
       "      <td>0.000000</td>\n",
       "    </tr>\n",
       "    <tr>\n",
       "      <th>2</th>\n",
       "      <td>neutral</td>\n",
       "      <td>woman riding bicycle past car group people sid...</td>\n",
       "      <td>woman riding bicycle near group friends sidewalk</td>\n",
       "      <td>2</td>\n",
       "      <td>51</td>\n",
       "      <td>48</td>\n",
       "      <td>0.808081</td>\n",
       "      <td>0.505606</td>\n",
       "      <td>[woman, riding, bicycle, past, car, group, peo...</td>\n",
       "      <td>[woman, riding, bicycle, near, group, friends,...</td>\n",
       "      <td>5</td>\n",
       "      <td>0.500000</td>\n",
       "      <td>[(woman, riding), (riding, bicycle), (bicycle,...</td>\n",
       "      <td>[(woman, riding), (riding, bicycle), (bicycle,...</td>\n",
       "      <td>2</td>\n",
       "      <td>0.181818</td>\n",
       "    </tr>\n",
       "  </tbody>\n",
       "</table>\n",
       "</div>"
      ],
      "text/plain": [
       "      gold_label                                          sentence1  \\\n",
       "0  contradiction               group men cowboy hats watching rodeo   \n",
       "1     entailment      kid head shaved sitting holding lit cigarette   \n",
       "2        neutral  woman riding bicycle past car group people sid...   \n",
       "\n",
       "                                          sentence2  gold_label_encoded  \\\n",
       "0                   group women watching horse race                   0   \n",
       "1                              child sits cigarette                   1   \n",
       "2  woman riding bicycle near group friends sidewalk                   2   \n",
       "\n",
       "   length_s1  length_s2   seq_sim   cos_sim  \\\n",
       "0         36         31  0.626866  0.225765   \n",
       "1         45         20  0.492308  0.125367   \n",
       "2         51         48  0.808081  0.505606   \n",
       "\n",
       "                                         unigrams_s1  \\\n",
       "0        [group, men, cowboy, hats, watching, rodeo]   \n",
       "1  [kid, head, shaved, sitting, holding, lit, cig...   \n",
       "2  [woman, riding, bicycle, past, car, group, peo...   \n",
       "\n",
       "                                         unigrams_s2  unigrams_common_count  \\\n",
       "0              [group, women, watching, horse, race]                      2   \n",
       "1                           [child, sits, cigarette]                      1   \n",
       "2  [woman, riding, bicycle, near, group, friends,...                      5   \n",
       "\n",
       "   unigrams_common_ratio                                         bigrams_s1  \\\n",
       "0               0.222222  [(group, men), (men, cowboy), (cowboy, hats), ...   \n",
       "1               0.111111  [(kid, head), (head, shaved), (shaved, sitting...   \n",
       "2               0.500000  [(woman, riding), (riding, bicycle), (bicycle,...   \n",
       "\n",
       "                                          bigrams_s2  bigrams_common_count  \\\n",
       "0  [(group, women), (women, watching), (watching,...                     0   \n",
       "1                 [(child, sits), (sits, cigarette)]                     0   \n",
       "2  [(woman, riding), (riding, bicycle), (bicycle,...                     2   \n",
       "\n",
       "   bigrams_common_ratio  \n",
       "0              0.000000  \n",
       "1              0.000000  \n",
       "2              0.181818  "
      ]
     },
     "execution_count": 34,
     "metadata": {},
     "output_type": "execute_result"
    }
   ],
   "source": [
    "df_train.head(3)"
   ]
  },
  {
   "cell_type": "code",
   "execution_count": null,
   "metadata": {},
   "outputs": [],
   "source": []
  },
  {
   "cell_type": "code",
   "execution_count": 35,
   "metadata": {},
   "outputs": [],
   "source": [
    "# Here I am removing the object columns from the dataset and creating the input and target datasets for training\n",
    "df_X = df_train.drop(['gold_label', 'sentence1', 'sentence2', 'unigrams_s1',\n",
    "                      'unigrams_s2', 'bigrams_s1', 'bigrams_s2', 'gold_label_encoded'], axis=1)\n",
    "df_y = df_train[\"gold_label_encoded\"]"
   ]
  },
  {
   "cell_type": "code",
   "execution_count": 36,
   "metadata": {},
   "outputs": [],
   "source": [
    "# Here I am removing the object columns from the test dataset and creating the input dataset for testing\n",
    "df_test_X = df_test.drop(['sentence1', 'sentence2', 'unigrams_s1',\n",
    "                      'unigrams_s2', 'bigrams_s1', 'bigrams_s2'], axis=1)"
   ]
  },
  {
   "cell_type": "code",
   "execution_count": 37,
   "metadata": {},
   "outputs": [
    {
     "data": {
      "text/html": [
       "<div>\n",
       "<style scoped>\n",
       "    .dataframe tbody tr th:only-of-type {\n",
       "        vertical-align: middle;\n",
       "    }\n",
       "\n",
       "    .dataframe tbody tr th {\n",
       "        vertical-align: top;\n",
       "    }\n",
       "\n",
       "    .dataframe thead th {\n",
       "        text-align: right;\n",
       "    }\n",
       "</style>\n",
       "<table border=\"1\" class=\"dataframe\">\n",
       "  <thead>\n",
       "    <tr style=\"text-align: right;\">\n",
       "      <th></th>\n",
       "      <th>length_s1</th>\n",
       "      <th>length_s2</th>\n",
       "      <th>seq_sim</th>\n",
       "      <th>cos_sim</th>\n",
       "      <th>unigrams_common_count</th>\n",
       "      <th>unigrams_common_ratio</th>\n",
       "      <th>bigrams_common_count</th>\n",
       "      <th>bigrams_common_ratio</th>\n",
       "    </tr>\n",
       "  </thead>\n",
       "  <tbody>\n",
       "    <tr>\n",
       "      <th>0</th>\n",
       "      <td>36</td>\n",
       "      <td>31</td>\n",
       "      <td>0.626866</td>\n",
       "      <td>0.225765</td>\n",
       "      <td>2</td>\n",
       "      <td>0.222222</td>\n",
       "      <td>0</td>\n",
       "      <td>0.000000</td>\n",
       "    </tr>\n",
       "    <tr>\n",
       "      <th>1</th>\n",
       "      <td>45</td>\n",
       "      <td>20</td>\n",
       "      <td>0.492308</td>\n",
       "      <td>0.125367</td>\n",
       "      <td>1</td>\n",
       "      <td>0.111111</td>\n",
       "      <td>0</td>\n",
       "      <td>0.000000</td>\n",
       "    </tr>\n",
       "    <tr>\n",
       "      <th>2</th>\n",
       "      <td>51</td>\n",
       "      <td>48</td>\n",
       "      <td>0.808081</td>\n",
       "      <td>0.505606</td>\n",
       "      <td>5</td>\n",
       "      <td>0.500000</td>\n",
       "      <td>2</td>\n",
       "      <td>0.181818</td>\n",
       "    </tr>\n",
       "  </tbody>\n",
       "</table>\n",
       "</div>"
      ],
      "text/plain": [
       "   length_s1  length_s2   seq_sim   cos_sim  unigrams_common_count  \\\n",
       "0         36         31  0.626866  0.225765                      2   \n",
       "1         45         20  0.492308  0.125367                      1   \n",
       "2         51         48  0.808081  0.505606                      5   \n",
       "\n",
       "   unigrams_common_ratio  bigrams_common_count  bigrams_common_ratio  \n",
       "0               0.222222                     0              0.000000  \n",
       "1               0.111111                     0              0.000000  \n",
       "2               0.500000                     2              0.181818  "
      ]
     },
     "execution_count": 37,
     "metadata": {},
     "output_type": "execute_result"
    }
   ],
   "source": [
    "df_X.head(3)"
   ]
  },
  {
   "cell_type": "code",
   "execution_count": 38,
   "metadata": {},
   "outputs": [
    {
     "data": {
      "text/html": [
       "<div>\n",
       "<style scoped>\n",
       "    .dataframe tbody tr th:only-of-type {\n",
       "        vertical-align: middle;\n",
       "    }\n",
       "\n",
       "    .dataframe tbody tr th {\n",
       "        vertical-align: top;\n",
       "    }\n",
       "\n",
       "    .dataframe thead th {\n",
       "        text-align: right;\n",
       "    }\n",
       "</style>\n",
       "<table border=\"1\" class=\"dataframe\">\n",
       "  <thead>\n",
       "    <tr style=\"text-align: right;\">\n",
       "      <th></th>\n",
       "      <th>length_s1</th>\n",
       "      <th>length_s2</th>\n",
       "      <th>seq_sim</th>\n",
       "      <th>cos_sim</th>\n",
       "      <th>unigrams_common_count</th>\n",
       "      <th>unigrams_common_ratio</th>\n",
       "      <th>bigrams_common_count</th>\n",
       "      <th>bigrams_common_ratio</th>\n",
       "    </tr>\n",
       "  </thead>\n",
       "  <tbody>\n",
       "    <tr>\n",
       "      <th>0</th>\n",
       "      <td>58</td>\n",
       "      <td>27</td>\n",
       "      <td>0.423529</td>\n",
       "      <td>0.299580</td>\n",
       "      <td>2</td>\n",
       "      <td>0.200000</td>\n",
       "      <td>1</td>\n",
       "      <td>0.1</td>\n",
       "    </tr>\n",
       "    <tr>\n",
       "      <th>1</th>\n",
       "      <td>28</td>\n",
       "      <td>14</td>\n",
       "      <td>0.523810</td>\n",
       "      <td>0.150640</td>\n",
       "      <td>1</td>\n",
       "      <td>0.142857</td>\n",
       "      <td>0</td>\n",
       "      <td>0.0</td>\n",
       "    </tr>\n",
       "    <tr>\n",
       "      <th>2</th>\n",
       "      <td>33</td>\n",
       "      <td>37</td>\n",
       "      <td>0.685714</td>\n",
       "      <td>0.225765</td>\n",
       "      <td>2</td>\n",
       "      <td>0.222222</td>\n",
       "      <td>0</td>\n",
       "      <td>0.0</td>\n",
       "    </tr>\n",
       "  </tbody>\n",
       "</table>\n",
       "</div>"
      ],
      "text/plain": [
       "   length_s1  length_s2   seq_sim   cos_sim  unigrams_common_count  \\\n",
       "0         58         27  0.423529  0.299580                      2   \n",
       "1         28         14  0.523810  0.150640                      1   \n",
       "2         33         37  0.685714  0.225765                      2   \n",
       "\n",
       "   unigrams_common_ratio  bigrams_common_count  bigrams_common_ratio  \n",
       "0               0.200000                     1                   0.1  \n",
       "1               0.142857                     0                   0.0  \n",
       "2               0.222222                     0                   0.0  "
      ]
     },
     "execution_count": 38,
     "metadata": {},
     "output_type": "execute_result"
    }
   ],
   "source": [
    "df_test_X.head(3)"
   ]
  },
  {
   "cell_type": "markdown",
   "metadata": {},
   "source": [
    "### Plotting the correlation"
   ]
  },
  {
   "cell_type": "code",
   "execution_count": 39,
   "metadata": {},
   "outputs": [
    {
     "data": {
      "image/png": "[encoded data removed]",
      "text/plain": [
       "<Figure size 864x720 with 2 Axes>"
      ]
     },
     "metadata": {
      "needs_background": "light"
     },
     "output_type": "display_data"
    }
   ],
   "source": [
    "# here I am plotting the heatmap based on the correlation matrix of features in the dataset. \n",
    "df_X.corr()\n",
    "f, ax = plt.subplots(figsize=(12, 10))\n",
    "sns.heatmap(df_X.corr(), annot=True, linewidths=0.5, square=True, vmax=0.3, center=0, cmap=sns.cubehelix_palette())\n",
    "plt.savefig('./images/correlation_heatmap.png')"
   ]
  },
  {
   "cell_type": "markdown",
   "metadata": {},
   "source": [
    "### Scaling Data"
   ]
  },
  {
   "cell_type": "code",
   "execution_count": 40,
   "metadata": {},
   "outputs": [
    {
     "name": "stdout",
     "output_type": "stream",
     "text": [
      "[[0.11842105 0.18918919 0.61765248 ... 0.22222222 0.         0.        ]\n",
      " [0.15789474 0.11486486 0.47977208 ... 0.11111111 0.         0.        ]\n",
      " [0.18421053 0.30405405 0.80334206 ... 0.5        0.08333333 0.18181818]\n",
      " ...\n",
      " [0.29385965 0.23648649 0.42473468 ... 0.13333333 0.         0.        ]\n",
      " [0.11842105 0.25675676 0.5342312  ... 0.3        0.04166667 0.1       ]\n",
      " [0.18859649 0.35135135 0.93296412 ... 0.77777778 0.20833333 0.55555556]]\n",
      "[[0.21491228 0.16216216 0.40929557 ... 0.2        0.04166667 0.1       ]\n",
      " [0.08333333 0.07432432 0.51205173 ... 0.14285714 0.         0.        ]\n",
      " [0.10526316 0.22972973 0.67795414 ... 0.22222222 0.         0.        ]\n",
      " ...\n",
      " [0.22368421 0.14189189 0.24368019 ... 0.         0.         0.        ]\n",
      " [0.19298246 0.10135135 0.14849591 ... 0.         0.         0.        ]\n",
      " [0.1754386  0.16891892 0.5342312  ... 0.375      0.04166667 0.125     ]]\n"
     ]
    }
   ],
   "source": [
    "# In this cell I am scaling the complete input dataset using MinMaxScaler \n",
    "# which will fit the data in the range of inclusive [0, 1]\n",
    "# fitting the training input data and transforming both training and testing data\n",
    "\n",
    "from sklearn.preprocessing import MinMaxScaler\n",
    "scaler = MinMaxScaler()\n",
    "df_scaled = scaler.fit_transform(df_X)\n",
    "df_test_scaled = scaler.transform(df_test_X)\n",
    "print(df_scaled)\n",
    "print(df_test_scaled)"
   ]
  },
  {
   "cell_type": "code",
   "execution_count": 41,
   "metadata": {},
   "outputs": [
    {
     "data": {
      "text/plain": [
       "(7479, 8)"
      ]
     },
     "execution_count": 41,
     "metadata": {},
     "output_type": "execute_result"
    }
   ],
   "source": [
    "# Here I am splitting the trainign data into train and validation datasets in a ratio of 80:20 percentage.\n",
    "X_train, X_cv, y_train, y_cv = train_test_split(df_scaled, df_y, test_size=0.2, random_state=42)\n",
    "X_train.shape"
   ]
  },
  {
   "cell_type": "markdown",
   "metadata": {},
   "source": [
    "## Building ML Models"
   ]
  },
  {
   "cell_type": "code",
   "execution_count": 42,
   "metadata": {},
   "outputs": [],
   "source": [
    "def model_evaluation(y_test, y_pred):\n",
    "    '''\n",
    "    this function will claculate the evaluation matrix for the real output and predicted output values and generate report for:\n",
    "    * Confusion Matrix\n",
    "    * Matrics like True Positive, True Negative, False Positive and False Negative\n",
    "    * Calculate accuracy based on the above factors\n",
    "    * generate classification report\n",
    "    '''\n",
    "    cm = confusion_matrix(y_test, y_pred)\n",
    "\n",
    "    print(\"Confusion Matrix:\")\n",
    "    print(cm, end=\"\\n\\n\")\n",
    "\n",
    "    TN = cm[0, 0]\n",
    "    FN = cm[0, 1]\n",
    "    FP = cm[1, 0]\n",
    "    TP = cm[1, 1]\n",
    "\n",
    "    P = FN+TP\n",
    "    N = TN+FP\n",
    "\n",
    "    TPR = TP/P\n",
    "    TNR = TN/N\n",
    "    FPR = FP/N\n",
    "    FNR = FN/P\n",
    "\n",
    "    accuracy = (TN+TP)/(P+N)\n",
    "#     print(\"Test Accuracy: \"+str(accuracy), end=\"\\n\\n\")\n",
    "    print(\"Test Accuracy: \"+str(accuracy_score(y_test, y_pred)), end=\"\\n\\n\")\n",
    "    print(\"All 4 parameters: \",TN, FN, FP, TP, end=\"\\n\\n\")\n",
    "    print(\"TPR: {}\".format(TPR))\n",
    "    print(\"TNR: {}\".format(TNR))\n",
    "    print(\"FPR: {}\".format(FPR))\n",
    "    print(\"FNR: {}\".format(FNR))\n",
    "    print()\n",
    "    \n",
    "    print(classification_report(y_test, y_pred))"
   ]
  },
  {
   "cell_type": "markdown",
   "metadata": {},
   "source": [
    "#### Classification models"
   ]
  },
  {
   "cell_type": "code",
   "execution_count": 43,
   "metadata": {},
   "outputs": [
    {
     "name": "stdout",
     "output_type": "stream",
     "text": [
      "LR [0.49298034 0.48215002 0.52667469] 0.5006016847172082\n",
      "NB [0.44925792 0.44003209 0.45166466] 0.44698489102821237\n",
      "RF [0.44845568 0.45166466 0.46409948] 0.4547399384944511\n",
      "Dtree [0.43000401 0.41195347 0.42278379] 0.4215804251905335\n",
      "XGB [0.50300842 0.49578821 0.53269154] 0.5104960556224094\n",
      "KNN [0.46048937 0.459286   0.47412756] 0.46463430939965233\n",
      "SVC [0.49177698 0.48054553 0.50701966] 0.4931140526808397\n"
     ]
    }
   ],
   "source": [
    "# Here I am making a list of some high performing classification machine learnign models \n",
    "# and over each iteration I am printing their performance for 3 cross validations.\n",
    "\n",
    "models = []\n",
    "models.append((\"LR\",LogisticRegression()))\n",
    "models.append((\"NB\",GaussianNB()))\n",
    "models.append((\"RF\",RandomForestClassifier()))\n",
    "models.append((\"Dtree\",DecisionTreeClassifier()))\n",
    "models.append((\"XGB\",xgb.XGBClassifier()))\n",
    "models.append((\"KNN\",KNeighborsClassifier()))\n",
    "models.append((\"SVC\",SVC()))\n",
    "\n",
    "for name,model in models:\n",
    "    kfold = KFold(n_splits=3, random_state=42)\n",
    "    cv_result = cross_val_score(model,X_train,y_train, cv = kfold, scoring = \"accuracy\")\n",
    "    print(name, cv_result, np.mean(cv_result))"
   ]
  },
  {
   "cell_type": "markdown",
   "metadata": {},
   "source": [
    "#### XGB Classifier"
   ]
  },
  {
   "cell_type": "code",
   "execution_count": 44,
   "metadata": {},
   "outputs": [
    {
     "name": "stdout",
     "output_type": "stream",
     "text": [
      "prediction:  [1 2 1 ... 0 0 0]\n",
      "\n",
      "Confusion Matrix:\n",
      "[[380 110 125]\n",
      " [151 396  90]\n",
      " [269 129 220]]\n",
      "\n",
      "Test Accuracy: 0.532620320855615\n",
      "\n",
      "All 4 parameters:  380 110 151 396\n",
      "\n",
      "TPR: 0.782608695652174\n",
      "TNR: 0.7156308851224106\n",
      "FPR: 0.2843691148775895\n",
      "FNR: 0.21739130434782608\n",
      "\n",
      "              precision    recall  f1-score   support\n",
      "\n",
      "           0       0.47      0.62      0.54       615\n",
      "           1       0.62      0.62      0.62       637\n",
      "           2       0.51      0.36      0.42       618\n",
      "\n",
      "   micro avg       0.53      0.53      0.53      1870\n",
      "   macro avg       0.53      0.53      0.53      1870\n",
      "weighted avg       0.54      0.53      0.53      1870\n",
      "\n"
     ]
    }
   ],
   "source": [
    "# Based on the performance analysis of the above models I am selecting XGBClassifier\n",
    "# Here I am training the XGBClassifier using training dataset and validating the matrics using validation dataset.\n",
    "# finally I am generating the performance report of the model.\n",
    "\n",
    "xgb_classifier = xgb.XGBClassifier()\n",
    "hist = xgb_classifier.fit(X_train, y_train)\n",
    "predictions = xgb_classifier.predict(X_cv)\n",
    "print(\"prediction: \", predictions, end=\"\\n\\n\")\n",
    "model_evaluation(y_cv, predictions)"
   ]
  },
  {
   "cell_type": "markdown",
   "metadata": {},
   "source": [
    "### Working on Neural Network"
   ]
  },
  {
   "cell_type": "code",
   "execution_count": 45,
   "metadata": {},
   "outputs": [],
   "source": [
    "def show_learning_curve(hist, fig_name):\n",
    "    '''\n",
    "    this function will plot the graph showing the network's performance on training data \n",
    "    and plots metrics like loss, val_loss, accuracy, val_accuracy.\n",
    "    '''\n",
    "    plt.plot(hist.history['loss'], 'y', label='train loss')\n",
    "    plt.plot(hist.history['val_loss'], 'r', label='val loss')\n",
    "    plt.xlabel('epoch')\n",
    "    plt.ylabel('loss')\n",
    "    plt.legend(loc='lower left')\n",
    "    plt.savefig(f'./images/{fig_name}_loss.png')\n",
    "    plt.show()\n",
    "    \n",
    "    plt.plot(hist.history['accuracy'], 'b', label='train acc')\n",
    "    plt.plot(hist.history['val_accuracy'], 'g', label='val acc')\n",
    "    plt.xlabel('epoch')\n",
    "    plt.ylabel('accuracy')\n",
    "    plt.legend(loc='upper left')\n",
    "    plt.savefig(f'./images/{fig_name}_accuracy.png')\n",
    "    plt.show()\n"
   ]
  },
  {
   "cell_type": "markdown",
   "metadata": {},
   "source": [
    "#### Multi-layer Perceptron"
   ]
  },
  {
   "cell_type": "code",
   "execution_count": 46,
   "metadata": {},
   "outputs": [
    {
     "name": "stdout",
     "output_type": "stream",
     "text": [
      "Confusion Matrix:\n",
      "[[399 108 108]\n",
      " [161 395  81]\n",
      " [281 127 210]]\n",
      "\n",
      "Test Accuracy: 0.5368983957219251\n",
      "\n",
      "All 4 parameters:  399 108 161 395\n",
      "\n",
      "TPR: 0.7852882703777336\n",
      "TNR: 0.7125\n",
      "FPR: 0.2875\n",
      "FNR: 0.2147117296222664\n",
      "\n",
      "              precision    recall  f1-score   support\n",
      "\n",
      "           0       0.47      0.65      0.55       615\n",
      "           1       0.63      0.62      0.62       637\n",
      "           2       0.53      0.34      0.41       618\n",
      "\n",
      "   micro avg       0.54      0.54      0.54      1870\n",
      "   macro avg       0.54      0.54      0.53      1870\n",
      "weighted avg       0.54      0.54      0.53      1870\n",
      "\n"
     ]
    }
   ],
   "source": [
    "# Here I am training the Multi Layer Perceptron Classifier which is available in sklearn library\n",
    "# using training dataset and validating the matrics using validation dataset.\n",
    "# finally I am generating the performance report of the model.\n",
    "\n",
    "from sklearn.neural_network import MLPClassifier\n",
    "mpl_model = MLPClassifier(hidden_layer_sizes=(20,90,120), learning_rate_init=0.001, max_iter=5000)\n",
    "mpl_model.fit(X_train, y_train)\n",
    "predictions = mpl_model.predict(X_cv)\n",
    "\n",
    "model_evaluation(y_cv, predictions)"
   ]
  },
  {
   "cell_type": "markdown",
   "metadata": {},
   "source": [
    "#### Sequential Network"
   ]
  },
  {
   "cell_type": "code",
   "execution_count": 47,
   "metadata": {},
   "outputs": [
    {
     "name": "stdout",
     "output_type": "stream",
     "text": [
      "WARNING:tensorflow:From C:\\Users\\paras\\Anaconda3\\lib\\site-packages\\tensorflow_core\\python\\ops\\resource_variable_ops.py:1630: calling BaseResourceVariable.__init__ (from tensorflow.python.ops.resource_variable_ops) with constraint is deprecated and will be removed in a future version.\n",
      "Instructions for updating:\n",
      "If using Keras pass *_constraint arguments to layers.\n",
      "WARNING:tensorflow:From C:\\Users\\paras\\Anaconda3\\lib\\site-packages\\tensorflow_core\\python\\ops\\nn_impl.py:183: where (from tensorflow.python.ops.array_ops) is deprecated and will be removed in a future version.\n",
      "Instructions for updating:\n",
      "Use tf.where in 2.0, which has the same broadcast rule as np.where\n",
      "WARNING:tensorflow:From C:\\Users\\paras\\Anaconda3\\lib\\site-packages\\keras\\backend\\tensorflow_backend.py:422: The name tf.global_variables is deprecated. Please use tf.compat.v1.global_variables instead.\n",
      "\n",
      "Train on 7479 samples, validate on 1870 samples\n",
      "Epoch 1/100\n",
      "7479/7479 [==============================] - 0s 60us/step - loss: 0.1000 - accuracy: 0.3407 - val_loss: -0.3076 - val_accuracy: 0.3353\n",
      "Epoch 2/100\n",
      "7479/7479 [==============================] - 0s 30us/step - loss: -0.1519 - accuracy: 0.3395 - val_loss: -0.7208 - val_accuracy: 0.3353\n",
      "Epoch 3/100\n",
      "7479/7479 [==============================] - 0s 30us/step - loss: -0.4530 - accuracy: 0.3395 - val_loss: -1.5982 - val_accuracy: 0.3353\n",
      "Epoch 4/100\n",
      "7479/7479 [==============================] - 0s 31us/step - loss: -1.2417 - accuracy: 0.3395 - val_loss: -3.5986 - val_accuracy: 0.3353\n",
      "Epoch 5/100\n",
      "7479/7479 [==============================] - 0s 34us/step - loss: -3.0712 - accuracy: 0.3395 - val_loss: -8.2261 - val_accuracy: 0.3353\n",
      "Epoch 6/100\n",
      "7479/7479 [==============================] - 0s 35us/step - loss: -5.2270 - accuracy: 0.3395 - val_loss: -14.4080 - val_accuracy: 0.3353\n",
      "Epoch 7/100\n",
      "7479/7479 [==============================] - 0s 34us/step - loss: -12.0014 - accuracy: 0.3395 - val_loss: -27.8087 - val_accuracy: 0.3353\n",
      "Epoch 8/100\n",
      "7479/7479 [==============================] - 0s 34us/step - loss: -18.9303 - accuracy: 0.3395 - val_loss: -43.7478 - val_accuracy: 0.3353\n",
      "Epoch 9/100\n",
      "7479/7479 [==============================] - 0s 32us/step - loss: -31.0277 - accuracy: 0.3395 - val_loss: -70.4926 - val_accuracy: 0.3353\n",
      "Epoch 10/100\n",
      "7479/7479 [==============================] - 0s 30us/step - loss: -57.2418 - accuracy: 0.3395 - val_loss: -114.7006 - val_accuracy: 0.3353\n",
      "Epoch 11/100\n",
      "7479/7479 [==============================] - 0s 31us/step - loss: -80.3293 - accuracy: 0.3395 - val_loss: -170.1623 - val_accuracy: 0.3353\n",
      "Epoch 12/100\n",
      "7479/7479 [==============================] - 0s 31us/step - loss: -125.4840 - accuracy: 0.3398 - val_loss: -245.9865 - val_accuracy: 0.3358\n",
      "Epoch 13/100\n",
      "7479/7479 [==============================] - 0s 32us/step - loss: -182.5215 - accuracy: 0.3399 - val_loss: -347.2069 - val_accuracy: 0.3358\n",
      "Epoch 14/100\n",
      "7479/7479 [==============================] - 0s 30us/step - loss: -269.3911 - accuracy: 0.3395 - val_loss: -485.7645 - val_accuracy: 0.3348\n",
      "Epoch 15/100\n",
      "7479/7479 [==============================] - 0s 29us/step - loss: -357.0347 - accuracy: 0.3396 - val_loss: -674.6619 - val_accuracy: 0.3353\n",
      "Epoch 16/100\n",
      "7479/7479 [==============================] - 0s 29us/step - loss: -482.0217 - accuracy: 0.3396 - val_loss: -899.4386 - val_accuracy: 0.3342\n",
      "Epoch 17/100\n",
      "7479/7479 [==============================] - 0s 29us/step - loss: -651.5211 - accuracy: 0.3392 - val_loss: -1170.8257 - val_accuracy: 0.3342\n",
      "Epoch 18/100\n",
      "7479/7479 [==============================] - 0s 30us/step - loss: -808.3477 - accuracy: 0.3399 - val_loss: -1483.3325 - val_accuracy: 0.3342\n",
      "Epoch 19/100\n",
      "7479/7479 [==============================] - 0s 31us/step - loss: -1026.2477 - accuracy: 0.3396 - val_loss: -1885.5086 - val_accuracy: 0.3337\n",
      "Epoch 20/100\n",
      "7479/7479 [==============================] - 0s 33us/step - loss: -1317.9353 - accuracy: 0.3406 - val_loss: -2351.4371 - val_accuracy: 0.3348\n",
      "Epoch 21/100\n",
      "7479/7479 [==============================] - 0s 34us/step - loss: -1662.3209 - accuracy: 0.3407 - val_loss: -2942.9663 - val_accuracy: 0.3342\n",
      "Epoch 22/100\n",
      "7479/7479 [==============================] - 0s 35us/step - loss: -2177.5591 - accuracy: 0.3423 - val_loss: -3686.7932 - val_accuracy: 0.3342\n",
      "Epoch 23/100\n",
      "7479/7479 [==============================] - 0s 33us/step - loss: -2651.7300 - accuracy: 0.3414 - val_loss: -4510.3563 - val_accuracy: 0.3348\n",
      "Epoch 24/100\n",
      "7479/7479 [==============================] - 0s 31us/step - loss: -3272.6476 - accuracy: 0.3403 - val_loss: -5519.7522 - val_accuracy: 0.3348\n",
      "Epoch 25/100\n",
      "7479/7479 [==============================] - 0s 32us/step - loss: -3465.9372 - accuracy: 0.3408 - val_loss: -6523.4211 - val_accuracy: 0.3342\n",
      "Epoch 26/100\n",
      "7479/7479 [==============================] - 0s 34us/step - loss: -4442.5261 - accuracy: 0.3414 - val_loss: -7736.2197 - val_accuracy: 0.3337\n",
      "Epoch 27/100\n",
      "7479/7479 [==============================] - 0s 35us/step - loss: -5545.6781 - accuracy: 0.3415 - val_loss: -9101.4821 - val_accuracy: 0.3337\n",
      "Epoch 28/100\n",
      "7479/7479 [==============================] - 0s 37us/step - loss: -6409.8684 - accuracy: 0.3418 - val_loss: -10839.6948 - val_accuracy: 0.3337\n",
      "Epoch 29/100\n",
      "7479/7479 [==============================] - 0s 33us/step - loss: -7065.5899 - accuracy: 0.3424 - val_loss: -12508.3783 - val_accuracy: 0.3342\n",
      "Epoch 30/100\n",
      "7479/7479 [==============================] - 0s 31us/step - loss: -8874.0671 - accuracy: 0.3426 - val_loss: -14696.1396 - val_accuracy: 0.3342\n",
      "Epoch 31/100\n",
      "7479/7479 [==============================] - 0s 30us/step - loss: -9899.4258 - accuracy: 0.3424 - val_loss: -16948.2329 - val_accuracy: 0.3342\n",
      "Epoch 32/100\n",
      "7479/7479 [==============================] - 0s 29us/step - loss: -11127.6061 - accuracy: 0.3423 - val_loss: -19261.9652 - val_accuracy: 0.3353\n",
      "Epoch 33/100\n",
      "7479/7479 [==============================] - 0s 30us/step - loss: -13132.9610 - accuracy: 0.3424 - val_loss: -22056.5588 - val_accuracy: 0.3342\n",
      "Epoch 34/100\n",
      "7479/7479 [==============================] - 0s 30us/step - loss: -15412.5014 - accuracy: 0.3423 - val_loss: -25347.9108 - val_accuracy: 0.3342\n",
      "Epoch 35/100\n",
      "7479/7479 [==============================] - 0s 32us/step - loss: -18055.1071 - accuracy: 0.3419 - val_loss: -28639.7202 - val_accuracy: 0.3342\n",
      "Epoch 36/100\n",
      "7479/7479 [==============================] - 0s 33us/step - loss: -19662.6893 - accuracy: 0.3422 - val_loss: -32454.7314 - val_accuracy: 0.3342\n",
      "Epoch 37/100\n",
      "7479/7479 [==============================] - 0s 31us/step - loss: -21189.6306 - accuracy: 0.3423 - val_loss: -36714.2732 - val_accuracy: 0.3348\n",
      "Epoch 38/100\n",
      "7479/7479 [==============================] - 0s 29us/step - loss: -24814.1821 - accuracy: 0.3427 - val_loss: -41022.9573 - val_accuracy: 0.3342\n",
      "Epoch 39/100\n",
      "7479/7479 [==============================] - 0s 29us/step - loss: -28113.7141 - accuracy: 0.3416 - val_loss: -45683.8227 - val_accuracy: 0.3337\n",
      "Epoch 40/100\n",
      "7479/7479 [==============================] - 0s 30us/step - loss: -32330.1379 - accuracy: 0.3420 - val_loss: -51328.4724 - val_accuracy: 0.3342\n",
      "Epoch 41/100\n",
      "7479/7479 [==============================] - 0s 30us/step - loss: -35400.2192 - accuracy: 0.3406 - val_loss: -56545.5387 - val_accuracy: 0.3353\n",
      "Epoch 42/100\n",
      "7479/7479 [==============================] - 0s 30us/step - loss: -37246.4710 - accuracy: 0.3389 - val_loss: -62418.2498 - val_accuracy: 0.3353\n",
      "Epoch 43/100\n",
      "7479/7479 [==============================] - 0s 30us/step - loss: -42219.9855 - accuracy: 0.3395 - val_loss: -68963.4023 - val_accuracy: 0.3353\n",
      "Epoch 44/100\n",
      "7479/7479 [==============================] - 0s 42us/step - loss: -44407.4417 - accuracy: 0.3395 - val_loss: -75871.1092 - val_accuracy: 0.3353\n",
      "Epoch 45/100\n",
      "7479/7479 [==============================] - 0s 34us/step - loss: -47829.6495 - accuracy: 0.3395 - val_loss: -82260.6006 - val_accuracy: 0.3353\n",
      "Epoch 46/100\n",
      "7479/7479 [==============================] - 0s 32us/step - loss: -52270.2589 - accuracy: 0.3395 - val_loss: -90188.3743 - val_accuracy: 0.3353\n",
      "Epoch 47/100\n",
      "7479/7479 [==============================] - 0s 30us/step - loss: -58750.4780 - accuracy: 0.3395 - val_loss: -98747.5783 - val_accuracy: 0.3353\n",
      "Epoch 48/100\n"
     ]
    },
    {
     "name": "stdout",
     "output_type": "stream",
     "text": [
      "7479/7479 [==============================] - 0s 30us/step - loss: -65693.9098 - accuracy: 0.3395 - val_loss: -108289.7799 - val_accuracy: 0.3353\n",
      "Epoch 49/100\n",
      "7479/7479 [==============================] - 0s 31us/step - loss: -73036.0899 - accuracy: 0.3395 - val_loss: -117244.4396 - val_accuracy: 0.3353\n",
      "Epoch 50/100\n",
      "7479/7479 [==============================] - 0s 30us/step - loss: -76249.2988 - accuracy: 0.3395 - val_loss: -127236.2364 - val_accuracy: 0.3353\n",
      "Epoch 51/100\n",
      "7479/7479 [==============================] - 0s 30us/step - loss: -83144.3405 - accuracy: 0.3395 - val_loss: -137422.5286 - val_accuracy: 0.3353\n",
      "Epoch 52/100\n",
      "7479/7479 [==============================] - 0s 31us/step - loss: -87123.6334 - accuracy: 0.3395 - val_loss: -148959.8221 - val_accuracy: 0.3353\n",
      "Epoch 53/100\n",
      "7479/7479 [==============================] - 0s 33us/step - loss: -95792.7795 - accuracy: 0.3395 - val_loss: -160635.2406 - val_accuracy: 0.3353\n",
      "Epoch 54/100\n",
      "7479/7479 [==============================] - 0s 32us/step - loss: -106144.6574 - accuracy: 0.3395 - val_loss: -173188.9980 - val_accuracy: 0.3353\n",
      "Epoch 55/100\n",
      "7479/7479 [==============================] - 0s 30us/step - loss: -115778.6822 - accuracy: 0.3395 - val_loss: -186573.0764 - val_accuracy: 0.3353\n",
      "Epoch 56/100\n",
      "7479/7479 [==============================] - 0s 35us/step - loss: -128487.5486 - accuracy: 0.3395 - val_loss: -203292.1934 - val_accuracy: 0.3353\n",
      "Epoch 57/100\n",
      "7479/7479 [==============================] - 0s 32us/step - loss: -141468.1033 - accuracy: 0.3395 - val_loss: -220503.1436 - val_accuracy: 0.3353\n",
      "Epoch 58/100\n",
      "7479/7479 [==============================] - 0s 31us/step - loss: -142635.1589 - accuracy: 0.3395 - val_loss: -235813.8918 - val_accuracy: 0.3353\n",
      "Epoch 59/100\n",
      "7479/7479 [==============================] - 0s 31us/step - loss: -162598.1693 - accuracy: 0.3395 - val_loss: -253718.9595 - val_accuracy: 0.3353\n",
      "Epoch 60/100\n",
      "7479/7479 [==============================] - 0s 30us/step - loss: -169264.4372 - accuracy: 0.3395 - val_loss: -272783.1481 - val_accuracy: 0.3353\n",
      "Epoch 61/100\n",
      "7479/7479 [==============================] - 0s 29us/step - loss: -175878.4083 - accuracy: 0.3395 - val_loss: -292023.4712 - val_accuracy: 0.3353\n",
      "Epoch 62/100\n",
      "7479/7479 [==============================] - 0s 31us/step - loss: -195920.2650 - accuracy: 0.3395 - val_loss: -312518.5196 - val_accuracy: 0.3353\n",
      "Epoch 63/100\n",
      "7479/7479 [==============================] - 0s 31us/step - loss: -216542.8803 - accuracy: 0.3395 - val_loss: -336149.7926 - val_accuracy: 0.3353\n",
      "Epoch 64/100\n",
      "7479/7479 [==============================] - 0s 30us/step - loss: -224527.6118 - accuracy: 0.3395 - val_loss: -359995.4347 - val_accuracy: 0.3353\n",
      "Epoch 65/100\n",
      "7479/7479 [==============================] - 0s 30us/step - loss: -238544.8355 - accuracy: 0.3395 - val_loss: -382717.1206 - val_accuracy: 0.3353\n",
      "Epoch 66/100\n",
      "7479/7479 [==============================] - 0s 32us/step - loss: -252399.9746 - accuracy: 0.3395 - val_loss: -407440.3750 - val_accuracy: 0.3353\n",
      "Epoch 67/100\n",
      "7479/7479 [==============================] - 0s 29us/step - loss: -272522.4937 - accuracy: 0.3395 - val_loss: -434116.9783 - val_accuracy: 0.3353\n",
      "Epoch 68/100\n",
      "7479/7479 [==============================] - 0s 29us/step - loss: -299030.3088 - accuracy: 0.3395 - val_loss: -465751.5088 - val_accuracy: 0.3353\n",
      "Epoch 69/100\n",
      "7479/7479 [==============================] - 0s 29us/step - loss: -319306.6787 - accuracy: 0.3395 - val_loss: -495326.9712 - val_accuracy: 0.3353\n",
      "Epoch 70/100\n",
      "7479/7479 [==============================] - 0s 30us/step - loss: -313252.8332 - accuracy: 0.3395 - val_loss: -524663.6936 - val_accuracy: 0.3353\n",
      "Epoch 71/100\n",
      "7479/7479 [==============================] - 0s 32us/step - loss: -357046.9140 - accuracy: 0.3395 - val_loss: -556792.9822 - val_accuracy: 0.3353\n",
      "Epoch 72/100\n",
      "7479/7479 [==============================] - 0s 32us/step - loss: -369910.6452 - accuracy: 0.3395 - val_loss: -592145.6092 - val_accuracy: 0.3353\n",
      "Epoch 73/100\n",
      "7479/7479 [==============================] - 0s 32us/step - loss: -399004.5538 - accuracy: 0.3395 - val_loss: -626875.2164 - val_accuracy: 0.3353\n",
      "Epoch 74/100\n",
      "7479/7479 [==============================] - 0s 31us/step - loss: -416001.3963 - accuracy: 0.3395 - val_loss: -663434.2458 - val_accuracy: 0.3353\n",
      "Epoch 75/100\n",
      "7479/7479 [==============================] - 0s 32us/step - loss: -430196.0981 - accuracy: 0.3395 - val_loss: -702219.8375 - val_accuracy: 0.3353\n",
      "Epoch 76/100\n",
      "7479/7479 [==============================] - 0s 34us/step - loss: -436080.0099 - accuracy: 0.3395 - val_loss: -739376.1687 - val_accuracy: 0.3353\n",
      "Epoch 77/100\n",
      "7479/7479 [==============================] - 0s 32us/step - loss: -484347.1247 - accuracy: 0.3395 - val_loss: -781899.0457 - val_accuracy: 0.3353\n",
      "Epoch 78/100\n",
      "7479/7479 [==============================] - 0s 32us/step - loss: -485396.1232 - accuracy: 0.3395 - val_loss: -817747.0516 - val_accuracy: 0.3353\n",
      "Epoch 79/100\n",
      "7479/7479 [==============================] - 0s 33us/step - loss: -551221.7581 - accuracy: 0.3395 - val_loss: -861580.8320 - val_accuracy: 0.3353\n",
      "Epoch 80/100\n",
      "7479/7479 [==============================] - 0s 34us/step - loss: -586838.7797 - accuracy: 0.3395 - val_loss: -906945.2806 - val_accuracy: 0.3353\n",
      "Epoch 81/100\n",
      "7479/7479 [==============================] - 0s 33us/step - loss: -602354.6645 - accuracy: 0.3395 - val_loss: -958830.2658 - val_accuracy: 0.3353\n",
      "Epoch 82/100\n",
      "7479/7479 [==============================] - 0s 32us/step - loss: -614395.8778 - accuracy: 0.3395 - val_loss: -1006183.2864 - val_accuracy: 0.3353\n",
      "Epoch 83/100\n",
      "7479/7479 [==============================] - 0s 32us/step - loss: -652512.9148 - accuracy: 0.3395 - val_loss: -1056900.0552 - val_accuracy: 0.3353\n",
      "Epoch 84/100\n",
      "7479/7479 [==============================] - 0s 33us/step - loss: -724109.9277 - accuracy: 0.3395 - val_loss: -1110125.2493 - val_accuracy: 0.3353\n",
      "Epoch 85/100\n",
      "7479/7479 [==============================] - 0s 32us/step - loss: -721024.5361 - accuracy: 0.3395 - val_loss: -1159964.6992 - val_accuracy: 0.3353\n",
      "Epoch 86/100\n",
      "7479/7479 [==============================] - 0s 39us/step - loss: -707393.3026 - accuracy: 0.3395 - val_loss: -1213741.1545 - val_accuracy: 0.3353\n",
      "Epoch 87/100\n",
      "7479/7479 [==============================] - 0s 37us/step - loss: -766419.2063 - accuracy: 0.3395 - val_loss: -1268826.5642 - val_accuracy: 0.3353\n",
      "Epoch 88/100\n",
      "7479/7479 [==============================] - 0s 35us/step - loss: -874733.5176 - accuracy: 0.3395 - val_loss: -1334054.3897 - val_accuracy: 0.3353\n",
      "Epoch 89/100\n",
      "7479/7479 [==============================] - 0s 35us/step - loss: -896663.6839 - accuracy: 0.3395 - val_loss: -1397025.7198 - val_accuracy: 0.3353\n",
      "Epoch 90/100\n",
      "7479/7479 [==============================] - 0s 34us/step - loss: -943617.2490 - accuracy: 0.3395 - val_loss: -1464785.4976 - val_accuracy: 0.3353\n",
      "Epoch 91/100\n",
      "7479/7479 [==============================] - 0s 33us/step - loss: -988419.2357 - accuracy: 0.3395 - val_loss: -1537356.9571 - val_accuracy: 0.3353\n",
      "Epoch 92/100\n",
      "7479/7479 [==============================] - 0s 34us/step - loss: -995078.6016 - accuracy: 0.3395 - val_loss: -1613201.1713 - val_accuracy: 0.3353\n",
      "Epoch 93/100\n",
      "7479/7479 [==============================] - 0s 34us/step - loss: -1015087.9795 - accuracy: 0.3395 - val_loss: -1685788.2956 - val_accuracy: 0.3353\n",
      "Epoch 94/100\n",
      "7479/7479 [==============================] - 0s 34us/step - loss: -1107088.5866 - accuracy: 0.3395 - val_loss: -1765572.4648 - val_accuracy: 0.3353\n",
      "Epoch 95/100\n",
      "7479/7479 [==============================] - 0s 31us/step - loss: -1125497.5484 - accuracy: 0.3395 - val_loss: -1844713.9894 - val_accuracy: 0.3353\n",
      "Epoch 96/100\n",
      "7479/7479 [==============================] - 0s 31us/step - loss: -1218528.3440 - accuracy: 0.3395 - val_loss: -1924139.8183 - val_accuracy: 0.3353\n",
      "Epoch 97/100\n",
      "7479/7479 [==============================] - 0s 35us/step - loss: -1278016.5574 - accuracy: 0.3395 - val_loss: -2016695.8319 - val_accuracy: 0.3353\n",
      "Epoch 98/100\n",
      "7479/7479 [==============================] - 0s 33us/step - loss: -1346655.1604 - accuracy: 0.3395 - val_loss: -2102166.3647 - val_accuracy: 0.3353\n",
      "Epoch 99/100\n"
     ]
    },
    {
     "name": "stdout",
     "output_type": "stream",
     "text": [
      "7479/7479 [==============================] - 0s 32us/step - loss: -1462361.4763 - accuracy: 0.3395 - val_loss: -2202001.0022 - val_accuracy: 0.3353\n",
      "Epoch 100/100\n",
      "7479/7479 [==============================] - 0s 33us/step - loss: -1499950.0634 - accuracy: 0.3395 - val_loss: -2296123.3113 - val_accuracy: 0.3353\n",
      "{'val_loss': [-0.307557059382213, -0.7207690153848678, -1.5982338696877587, -3.5986308456787013, -8.226141075718212, -14.408030216069145, -27.80869017055328, -43.747753415196975, -70.4925980720928, -114.70062874472715, -170.16230925391702, -245.98650248930417, -347.20692654471986, -485.7645202167531, -674.6619283273259, -899.4385567635776, -1170.825746977393, -1483.332538574137, -1885.5085828852525, -2351.437100721553, -2942.9662637965566, -3686.793162993569, -4510.3563115329025, -5519.752215217141, -6523.421149513938, -7736.219671830774, -9101.482109029026, -10839.694812427868, -12508.378275205745, -14696.1395741427, -16948.232892408727, -19261.96522836124, -22056.558819775913, -25347.910769212693, -28639.72024487174, -32454.73140891988, -36714.2732183283, -41022.95730917212, -45683.822735301954, -51328.472394157856, -56545.53865989644, -62418.24977952274, -68963.40228238846, -75871.10917426941, -82260.60058601909, -90188.37433204039, -98747.57828325893, -108289.77986244977, -117244.43959738991, -127236.23637757327, -137422.52857783515, -148959.8220769709, -160635.2406319195, -173188.99804165275, -186573.07635922355, -203292.19343836166, -220503.14357525014, -235813.8917719387, -253718.95949517723, -272783.1480513792, -292023.47124623996, -312518.51961872284, -336149.7925914418, -359995.43468389666, -382717.1205963298, -407440.3749516941, -434116.9783197903, -465751.5088308406, -495326.97118096176, -524663.6936283214, -556792.9821947067, -592145.6091713319, -626875.216394761, -663434.2458352481, -702219.8374806776, -739376.1687325054, -781899.0457482976, -817747.0515714431, -861580.8319907775, -906945.2805985231, -958830.2658103902, -1006183.2864141617, -1056900.055224087, -1110125.2492571336, -1159964.6992331112, -1213741.1544692095, -1268826.5642181234, -1334054.3896797711, -1397025.7197578961, -1464785.497584705, -1537356.9571148062, -1613201.1713214405, -1685788.2955537683, -1765572.4648333055, -1844713.98936748, -1924139.8183280414, -2016695.831890249, -2102166.364670371, -2202001.0021829046, -2296123.3113384554], 'val_accuracy': [0.33529412746429443, 0.33529412746429443, 0.33529412746429443, 0.33529412746429443, 0.33529412746429443, 0.33529412746429443, 0.33529412746429443, 0.33529412746429443, 0.33529412746429443, 0.33529412746429443, 0.33529412746429443, 0.33582887053489685, 0.33582887053489685, 0.33475935459136963, 0.33529412746429443, 0.3342246115207672, 0.3342246115207672, 0.3342246115207672, 0.3336898386478424, 0.33475935459136963, 0.3342246115207672, 0.3342246115207672, 0.33475935459136963, 0.33475935459136963, 0.3342246115207672, 0.3336898386478424, 0.3336898386478424, 0.3336898386478424, 0.3342246115207672, 0.3342246115207672, 0.3342246115207672, 0.33529412746429443, 0.3342246115207672, 0.3342246115207672, 0.3342246115207672, 0.3342246115207672, 0.33475935459136963, 0.3342246115207672, 0.3336898386478424, 0.3342246115207672, 0.33529412746429443, 0.33529412746429443, 0.33529412746429443, 0.33529412746429443, 0.33529412746429443, 0.33529412746429443, 0.33529412746429443, 0.33529412746429443, 0.33529412746429443, 0.33529412746429443, 0.33529412746429443, 0.33529412746429443, 0.33529412746429443, 0.33529412746429443, 0.33529412746429443, 0.33529412746429443, 0.33529412746429443, 0.33529412746429443, 0.33529412746429443, 0.33529412746429443, 0.33529412746429443, 0.33529412746429443, 0.33529412746429443, 0.33529412746429443, 0.33529412746429443, 0.33529412746429443, 0.33529412746429443, 0.33529412746429443, 0.33529412746429443, 0.33529412746429443, 0.33529412746429443, 0.33529412746429443, 0.33529412746429443, 0.33529412746429443, 0.33529412746429443, 0.33529412746429443, 0.33529412746429443, 0.33529412746429443, 0.33529412746429443, 0.33529412746429443, 0.33529412746429443, 0.33529412746429443, 0.33529412746429443, 0.33529412746429443, 0.33529412746429443, 0.33529412746429443, 0.33529412746429443, 0.33529412746429443, 0.33529412746429443, 0.33529412746429443, 0.33529412746429443, 0.33529412746429443, 0.33529412746429443, 0.33529412746429443, 0.33529412746429443, 0.33529412746429443, 0.33529412746429443, 0.33529412746429443, 0.33529412746429443, 0.33529412746429443], 'loss': [0.09996610061768733, -0.15193591704021783, -0.4530492588262026, -1.2416871435668053, -3.0711589754902913, -5.226982202352504, -12.001441468021591, -18.93032826841284, -31.0276987249798, -57.241765527327374, -80.3293436760122, -125.48401760108204, -182.5215293323313, -269.3911378462376, -357.0347475183729, -482.02168964820044, -651.5210859709555, -808.3477328040731, -1026.2477346512862, -1317.9353496781293, -1662.3208683068492, -2177.559099211924, -2651.7299727795516, -3272.647619844455, -3465.9372332537614, -4442.526095226465, -5545.678054138339, -6409.868414452312, -7065.589875642685, -8874.06707792235, -9899.425762219103, -11127.606091497926, -13132.960987926024, -15412.50139392782, -18055.107124786642, -19662.689326435633, -21189.630610631644, -24814.182130611873, -28113.71408141037, -32330.137894633644, -35400.219169028096, -37246.470975102355, -42219.98545860049, -44407.441700408606, -47829.64950095946, -52270.25890921501, -58750.478030106206, -65693.90981414627, -73036.0898724273, -76249.29881968461, -83144.34050811021, -87123.63342372069, -95792.7794741128, -106144.65744073641, -115778.68220065664, -128487.54862815101, -141468.10333386608, -142635.15894922448, -162598.16929884144, -169264.43716530636, -175878.4083178342, -195920.26501698245, -216542.88025351192, -224527.61176670654, -238544.83549067596, -252399.97456236838, -272522.49365436763, -299030.3087747908, -319306.678654399, -313252.83321790595, -357046.9139948627, -369910.64520187775, -399004.5538438618, -416001.39625100675, -430196.09811809, -436080.0099037722, -484347.1247105176, -485396.12323437916, -551221.7581120366, -586838.7796517097, -602354.664542196, -614395.8778011048, -652512.9147602872, -724109.9276677823, -721024.5361052614, -707393.3026476923, -766419.2063381636, -874733.5175679403, -896663.6838873292, -943617.2489998036, -988419.2357385184, -995078.6015860033, -1015087.9795004136, -1107088.5866175292, -1125497.5483739888, -1218528.3440458805, -1278016.5574003041, -1346655.160387627, -1462361.4762752373, -1499950.0633993933], 'accuracy': [0.34068725, 0.3394839, 0.3394839, 0.3394839, 0.3394839, 0.3394839, 0.3394839, 0.3394839, 0.3394839, 0.3394839, 0.3394839, 0.3397513, 0.33988503, 0.3394839, 0.3396176, 0.3396176, 0.33921647, 0.33988503, 0.3396176, 0.34055355, 0.34068725, 0.34229174, 0.3413558, 0.34028614, 0.34082097, 0.3413558, 0.3414895, 0.3417569, 0.34242547, 0.34255916, 0.34242547, 0.34229174, 0.34242547, 0.34229174, 0.34189063, 0.34215805, 0.34229174, 0.34269288, 0.34162322, 0.34202433, 0.34055355, 0.33894905, 0.3394839, 0.3394839, 0.3394839, 0.3394839, 0.3394839, 0.3394839, 0.3394839, 0.3394839, 0.3394839, 0.3394839, 0.3394839, 0.3394839, 0.3394839, 0.3394839, 0.3394839, 0.3394839, 0.3394839, 0.3394839, 0.3394839, 0.3394839, 0.3394839, 0.3394839, 0.3394839, 0.3394839, 0.3394839, 0.3394839, 0.3394839, 0.3394839, 0.3394839, 0.3394839, 0.3394839, 0.3394839, 0.3394839, 0.3394839, 0.3394839, 0.3394839, 0.3394839, 0.3394839, 0.3394839, 0.3394839, 0.3394839, 0.3394839, 0.3394839, 0.3394839, 0.3394839, 0.3394839, 0.3394839, 0.3394839, 0.3394839, 0.3394839, 0.3394839, 0.3394839, 0.3394839, 0.3394839, 0.3394839, 0.3394839, 0.3394839, 0.3394839]}\n"
     ]
    }
   ],
   "source": [
    "# Here I am buiding a simple sequential 3 layer ANN with a dropout of 0.1 and running over 100 epocs for 50 batch size\n",
    "# parallely measuring the validation score for 20% of data.\n",
    "\n",
    "inp = len(df_X.columns)\n",
    "classifier = Sequential()\n",
    "classifier.add(Dense(units = inp, kernel_initializer = 'uniform', activation = 'relu', input_dim = df_X.shape[1]))\n",
    "classifier.add(Dropout(0.1))\n",
    "classifier.add(Dense(units = inp*2, kernel_initializer = 'uniform', activation = 'relu'))\n",
    "classifier.add(Dropout(0.1))\n",
    "classifier.add(Dense(units = inp*3, kernel_initializer = 'uniform', activation = 'relu'))\n",
    "classifier.add(Dropout(0.1))\n",
    "classifier.add(Dense(units = 1, kernel_initializer = 'uniform', activation = 'sigmoid'))\n",
    "classifier.compile(optimizer = 'RMSProp', loss = 'binary_crossentropy', metrics = ['accuracy'])\n",
    "model_hist = classifier.fit(df_X, df_y, batch_size = 50, epochs = 100, validation_split=0.2)\n",
    "print(model_hist.history)"
   ]
  },
  {
   "cell_type": "code",
   "execution_count": 48,
   "metadata": {},
   "outputs": [
    {
     "data": {
      "image/png": "[encoded data removed]",
      "text/plain": [
       "<Figure size 1296x432 with 1 Axes>"
      ]
     },
     "metadata": {
      "needs_background": "light"
     },
     "output_type": "display_data"
    },
    {
     "data": {
      "image/png": "[encoded data removed]",
      "text/plain": [
       "<Figure size 1296x432 with 1 Axes>"
      ]
     },
     "metadata": {
      "needs_background": "light"
     },
     "output_type": "display_data"
    }
   ],
   "source": [
    "# here I am plotting the curves for training and testing performance based on model's history.\n",
    "# evaluating the accuracy for train and val, and loss for train and val data.\n",
    "show_learning_curve(model_hist, 'sequential_model_performance')"
   ]
  },
  {
   "cell_type": "markdown",
   "metadata": {},
   "source": [
    "#### Bidirectional LSTM Network"
   ]
  },
  {
   "cell_type": "code",
   "execution_count": 49,
   "metadata": {},
   "outputs": [
    {
     "name": "stdout",
     "output_type": "stream",
     "text": [
      "Train on 7479 samples, validate on 1870 samples\n",
      "Epoch 1/100\n",
      "7479/7479 [==============================] - 2s 314us/step - loss: 0.0956 - accuracy: 0.3395 - val_loss: -0.0955 - val_accuracy: 0.3353\n",
      "Epoch 2/100\n",
      "7479/7479 [==============================] - 2s 246us/step - loss: -0.2030 - accuracy: 0.3395 - val_loss: -1.0980 - val_accuracy: 0.3353\n",
      "Epoch 3/100\n",
      "7479/7479 [==============================] - 2s 249us/step - loss: -2.0265 - accuracy: 0.3395 - val_loss: -4.4088 - val_accuracy: 0.3353\n",
      "Epoch 4/100\n",
      "7479/7479 [==============================] - 2s 274us/step - loss: -5.1271 - accuracy: 0.3395 - val_loss: -8.9415 - val_accuracy: 0.3353\n",
      "Epoch 5/100\n",
      "7479/7479 [==============================] - 2s 274us/step - loss: -9.6947 - accuracy: 0.3395 - val_loss: -13.3294 - val_accuracy: 0.3353\n",
      "Epoch 6/100\n",
      "7479/7479 [==============================] - 2s 265us/step - loss: -15.0428 - accuracy: 0.3395 - val_loss: -19.5495 - val_accuracy: 0.3353\n",
      "Epoch 7/100\n",
      "7479/7479 [==============================] - 2s 279us/step - loss: -22.1089 - accuracy: 0.3395 - val_loss: -28.7532 - val_accuracy: 0.3353\n",
      "Epoch 8/100\n",
      "7479/7479 [==============================] - 2s 267us/step - loss: -30.2371 - accuracy: 0.3395 - val_loss: -37.5271 - val_accuracy: 0.3353\n",
      "Epoch 9/100\n",
      "7479/7479 [==============================] - 2s 281us/step - loss: -40.6595 - accuracy: 0.3395 - val_loss: -49.1467 - val_accuracy: 0.3353\n",
      "Epoch 10/100\n",
      "7479/7479 [==============================] - 2s 321us/step - loss: -51.6732 - accuracy: 0.3395 - val_loss: -61.1021 - val_accuracy: 0.3353\n",
      "Epoch 11/100\n",
      "7479/7479 [==============================] - 2s 296us/step - loss: -65.3164 - accuracy: 0.3395 - val_loss: -67.6868 - val_accuracy: 0.3353\n",
      "Epoch 12/100\n",
      "7479/7479 [==============================] - 2s 259us/step - loss: -78.5097 - accuracy: 0.3395 - val_loss: -84.4418 - val_accuracy: 0.3353\n",
      "Epoch 13/100\n",
      "7479/7479 [==============================] - 2s 250us/step - loss: -94.4731 - accuracy: 0.3396 - val_loss: -105.2386 - val_accuracy: 0.3353\n",
      "Epoch 14/100\n",
      "7479/7479 [==============================] - 2s 245us/step - loss: -109.1266 - accuracy: 0.3396 - val_loss: -117.8734 - val_accuracy: 0.3353\n",
      "Epoch 15/100\n",
      "7479/7479 [==============================] - 2s 246us/step - loss: -129.4892 - accuracy: 0.3396 - val_loss: -135.7818 - val_accuracy: 0.3364\n",
      "Epoch 16/100\n",
      "7479/7479 [==============================] - 2s 242us/step - loss: -151.6217 - accuracy: 0.3439 - val_loss: -153.5641 - val_accuracy: 0.3385\n",
      "Epoch 17/100\n",
      "7479/7479 [==============================] - 2s 240us/step - loss: -173.6316 - accuracy: 0.3423 - val_loss: -167.4534 - val_accuracy: 0.3364\n",
      "Epoch 18/100\n",
      "7479/7479 [==============================] - 2s 237us/step - loss: -197.9552 - accuracy: 0.3430 - val_loss: -191.1636 - val_accuracy: 0.3412\n",
      "Epoch 19/100\n",
      "7479/7479 [==============================] - 2s 249us/step - loss: -219.8357 - accuracy: 0.3427 - val_loss: -207.5347 - val_accuracy: 0.3385\n",
      "Epoch 20/100\n",
      "7479/7479 [==============================] - 2s 238us/step - loss: -247.3191 - accuracy: 0.3431 - val_loss: -235.0526 - val_accuracy: 0.3406\n",
      "Epoch 21/100\n",
      "7479/7479 [==============================] - 2s 240us/step - loss: -274.2872 - accuracy: 0.3439 - val_loss: -254.8797 - val_accuracy: 0.3358\n",
      "Epoch 22/100\n",
      "7479/7479 [==============================] - 2s 243us/step - loss: -303.4561 - accuracy: 0.3427 - val_loss: -282.5104 - val_accuracy: 0.3396\n",
      "Epoch 23/100\n",
      "7479/7479 [==============================] - 2s 244us/step - loss: -339.1397 - accuracy: 0.3422 - val_loss: -308.5753 - val_accuracy: 0.3385\n",
      "Epoch 24/100\n",
      "7479/7479 [==============================] - 2s 244us/step - loss: -366.6660 - accuracy: 0.3440 - val_loss: -332.5328 - val_accuracy: 0.3380\n",
      "Epoch 25/100\n",
      "7479/7479 [==============================] - 2s 245us/step - loss: -362.1042 - accuracy: 0.3472 - val_loss: -342.1004 - val_accuracy: 0.3551\n",
      "Epoch 26/100\n",
      "7479/7479 [==============================] - 2s 240us/step - loss: -411.4383 - accuracy: 0.3565 - val_loss: -370.4332 - val_accuracy: 0.3433\n",
      "Epoch 27/100\n",
      "7479/7479 [==============================] - 2s 236us/step - loss: -453.3061 - accuracy: 0.3514 - val_loss: -402.5929 - val_accuracy: 0.3449\n",
      "Epoch 28/100\n",
      "7479/7479 [==============================] - 2s 238us/step - loss: -494.9003 - accuracy: 0.3551 - val_loss: -432.3413 - val_accuracy: 0.3455\n",
      "Epoch 29/100\n",
      "7479/7479 [==============================] - 2s 244us/step - loss: -539.9253 - accuracy: 0.3527 - val_loss: -450.7132 - val_accuracy: 0.3513\n",
      "Epoch 30/100\n",
      "7479/7479 [==============================] - 2s 240us/step - loss: -582.6731 - accuracy: 0.3514 - val_loss: -483.1583 - val_accuracy: 0.3433\n",
      "Epoch 31/100\n",
      "7479/7479 [==============================] - 2s 241us/step - loss: -626.6911 - accuracy: 0.3513 - val_loss: -501.1000 - val_accuracy: 0.3422\n",
      "Epoch 32/100\n",
      "7479/7479 [==============================] - 2s 247us/step - loss: -684.4591 - accuracy: 0.3508 - val_loss: -568.4195 - val_accuracy: 0.3513\n",
      "Epoch 33/100\n",
      "7479/7479 [==============================] - 2s 246us/step - loss: -716.1197 - accuracy: 0.3571 - val_loss: -546.6212 - val_accuracy: 0.3412\n",
      "Epoch 34/100\n",
      "7479/7479 [==============================] - 2s 246us/step - loss: -703.3552 - accuracy: 0.3539 - val_loss: -622.6989 - val_accuracy: 0.3508\n",
      "Epoch 35/100\n",
      "7479/7479 [==============================] - 2s 239us/step - loss: -793.6773 - accuracy: 0.3579 - val_loss: -633.6782 - val_accuracy: 0.3487\n",
      "Epoch 36/100\n",
      "7479/7479 [==============================] - 2s 238us/step - loss: -843.3478 - accuracy: 0.3566 - val_loss: -662.3978 - val_accuracy: 0.3503\n",
      "Epoch 37/100\n",
      "7479/7479 [==============================] - 2s 242us/step - loss: -846.9989 - accuracy: 0.3589 - val_loss: -691.0480 - val_accuracy: 0.3503\n",
      "Epoch 38/100\n",
      "7479/7479 [==============================] - 2s 240us/step - loss: -942.7861 - accuracy: 0.3569 - val_loss: -748.2182 - val_accuracy: 0.3497\n",
      "Epoch 39/100\n",
      "7479/7479 [==============================] - 2s 241us/step - loss: -1018.3710 - accuracy: 0.3577 - val_loss: -789.9197 - val_accuracy: 0.3519\n",
      "Epoch 40/100\n",
      "7479/7479 [==============================] - 2s 242us/step - loss: -1057.8531 - accuracy: 0.3565 - val_loss: -810.8717 - val_accuracy: 0.3433\n",
      "Epoch 41/100\n",
      "7479/7479 [==============================] - 2s 246us/step - loss: -1116.6950 - accuracy: 0.3570 - val_loss: -882.0894 - val_accuracy: 0.3455\n",
      "Epoch 42/100\n",
      "7479/7479 [==============================] - 2s 241us/step - loss: -1184.6959 - accuracy: 0.3558 - val_loss: -911.0909 - val_accuracy: 0.3551\n",
      "Epoch 43/100\n",
      "7479/7479 [==============================] - 2s 239us/step - loss: -1251.8329 - accuracy: 0.3571 - val_loss: -938.7187 - val_accuracy: 0.3465\n",
      "Epoch 44/100\n",
      "7479/7479 [==============================] - 2s 249us/step - loss: -1324.1498 - accuracy: 0.3547 - val_loss: -990.9647 - val_accuracy: 0.3422\n",
      "Epoch 45/100\n",
      "7479/7479 [==============================] - 2s 245us/step - loss: -1383.4527 - accuracy: 0.3557 - val_loss: -1028.3419 - val_accuracy: 0.3455\n",
      "Epoch 46/100\n",
      "7479/7479 [==============================] - 2s 244us/step - loss: -1451.7877 - accuracy: 0.3547 - val_loss: -1079.3571 - val_accuracy: 0.3439\n",
      "Epoch 47/100\n",
      "7479/7479 [==============================] - 2s 241us/step - loss: -1508.1053 - accuracy: 0.3581 - val_loss: -1100.1575 - val_accuracy: 0.3476\n",
      "Epoch 48/100\n",
      "7479/7479 [==============================] - 2s 245us/step - loss: -1576.2987 - accuracy: 0.3587 - val_loss: -1198.2494 - val_accuracy: 0.3433\n",
      "Epoch 49/100\n",
      "7479/7479 [==============================] - 2s 250us/step - loss: -1648.9012 - accuracy: 0.3558 - val_loss: -1237.0444 - val_accuracy: 0.3449\n",
      "Epoch 50/100\n",
      "7479/7479 [==============================] - 2s 251us/step - loss: -1725.2483 - accuracy: 0.3555 - val_loss: -1276.0661 - val_accuracy: 0.3471\n",
      "Epoch 51/100\n",
      "7479/7479 [==============================] - 2s 240us/step - loss: -1761.2249 - accuracy: 0.3586 - val_loss: -1333.2946 - val_accuracy: 0.3508\n",
      "Epoch 52/100\n",
      "7479/7479 [==============================] - 2s 252us/step - loss: -1826.6044 - accuracy: 0.3609 - val_loss: -1412.5274 - val_accuracy: 0.3476\n",
      "Epoch 53/100\n",
      "7479/7479 [==============================] - 2s 277us/step - loss: -1926.2225 - accuracy: 0.3551 - val_loss: -1423.9394 - val_accuracy: 0.3460\n",
      "Epoch 54/100\n"
     ]
    },
    {
     "name": "stdout",
     "output_type": "stream",
     "text": [
      "7479/7479 [==============================] - 2s 246us/step - loss: -2029.6441 - accuracy: 0.3578 - val_loss: -1470.6038 - val_accuracy: 0.3497\n",
      "Epoch 55/100\n",
      "7479/7479 [==============================] - 2s 255us/step - loss: -2090.9175 - accuracy: 0.3606 - val_loss: -1572.4475 - val_accuracy: 0.3524\n",
      "Epoch 56/100\n",
      "7479/7479 [==============================] - 2s 248us/step - loss: -2128.4390 - accuracy: 0.3570 - val_loss: -1619.5733 - val_accuracy: 0.3476\n",
      "Epoch 57/100\n",
      "7479/7479 [==============================] - 2s 251us/step - loss: -2215.5319 - accuracy: 0.3573 - val_loss: -1646.6181 - val_accuracy: 0.3492\n",
      "Epoch 58/100\n",
      "7479/7479 [==============================] - 2s 249us/step - loss: -2272.5925 - accuracy: 0.3570 - val_loss: -1655.2465 - val_accuracy: 0.3471\n",
      "Epoch 59/100\n",
      "7479/7479 [==============================] - 2s 242us/step - loss: -2375.0785 - accuracy: 0.3603 - val_loss: -1703.4800 - val_accuracy: 0.3476\n",
      "Epoch 60/100\n",
      "7479/7479 [==============================] - 2s 250us/step - loss: -2494.0022 - accuracy: 0.3597 - val_loss: -1789.2544 - val_accuracy: 0.3460\n",
      "Epoch 61/100\n",
      "7479/7479 [==============================] - 2s 243us/step - loss: -2597.2366 - accuracy: 0.3611 - val_loss: -1807.8773 - val_accuracy: 0.3471\n",
      "Epoch 62/100\n",
      "7479/7479 [==============================] - 2s 258us/step - loss: -2691.2662 - accuracy: 0.3602 - val_loss: -1912.5994 - val_accuracy: 0.3444\n",
      "Epoch 63/100\n",
      "7479/7479 [==============================] - 2s 258us/step - loss: -2777.5300 - accuracy: 0.3623 - val_loss: -1929.1828 - val_accuracy: 0.3460\n",
      "Epoch 64/100\n",
      "7479/7479 [==============================] - 2s 263us/step - loss: -2827.5511 - accuracy: 0.3598 - val_loss: -2051.5546 - val_accuracy: 0.3487\n",
      "Epoch 65/100\n",
      "7479/7479 [==============================] - 2s 260us/step - loss: -2948.4824 - accuracy: 0.3619 - val_loss: -2093.7662 - val_accuracy: 0.3503\n",
      "Epoch 66/100\n",
      "7479/7479 [==============================] - 2s 263us/step - loss: -3080.9655 - accuracy: 0.3601 - val_loss: -2146.8247 - val_accuracy: 0.3503\n",
      "Epoch 67/100\n",
      "7479/7479 [==============================] - 2s 251us/step - loss: -3176.6032 - accuracy: 0.3597 - val_loss: -2312.4798 - val_accuracy: 0.3503\n",
      "Epoch 68/100\n",
      "7479/7479 [==============================] - 2s 286us/step - loss: -3296.9305 - accuracy: 0.3618 - val_loss: -2374.8578 - val_accuracy: 0.3503\n",
      "Epoch 69/100\n",
      "7479/7479 [==============================] - 2s 240us/step - loss: -3274.7517 - accuracy: 0.3607 - val_loss: -2415.2457 - val_accuracy: 0.3497\n",
      "Epoch 70/100\n",
      "7479/7479 [==============================] - 2s 258us/step - loss: -3429.3086 - accuracy: 0.3614 - val_loss: -2448.5528 - val_accuracy: 0.3588\n",
      "Epoch 71/100\n",
      "7479/7479 [==============================] - 2s 239us/step - loss: -3554.5562 - accuracy: 0.3627 - val_loss: -2584.0977 - val_accuracy: 0.3471\n",
      "Epoch 72/100\n",
      "7479/7479 [==============================] - 2s 253us/step - loss: -3647.5776 - accuracy: 0.3614 - val_loss: -2615.4522 - val_accuracy: 0.3476\n",
      "Epoch 73/100\n",
      "7479/7479 [==============================] - 2s 298us/step - loss: -3766.0654 - accuracy: 0.3610 - val_loss: -2736.9377 - val_accuracy: 0.3540\n",
      "Epoch 74/100\n",
      "7479/7479 [==============================] - 2s 261us/step - loss: -3877.0521 - accuracy: 0.3633 - val_loss: -2713.2427 - val_accuracy: 0.3439\n",
      "Epoch 75/100\n",
      "7479/7479 [==============================] - 2s 241us/step - loss: -3996.4326 - accuracy: 0.3637 - val_loss: -2827.7239 - val_accuracy: 0.3535\n",
      "Epoch 76/100\n",
      "7479/7479 [==============================] - 2s 239us/step - loss: -4116.2449 - accuracy: 0.3617 - val_loss: -3074.3869 - val_accuracy: 0.3519\n",
      "Epoch 77/100\n",
      "7479/7479 [==============================] - 2s 231us/step - loss: -4191.6938 - accuracy: 0.3653 - val_loss: -3042.2784 - val_accuracy: 0.3433\n",
      "Epoch 78/100\n",
      "7479/7479 [==============================] - 2s 232us/step - loss: -4276.2695 - accuracy: 0.3625 - val_loss: -3169.4960 - val_accuracy: 0.3594\n",
      "Epoch 79/100\n",
      "7479/7479 [==============================] - 2s 288us/step - loss: -4390.5338 - accuracy: 0.3627 - val_loss: -3234.8708 - val_accuracy: 0.3487\n",
      "Epoch 80/100\n",
      "7479/7479 [==============================] - 2s 231us/step - loss: -4556.5630 - accuracy: 0.3634 - val_loss: -3274.1089 - val_accuracy: 0.3556\n",
      "Epoch 81/100\n",
      "7479/7479 [==============================] - 2s 240us/step - loss: -4700.4452 - accuracy: 0.3644 - val_loss: -3428.3660 - val_accuracy: 0.3449\n",
      "Epoch 82/100\n",
      "7479/7479 [==============================] - 2s 275us/step - loss: -4780.1756 - accuracy: 0.3613 - val_loss: -3478.0132 - val_accuracy: 0.3594\n",
      "Epoch 83/100\n",
      "7479/7479 [==============================] - 2s 242us/step - loss: -4941.0751 - accuracy: 0.3641 - val_loss: -3504.2216 - val_accuracy: 0.3524\n",
      "Epoch 84/100\n",
      "7479/7479 [==============================] - 2s 233us/step - loss: -5034.8226 - accuracy: 0.3638 - val_loss: -3551.4345 - val_accuracy: 0.3460\n",
      "Epoch 85/100\n",
      "7479/7479 [==============================] - 2s 226us/step - loss: -5166.8632 - accuracy: 0.3637 - val_loss: -3669.4734 - val_accuracy: 0.3422\n",
      "Epoch 86/100\n",
      "7479/7479 [==============================] - 2s 226us/step - loss: -5187.1090 - accuracy: 0.3646 - val_loss: -3750.5205 - val_accuracy: 0.3476\n",
      "Epoch 87/100\n",
      "7479/7479 [==============================] - 2s 235us/step - loss: -5208.4395 - accuracy: 0.3610 - val_loss: -3767.1650 - val_accuracy: 0.3556\n",
      "Epoch 88/100\n",
      "7479/7479 [==============================] - 2s 233us/step - loss: -5389.2034 - accuracy: 0.3649 - val_loss: -3767.9906 - val_accuracy: 0.3588\n",
      "Epoch 89/100\n",
      "7479/7479 [==============================] - 2s 226us/step - loss: -5537.7090 - accuracy: 0.3660 - val_loss: -3854.3601 - val_accuracy: 0.3572\n",
      "Epoch 90/100\n",
      "7479/7479 [==============================] - 2s 228us/step - loss: -5722.8367 - accuracy: 0.3677 - val_loss: -3843.6635 - val_accuracy: 0.3513\n",
      "Epoch 91/100\n",
      "7479/7479 [==============================] - 2s 230us/step - loss: -5885.4595 - accuracy: 0.3685 - val_loss: -3920.1909 - val_accuracy: 0.3545\n",
      "Epoch 92/100\n",
      "7479/7479 [==============================] - 2s 228us/step - loss: -5963.9312 - accuracy: 0.3660 - val_loss: -4037.9868 - val_accuracy: 0.3529\n",
      "Epoch 93/100\n",
      "7479/7479 [==============================] - 2s 230us/step - loss: -6246.3606 - accuracy: 0.3656 - val_loss: -4204.0770 - val_accuracy: 0.3567\n",
      "Epoch 94/100\n",
      "7479/7479 [==============================] - 2s 230us/step - loss: -6434.9624 - accuracy: 0.3665 - val_loss: -4305.9582 - val_accuracy: 0.3567\n",
      "Epoch 95/100\n",
      "7479/7479 [==============================] - 2s 223us/step - loss: -6649.0000 - accuracy: 0.3676 - val_loss: -4462.7657 - val_accuracy: 0.3503\n",
      "Epoch 96/100\n",
      "7479/7479 [==============================] - 2s 227us/step - loss: -6831.6040 - accuracy: 0.3681 - val_loss: -4472.0969 - val_accuracy: 0.3497\n",
      "Epoch 97/100\n",
      "7479/7479 [==============================] - 2s 264us/step - loss: -6949.1329 - accuracy: 0.3669 - val_loss: -4675.6396 - val_accuracy: 0.3556\n",
      "Epoch 98/100\n",
      "7479/7479 [==============================] - 2s 271us/step - loss: -7049.9003 - accuracy: 0.3708 - val_loss: -4622.4043 - val_accuracy: 0.3524\n",
      "Epoch 99/100\n",
      "7479/7479 [==============================] - 2s 232us/step - loss: -7208.5123 - accuracy: 0.3677 - val_loss: -4777.6653 - val_accuracy: 0.3610\n",
      "Epoch 100/100\n",
      "7479/7479 [==============================] - 2s 220us/step - loss: -7427.1492 - accuracy: 0.3698 - val_loss: -4933.4751 - val_accuracy: 0.3610\n",
      "{'val_loss': [-0.0955101190642877, -1.097966383943424, -4.4088065797951135, -8.941453977941192, -13.32942955331369, -19.549496552523443, -28.75319897108537, -37.527130230225346, -49.14665178564143, -61.102100930749415, -67.68675454415101, -84.44181791346341, -105.23862541423125, -117.87339215801362, -135.78182491325438, -153.5641327975268, -167.4534152994819, -191.16355313719276, -207.5347176057132, -235.052649380689, -254.87967817541113, -282.51036205393746, -308.5753430555211, -332.53281452566546, -342.10035052783985, -370.4332167681526, -402.5929255957272, -432.3413360412108, -450.7132110187714, -483.15826555751863, -501.09995304199464, -568.4194630607565, -546.6211567027046, -622.6988874527223, -633.6782348551214, -662.3977831570222, -691.0480435213303, -748.2182353674409, -789.9196768367992, -810.8717109251787, -882.0894170750909, -911.0909078261432, -938.7186836609866, -990.9646546062938, -1028.3419074808212, -1079.3570780218604, -1100.1575494858032, -1198.2494218795696, -1237.0443529649215, -1276.0660562158268, -1333.2945949534044, -1412.527371447354, -1423.9393805029558, -1470.6037699844749, -1572.447508052071, -1619.5733271945608, -1646.6180624120375, -1655.2465015758169, -1703.4799942587786, -1789.2544197857699, -1807.8772897159351, -1912.5993866129993, -1929.1827926227754, -2051.554596967238, -2093.766223111892, -2146.8246641108058, -2312.4798162531724, -2374.8577547124364, -2415.245689779679, -2448.552765239369, -2584.09768929711, -2615.4521983753552, -2736.937674037913, -2713.242740656603, -2827.7238751579735, -3074.386908913679, -3042.278375452215, -3169.495960419191, -3234.8707798024548, -3274.1088893706788, -3428.366037827762, -3478.0131936302796, -3504.2216490883243, -3551.434537346988, -3669.4734058890112, -3750.5205122187813, -3767.1650294747583, -3767.9905643157144, -3854.360073905578, -3843.6635038814443, -3920.190905078847, -4037.9867617153227, -4204.076995523218, -4305.958213194169, -4462.765661545615, -4472.096875848617, -4675.639604945872, -4622.404286369283, -4777.665264231636, -4933.475130458567], 'val_accuracy': [0.33529412746429443, 0.33529412746429443, 0.33529412746429443, 0.33529412746429443, 0.33529412746429443, 0.33529412746429443, 0.33529412746429443, 0.33529412746429443, 0.33529412746429443, 0.33529412746429443, 0.33529412746429443, 0.33529412746429443, 0.33529412746429443, 0.33529412746429443, 0.33636364340782166, 0.3385026752948761, 0.33636364340782166, 0.34117648005485535, 0.3385026752948761, 0.34064170718193054, 0.33582887053489685, 0.3395721912384033, 0.3385026752948761, 0.3379679024219513, 0.3550802171230316, 0.3433155119419098, 0.3449198007583618, 0.34545454382896423, 0.35133689641952515, 0.3433155119419098, 0.34224599599838257, 0.35133689641952515, 0.34117648005485535, 0.35080215334892273, 0.3486630916595459, 0.3502673804759979, 0.3502673804759979, 0.3497326076030731, 0.35187166929244995, 0.3433155119419098, 0.34545454382896423, 0.3550802171230316, 0.34652405977249146, 0.34224599599838257, 0.34545454382896423, 0.3438502550125122, 0.3475935757160187, 0.3433155119419098, 0.3449198007583618, 0.34705883264541626, 0.35080215334892273, 0.3475935757160187, 0.34598931670188904, 0.3497326076030731, 0.35240641236305237, 0.3475935757160187, 0.3491978645324707, 0.34705883264541626, 0.3475935757160187, 0.34598931670188904, 0.34705883264541626, 0.344385027885437, 0.34598931670188904, 0.3486630916595459, 0.3502673804759979, 0.3502673804759979, 0.3502673804759979, 0.3502673804759979, 0.3497326076030731, 0.3588235378265381, 0.34705883264541626, 0.3475935757160187, 0.3540107011795044, 0.3438502550125122, 0.3534759283065796, 0.35187166929244995, 0.3433155119419098, 0.3593582808971405, 0.3486630916595459, 0.35561496019363403, 0.3449198007583618, 0.3593582808971405, 0.35240641236305237, 0.34598931670188904, 0.34224599599838257, 0.3475935757160187, 0.35561496019363403, 0.3588235378265381, 0.35721924901008606, 0.35133689641952515, 0.3545454442501068, 0.3529411852359772, 0.35668450593948364, 0.35668450593948364, 0.3502673804759979, 0.3497326076030731, 0.35561496019363403, 0.35240641236305237, 0.36096256971359253, 0.36096256971359253], 'loss': [0.09563335448557414, -0.2029959791398336, -2.026542376968444, -5.127103222332579, -9.694683887095339, -15.04275753042535, -22.108880001085776, -30.23713835254401, -40.659476776909806, -51.67316668498068, -65.31643925218088, -78.50973112977017, -94.47309034982297, -109.12657016757211, -129.48916261765802, -151.6217435895002, -173.63159844894145, -197.9551625545689, -219.8357022662328, -247.31905672725213, -274.2872434934841, -303.45607545647107, -339.1397138744262, -366.66601113894353, -362.104188512809, -411.4382878214396, -453.3060747394748, -494.9003347609511, -539.9252785247729, -582.6731123548727, -626.6910686378158, -684.4590747686357, -716.1196622918643, -703.3552081062444, -793.6772517002686, -843.3477825893408, -846.9989063675382, -942.7861133523924, -1018.3710338272725, -1057.8530655766667, -1116.6950206690285, -1184.6959455250133, -1251.8328664319722, -1324.149764323652, -1383.4526688447847, -1451.787653959376, -1508.1053055713387, -1576.2987074861553, -1648.9011677832411, -1725.2482529262884, -1761.224890812847, -1826.6044388613068, -1926.2224944015607, -2029.6441053171052, -2090.917535293483, -2128.43895194256, -2215.5319247464477, -2272.5924712098335, -2375.0785371852057, -2494.0021646201, -2597.2366310524612, -2691.266197748308, -2777.5299997300385, -2827.5511382457835, -2948.4823526759124, -3080.9654882262457, -3176.6032487940925, -3296.9304674002938, -3274.751740603671, -3429.3085803702515, -3554.5561738639676, -3647.5775827876323, -3766.0654489879607, -3877.0520973817634, -3996.4325930639643, -4116.244863776125, -4191.693783409791, -4276.2695397230245, -4390.5337778115145, -4556.562982919558, -4700.445220755995, -4780.175582876561, -4941.075119561253, -5034.822633470662, -5166.863167456851, -5187.108992334705, -5208.439488425103, -5389.203415510696, -5537.708957148293, -5722.836655727059, -5885.459488095088, -5963.931241995001, -6246.3606308724, -6434.9624382107795, -6648.999964069724, -6831.604021258303, -6949.132869409836, -7049.900310046597, -7208.512337465436, -7427.1492372205], 'accuracy': [0.3394839, 0.3394839, 0.3394839, 0.3394839, 0.3394839, 0.3394839, 0.3394839, 0.3394839, 0.3394839, 0.3394839, 0.3394839, 0.3394839, 0.3396176, 0.3396176, 0.3396176, 0.34389624, 0.34229174, 0.3429603, 0.34269288, 0.343094, 0.34389624, 0.34269288, 0.34215805, 0.34402996, 0.34723893, 0.35646477, 0.35138386, 0.3551277, 0.35272095, 0.35138386, 0.35125017, 0.35084903, 0.3571333, 0.35392433, 0.35793555, 0.35659847, 0.35887152, 0.35686588, 0.35766813, 0.35646477, 0.3569996, 0.35579622, 0.3571333, 0.35472655, 0.35566252, 0.35472655, 0.35806927, 0.3587378, 0.35579622, 0.3555288, 0.3586041, 0.36087713, 0.3551277, 0.35780185, 0.3606097, 0.3569996, 0.35726702, 0.3569996, 0.3603423, 0.35967374, 0.36114454, 0.36020857, 0.3623479, 0.35980746, 0.3619468, 0.36007488, 0.35967374, 0.36181307, 0.3607434, 0.36141196, 0.36274904, 0.36141196, 0.36101082, 0.36328387, 0.36368498, 0.36167938, 0.36528948, 0.36248162, 0.36274904, 0.36341757, 0.36435354, 0.36127824, 0.36408612, 0.3638187, 0.36368498, 0.36462092, 0.36101082, 0.36488834, 0.365958, 0.36769623, 0.36849847, 0.365958, 0.3655569, 0.36649284, 0.3675625, 0.36809734, 0.36689398, 0.3707715, 0.36769623, 0.36983553]}\n"
     ]
    }
   ],
   "source": [
    "# Here I am buiding a Sequential Bidirectional LSTM ANN  with an input embedding layer of (2000, 128)\n",
    "# and running over 100 epocs for 50 batch size\n",
    "# parallely measuring the validation score for 20% of data.\n",
    "\n",
    "model = Sequential()\n",
    "model.add(Embedding(2000, 128))\n",
    "model.add(Bidirectional(LSTM(32, return_sequences = True)))\n",
    "model.add(GlobalMaxPool1D())\n",
    "model.add(Dense(20, activation=\"relu\"))\n",
    "# model.add(Dropout(0.05))\n",
    "model.add(Dense(1, activation=\"sigmoid\"))\n",
    "model.compile(loss='binary_crossentropy', optimizer='adam', metrics=['accuracy'])\n",
    "\n",
    "model_hist = model.fit(df_X, df_y, batch_size=50, epochs=100, validation_split=0.2)\n",
    "print(model_hist.history)"
   ]
  },
  {
   "cell_type": "code",
   "execution_count": 50,
   "metadata": {},
   "outputs": [
    {
     "data": {
      "image/png": "[encoded data removed]",
      "text/plain": [
       "<Figure size 1296x432 with 1 Axes>"
      ]
     },
     "metadata": {
      "needs_background": "light"
     },
     "output_type": "display_data"
    },
    {
     "data": {
      "image/png": "[encoded data removed]",
      "text/plain": [
       "<Figure size 1296x432 with 1 Axes>"
      ]
     },
     "metadata": {
      "needs_background": "light"
     },
     "output_type": "display_data"
    }
   ],
   "source": [
    "# here I am plotting the curves for training and testing performance based on model's history.\n",
    "# evaluating the accuracy for train and val, and loss for train and val data.\n",
    "show_learning_curve(model_hist, 'bidirectional_LSTM_model_performance')"
   ]
  },
  {
   "cell_type": "markdown",
   "metadata": {},
   "source": [
    "#### NOTE: Neural networks are not able to perform well on the data as the quantuty of data is very less and for a ANN to train, and I found XGBoost and MLPClassifier to perform pretty well as compared to other models, so I will be using MLPClassifier\n"
   ]
  },
  {
   "cell_type": "markdown",
   "metadata": {},
   "source": [
    "## Predicting gold_label for test data"
   ]
  },
  {
   "cell_type": "code",
   "execution_count": 51,
   "metadata": {},
   "outputs": [
    {
     "name": "stdout",
     "output_type": "stream",
     "text": [
      "[2 1 2 2 0 2 0 0 0 0 1 2 1 0 0 1 1 1 0 1 0 0 0 1 0 0 2 0 1 0 1 0 2 1 0 1 0\n",
      " 1 0 0 0 2 0 0 0 0 0 1 1 0 2 2 0 2 1 0 0 0 2 0 1 0 0 0 2 0 2 1 0 0 0 0 0 0\n",
      " 2 0 0 0 0 1 0 0 1 1 1 0 2 1 1 0 2 0 1 0 1 0 0 0 0 0 1 1 1 2 2 1 0 0 2 1 0\n",
      " 1 0 0 2 1 0 0 0 1 0 1 2 0 2 0 0 0 1 2 2 0 2 2 1 0 1 0 0 2 0 0 1 0 0 2 1 2\n",
      " 1 1 0 1 0 0 0 2 2 0 2 1 2 0 0 1 1 0 0 0 1 0 1 1 2 1 1 0 2 0 1 1 1 0 2 1 1\n",
      " 1 1 0 1 0 1 1 0 0 2 0 2 0 0 0 0 1 1 0 1 1 0 2 0 1 0 1 0 1 0 1 0 1 0 1 0 1\n",
      " 0 0 1 0 0 1 2 2 1 2 2 0 1 0 1 0 2 0 1 0 1 1 1 0 0 0 1 0 1 2 1 1 2 1 0 0 0\n",
      " 1 0 0 1 0 1 1 0 0 2 2 1 0 1 1 0 0 0 0 1 2 1 0 0 0 0 2 1 1 2 1 1 0 0 2 0 0\n",
      " 0 0 1 0 0 2 0 2 1 2 1 1 0 1 2 0 2 0 1 0 0 0 0 2 1 0 2 1 2 2 0 0 0 1 0 1 0\n",
      " 0 0 2 0 0 1 1 1 0 0 1 2 1 2 2 1 0 0 2 1 1 1 0 2 2 0 0 0 0 1 1 2 1 0 2 0 2\n",
      " 2 1 1 1 0 1 2 1 1 1 0 2 0 2 1 0 1 1 1 0 1 2 1 1 1 1 1 0 0 0 1 1 1 1 1 2 0\n",
      " 0 1 2 1 2 2 0 0 1 1 1 0 1 1 2 0 0 1 0 0 1 1 1 0 0 0 0 0 0 1 1 0 0 0 0 0 1\n",
      " 2 0 0 0 0 0 0 1 1 2 0 0 1 1 1 1 1 0 0 0 2 0 1 0 0 0 0 2 2 0 0 0 0 0 0 2 0\n",
      " 0 1 0 2 2 0 1 0 0 0 0 1]\n"
     ]
    }
   ],
   "source": [
    "# Here I am predicting the output for the test dataset using the Multilayer perceptron model\n",
    "test_prediction = mpl_model.predict(df_test_scaled)\n",
    "print(test_prediction)"
   ]
  },
  {
   "cell_type": "code",
   "execution_count": 52,
   "metadata": {},
   "outputs": [
    {
     "data": {
      "text/plain": [
       "array(['neutral', 'entailment', 'neutral', 'neutral', 'contradiction',\n",
       "       'neutral', 'contradiction', 'contradiction', 'contradiction',\n",
       "       'contradiction', 'entailment', 'neutral', 'entailment',\n",
       "       'contradiction', 'contradiction', 'entailment', 'entailment',\n",
       "       'entailment', 'contradiction', 'entailment', 'contradiction',\n",
       "       'contradiction', 'contradiction', 'entailment', 'contradiction',\n",
       "       'contradiction', 'neutral', 'contradiction', 'entailment',\n",
       "       'contradiction', 'entailment', 'contradiction', 'neutral',\n",
       "       'entailment', 'contradiction', 'entailment', 'contradiction',\n",
       "       'entailment', 'contradiction', 'contradiction', 'contradiction',\n",
       "       'neutral', 'contradiction', 'contradiction', 'contradiction',\n",
       "       'contradiction', 'contradiction', 'entailment', 'entailment',\n",
       "       'contradiction', 'neutral', 'neutral', 'contradiction', 'neutral',\n",
       "       'entailment', 'contradiction', 'contradiction', 'contradiction',\n",
       "       'neutral', 'contradiction', 'entailment', 'contradiction',\n",
       "       'contradiction', 'contradiction', 'neutral', 'contradiction',\n",
       "       'neutral', 'entailment', 'contradiction', 'contradiction',\n",
       "       'contradiction', 'contradiction', 'contradiction', 'contradiction',\n",
       "       'neutral', 'contradiction', 'contradiction', 'contradiction',\n",
       "       'contradiction', 'entailment', 'contradiction', 'contradiction',\n",
       "       'entailment', 'entailment', 'entailment', 'contradiction',\n",
       "       'neutral', 'entailment', 'entailment', 'contradiction', 'neutral',\n",
       "       'contradiction', 'entailment', 'contradiction', 'entailment',\n",
       "       'contradiction', 'contradiction', 'contradiction', 'contradiction',\n",
       "       'contradiction', 'entailment', 'entailment', 'entailment',\n",
       "       'neutral', 'neutral', 'entailment', 'contradiction',\n",
       "       'contradiction', 'neutral', 'entailment', 'contradiction',\n",
       "       'entailment', 'contradiction', 'contradiction', 'neutral',\n",
       "       'entailment', 'contradiction', 'contradiction', 'contradiction',\n",
       "       'entailment', 'contradiction', 'entailment', 'neutral',\n",
       "       'contradiction', 'neutral', 'contradiction', 'contradiction',\n",
       "       'contradiction', 'entailment', 'neutral', 'neutral',\n",
       "       'contradiction', 'neutral', 'neutral', 'entailment',\n",
       "       'contradiction', 'entailment', 'contradiction', 'contradiction',\n",
       "       'neutral', 'contradiction', 'contradiction', 'entailment',\n",
       "       'contradiction', 'contradiction', 'neutral', 'entailment',\n",
       "       'neutral', 'entailment', 'entailment', 'contradiction',\n",
       "       'entailment', 'contradiction', 'contradiction', 'contradiction',\n",
       "       'neutral', 'neutral', 'contradiction', 'neutral', 'entailment',\n",
       "       'neutral', 'contradiction', 'contradiction', 'entailment',\n",
       "       'entailment', 'contradiction', 'contradiction', 'contradiction',\n",
       "       'entailment', 'contradiction', 'entailment', 'entailment',\n",
       "       'neutral', 'entailment', 'entailment', 'contradiction', 'neutral',\n",
       "       'contradiction', 'entailment', 'entailment', 'entailment',\n",
       "       'contradiction', 'neutral', 'entailment', 'entailment',\n",
       "       'entailment', 'entailment', 'contradiction', 'entailment',\n",
       "       'contradiction', 'entailment', 'entailment', 'contradiction',\n",
       "       'contradiction', 'neutral', 'contradiction', 'neutral',\n",
       "       'contradiction', 'contradiction', 'contradiction', 'contradiction',\n",
       "       'entailment', 'entailment', 'contradiction', 'entailment',\n",
       "       'entailment', 'contradiction', 'neutral', 'contradiction',\n",
       "       'entailment', 'contradiction', 'entailment', 'contradiction',\n",
       "       'entailment', 'contradiction', 'entailment', 'contradiction',\n",
       "       'entailment', 'contradiction', 'entailment', 'contradiction',\n",
       "       'entailment', 'contradiction', 'contradiction', 'entailment',\n",
       "       'contradiction', 'contradiction', 'entailment', 'neutral',\n",
       "       'neutral', 'entailment', 'neutral', 'neutral', 'contradiction',\n",
       "       'entailment', 'contradiction', 'entailment', 'contradiction',\n",
       "       'neutral', 'contradiction', 'entailment', 'contradiction',\n",
       "       'entailment', 'entailment', 'entailment', 'contradiction',\n",
       "       'contradiction', 'contradiction', 'entailment', 'contradiction',\n",
       "       'entailment', 'neutral', 'entailment', 'entailment', 'neutral',\n",
       "       'entailment', 'contradiction', 'contradiction', 'contradiction',\n",
       "       'entailment', 'contradiction', 'contradiction', 'entailment',\n",
       "       'contradiction', 'entailment', 'entailment', 'contradiction',\n",
       "       'contradiction', 'neutral', 'neutral', 'entailment',\n",
       "       'contradiction', 'entailment', 'entailment', 'contradiction',\n",
       "       'contradiction', 'contradiction', 'contradiction', 'entailment',\n",
       "       'neutral', 'entailment', 'contradiction', 'contradiction',\n",
       "       'contradiction', 'contradiction', 'neutral', 'entailment',\n",
       "       'entailment', 'neutral', 'entailment', 'entailment',\n",
       "       'contradiction', 'contradiction', 'neutral', 'contradiction',\n",
       "       'contradiction', 'contradiction', 'contradiction', 'entailment',\n",
       "       'contradiction', 'contradiction', 'neutral', 'contradiction',\n",
       "       'neutral', 'entailment', 'neutral', 'entailment', 'entailment',\n",
       "       'contradiction', 'entailment', 'neutral', 'contradiction',\n",
       "       'neutral', 'contradiction', 'entailment', 'contradiction',\n",
       "       'contradiction', 'contradiction', 'contradiction', 'neutral',\n",
       "       'entailment', 'contradiction', 'neutral', 'entailment', 'neutral',\n",
       "       'neutral', 'contradiction', 'contradiction', 'contradiction',\n",
       "       'entailment', 'contradiction', 'entailment', 'contradiction',\n",
       "       'contradiction', 'contradiction', 'neutral', 'contradiction',\n",
       "       'contradiction', 'entailment', 'entailment', 'entailment',\n",
       "       'contradiction', 'contradiction', 'entailment', 'neutral',\n",
       "       'entailment', 'neutral', 'neutral', 'entailment', 'contradiction',\n",
       "       'contradiction', 'neutral', 'entailment', 'entailment',\n",
       "       'entailment', 'contradiction', 'neutral', 'neutral',\n",
       "       'contradiction', 'contradiction', 'contradiction', 'contradiction',\n",
       "       'entailment', 'entailment', 'neutral', 'entailment',\n",
       "       'contradiction', 'neutral', 'contradiction', 'neutral', 'neutral',\n",
       "       'entailment', 'entailment', 'entailment', 'contradiction',\n",
       "       'entailment', 'neutral', 'entailment', 'entailment', 'entailment',\n",
       "       'contradiction', 'neutral', 'contradiction', 'neutral',\n",
       "       'entailment', 'contradiction', 'entailment', 'entailment',\n",
       "       'entailment', 'contradiction', 'entailment', 'neutral',\n",
       "       'entailment', 'entailment', 'entailment', 'entailment',\n",
       "       'entailment', 'contradiction', 'contradiction', 'contradiction',\n",
       "       'entailment', 'entailment', 'entailment', 'entailment',\n",
       "       'entailment', 'neutral', 'contradiction', 'contradiction',\n",
       "       'entailment', 'neutral', 'entailment', 'neutral', 'neutral',\n",
       "       'contradiction', 'contradiction', 'entailment', 'entailment',\n",
       "       'entailment', 'contradiction', 'entailment', 'entailment',\n",
       "       'neutral', 'contradiction', 'contradiction', 'entailment',\n",
       "       'contradiction', 'contradiction', 'entailment', 'entailment',\n",
       "       'entailment', 'contradiction', 'contradiction', 'contradiction',\n",
       "       'contradiction', 'contradiction', 'contradiction', 'entailment',\n",
       "       'entailment', 'contradiction', 'contradiction', 'contradiction',\n",
       "       'contradiction', 'contradiction', 'entailment', 'neutral',\n",
       "       'contradiction', 'contradiction', 'contradiction', 'contradiction',\n",
       "       'contradiction', 'contradiction', 'entailment', 'entailment',\n",
       "       'neutral', 'contradiction', 'contradiction', 'entailment',\n",
       "       'entailment', 'entailment', 'entailment', 'entailment',\n",
       "       'contradiction', 'contradiction', 'contradiction', 'neutral',\n",
       "       'contradiction', 'entailment', 'contradiction', 'contradiction',\n",
       "       'contradiction', 'contradiction', 'neutral', 'neutral',\n",
       "       'contradiction', 'contradiction', 'contradiction', 'contradiction',\n",
       "       'contradiction', 'contradiction', 'neutral', 'contradiction',\n",
       "       'contradiction', 'entailment', 'contradiction', 'neutral',\n",
       "       'neutral', 'contradiction', 'entailment', 'contradiction',\n",
       "       'contradiction', 'contradiction', 'contradiction', 'entailment'],\n",
       "      dtype=object)"
      ]
     },
     "execution_count": 52,
     "metadata": {},
     "output_type": "execute_result"
    }
   ],
   "source": [
    "inv_encoded_predictions = encoder.inverse_transform(test_prediction)\n",
    "inv_encoded_predictions"
   ]
  },
  {
   "cell_type": "markdown",
   "metadata": {},
   "source": [
    "## Building the prediction csv file"
   ]
  },
  {
   "cell_type": "code",
   "execution_count": 53,
   "metadata": {},
   "outputs": [],
   "source": [
    "# Here I am converting the predicted values to the final dataset which is to be submitted.\n",
    "output = pd.DataFrame( data={\"gold_label\":inv_encoded_predictions} )\n",
    "output.to_csv( \"predicted.csv\", index=False, quoting=3)"
   ]
  },
  {
   "cell_type": "markdown",
   "metadata": {},
   "source": [
    "<hr><hr>"
   ]
  },
  {
   "cell_type": "markdown",
   "metadata": {},
   "source": [
    "### Future Scope of this Project\n",
    "* Since the dataset was very small, training a Neural network was not a good idea so I choose to move ahead with ML algorithms. \n",
    "* So, working on a large dataset can improve the learning.\n",
    "* Advanced NLP techniques can be implemented to find the semantic relationship between both the sentences to get a better result.\n",
    "* Due to lack of time I decided to follow this approach but with various iterations during the development, model's performance can increase significantly.\n",
    "* `Data Cleaning` was done signifantly well but can be done using other approaches.\n",
    "* `Feature engineering` is one important part which require good knowledge of NLP which can be worked upon in future.\n",
    "* Dimensionality reduction based on experimentation on using `PCA` or `t-SNE` can be perfromed to optimize model performance and remove useless features.\n",
    "* `Hypothesis testing` can be done in making useful decissions about the feature, whether they contribute in predicting right `gold_label` or not.\n",
    "* `Word ebedding` can be implemented to get a better semantic relationship between words.\n",
    "* Working with more better Neural Networks will be a better choice for this kind of problem, although `bidirectional LSTM` should perform well with large dataset.\n",
    "* Finally once we get a good model performance over the data, we can implement hyperparameter tuning to tune those small knobs in the `bidirectional LSTM` model to extract the best performance out of it.\n",
    "* for any suggestions contact me at [paras.varshney97@gmail.com](paras.varshney97@gmail.com)"
   ]
  },
  {
   "cell_type": "markdown",
   "metadata": {},
   "source": [
    "### Assignment By:\n",
    "#### Paras Varshney\n",
    "* https://www.linkedin.com/in/pv009\n",
    "* https://github.com/paras009\n",
    "* https://towardsdatascience.com/@pv009"
   ]
  },
  {
   "cell_type": "markdown",
   "metadata": {},
   "source": [
    "#### end "
   ]
  }
 ],
 "metadata": {
  "kernelspec": {
   "display_name": "Python 3",
   "language": "python",
   "name": "python3"
  },
  "language_info": {
   "codemirror_mode": {
    "name": "ipython",
    "version": 3
   },
   "file_extension": ".py",
   "mimetype": "text/x-python",
   "name": "python",
   "nbconvert_exporter": "python",
   "pygments_lexer": "ipython3",
   "version": "3.7.3"
  }
 },
 "nbformat": 4,
 "nbformat_minor": 2
}
