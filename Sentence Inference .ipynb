{
 "cells": [
  {
   "cell_type": "markdown",
   "metadata": {},
   "source": [
    "# Sentence-Inference"
   ]
  },
  {
   "cell_type": "markdown",
   "metadata": {},
   "source": [
    "### The problem is for every given pair of sentences ie. (sentence-1, sentence-2), determine if sentence-2 can be logically inferred given sentence-1."
   ]
  },
  {
   "cell_type": "markdown",
   "metadata": {},
   "source": [
    "## 1. Importing libraries and data"
   ]
  },
  {
   "cell_type": "markdown",
   "metadata": {},
   "source": [
    "### 1.1 Importing libraries"
   ]
  },
  {
   "cell_type": "code",
   "execution_count": 1,
   "metadata": {},
   "outputs": [
    {
     "name": "stderr",
     "output_type": "stream",
     "text": [
      "Using TensorFlow backend.\n"
     ]
    }
   ],
   "source": [
    "import pandas as pd\n",
    "import numpy as np\n",
    "import matplotlib.pyplot as plt\n",
    "%matplotlib inline\n",
    "import seaborn as sns\n",
    "\n",
    "from bs4 import BeautifulSoup\n",
    "import re\n",
    "from tqdm import tqdm \n",
    "from sklearn.preprocessing import LabelEncoder\n",
    "\n",
    "from sklearn.feature_extraction import text\n",
    "import warnings\n",
    "warnings.filterwarnings(\"ignore\")\n",
    "from keras.preprocessing import sequence\n",
    "\n",
    "from sklearn.feature_extraction.text import TfidfTransformer\n",
    "from sklearn.feature_extraction.text import TfidfVectorizer\n",
    "\n",
    "from sklearn.feature_extraction.text import CountVectorizer\n",
    "from sklearn import metrics\n",
    "from sklearn.metrics import roc_curve, auc\n",
    "from nltk.stem.porter import PorterStemmer\n",
    "\n",
    "from difflib import SequenceMatcher\n",
    "\n",
    "import re\n",
    "\n",
    "from nltk.corpus import stopwords\n",
    "from nltk import word_tokenize, ngrams\n",
    "eng_stopwords = set(stopwords.words('english'))\n",
    "\n",
    "from gensim.models import Word2Vec\n",
    "from gensim.models import KeyedVectors\n",
    "import pickle\n",
    "\n",
    "from sklearn.model_selection import KFold, cross_val_score, train_test_split\n",
    "from sklearn.metrics import confusion_matrix,classification_report\n",
    "from sklearn.metrics import accuracy_score\n",
    "\n",
    "from sklearn.cluster import KMeans\n",
    "from sklearn.neighbors import KNeighborsClassifier\n",
    "from sklearn.svm import SVC\n",
    "from sklearn.multioutput import MultiOutputClassifier\n",
    "from sklearn.ensemble import GradientBoostingClassifier\n",
    "from sklearn.tree import DecisionTreeClassifier\n",
    "from sklearn.naive_bayes import GaussianNB\n",
    "from sklearn.linear_model import LogisticRegression\n",
    "from sklearn.ensemble import RandomForestClassifier\n",
    "import xgboost as xgb\n",
    "\n",
    "import tensorflow as tf\n",
    "from tensorflow.keras.models import Sequential\n",
    "from tensorflow.keras.layers import Dense, Dropout\n",
    "from tensorflow.keras.wrappers.scikit_learn import KerasClassifier\n",
    "\n",
    "\n",
    "from keras.preprocessing.text import Tokenizer\n",
    "from keras.preprocessing.sequence import pad_sequences\n",
    "from keras.layers import Dense , Input , LSTM , Embedding, Dropout , Activation, GRU, Flatten\n",
    "from keras.layers import Bidirectional, GlobalMaxPool1D\n",
    "from keras.models import Model, Sequential\n",
    "from keras.layers import Convolution1D\n",
    "from keras import initializers, regularizers, constraints, optimizers, layers"
   ]
  },
  {
   "cell_type": "markdown",
   "metadata": {},
   "source": [
    "### 1.2 Importing Dataset"
   ]
  },
  {
   "cell_type": "code",
   "execution_count": 2,
   "metadata": {},
   "outputs": [
    {
     "data": {
      "text/html": [
       "<div>\n",
       "<style scoped>\n",
       "    .dataframe tbody tr th:only-of-type {\n",
       "        vertical-align: middle;\n",
       "    }\n",
       "\n",
       "    .dataframe tbody tr th {\n",
       "        vertical-align: top;\n",
       "    }\n",
       "\n",
       "    .dataframe thead th {\n",
       "        text-align: right;\n",
       "    }\n",
       "</style>\n",
       "<table border=\"1\" class=\"dataframe\">\n",
       "  <thead>\n",
       "    <tr style=\"text-align: right;\">\n",
       "      <th></th>\n",
       "      <th>gold_label</th>\n",
       "      <th>sentence1</th>\n",
       "      <th>sentence2</th>\n",
       "    </tr>\n",
       "  </thead>\n",
       "  <tbody>\n",
       "    <tr>\n",
       "      <th>0</th>\n",
       "      <td>contradiction</td>\n",
       "      <td>A group of men with cowboy hats are watching a...</td>\n",
       "      <td>A group of women are watching a horse race</td>\n",
       "    </tr>\n",
       "    <tr>\n",
       "      <th>1</th>\n",
       "      <td>entailment</td>\n",
       "      <td>A kid with his head shaved sitting and holding...</td>\n",
       "      <td>Child sits with a cigarette.</td>\n",
       "    </tr>\n",
       "    <tr>\n",
       "      <th>2</th>\n",
       "      <td>neutral</td>\n",
       "      <td>A woman riding a bicycle past a car and a grou...</td>\n",
       "      <td>A woman riding a bicycle near a group of her f...</td>\n",
       "    </tr>\n",
       "    <tr>\n",
       "      <th>3</th>\n",
       "      <td>neutral</td>\n",
       "      <td>A woman looking through what appears to be a t...</td>\n",
       "      <td>An female astronamer looking toward the stars ...</td>\n",
       "    </tr>\n",
       "    <tr>\n",
       "      <th>4</th>\n",
       "      <td>entailment</td>\n",
       "      <td>A large group of people stand outside on a roa...</td>\n",
       "      <td>One group of people are watching what another ...</td>\n",
       "    </tr>\n",
       "    <tr>\n",
       "      <th>5</th>\n",
       "      <td>contradiction</td>\n",
       "      <td>A small dark-haired boy climbing in a large tree.</td>\n",
       "      <td>A small dark-haired boy is climbing over a car...</td>\n",
       "    </tr>\n",
       "    <tr>\n",
       "      <th>6</th>\n",
       "      <td>neutral</td>\n",
       "      <td>A man sits beside parked cars on a city street.</td>\n",
       "      <td>A man is sitting on a bench.</td>\n",
       "    </tr>\n",
       "    <tr>\n",
       "      <th>7</th>\n",
       "      <td>entailment</td>\n",
       "      <td>A dog looks content sitting on a bed after rip...</td>\n",
       "      <td>a dog sitting on a bed after ripping up paper.</td>\n",
       "    </tr>\n",
       "    <tr>\n",
       "      <th>8</th>\n",
       "      <td>contradiction</td>\n",
       "      <td>Young children and parents splashing around a ...</td>\n",
       "      <td>There are families eating lunch</td>\n",
       "    </tr>\n",
       "    <tr>\n",
       "      <th>9</th>\n",
       "      <td>entailment</td>\n",
       "      <td>A football coach guiding one of his players on...</td>\n",
       "      <td>The coach knows how to play football.</td>\n",
       "    </tr>\n",
       "  </tbody>\n",
       "</table>\n",
       "</div>"
      ],
      "text/plain": [
       "      gold_label                                          sentence1  \\\n",
       "0  contradiction  A group of men with cowboy hats are watching a...   \n",
       "1     entailment  A kid with his head shaved sitting and holding...   \n",
       "2        neutral  A woman riding a bicycle past a car and a grou...   \n",
       "3        neutral  A woman looking through what appears to be a t...   \n",
       "4     entailment  A large group of people stand outside on a roa...   \n",
       "5  contradiction  A small dark-haired boy climbing in a large tree.   \n",
       "6        neutral    A man sits beside parked cars on a city street.   \n",
       "7     entailment  A dog looks content sitting on a bed after rip...   \n",
       "8  contradiction  Young children and parents splashing around a ...   \n",
       "9     entailment  A football coach guiding one of his players on...   \n",
       "\n",
       "                                           sentence2  \n",
       "0         A group of women are watching a horse race  \n",
       "1                       Child sits with a cigarette.  \n",
       "2  A woman riding a bicycle near a group of her f...  \n",
       "3  An female astronamer looking toward the stars ...  \n",
       "4  One group of people are watching what another ...  \n",
       "5  A small dark-haired boy is climbing over a car...  \n",
       "6                       A man is sitting on a bench.  \n",
       "7     a dog sitting on a bed after ripping up paper.  \n",
       "8                    There are families eating lunch  \n",
       "9              The coach knows how to play football.  "
      ]
     },
     "execution_count": 2,
     "metadata": {},
     "output_type": "execute_result"
    }
   ],
   "source": [
    "# reading training file with the data\n",
    "df_train = pd.read_csv(\"data_set/train.csv\")\n",
    "df_train.head(10)"
   ]
  },
  {
   "cell_type": "code",
   "execution_count": 3,
   "metadata": {},
   "outputs": [
    {
     "data": {
      "text/html": [
       "<div>\n",
       "<style scoped>\n",
       "    .dataframe tbody tr th:only-of-type {\n",
       "        vertical-align: middle;\n",
       "    }\n",
       "\n",
       "    .dataframe tbody tr th {\n",
       "        vertical-align: top;\n",
       "    }\n",
       "\n",
       "    .dataframe thead th {\n",
       "        text-align: right;\n",
       "    }\n",
       "</style>\n",
       "<table border=\"1\" class=\"dataframe\">\n",
       "  <thead>\n",
       "    <tr style=\"text-align: right;\">\n",
       "      <th></th>\n",
       "      <th>sentence1</th>\n",
       "      <th>sentence2</th>\n",
       "    </tr>\n",
       "  </thead>\n",
       "  <tbody>\n",
       "    <tr>\n",
       "      <th>0</th>\n",
       "      <td>Number 13 kicks a soccer ball towards the goal...</td>\n",
       "      <td>A player fighting in a soccer game.</td>\n",
       "    </tr>\n",
       "    <tr>\n",
       "      <th>1</th>\n",
       "      <td>A woman walks next to a subway exit.</td>\n",
       "      <td>A woman is on here way home.</td>\n",
       "    </tr>\n",
       "    <tr>\n",
       "      <th>2</th>\n",
       "      <td>A man walks down the alley talking on his cell...</td>\n",
       "      <td>A man is walking down a wooded path and talkin...</td>\n",
       "    </tr>\n",
       "    <tr>\n",
       "      <th>3</th>\n",
       "      <td>Indian women playing musical chairs with white...</td>\n",
       "      <td>indain woman playing cricket with white woman</td>\n",
       "    </tr>\n",
       "    <tr>\n",
       "      <th>4</th>\n",
       "      <td>An older perhaps Asian man who is wearing a sl...</td>\n",
       "      <td>A tall human wearing</td>\n",
       "    </tr>\n",
       "  </tbody>\n",
       "</table>\n",
       "</div>"
      ],
      "text/plain": [
       "                                           sentence1  \\\n",
       "0  Number 13 kicks a soccer ball towards the goal...   \n",
       "1               A woman walks next to a subway exit.   \n",
       "2  A man walks down the alley talking on his cell...   \n",
       "3  Indian women playing musical chairs with white...   \n",
       "4  An older perhaps Asian man who is wearing a sl...   \n",
       "\n",
       "                                           sentence2  \n",
       "0                A player fighting in a soccer game.  \n",
       "1                       A woman is on here way home.  \n",
       "2  A man is walking down a wooded path and talkin...  \n",
       "3      indain woman playing cricket with white woman  \n",
       "4                               A tall human wearing  "
      ]
     },
     "execution_count": 3,
     "metadata": {},
     "output_type": "execute_result"
    }
   ],
   "source": [
    "df_test = pd.read_csv(\"data_set/test.csv\")\n",
    "df_test.head()"
   ]
  },
  {
   "cell_type": "code",
   "execution_count": 4,
   "metadata": {},
   "outputs": [
    {
     "name": "stdout",
     "output_type": "stream",
     "text": [
      "<class 'pandas.core.frame.DataFrame'>\n",
      "RangeIndex: 9349 entries, 0 to 9348\n",
      "Data columns (total 3 columns):\n",
      "gold_label    9349 non-null object\n",
      "sentence1     9349 non-null object\n",
      "sentence2     9349 non-null object\n",
      "dtypes: object(3)\n",
      "memory usage: 219.2+ KB\n"
     ]
    }
   ],
   "source": [
    "df_train.info()"
   ]
  },
  {
   "cell_type": "code",
   "execution_count": 5,
   "metadata": {},
   "outputs": [
    {
     "data": {
      "text/plain": [
       "(9349, 3)"
      ]
     },
     "execution_count": 5,
     "metadata": {},
     "output_type": "execute_result"
    }
   ],
   "source": [
    "df_train.shape"
   ]
  },
  {
   "cell_type": "code",
   "execution_count": 6,
   "metadata": {},
   "outputs": [
    {
     "data": {
      "text/plain": [
       "gold_label    False\n",
       "sentence1     False\n",
       "sentence2     False\n",
       "dtype: bool"
      ]
     },
     "execution_count": 6,
     "metadata": {},
     "output_type": "execute_result"
    }
   ],
   "source": [
    "# checking if there any missing value in the dataset\n",
    "df_train.isna().any()"
   ]
  },
  {
   "cell_type": "code",
   "execution_count": 7,
   "metadata": {},
   "outputs": [
    {
     "data": {
      "text/plain": [
       "entailment       3166\n",
       "contradiction    3114\n",
       "neutral          3069\n",
       "Name: gold_label, dtype: int64"
      ]
     },
     "execution_count": 7,
     "metadata": {},
     "output_type": "execute_result"
    }
   ],
   "source": [
    "# checking the total number of classes for the target variable\n",
    "df_train.gold_label.value_counts()"
   ]
  },
  {
   "cell_type": "markdown",
   "metadata": {},
   "source": [
    "### NOTE: the data seems to be balanced with no missing values. <br> Now, I can proceed with data cleaning. "
   ]
  },
  {
   "cell_type": "markdown",
   "metadata": {},
   "source": [
    "## 2. Cleaning Data "
   ]
  },
  {
   "cell_type": "code",
   "execution_count": 8,
   "metadata": {},
   "outputs": [],
   "source": [
    "# I have used a custom list of stop words which do not have exceptional strings like 'no', 'nor', 'not'\n",
    "stopwords= set(['br', 'the', 'i', 'me', 'my', 'myself', 'we', 'our', 'ours', 'ourselves', 'you', \"you're\", \"you've\",\\\n",
    "            \"you'll\", \"you'd\", 'your', 'yours', 'yourself', 'yourselves', 'he', 'him', 'his', 'himself', \\\n",
    "            'she', \"she's\", 'her', 'hers', 'herself', 'it', \"it's\", 'its', 'itself', 'they', 'them', 'their',\\\n",
    "            'theirs', 'themselves', 'what', 'which', 'who', 'whom', 'this', 'that', \"that'll\", 'these', 'those', \\\n",
    "            'am', 'is', 'are', 'was', 'were', 'be', 'been', 'being', 'have', 'has', 'had', 'having', 'do', 'does', \\\n",
    "            'did', 'doing', 'a', 'an', 'the', 'and', 'but', 'if', 'or', 'because', 'as', 'until', 'while', 'of', \\\n",
    "            'at', 'by', 'for', 'with', 'about', 'against', 'between', 'into', 'through', 'during', 'before', 'after',\\\n",
    "            'above', 'below', 'to', 'from', 'up', 'down', 'in', 'out', 'on', 'off', 'over', 'under', 'again', 'further',\\\n",
    "            'then', 'once', 'here', 'there', 'when', 'where', 'why', 'how', 'all', 'any', 'both', 'each', 'few', 'more',\\\n",
    "            'most', 'other', 'some', 'such', 'only', 'own', 'same', 'so', 'than', 'too', 'very', \\\n",
    "            's', 't', 'can', 'will', 'just', 'don', \"don't\", 'should', \"should've\", 'now', 'd', 'll', 'm', 'o', 're', \\\n",
    "            've', 'y', 'ain', 'aren', \"aren't\", 'couldn', \"couldn't\", 'didn', \"didn't\", 'doesn', \"doesn't\", 'hadn',\\\n",
    "            \"hadn't\", 'hasn', \"hasn't\", 'haven', \"haven't\", 'isn', \"isn't\", 'ma', 'mightn', \"mightn't\", 'mustn',\\\n",
    "            \"mustn't\", 'needn', \"needn't\", 'shan', \"shan't\", 'shouldn', \"shouldn't\", 'wasn', \"wasn't\", 'weren', \"weren't\", \\\n",
    "            'won', \"won't\", 'wouldn', \"wouldn't\"])"
   ]
  },
  {
   "cell_type": "code",
   "execution_count": 9,
   "metadata": {},
   "outputs": [],
   "source": [
    "def decontracted(phrase):\n",
    "    '''\n",
    "     Here is this function I will replace the words which has short hand representation of two words added together, \n",
    "     like won't is represtative of would not, etc. to the full hand representations of them.\n",
    "    '''\n",
    "    \n",
    "    phrase = re.sub(r\"won't\", \"will not\", phrase)\n",
    "    phrase = re.sub(r\"can\\'t\", \"can not\", phrase)\n",
    "    phrase = re.sub(r\"n\\'t\", \" not\", phrase)\n",
    "    phrase = re.sub(r\"\\'re\", \" are\", phrase)\n",
    "    phrase = re.sub(r\"\\'s\", \" is\", phrase)\n",
    "    phrase = re.sub(r\"\\'d\", \" would\", phrase)\n",
    "    phrase = re.sub(r\"\\'ll\", \" will\", phrase)\n",
    "    phrase = re.sub(r\"\\'t\", \" not\", phrase)\n",
    "    phrase = re.sub(r\"\\'ve\", \" have\", phrase)\n",
    "    phrase = re.sub(r\"\\'m\", \" am\", phrase)\n",
    "    return phrase"
   ]
  },
  {
   "cell_type": "code",
   "execution_count": 10,
   "metadata": {},
   "outputs": [],
   "source": [
    "def clean_text(sentance):\n",
    "    '''\n",
    "    Here is this function I will clean the data by following the steps:\n",
    "    * remove the hyperlinks like http://...\n",
    "    * Remove the HTML and XML tags using BeautifulSoup library.\n",
    "    * removing white spaces and numerical values.\n",
    "    * keeping only ascii characters.\n",
    "    * and finally removing all stopwords from the text and making all characters to lowercase.\n",
    "    '''\n",
    "    \n",
    "    sentance = re.sub(r\"http\\S+\", \"\", sentance)\n",
    "    sentance = BeautifulSoup(sentance, 'lxml').get_text()\n",
    "    sentance = decontracted(sentance)\n",
    "    sentance = re.sub(\"\\S*\\d\\S*\", \"\", sentance).strip()\n",
    "    sentance = re.sub('[^A-Za-z]+', ' ', sentance)\n",
    "    sentance = ' '.join(e.lower() for e in sentance.split() if e.lower() not in stopwords)\n",
    "    return sentance.strip()"
   ]
  },
  {
   "cell_type": "code",
   "execution_count": 11,
   "metadata": {},
   "outputs": [
    {
     "data": {
      "text/html": [
       "<div>\n",
       "<style scoped>\n",
       "    .dataframe tbody tr th:only-of-type {\n",
       "        vertical-align: middle;\n",
       "    }\n",
       "\n",
       "    .dataframe tbody tr th {\n",
       "        vertical-align: top;\n",
       "    }\n",
       "\n",
       "    .dataframe thead th {\n",
       "        text-align: right;\n",
       "    }\n",
       "</style>\n",
       "<table border=\"1\" class=\"dataframe\">\n",
       "  <thead>\n",
       "    <tr style=\"text-align: right;\">\n",
       "      <th></th>\n",
       "      <th>gold_label</th>\n",
       "      <th>sentence1</th>\n",
       "      <th>sentence2</th>\n",
       "    </tr>\n",
       "  </thead>\n",
       "  <tbody>\n",
       "    <tr>\n",
       "      <th>0</th>\n",
       "      <td>contradiction</td>\n",
       "      <td>A group of men with cowboy hats are watching a...</td>\n",
       "      <td>A group of women are watching a horse race</td>\n",
       "    </tr>\n",
       "    <tr>\n",
       "      <th>1</th>\n",
       "      <td>entailment</td>\n",
       "      <td>A kid with his head shaved sitting and holding...</td>\n",
       "      <td>Child sits with a cigarette.</td>\n",
       "    </tr>\n",
       "    <tr>\n",
       "      <th>2</th>\n",
       "      <td>neutral</td>\n",
       "      <td>A woman riding a bicycle past a car and a grou...</td>\n",
       "      <td>A woman riding a bicycle near a group of her f...</td>\n",
       "    </tr>\n",
       "    <tr>\n",
       "      <th>3</th>\n",
       "      <td>neutral</td>\n",
       "      <td>A woman looking through what appears to be a t...</td>\n",
       "      <td>An female astronamer looking toward the stars ...</td>\n",
       "    </tr>\n",
       "    <tr>\n",
       "      <th>4</th>\n",
       "      <td>entailment</td>\n",
       "      <td>A large group of people stand outside on a roa...</td>\n",
       "      <td>One group of people are watching what another ...</td>\n",
       "    </tr>\n",
       "    <tr>\n",
       "      <th>5</th>\n",
       "      <td>contradiction</td>\n",
       "      <td>A small dark-haired boy climbing in a large tree.</td>\n",
       "      <td>A small dark-haired boy is climbing over a car...</td>\n",
       "    </tr>\n",
       "    <tr>\n",
       "      <th>6</th>\n",
       "      <td>neutral</td>\n",
       "      <td>A man sits beside parked cars on a city street.</td>\n",
       "      <td>A man is sitting on a bench.</td>\n",
       "    </tr>\n",
       "    <tr>\n",
       "      <th>7</th>\n",
       "      <td>entailment</td>\n",
       "      <td>A dog looks content sitting on a bed after rip...</td>\n",
       "      <td>a dog sitting on a bed after ripping up paper.</td>\n",
       "    </tr>\n",
       "    <tr>\n",
       "      <th>8</th>\n",
       "      <td>contradiction</td>\n",
       "      <td>Young children and parents splashing around a ...</td>\n",
       "      <td>There are families eating lunch</td>\n",
       "    </tr>\n",
       "    <tr>\n",
       "      <th>9</th>\n",
       "      <td>entailment</td>\n",
       "      <td>A football coach guiding one of his players on...</td>\n",
       "      <td>The coach knows how to play football.</td>\n",
       "    </tr>\n",
       "  </tbody>\n",
       "</table>\n",
       "</div>"
      ],
      "text/plain": [
       "      gold_label                                          sentence1  \\\n",
       "0  contradiction  A group of men with cowboy hats are watching a...   \n",
       "1     entailment  A kid with his head shaved sitting and holding...   \n",
       "2        neutral  A woman riding a bicycle past a car and a grou...   \n",
       "3        neutral  A woman looking through what appears to be a t...   \n",
       "4     entailment  A large group of people stand outside on a roa...   \n",
       "5  contradiction  A small dark-haired boy climbing in a large tree.   \n",
       "6        neutral    A man sits beside parked cars on a city street.   \n",
       "7     entailment  A dog looks content sitting on a bed after rip...   \n",
       "8  contradiction  Young children and parents splashing around a ...   \n",
       "9     entailment  A football coach guiding one of his players on...   \n",
       "\n",
       "                                           sentence2  \n",
       "0         A group of women are watching a horse race  \n",
       "1                       Child sits with a cigarette.  \n",
       "2  A woman riding a bicycle near a group of her f...  \n",
       "3  An female astronamer looking toward the stars ...  \n",
       "4  One group of people are watching what another ...  \n",
       "5  A small dark-haired boy is climbing over a car...  \n",
       "6                       A man is sitting on a bench.  \n",
       "7     a dog sitting on a bed after ripping up paper.  \n",
       "8                    There are families eating lunch  \n",
       "9              The coach knows how to play football.  "
      ]
     },
     "execution_count": 11,
     "metadata": {},
     "output_type": "execute_result"
    }
   ],
   "source": [
    "# data before cleaning\n",
    "df_train.head(10)"
   ]
  },
  {
   "cell_type": "code",
   "execution_count": 12,
   "metadata": {},
   "outputs": [
    {
     "name": "stderr",
     "output_type": "stream",
     "text": [
      "100%|█████████████████████████████████████████████████████████████████████████████| 9349/9349 [00:22<00:00, 422.14it/s]\n"
     ]
    }
   ],
   "source": [
    "for i in tqdm(range(len(df_train)), position=0, leave=True):\n",
    "    df_train.sentence1[i] = clean_text(df_train.sentence1[i])\n",
    "    df_train.sentence2[i] = clean_text(df_train.sentence2[i])"
   ]
  },
  {
   "cell_type": "code",
   "execution_count": 13,
   "metadata": {},
   "outputs": [
    {
     "name": "stderr",
     "output_type": "stream",
     "text": [
      "100%|███████████████████████████████████████████████████████████████████████████████| 493/493 [00:01<00:00, 474.46it/s]\n"
     ]
    }
   ],
   "source": [
    "for i in tqdm(range(len(df_test)), position=0, leave=True):\n",
    "    df_test.sentence1[i] = clean_text(df_test.sentence1[i])\n",
    "    df_test.sentence2[i] = clean_text(df_test.sentence2[i])"
   ]
  },
  {
   "cell_type": "code",
   "execution_count": 14,
   "metadata": {},
   "outputs": [
    {
     "data": {
      "text/html": [
       "<div>\n",
       "<style scoped>\n",
       "    .dataframe tbody tr th:only-of-type {\n",
       "        vertical-align: middle;\n",
       "    }\n",
       "\n",
       "    .dataframe tbody tr th {\n",
       "        vertical-align: top;\n",
       "    }\n",
       "\n",
       "    .dataframe thead th {\n",
       "        text-align: right;\n",
       "    }\n",
       "</style>\n",
       "<table border=\"1\" class=\"dataframe\">\n",
       "  <thead>\n",
       "    <tr style=\"text-align: right;\">\n",
       "      <th></th>\n",
       "      <th>gold_label</th>\n",
       "      <th>sentence1</th>\n",
       "      <th>sentence2</th>\n",
       "    </tr>\n",
       "  </thead>\n",
       "  <tbody>\n",
       "    <tr>\n",
       "      <th>0</th>\n",
       "      <td>contradiction</td>\n",
       "      <td>group men cowboy hats watching rodeo</td>\n",
       "      <td>group women watching horse race</td>\n",
       "    </tr>\n",
       "    <tr>\n",
       "      <th>1</th>\n",
       "      <td>entailment</td>\n",
       "      <td>kid head shaved sitting holding lit cigarette</td>\n",
       "      <td>child sits cigarette</td>\n",
       "    </tr>\n",
       "    <tr>\n",
       "      <th>2</th>\n",
       "      <td>neutral</td>\n",
       "      <td>woman riding bicycle past car group people sid...</td>\n",
       "      <td>woman riding bicycle near group friends sidewalk</td>\n",
       "    </tr>\n",
       "    <tr>\n",
       "      <th>3</th>\n",
       "      <td>neutral</td>\n",
       "      <td>woman looking appears telescope</td>\n",
       "      <td>female astronamer looking toward stars telescope</td>\n",
       "    </tr>\n",
       "    <tr>\n",
       "      <th>4</th>\n",
       "      <td>entailment</td>\n",
       "      <td>large group people stand outside road people h...</td>\n",
       "      <td>one group people watching another group</td>\n",
       "    </tr>\n",
       "    <tr>\n",
       "      <th>5</th>\n",
       "      <td>contradiction</td>\n",
       "      <td>small dark haired boy climbing large tree</td>\n",
       "      <td>small dark haired boy climbing car seat</td>\n",
       "    </tr>\n",
       "    <tr>\n",
       "      <th>6</th>\n",
       "      <td>neutral</td>\n",
       "      <td>man sits beside parked cars city street</td>\n",
       "      <td>man sitting bench</td>\n",
       "    </tr>\n",
       "    <tr>\n",
       "      <th>7</th>\n",
       "      <td>entailment</td>\n",
       "      <td>dog looks content sitting bed ripping paper</td>\n",
       "      <td>dog sitting bed ripping paper</td>\n",
       "    </tr>\n",
       "    <tr>\n",
       "      <th>8</th>\n",
       "      <td>contradiction</td>\n",
       "      <td>young children parents splashing around public...</td>\n",
       "      <td>families eating lunch</td>\n",
       "    </tr>\n",
       "    <tr>\n",
       "      <th>9</th>\n",
       "      <td>entailment</td>\n",
       "      <td>football coach guiding one players</td>\n",
       "      <td>coach knows play football</td>\n",
       "    </tr>\n",
       "  </tbody>\n",
       "</table>\n",
       "</div>"
      ],
      "text/plain": [
       "      gold_label                                          sentence1  \\\n",
       "0  contradiction               group men cowboy hats watching rodeo   \n",
       "1     entailment      kid head shaved sitting holding lit cigarette   \n",
       "2        neutral  woman riding bicycle past car group people sid...   \n",
       "3        neutral                    woman looking appears telescope   \n",
       "4     entailment  large group people stand outside road people h...   \n",
       "5  contradiction          small dark haired boy climbing large tree   \n",
       "6        neutral            man sits beside parked cars city street   \n",
       "7     entailment        dog looks content sitting bed ripping paper   \n",
       "8  contradiction  young children parents splashing around public...   \n",
       "9     entailment                 football coach guiding one players   \n",
       "\n",
       "                                          sentence2  \n",
       "0                   group women watching horse race  \n",
       "1                              child sits cigarette  \n",
       "2  woman riding bicycle near group friends sidewalk  \n",
       "3  female astronamer looking toward stars telescope  \n",
       "4           one group people watching another group  \n",
       "5           small dark haired boy climbing car seat  \n",
       "6                                 man sitting bench  \n",
       "7                     dog sitting bed ripping paper  \n",
       "8                             families eating lunch  \n",
       "9                         coach knows play football  "
      ]
     },
     "execution_count": 14,
     "metadata": {},
     "output_type": "execute_result"
    }
   ],
   "source": [
    "# data after cleaning\n",
    "df_train.head(10)"
   ]
  },
  {
   "cell_type": "code",
   "execution_count": 15,
   "metadata": {},
   "outputs": [],
   "source": [
    "df_train['gold_label'] = df_train['gold_label'].astype('category')"
   ]
  },
  {
   "cell_type": "code",
   "execution_count": 16,
   "metadata": {},
   "outputs": [
    {
     "data": {
      "text/html": [
       "<div>\n",
       "<style scoped>\n",
       "    .dataframe tbody tr th:only-of-type {\n",
       "        vertical-align: middle;\n",
       "    }\n",
       "\n",
       "    .dataframe tbody tr th {\n",
       "        vertical-align: top;\n",
       "    }\n",
       "\n",
       "    .dataframe thead th {\n",
       "        text-align: right;\n",
       "    }\n",
       "</style>\n",
       "<table border=\"1\" class=\"dataframe\">\n",
       "  <thead>\n",
       "    <tr style=\"text-align: right;\">\n",
       "      <th></th>\n",
       "      <th>gold_label</th>\n",
       "      <th>sentence1</th>\n",
       "      <th>sentence2</th>\n",
       "      <th>gold_label_encoded</th>\n",
       "    </tr>\n",
       "  </thead>\n",
       "  <tbody>\n",
       "    <tr>\n",
       "      <th>0</th>\n",
       "      <td>contradiction</td>\n",
       "      <td>group men cowboy hats watching rodeo</td>\n",
       "      <td>group women watching horse race</td>\n",
       "      <td>0</td>\n",
       "    </tr>\n",
       "    <tr>\n",
       "      <th>1</th>\n",
       "      <td>entailment</td>\n",
       "      <td>kid head shaved sitting holding lit cigarette</td>\n",
       "      <td>child sits cigarette</td>\n",
       "      <td>1</td>\n",
       "    </tr>\n",
       "    <tr>\n",
       "      <th>2</th>\n",
       "      <td>neutral</td>\n",
       "      <td>woman riding bicycle past car group people sid...</td>\n",
       "      <td>woman riding bicycle near group friends sidewalk</td>\n",
       "      <td>2</td>\n",
       "    </tr>\n",
       "    <tr>\n",
       "      <th>3</th>\n",
       "      <td>neutral</td>\n",
       "      <td>woman looking appears telescope</td>\n",
       "      <td>female astronamer looking toward stars telescope</td>\n",
       "      <td>2</td>\n",
       "    </tr>\n",
       "    <tr>\n",
       "      <th>4</th>\n",
       "      <td>entailment</td>\n",
       "      <td>large group people stand outside road people h...</td>\n",
       "      <td>one group people watching another group</td>\n",
       "      <td>1</td>\n",
       "    </tr>\n",
       "    <tr>\n",
       "      <th>5</th>\n",
       "      <td>contradiction</td>\n",
       "      <td>small dark haired boy climbing large tree</td>\n",
       "      <td>small dark haired boy climbing car seat</td>\n",
       "      <td>0</td>\n",
       "    </tr>\n",
       "    <tr>\n",
       "      <th>6</th>\n",
       "      <td>neutral</td>\n",
       "      <td>man sits beside parked cars city street</td>\n",
       "      <td>man sitting bench</td>\n",
       "      <td>2</td>\n",
       "    </tr>\n",
       "    <tr>\n",
       "      <th>7</th>\n",
       "      <td>entailment</td>\n",
       "      <td>dog looks content sitting bed ripping paper</td>\n",
       "      <td>dog sitting bed ripping paper</td>\n",
       "      <td>1</td>\n",
       "    </tr>\n",
       "    <tr>\n",
       "      <th>8</th>\n",
       "      <td>contradiction</td>\n",
       "      <td>young children parents splashing around public...</td>\n",
       "      <td>families eating lunch</td>\n",
       "      <td>0</td>\n",
       "    </tr>\n",
       "    <tr>\n",
       "      <th>9</th>\n",
       "      <td>entailment</td>\n",
       "      <td>football coach guiding one players</td>\n",
       "      <td>coach knows play football</td>\n",
       "      <td>1</td>\n",
       "    </tr>\n",
       "  </tbody>\n",
       "</table>\n",
       "</div>"
      ],
      "text/plain": [
       "      gold_label                                          sentence1  \\\n",
       "0  contradiction               group men cowboy hats watching rodeo   \n",
       "1     entailment      kid head shaved sitting holding lit cigarette   \n",
       "2        neutral  woman riding bicycle past car group people sid...   \n",
       "3        neutral                    woman looking appears telescope   \n",
       "4     entailment  large group people stand outside road people h...   \n",
       "5  contradiction          small dark haired boy climbing large tree   \n",
       "6        neutral            man sits beside parked cars city street   \n",
       "7     entailment        dog looks content sitting bed ripping paper   \n",
       "8  contradiction  young children parents splashing around public...   \n",
       "9     entailment                 football coach guiding one players   \n",
       "\n",
       "                                          sentence2  gold_label_encoded  \n",
       "0                   group women watching horse race                   0  \n",
       "1                              child sits cigarette                   1  \n",
       "2  woman riding bicycle near group friends sidewalk                   2  \n",
       "3  female astronamer looking toward stars telescope                   2  \n",
       "4           one group people watching another group                   1  \n",
       "5           small dark haired boy climbing car seat                   0  \n",
       "6                                 man sitting bench                   2  \n",
       "7                     dog sitting bed ripping paper                   1  \n",
       "8                             families eating lunch                   0  \n",
       "9                         coach knows play football                   1  "
      ]
     },
     "execution_count": 16,
     "metadata": {},
     "output_type": "execute_result"
    }
   ],
   "source": [
    "encoder = LabelEncoder()\n",
    "df_train['gold_label_encoded'] = encoder.fit_transform(df_train['gold_label'])\n",
    "df_train.head(10)"
   ]
  },
  {
   "cell_type": "markdown",
   "metadata": {},
   "source": [
    "## Data Visualization"
   ]
  },
  {
   "cell_type": "code",
   "execution_count": 17,
   "metadata": {},
   "outputs": [
    {
     "name": "stdout",
     "output_type": "stream",
     "text": [
      "Average Length of sentence 1:  7.985239063001391\n",
      "Average Length of sentence 2:  4.091774521339181\n"
     ]
    }
   ],
   "source": [
    "avg_length_s1 = df_train['sentence1'].apply(lambda x: len(x.split(\" \"))).mean()\n",
    "avg_length_s2 = df_train['sentence2'].apply(lambda x: len(x.split(\" \"))).mean()\n",
    "print(\"Average Length of sentence 1: \", avg_length_s1)\n",
    "print(\"Average Length of sentence 2: \", avg_length_s2)"
   ]
  },
  {
   "cell_type": "code",
   "execution_count": 18,
   "metadata": {},
   "outputs": [
    {
     "data": {
      "image/png": "[encoded data removed]",
      "text/plain": [
       "<Figure size 720x360 with 1 Axes>"
      ]
     },
     "metadata": {
      "needs_background": "light"
     },
     "output_type": "display_data"
    }
   ],
   "source": [
    "contradiction_len = df_train[df_train['gold_label'] == 'contradiction'].shape[0]\n",
    "entailment_len = df_train[df_train['gold_label'] == 'entailment'].shape[0]\n",
    "neutral_len = df_train[df_train['gold_label'] == 'neutral'].shape[0]\n",
    "\n",
    "plt.rcParams['figure.figsize'] = (10, 5)\n",
    "plt.bar(0,contradiction_len,3, label=\"contradiction\", color='blue')\n",
    "plt.bar(5,entailment_len,3, label=\"entailment\", color='red')\n",
    "plt.bar(10,neutral_len,3, label=\"neutral\", color='green')\n",
    "\n",
    "plt.legend()\n",
    "plt.ylabel('Number of examples')\n",
    "plt.title('Propertion of examples')\n",
    "plt.show()"
   ]
  },
  {
   "cell_type": "code",
   "execution_count": 19,
   "metadata": {},
   "outputs": [],
   "source": [
    "def length(text):    \n",
    "    return len(text)"
   ]
  },
  {
   "cell_type": "code",
   "execution_count": 20,
   "metadata": {},
   "outputs": [
    {
     "data": {
      "image/png": "[encoded data removed]",
      "text/plain": [
       "<Figure size 1296x432 with 1 Axes>"
      ]
     },
     "metadata": {
      "needs_background": "light"
     },
     "output_type": "display_data"
    }
   ],
   "source": [
    "df_train['length_s1'] = df_train['sentence1'] .apply(length)\n",
    "df_test['length_s1'] = df_test['sentence1'] .apply(length)\n",
    "\n",
    "plt.rcParams['figure.figsize'] = (18.0, 6.0)\n",
    "bins = 150\n",
    "plt.hist(df_train[df_train['gold_label'] == 'contradiction']['length_s1'], alpha = 0.6, bins=bins, label='contradiction')\n",
    "plt.hist(df_train[df_train['gold_label'] == 'entailment']['length_s1'], alpha = 0.6, bins=bins, label='entailment')\n",
    "plt.hist(df_train[df_train['gold_label'] == 'neutral']['length_s1'], alpha = 0.6, bins=bins, label='neutral')\n",
    "plt.xlabel('length')\n",
    "plt.ylabel('numbers')\n",
    "plt.legend(loc='upper right')\n",
    "plt.xlim(0,150)\n",
    "plt.grid()\n",
    "plt.show()"
   ]
  },
  {
   "cell_type": "code",
   "execution_count": 21,
   "metadata": {},
   "outputs": [
    {
     "data": {
      "image/png": "[encoded data removed]",
      "text/plain": [
       "<Figure size 1296x432 with 1 Axes>"
      ]
     },
     "metadata": {
      "needs_background": "light"
     },
     "output_type": "display_data"
    }
   ],
   "source": [
    "df_train['length_s2'] = df_train['sentence2'] .apply(length)\n",
    "df_test['length_s2'] = df_test['sentence2'] .apply(length)\n",
    "\n",
    "plt.rcParams['figure.figsize'] = (18.0, 6.0)\n",
    "bins = 150\n",
    "plt.hist(df_train[df_train['gold_label'] == 'contradiction']['length_s2'], alpha = 0.6, bins=bins, label='contradiction')\n",
    "plt.hist(df_train[df_train['gold_label'] == 'entailment']['length_s2'], alpha = 0.6, bins=bins, label='entailment')\n",
    "plt.hist(df_train[df_train['gold_label'] == 'neutral']['length_s2'], alpha = 0.6, bins=bins, label='neutral')\n",
    "plt.xlabel('length')\n",
    "plt.ylabel('numbers')\n",
    "plt.legend(loc='upper right')\n",
    "plt.xlim(0,150)\n",
    "plt.grid()\n",
    "plt.show()"
   ]
  },
  {
   "cell_type": "markdown",
   "metadata": {},
   "source": [
    "<hr>"
   ]
  },
  {
   "cell_type": "markdown",
   "metadata": {},
   "source": [
    "## Feature Engineering"
   ]
  },
  {
   "cell_type": "code",
   "execution_count": 22,
   "metadata": {},
   "outputs": [],
   "source": [
    "# def cal_correct(df, col, threshold):\n",
    "#     df[col + '_predicted'] = df[col] >= threshold\n",
    "#     df[col + '_correct'] = df[col + '_predicted'] == df['gold_label_encoded']\n",
    "    \n",
    "#     df_group = df.groupby(df[col + '_correct']).size().reset_index()\n",
    "#     df_group.columns = ['correct', 'cnt']\n",
    "\n",
    "#     plt.pie(df_group['cnt'].tolist(), labels=df_group['correct'].tolist(), autopct='%1.1f%%')\n",
    "#     plt.show()\n",
    "    \n",
    "# thresholds = [0.4, 0.5, 0.6]"
   ]
  },
  {
   "cell_type": "code",
   "execution_count": 23,
   "metadata": {},
   "outputs": [],
   "source": [
    "def seq_similarity(a, b):\n",
    "    return SequenceMatcher(None, a, b).ratio()\n",
    "    \n",
    "def seq_match_df(df_data):\n",
    "    col1 = 'sentence1'\n",
    "    col2 = 'sentence2'\n",
    "    df_data[col1] = df_data[col1].str.replace(r'\\d', '')\n",
    "    df_data[col2] = df_data[col2].str.replace(r'\\d', '')\n",
    "    df_data['seq_sim'] = 0\n",
    "    df_data['seq_sim'] = df_data.apply(lambda x: seq_similarity(x[col1], x[col2]), axis=1)\n",
    "    return df_data\n",
    "\n",
    "df_train_result_seq = seq_match_df(df_train)\n",
    "df_test_result_seq = seq_match_df(df_test)"
   ]
  },
  {
   "cell_type": "code",
   "execution_count": 24,
   "metadata": {},
   "outputs": [],
   "source": [
    "# for x in thresholds:\n",
    "#     print('threshold:', x)\n",
    "#     cal_correct(df_result_seq, 'seq_sim', x)"
   ]
  },
  {
   "cell_type": "code",
   "execution_count": 25,
   "metadata": {},
   "outputs": [],
   "source": [
    "vectorizer = text.TfidfVectorizer()\n",
    "\n",
    "def cosine_sim(test1, test2):\n",
    "    tfidf = vectorizer.fit_transform([test1, test2])\n",
    "    result = ((tfidf * tfidf.T).A)[0,1]\n",
    "    return result\n",
    "    \n",
    "def cosine_sim_df(df_data):\n",
    "    col1 = 'sentence1'\n",
    "    col2 = 'sentence2'\n",
    "    df_data[col1] = df_data[col1].str.replace(r'\\d', '')\n",
    "    df_data[col2] = df_data[col2].str.replace(r'\\d', '')\n",
    "    df_data['cos_sim'] = 0\n",
    "    df_data['cos_sim'] = df_data.apply(lambda x: cosine_sim(x[col1], x[col2]), axis=1)\n",
    "    return df_data\n",
    "\n",
    "df_train_result_cos = cosine_sim_df(df_train)\n",
    "df_test_result_cos = cosine_sim_df(df_test)"
   ]
  },
  {
   "cell_type": "code",
   "execution_count": 26,
   "metadata": {},
   "outputs": [],
   "source": [
    "# for x in thresholds:\n",
    "#     print('threshold:', x)\n",
    "#     cal_correct(df_result_cos, 'cos_sim', x)"
   ]
  },
  {
   "cell_type": "markdown",
   "metadata": {},
   "source": [
    "### Unigram"
   ]
  },
  {
   "cell_type": "code",
   "execution_count": 27,
   "metadata": {},
   "outputs": [],
   "source": [
    "def get_unigrams(que):\n",
    "    return [word for word in word_tokenize(que.lower()) if word not in eng_stopwords]\n",
    "\n",
    "df_train[\"unigrams_s1\"] = df_train['sentence1'].apply(lambda x: get_unigrams(str(x)))\n",
    "df_train[\"unigrams_s2\"] = df_train['sentence2'].apply(lambda x: get_unigrams(str(x)))\n",
    "\n",
    "df_test[\"unigrams_s1\"] = df_test['sentence1'].apply(lambda x: get_unigrams(str(x)))\n",
    "df_test[\"unigrams_s2\"] = df_test['sentence2'].apply(lambda x: get_unigrams(str(x)))"
   ]
  },
  {
   "cell_type": "code",
   "execution_count": 28,
   "metadata": {},
   "outputs": [],
   "source": [
    "## Finding the intersection between two series in pandas and return len.\n",
    "def get_common_unigrams(row):\n",
    "    return len( set(row[\"unigrams_s1\"]).intersection(set(row[\"unigrams_s2\"])) ) \n",
    "\n",
    "df_train[\"unigrams_common_count\"] = df_train.apply(lambda row: get_common_unigrams(row), axis=1)\n",
    "df_test[\"unigrams_common_count\"] = df_test.apply(lambda row: get_common_unigrams(row), axis=1)"
   ]
  },
  {
   "cell_type": "code",
   "execution_count": 29,
   "metadata": {},
   "outputs": [],
   "source": [
    "def get_common_unigram_ratio(row):\n",
    "    return float(row[\"unigrams_common_count\"]) / max(len( set(row[\"unigrams_s1\"]).union(set(row[\"unigrams_s2\"]))), 1)\n",
    "\n",
    "df_train[\"unigrams_common_ratio\"] = df_train.apply(lambda row: get_common_unigram_ratio(row),axis=1)\n",
    "df_test[\"unigrams_common_ratio\"] = df_test.apply(lambda row: get_common_unigram_ratio(row),axis=1)"
   ]
  },
  {
   "cell_type": "markdown",
   "metadata": {},
   "source": [
    "### Bigram"
   ]
  },
  {
   "cell_type": "code",
   "execution_count": 30,
   "metadata": {},
   "outputs": [],
   "source": [
    "def get_bigrams(que):\n",
    "    return [ i for i in ngrams(que,2)]\n",
    "\n",
    "df_train[\"bigrams_s1\"] = df_train[\"unigrams_s1\"].apply(lambda x: get_bigrams(x))\n",
    "df_train[\"bigrams_s2\"] = df_train[\"unigrams_s2\"].apply(lambda x: get_bigrams(x))\n",
    "\n",
    "df_test[\"bigrams_s1\"] = df_test[\"unigrams_s1\"].apply(lambda x: get_bigrams(x))\n",
    "df_test[\"bigrams_s2\"] = df_test[\"unigrams_s2\"].apply(lambda x: get_bigrams(x))"
   ]
  },
  {
   "cell_type": "code",
   "execution_count": 31,
   "metadata": {},
   "outputs": [],
   "source": [
    "def get_common_bigrams(row):\n",
    "    return len( set(row['bigrams_s1']).intersection(set(row['bigrams_s2'])) )\n",
    "\n",
    "df_train[\"bigrams_common_count\"] = df_train.apply(lambda row: get_common_bigrams(row), axis=1)\n",
    "df_test[\"bigrams_common_count\"] = df_test.apply(lambda row: get_common_bigrams(row), axis=1)"
   ]
  },
  {
   "cell_type": "code",
   "execution_count": 32,
   "metadata": {},
   "outputs": [],
   "source": [
    "def get_common_bigram_ratio(row):\n",
    "    return float(row[\"bigrams_common_count\"]) / max(len( set(row[\"bigrams_s1\"]).union(set(row[\"bigrams_s2\"]))), 1)\n",
    "\n",
    "df_train[\"bigrams_common_ratio\"] = df_train.apply(lambda row: get_common_bigram_ratio(row), axis=1)\n",
    "df_test[\"bigrams_common_ratio\"] = df_test.apply(lambda row: get_common_bigram_ratio(row), axis=1)"
   ]
  },
  {
   "cell_type": "code",
   "execution_count": null,
   "metadata": {},
   "outputs": [],
   "source": []
  },
  {
   "cell_type": "code",
   "execution_count": 33,
   "metadata": {},
   "outputs": [],
   "source": [
    "# train_data_features_2 = vectorizer.fit_transform(X_train[\"sentence2\"])\n",
    "# train_data_features_2 = train_data_features_2.toarray()\n",
    "# print(train_data_features_2.shape)\n",
    "\n",
    "# train_data_features_1 = vectorizer.fit_transform(X_train['sentence1'])\n",
    "# train_data_features_1 = train_data_features_1.toarray()\n",
    "# print(train_data_features_1.shape)\n",
    "\n",
    "# train_data_features_12 = np.stack((train_data_features_1, train_data_features_2), axis=0) \n",
    "# print(train_data_features_12.shape)\n",
    "\n",
    "# train_data_features_12 = train_data_features_12.reshape(train_data_features_1.shape[0], -1)\n",
    "# print(train_data_features_12.shape)"
   ]
  },
  {
   "cell_type": "code",
   "execution_count": 34,
   "metadata": {},
   "outputs": [],
   "source": [
    "# test_data_features_2 = vectorizer.fit_transform(X_test[\"sentence2\"])\n",
    "# test_data_features_2 = test_data_features_2.toarray()\n",
    "# print(test_data_features_2.shape)\n",
    "\n",
    "# test_data_features_1 = vectorizer.fit_transform(X_test['sentence1'])\n",
    "# test_data_features_1 = test_data_features_1.toarray()\n",
    "# print(test_data_features_1.shape)\n",
    "\n",
    "# test_data_features_12 = np.stack((test_data_features_1, test_data_features_2), axis=0) \n",
    "# print(test_data_features_12.shape)\n",
    "\n",
    "# test_data_features_12 = test_data_features_12.reshape(test_data_features_1.shape[0], -1)\n",
    "# print(test_data_features_12.shape)"
   ]
  },
  {
   "cell_type": "code",
   "execution_count": 35,
   "metadata": {},
   "outputs": [],
   "source": [
    "# vocab = vectorizer.get_feature_names()\n",
    "# print(vocab)"
   ]
  },
  {
   "cell_type": "code",
   "execution_count": null,
   "metadata": {},
   "outputs": [],
   "source": []
  },
  {
   "cell_type": "code",
   "execution_count": 36,
   "metadata": {},
   "outputs": [
    {
     "data": {
      "text/html": [
       "<div>\n",
       "<style scoped>\n",
       "    .dataframe tbody tr th:only-of-type {\n",
       "        vertical-align: middle;\n",
       "    }\n",
       "\n",
       "    .dataframe tbody tr th {\n",
       "        vertical-align: top;\n",
       "    }\n",
       "\n",
       "    .dataframe thead th {\n",
       "        text-align: right;\n",
       "    }\n",
       "</style>\n",
       "<table border=\"1\" class=\"dataframe\">\n",
       "  <thead>\n",
       "    <tr style=\"text-align: right;\">\n",
       "      <th></th>\n",
       "      <th>gold_label</th>\n",
       "      <th>sentence1</th>\n",
       "      <th>sentence2</th>\n",
       "      <th>gold_label_encoded</th>\n",
       "      <th>length_s1</th>\n",
       "      <th>length_s2</th>\n",
       "      <th>seq_sim</th>\n",
       "      <th>cos_sim</th>\n",
       "      <th>unigrams_s1</th>\n",
       "      <th>unigrams_s2</th>\n",
       "      <th>unigrams_common_count</th>\n",
       "      <th>unigrams_common_ratio</th>\n",
       "      <th>bigrams_s1</th>\n",
       "      <th>bigrams_s2</th>\n",
       "      <th>bigrams_common_count</th>\n",
       "      <th>bigrams_common_ratio</th>\n",
       "    </tr>\n",
       "  </thead>\n",
       "  <tbody>\n",
       "    <tr>\n",
       "      <th>0</th>\n",
       "      <td>contradiction</td>\n",
       "      <td>group men cowboy hats watching rodeo</td>\n",
       "      <td>group women watching horse race</td>\n",
       "      <td>0</td>\n",
       "      <td>36</td>\n",
       "      <td>31</td>\n",
       "      <td>0.626866</td>\n",
       "      <td>0.225765</td>\n",
       "      <td>[group, men, cowboy, hats, watching, rodeo]</td>\n",
       "      <td>[group, women, watching, horse, race]</td>\n",
       "      <td>2</td>\n",
       "      <td>0.222222</td>\n",
       "      <td>[(group, men), (men, cowboy), (cowboy, hats), ...</td>\n",
       "      <td>[(group, women), (women, watching), (watching,...</td>\n",
       "      <td>0</td>\n",
       "      <td>0.000000</td>\n",
       "    </tr>\n",
       "    <tr>\n",
       "      <th>1</th>\n",
       "      <td>entailment</td>\n",
       "      <td>kid head shaved sitting holding lit cigarette</td>\n",
       "      <td>child sits cigarette</td>\n",
       "      <td>1</td>\n",
       "      <td>45</td>\n",
       "      <td>20</td>\n",
       "      <td>0.492308</td>\n",
       "      <td>0.125367</td>\n",
       "      <td>[kid, head, shaved, sitting, holding, lit, cig...</td>\n",
       "      <td>[child, sits, cigarette]</td>\n",
       "      <td>1</td>\n",
       "      <td>0.111111</td>\n",
       "      <td>[(kid, head), (head, shaved), (shaved, sitting...</td>\n",
       "      <td>[(child, sits), (sits, cigarette)]</td>\n",
       "      <td>0</td>\n",
       "      <td>0.000000</td>\n",
       "    </tr>\n",
       "    <tr>\n",
       "      <th>2</th>\n",
       "      <td>neutral</td>\n",
       "      <td>woman riding bicycle past car group people sid...</td>\n",
       "      <td>woman riding bicycle near group friends sidewalk</td>\n",
       "      <td>2</td>\n",
       "      <td>51</td>\n",
       "      <td>48</td>\n",
       "      <td>0.808081</td>\n",
       "      <td>0.505606</td>\n",
       "      <td>[woman, riding, bicycle, past, car, group, peo...</td>\n",
       "      <td>[woman, riding, bicycle, near, group, friends,...</td>\n",
       "      <td>5</td>\n",
       "      <td>0.500000</td>\n",
       "      <td>[(woman, riding), (riding, bicycle), (bicycle,...</td>\n",
       "      <td>[(woman, riding), (riding, bicycle), (bicycle,...</td>\n",
       "      <td>2</td>\n",
       "      <td>0.181818</td>\n",
       "    </tr>\n",
       "  </tbody>\n",
       "</table>\n",
       "</div>"
      ],
      "text/plain": [
       "      gold_label                                          sentence1  \\\n",
       "0  contradiction               group men cowboy hats watching rodeo   \n",
       "1     entailment      kid head shaved sitting holding lit cigarette   \n",
       "2        neutral  woman riding bicycle past car group people sid...   \n",
       "\n",
       "                                          sentence2  gold_label_encoded  \\\n",
       "0                   group women watching horse race                   0   \n",
       "1                              child sits cigarette                   1   \n",
       "2  woman riding bicycle near group friends sidewalk                   2   \n",
       "\n",
       "   length_s1  length_s2   seq_sim   cos_sim  \\\n",
       "0         36         31  0.626866  0.225765   \n",
       "1         45         20  0.492308  0.125367   \n",
       "2         51         48  0.808081  0.505606   \n",
       "\n",
       "                                         unigrams_s1  \\\n",
       "0        [group, men, cowboy, hats, watching, rodeo]   \n",
       "1  [kid, head, shaved, sitting, holding, lit, cig...   \n",
       "2  [woman, riding, bicycle, past, car, group, peo...   \n",
       "\n",
       "                                         unigrams_s2  unigrams_common_count  \\\n",
       "0              [group, women, watching, horse, race]                      2   \n",
       "1                           [child, sits, cigarette]                      1   \n",
       "2  [woman, riding, bicycle, near, group, friends,...                      5   \n",
       "\n",
       "   unigrams_common_ratio                                         bigrams_s1  \\\n",
       "0               0.222222  [(group, men), (men, cowboy), (cowboy, hats), ...   \n",
       "1               0.111111  [(kid, head), (head, shaved), (shaved, sitting...   \n",
       "2               0.500000  [(woman, riding), (riding, bicycle), (bicycle,...   \n",
       "\n",
       "                                          bigrams_s2  bigrams_common_count  \\\n",
       "0  [(group, women), (women, watching), (watching,...                     0   \n",
       "1                 [(child, sits), (sits, cigarette)]                     0   \n",
       "2  [(woman, riding), (riding, bicycle), (bicycle,...                     2   \n",
       "\n",
       "   bigrams_common_ratio  \n",
       "0              0.000000  \n",
       "1              0.000000  \n",
       "2              0.181818  "
      ]
     },
     "execution_count": 36,
     "metadata": {},
     "output_type": "execute_result"
    }
   ],
   "source": [
    "df_train.head(3)"
   ]
  },
  {
   "cell_type": "code",
   "execution_count": 37,
   "metadata": {},
   "outputs": [],
   "source": [
    "df_X = df_train.drop(['gold_label', 'sentence1', 'sentence2', 'unigrams_s1',\n",
    "                      'unigrams_s2', 'bigrams_s1', 'bigrams_s2', 'gold_label_encoded'], axis=1)\n",
    "df_y = df_train[\"gold_label_encoded\"]"
   ]
  },
  {
   "cell_type": "code",
   "execution_count": 38,
   "metadata": {},
   "outputs": [],
   "source": [
    "df_test_X = df_test.drop(['sentence1', 'sentence2', 'unigrams_s1',\n",
    "                      'unigrams_s2', 'bigrams_s1', 'bigrams_s2'], axis=1)"
   ]
  },
  {
   "cell_type": "code",
   "execution_count": 39,
   "metadata": {},
   "outputs": [
    {
     "data": {
      "text/html": [
       "<div>\n",
       "<style scoped>\n",
       "    .dataframe tbody tr th:only-of-type {\n",
       "        vertical-align: middle;\n",
       "    }\n",
       "\n",
       "    .dataframe tbody tr th {\n",
       "        vertical-align: top;\n",
       "    }\n",
       "\n",
       "    .dataframe thead th {\n",
       "        text-align: right;\n",
       "    }\n",
       "</style>\n",
       "<table border=\"1\" class=\"dataframe\">\n",
       "  <thead>\n",
       "    <tr style=\"text-align: right;\">\n",
       "      <th></th>\n",
       "      <th>length_s1</th>\n",
       "      <th>length_s2</th>\n",
       "      <th>seq_sim</th>\n",
       "      <th>cos_sim</th>\n",
       "      <th>unigrams_common_count</th>\n",
       "      <th>unigrams_common_ratio</th>\n",
       "      <th>bigrams_common_count</th>\n",
       "      <th>bigrams_common_ratio</th>\n",
       "    </tr>\n",
       "  </thead>\n",
       "  <tbody>\n",
       "    <tr>\n",
       "      <th>0</th>\n",
       "      <td>36</td>\n",
       "      <td>31</td>\n",
       "      <td>0.626866</td>\n",
       "      <td>0.225765</td>\n",
       "      <td>2</td>\n",
       "      <td>0.222222</td>\n",
       "      <td>0</td>\n",
       "      <td>0.000000</td>\n",
       "    </tr>\n",
       "    <tr>\n",
       "      <th>1</th>\n",
       "      <td>45</td>\n",
       "      <td>20</td>\n",
       "      <td>0.492308</td>\n",
       "      <td>0.125367</td>\n",
       "      <td>1</td>\n",
       "      <td>0.111111</td>\n",
       "      <td>0</td>\n",
       "      <td>0.000000</td>\n",
       "    </tr>\n",
       "    <tr>\n",
       "      <th>2</th>\n",
       "      <td>51</td>\n",
       "      <td>48</td>\n",
       "      <td>0.808081</td>\n",
       "      <td>0.505606</td>\n",
       "      <td>5</td>\n",
       "      <td>0.500000</td>\n",
       "      <td>2</td>\n",
       "      <td>0.181818</td>\n",
       "    </tr>\n",
       "  </tbody>\n",
       "</table>\n",
       "</div>"
      ],
      "text/plain": [
       "   length_s1  length_s2   seq_sim   cos_sim  unigrams_common_count  \\\n",
       "0         36         31  0.626866  0.225765                      2   \n",
       "1         45         20  0.492308  0.125367                      1   \n",
       "2         51         48  0.808081  0.505606                      5   \n",
       "\n",
       "   unigrams_common_ratio  bigrams_common_count  bigrams_common_ratio  \n",
       "0               0.222222                     0              0.000000  \n",
       "1               0.111111                     0              0.000000  \n",
       "2               0.500000                     2              0.181818  "
      ]
     },
     "execution_count": 39,
     "metadata": {},
     "output_type": "execute_result"
    }
   ],
   "source": [
    "df_X.head(3)"
   ]
  },
  {
   "cell_type": "code",
   "execution_count": 40,
   "metadata": {},
   "outputs": [
    {
     "data": {
      "text/html": [
       "<div>\n",
       "<style scoped>\n",
       "    .dataframe tbody tr th:only-of-type {\n",
       "        vertical-align: middle;\n",
       "    }\n",
       "\n",
       "    .dataframe tbody tr th {\n",
       "        vertical-align: top;\n",
       "    }\n",
       "\n",
       "    .dataframe thead th {\n",
       "        text-align: right;\n",
       "    }\n",
       "</style>\n",
       "<table border=\"1\" class=\"dataframe\">\n",
       "  <thead>\n",
       "    <tr style=\"text-align: right;\">\n",
       "      <th></th>\n",
       "      <th>length_s1</th>\n",
       "      <th>length_s2</th>\n",
       "      <th>seq_sim</th>\n",
       "      <th>cos_sim</th>\n",
       "      <th>unigrams_common_count</th>\n",
       "      <th>unigrams_common_ratio</th>\n",
       "      <th>bigrams_common_count</th>\n",
       "      <th>bigrams_common_ratio</th>\n",
       "    </tr>\n",
       "  </thead>\n",
       "  <tbody>\n",
       "    <tr>\n",
       "      <th>0</th>\n",
       "      <td>58</td>\n",
       "      <td>27</td>\n",
       "      <td>0.423529</td>\n",
       "      <td>0.299580</td>\n",
       "      <td>2</td>\n",
       "      <td>0.200000</td>\n",
       "      <td>1</td>\n",
       "      <td>0.1</td>\n",
       "    </tr>\n",
       "    <tr>\n",
       "      <th>1</th>\n",
       "      <td>28</td>\n",
       "      <td>14</td>\n",
       "      <td>0.523810</td>\n",
       "      <td>0.150640</td>\n",
       "      <td>1</td>\n",
       "      <td>0.142857</td>\n",
       "      <td>0</td>\n",
       "      <td>0.0</td>\n",
       "    </tr>\n",
       "    <tr>\n",
       "      <th>2</th>\n",
       "      <td>33</td>\n",
       "      <td>37</td>\n",
       "      <td>0.685714</td>\n",
       "      <td>0.225765</td>\n",
       "      <td>2</td>\n",
       "      <td>0.222222</td>\n",
       "      <td>0</td>\n",
       "      <td>0.0</td>\n",
       "    </tr>\n",
       "  </tbody>\n",
       "</table>\n",
       "</div>"
      ],
      "text/plain": [
       "   length_s1  length_s2   seq_sim   cos_sim  unigrams_common_count  \\\n",
       "0         58         27  0.423529  0.299580                      2   \n",
       "1         28         14  0.523810  0.150640                      1   \n",
       "2         33         37  0.685714  0.225765                      2   \n",
       "\n",
       "   unigrams_common_ratio  bigrams_common_count  bigrams_common_ratio  \n",
       "0               0.200000                     1                   0.1  \n",
       "1               0.142857                     0                   0.0  \n",
       "2               0.222222                     0                   0.0  "
      ]
     },
     "execution_count": 40,
     "metadata": {},
     "output_type": "execute_result"
    }
   ],
   "source": [
    "df_test_X.head(3)"
   ]
  },
  {
   "cell_type": "markdown",
   "metadata": {},
   "source": [
    "### Scaling Data"
   ]
  },
  {
   "cell_type": "code",
   "execution_count": 41,
   "metadata": {},
   "outputs": [
    {
     "name": "stdout",
     "output_type": "stream",
     "text": [
      "[[0.11842105 0.18918919 0.61765248 ... 0.22222222 0.         0.        ]\n",
      " [0.15789474 0.11486486 0.47977208 ... 0.11111111 0.         0.        ]\n",
      " [0.18421053 0.30405405 0.80334206 ... 0.5        0.08333333 0.18181818]\n",
      " ...\n",
      " [0.29385965 0.23648649 0.42473468 ... 0.13333333 0.         0.        ]\n",
      " [0.11842105 0.25675676 0.5342312  ... 0.3        0.04166667 0.1       ]\n",
      " [0.18859649 0.35135135 0.93296412 ... 0.77777778 0.20833333 0.55555556]]\n",
      "[[0.21491228 0.16216216 0.40929557 ... 0.2        0.04166667 0.1       ]\n",
      " [0.08333333 0.07432432 0.51205173 ... 0.14285714 0.         0.        ]\n",
      " [0.10526316 0.22972973 0.67795414 ... 0.22222222 0.         0.        ]\n",
      " ...\n",
      " [0.22368421 0.14189189 0.24368019 ... 0.         0.         0.        ]\n",
      " [0.19298246 0.10135135 0.14849591 ... 0.         0.         0.        ]\n",
      " [0.1754386  0.16891892 0.5342312  ... 0.375      0.04166667 0.125     ]]\n"
     ]
    }
   ],
   "source": [
    "from sklearn.preprocessing import MinMaxScaler\n",
    "scaler = MinMaxScaler()\n",
    "df_scaled = scaler.fit_transform(df_X)\n",
    "df_test_scaled = scaler.transform(df_test_X)\n",
    "print(df_scaled)\n",
    "print(df_test_scaled)"
   ]
  },
  {
   "cell_type": "code",
   "execution_count": 42,
   "metadata": {},
   "outputs": [
    {
     "data": {
      "text/plain": [
       "(6263, 8)"
      ]
     },
     "execution_count": 42,
     "metadata": {},
     "output_type": "execute_result"
    }
   ],
   "source": [
    "X_train, X_cv, y_train, y_cv = train_test_split(df_scaled, df_y, test_size=0.33, random_state=42)\n",
    "X_train.shape"
   ]
  },
  {
   "cell_type": "code",
   "execution_count": 43,
   "metadata": {},
   "outputs": [],
   "source": [
    "def model_evaluation(y_test, y_pred):\n",
    "    cm = confusion_matrix(y_test, y_pred)\n",
    "\n",
    "    print(\"Confusion Matrix:\")\n",
    "    print(cm, end=\"\\n\\n\")\n",
    "\n",
    "    TN = cm[0, 0]\n",
    "    FN = cm[0, 1]\n",
    "    FP = cm[1, 0]\n",
    "    TP = cm[1, 1]\n",
    "\n",
    "    P = FN+TP\n",
    "    N = TN+FP\n",
    "\n",
    "    TPR = TP/P\n",
    "    TNR = TN/N\n",
    "    FPR = FP/N\n",
    "    FNR = FN/P\n",
    "\n",
    "    accuracy = (TN+TP)/(P+N)\n",
    "#     print(\"Test Accuracy: \"+str(accuracy), end=\"\\n\\n\")\n",
    "    print(\"Test Accuracy: \"+str(accuracy_score(y_test, y_pred)), end=\"\\n\\n\")\n",
    "    print(\"All 4 parameters: \",TN, FN, FP, TP, end=\"\\n\\n\")\n",
    "    print(\"TPR: {}\".format(TPR))\n",
    "    print(\"TNR: {}\".format(TNR))\n",
    "    print(\"FPR: {}\".format(FPR))\n",
    "    print(\"FNR: {}\".format(FNR))\n",
    "    print()\n",
    "    \n",
    "    print(classification_report(y_test, y_pred))"
   ]
  },
  {
   "cell_type": "markdown",
   "metadata": {},
   "source": [
    "## Building ML Models"
   ]
  },
  {
   "cell_type": "markdown",
   "metadata": {},
   "source": [
    "#### Classification models"
   ]
  },
  {
   "cell_type": "code",
   "execution_count": 44,
   "metadata": {},
   "outputs": [
    {
     "name": "stdout",
     "output_type": "stream",
     "text": [
      "LR [0.49856322 0.4894636  0.52180163] 0.503276149685366\n",
      "NB [0.45450192 0.46599617 0.44705319] 0.45585042356104594\n",
      "RF [0.4559387  0.45737548 0.47101102] 0.4614417322829827\n",
      "Dtree [0.43534483 0.42768199 0.4446574 ] 0.4358947409647144\n",
      "XGB [0.51340996 0.49664751 0.5342597 ] 0.5147723913957412\n",
      "KNN [0.46216475 0.46024904 0.49017729] 0.4708636936922052\n",
      "SVC [0.49568966 0.49185824 0.50311452] 0.4968874703892796\n"
     ]
    }
   ],
   "source": [
    "models = []\n",
    "models.append((\"LR\",LogisticRegression()))\n",
    "models.append((\"NB\",GaussianNB()))\n",
    "models.append((\"RF\",RandomForestClassifier()))\n",
    "models.append((\"Dtree\",DecisionTreeClassifier()))\n",
    "models.append((\"XGB\",xgb.XGBClassifier()))\n",
    "models.append((\"KNN\",KNeighborsClassifier()))\n",
    "models.append((\"SVC\",SVC()))\n",
    "\n",
    "for name,model in models:\n",
    "    kfold = KFold(n_splits=3, random_state=42)\n",
    "    cv_result = cross_val_score(model,X_train,y_train, cv = kfold, scoring = \"accuracy\")\n",
    "    print(name, cv_result, np.mean(cv_result))"
   ]
  },
  {
   "cell_type": "markdown",
   "metadata": {},
   "source": [
    "#### XGB Classifier"
   ]
  },
  {
   "cell_type": "code",
   "execution_count": 45,
   "metadata": {},
   "outputs": [
    {
     "name": "stdout",
     "output_type": "stream",
     "text": [
      "prediction:  [1 2 1 ... 0 1 2]\n",
      "\n",
      "Confusion Matrix:\n",
      "[[618 175 233]\n",
      " [279 594 171]\n",
      " [434 216 366]]\n",
      "\n",
      "Test Accuracy: 0.5113415424497731\n",
      "\n",
      "All 4 parameters:  618 175 279 594\n",
      "\n",
      "TPR: 0.7724317295188556\n",
      "TNR: 0.6889632107023411\n",
      "FPR: 0.3110367892976589\n",
      "FNR: 0.22756827048114434\n",
      "\n",
      "              precision    recall  f1-score   support\n",
      "\n",
      "           0       0.46      0.60      0.52      1026\n",
      "           1       0.60      0.57      0.59      1044\n",
      "           2       0.48      0.36      0.41      1016\n",
      "\n",
      "   micro avg       0.51      0.51      0.51      3086\n",
      "   macro avg       0.51      0.51      0.51      3086\n",
      "weighted avg       0.51      0.51      0.51      3086\n",
      "\n"
     ]
    }
   ],
   "source": [
    "xgb_classifier = xgb.XGBClassifier()\n",
    "hist = xgb_classifier.fit(X_train, y_train)\n",
    "predictions = xgb_classifier.predict(X_cv)\n",
    "print(\"prediction: \", predictions, end=\"\\n\\n\")\n",
    "model_evaluation(y_cv, predictions)"
   ]
  },
  {
   "cell_type": "markdown",
   "metadata": {},
   "source": [
    "### Working on Neural Network"
   ]
  },
  {
   "cell_type": "code",
   "execution_count": 46,
   "metadata": {},
   "outputs": [],
   "source": [
    "def show_learning_curve(hist, accuracy):\n",
    "    '''\n",
    "    this function will plot the graph showing the network's performance on training data \n",
    "    and plots metrics like loss, val_loss, accuracy, val_accuracy.\n",
    "    '''\n",
    "    fig, loss_ax = plt.subplots()\n",
    "    loss_ax.plot(hist.history['loss'], 'y', label='train loss')\n",
    "    loss_ax.plot(hist.history['val_loss'], 'r', label='val loss')\n",
    "    loss_ax.set_xlabel('epoch')\n",
    "    loss_ax.set_ylabel('loss')\n",
    "    loss_ax.legend(loc='lower left')\n",
    "    \n",
    "    fig, acc_ax = plt.subplots()\n",
    "    acc_ax.plot(hist.history[accuracy], 'b', label='train acc')\n",
    "    acc_ax.plot(hist.history['val_'+accuracy], 'g', label='val acc')\n",
    "    acc_ax.set_ylabel('accuracy')\n",
    "    acc_ax.legend(loc='upper left')\n",
    "    plt.show()"
   ]
  },
  {
   "cell_type": "markdown",
   "metadata": {},
   "source": [
    "#### Multi-layer Perceptron"
   ]
  },
  {
   "cell_type": "code",
   "execution_count": 47,
   "metadata": {},
   "outputs": [
    {
     "name": "stdout",
     "output_type": "stream",
     "text": [
      "Confusion Matrix:\n",
      "[[663 121 242]\n",
      " [307 549 188]\n",
      " [461 148 407]]\n",
      "\n",
      "Test Accuracy: 0.5246273493195075\n",
      "\n",
      "All 4 parameters:  663 121 307 549\n",
      "\n",
      "TPR: 0.8194029850746268\n",
      "TNR: 0.6835051546391753\n",
      "FPR: 0.31649484536082473\n",
      "FNR: 0.18059701492537314\n",
      "\n",
      "              precision    recall  f1-score   support\n",
      "\n",
      "           0       0.46      0.65      0.54      1026\n",
      "           1       0.67      0.53      0.59      1044\n",
      "           2       0.49      0.40      0.44      1016\n",
      "\n",
      "   micro avg       0.52      0.52      0.52      3086\n",
      "   macro avg       0.54      0.52      0.52      3086\n",
      "weighted avg       0.54      0.52      0.52      3086\n",
      "\n"
     ]
    }
   ],
   "source": [
    "from sklearn.neural_network import MLPClassifier\n",
    "model = MLPClassifier(hidden_layer_sizes=(20,90,120), learning_rate_init=0.001, max_iter=5000)\n",
    "hist = model.fit(X_train, y_train)\n",
    "\n",
    "predictions = model.predict(X_cv)\n",
    "model_evaluation(y_cv, predictions)"
   ]
  },
  {
   "cell_type": "markdown",
   "metadata": {},
   "source": [
    "#### Sequential Network"
   ]
  },
  {
   "cell_type": "code",
   "execution_count": 48,
   "metadata": {},
   "outputs": [
    {
     "name": "stdout",
     "output_type": "stream",
     "text": [
      "WARNING:tensorflow:From C:\\Users\\paras\\Anaconda3\\lib\\site-packages\\tensorflow_core\\python\\ops\\resource_variable_ops.py:1630: calling BaseResourceVariable.__init__ (from tensorflow.python.ops.resource_variable_ops) with constraint is deprecated and will be removed in a future version.\n",
      "Instructions for updating:\n",
      "If using Keras pass *_constraint arguments to layers.\n",
      "WARNING:tensorflow:From C:\\Users\\paras\\Anaconda3\\lib\\site-packages\\tensorflow_core\\python\\ops\\nn_impl.py:183: where (from tensorflow.python.ops.array_ops) is deprecated and will be removed in a future version.\n",
      "Instructions for updating:\n",
      "Use tf.where in 2.0, which has the same broadcast rule as np.where\n",
      "WARNING:tensorflow:From C:\\Users\\paras\\Anaconda3\\lib\\site-packages\\keras\\backend\\tensorflow_backend.py:422: The name tf.global_variables is deprecated. Please use tf.compat.v1.global_variables instead.\n",
      "\n",
      "Train on 7479 samples, validate on 1870 samples\n",
      "Epoch 1/100\n",
      "7479/7479 [==============================] - 1s 104us/step - loss: 0.1540 - accuracy: 0.3389 - val_loss: -0.2481 - val_accuracy: 0.3353\n",
      "Epoch 2/100\n",
      "7479/7479 [==============================] - 1s 70us/step - loss: -0.1025 - accuracy: 0.3395 - val_loss: -0.5590 - val_accuracy: 0.3353\n",
      "Epoch 3/100\n",
      "7479/7479 [==============================] - 1s 96us/step - loss: -0.3232 - accuracy: 0.3395 - val_loss: -1.1718 - val_accuracy: 0.3353\n",
      "Epoch 4/100\n",
      "7479/7479 [==============================] - 1s 109us/step - loss: -0.9030 - accuracy: 0.3395 - val_loss: -2.5780 - val_accuracy: 0.3353\n",
      "Epoch 5/100\n",
      "7479/7479 [==============================] - 1s 107us/step - loss: -1.7777 - accuracy: 0.3395 - val_loss: -4.9027 - val_accuracy: 0.3353\n",
      "Epoch 6/100\n",
      "7479/7479 [==============================] - 1s 106us/step - loss: -3.2357 - accuracy: 0.3395 - val_loss: -8.9574 - val_accuracy: 0.3353\n",
      "Epoch 7/100\n",
      "7479/7479 [==============================] - 1s 108us/step - loss: -6.1074 - accuracy: 0.3395 - val_loss: -15.2600 - val_accuracy: 0.3353\n",
      "Epoch 8/100\n",
      "7479/7479 [==============================] - 1s 112us/step - loss: -10.4642 - accuracy: 0.3395 - val_loss: -24.5352 - val_accuracy: 0.3353\n",
      "Epoch 9/100\n",
      "7479/7479 [==============================] - 1s 108us/step - loss: -18.3782 - accuracy: 0.3395 - val_loss: -40.3210 - val_accuracy: 0.3353\n",
      "Epoch 10/100\n",
      "7479/7479 [==============================] - 1s 109us/step - loss: -29.3740 - accuracy: 0.3395 - val_loss: -63.0971 - val_accuracy: 0.3353\n",
      "Epoch 11/100\n",
      "7479/7479 [==============================] - 1s 109us/step - loss: -45.8449 - accuracy: 0.3394 - val_loss: -97.6726 - val_accuracy: 0.3353\n",
      "Epoch 12/100\n",
      "7479/7479 [==============================] - 1s 109us/step - loss: -72.6532 - accuracy: 0.3396 - val_loss: -146.3927 - val_accuracy: 0.3353\n",
      "Epoch 13/100\n",
      "7479/7479 [==============================] - 1s 104us/step - loss: -113.3610 - accuracy: 0.3396 - val_loss: -213.7998 - val_accuracy: 0.3358\n",
      "Epoch 14/100\n",
      "7479/7479 [==============================] - 0s 48us/step - loss: -156.1075 - accuracy: 0.3399 - val_loss: -300.3495 - val_accuracy: 0.3358\n",
      "Epoch 15/100\n",
      "7479/7479 [==============================] - 1s 78us/step - loss: -204.7777 - accuracy: 0.3398 - val_loss: -408.3705 - val_accuracy: 0.3348\n",
      "Epoch 16/100\n",
      "7479/7479 [==============================] - 1s 94us/step - loss: -276.7615 - accuracy: 0.3395 - val_loss: -536.6798 - val_accuracy: 0.3342\n",
      "Epoch 17/100\n",
      "7479/7479 [==============================] - 1s 109us/step - loss: -410.0427 - accuracy: 0.3400 - val_loss: -716.8929 - val_accuracy: 0.3342\n",
      "Epoch 18/100\n",
      "7479/7479 [==============================] - 1s 106us/step - loss: -514.3499 - accuracy: 0.3394 - val_loss: -926.9185 - val_accuracy: 0.3342\n",
      "Epoch 19/100\n",
      "7479/7479 [==============================] - 1s 107us/step - loss: -618.9660 - accuracy: 0.3394 - val_loss: -1188.5040 - val_accuracy: 0.3342\n",
      "Epoch 20/100\n",
      "7479/7479 [==============================] - 1s 107us/step - loss: -908.2575 - accuracy: 0.3398 - val_loss: -1525.0948 - val_accuracy: 0.3342\n",
      "Epoch 21/100\n",
      "7479/7479 [==============================] - 1s 109us/step - loss: -1030.3916 - accuracy: 0.3399 - val_loss: -1862.9996 - val_accuracy: 0.3342\n",
      "Epoch 22/100\n",
      "7479/7479 [==============================] - 1s 109us/step - loss: -1308.5536 - accuracy: 0.3399 - val_loss: -2272.2286 - val_accuracy: 0.3332\n",
      "Epoch 23/100\n",
      "7479/7479 [==============================] - 1s 103us/step - loss: -1625.5844 - accuracy: 0.3396 - val_loss: -2770.3527 - val_accuracy: 0.3348\n",
      "Epoch 24/100\n",
      "7479/7479 [==============================] - 1s 68us/step - loss: -1894.1701 - accuracy: 0.3411 - val_loss: -3340.9653 - val_accuracy: 0.3342\n",
      "Epoch 25/100\n",
      "7479/7479 [==============================] - 1s 115us/step - loss: -2190.6307 - accuracy: 0.3427 - val_loss: -3963.0073 - val_accuracy: 0.3342\n",
      "Epoch 26/100\n",
      "7479/7479 [==============================] - 1s 116us/step - loss: -2868.5311 - accuracy: 0.3430 - val_loss: -4830.1058 - val_accuracy: 0.3342\n",
      "Epoch 27/100\n",
      "7479/7479 [==============================] - 1s 107us/step - loss: -3233.0321 - accuracy: 0.3407 - val_loss: -5797.1620 - val_accuracy: 0.3342\n",
      "Epoch 28/100\n",
      "7479/7479 [==============================] - 1s 108us/step - loss: -3833.6078 - accuracy: 0.3414 - val_loss: -6761.9515 - val_accuracy: 0.3337\n",
      "Epoch 29/100\n",
      "7479/7479 [==============================] - 1s 110us/step - loss: -4520.0858 - accuracy: 0.3426 - val_loss: -7880.3946 - val_accuracy: 0.3337\n",
      "Epoch 30/100\n",
      "7479/7479 [==============================] - 1s 109us/step - loss: -5293.2022 - accuracy: 0.3426 - val_loss: -9166.9950 - val_accuracy: 0.3337\n",
      "Epoch 31/100\n",
      "7479/7479 [==============================] - 1s 108us/step - loss: -6293.0529 - accuracy: 0.3422 - val_loss: -10654.7427 - val_accuracy: 0.3337\n",
      "Epoch 32/100\n",
      "7479/7479 [==============================] - 1s 108us/step - loss: -6650.3014 - accuracy: 0.3415 - val_loss: -12010.0949 - val_accuracy: 0.3342\n",
      "Epoch 33/100\n",
      "7479/7479 [==============================] - 1s 107us/step - loss: -7965.7800 - accuracy: 0.3416 - val_loss: -13749.5271 - val_accuracy: 0.3337\n",
      "Epoch 34/100\n",
      "7479/7479 [==============================] - 1s 109us/step - loss: -9823.9247 - accuracy: 0.3419 - val_loss: -15724.5194 - val_accuracy: 0.3348\n",
      "Epoch 35/100\n",
      "7479/7479 [==============================] - 1s 96us/step - loss: -11266.0728 - accuracy: 0.3426 - val_loss: -17876.6236 - val_accuracy: 0.3342\n",
      "Epoch 36/100\n",
      "7479/7479 [==============================] - 0s 56us/step - loss: -13050.8437 - accuracy: 0.3419 - val_loss: -20528.9663 - val_accuracy: 0.3337\n",
      "Epoch 37/100\n",
      "7479/7479 [==============================] - 1s 82us/step - loss: -13995.6971 - accuracy: 0.3419 - val_loss: -23065.9084 - val_accuracy: 0.3337\n",
      "Epoch 38/100\n",
      "7479/7479 [==============================] - 1s 80us/step - loss: -14754.3740 - accuracy: 0.3426 - val_loss: -25772.1008 - val_accuracy: 0.3337\n",
      "Epoch 39/100\n",
      "7479/7479 [==============================] - 1s 75us/step - loss: -17400.3079 - accuracy: 0.3426 - val_loss: -28793.0598 - val_accuracy: 0.3348\n",
      "Epoch 40/100\n",
      "7479/7479 [==============================] - 1s 76us/step - loss: -18637.6966 - accuracy: 0.3424 - val_loss: -32121.8717 - val_accuracy: 0.3348\n",
      "Epoch 41/100\n",
      "7479/7479 [==============================] - 1s 74us/step - loss: -21353.9744 - accuracy: 0.3424 - val_loss: -35655.9048 - val_accuracy: 0.3348\n",
      "Epoch 42/100\n",
      "7479/7479 [==============================] - 1s 107us/step - loss: -23747.2493 - accuracy: 0.3423 - val_loss: -39632.1241 - val_accuracy: 0.3342\n",
      "Epoch 43/100\n",
      "7479/7479 [==============================] - 1s 108us/step - loss: -27317.6771 - accuracy: 0.3436 - val_loss: -44090.6919 - val_accuracy: 0.3353\n",
      "Epoch 44/100\n",
      "7479/7479 [==============================] - 1s 107us/step - loss: -27822.3188 - accuracy: 0.3420 - val_loss: -48398.9046 - val_accuracy: 0.3358\n",
      "Epoch 45/100\n",
      "7479/7479 [==============================] - 1s 109us/step - loss: -32660.5785 - accuracy: 0.3408 - val_loss: -53189.3206 - val_accuracy: 0.3353\n",
      "Epoch 46/100\n",
      "7479/7479 [==============================] - 1s 109us/step - loss: -35309.4866 - accuracy: 0.3395 - val_loss: -58625.3322 - val_accuracy: 0.3353\n",
      "Epoch 47/100\n",
      "7479/7479 [==============================] - 1s 109us/step - loss: -39924.8881 - accuracy: 0.3395 - val_loss: -64552.0381 - val_accuracy: 0.3353\n",
      "Epoch 48/100\n"
     ]
    },
    {
     "name": "stdout",
     "output_type": "stream",
     "text": [
      "7479/7479 [==============================] - 1s 106us/step - loss: -45753.6320 - accuracy: 0.3395 - val_loss: -71006.1375 - val_accuracy: 0.3353\n",
      "Epoch 49/100\n",
      "7479/7479 [==============================] - 1s 105us/step - loss: -44492.3321 - accuracy: 0.3395 - val_loss: -77517.0281 - val_accuracy: 0.3353\n",
      "Epoch 50/100\n",
      "7479/7479 [==============================] - 1s 92us/step - loss: -53030.7453 - accuracy: 0.3395 - val_loss: -84530.0818 - val_accuracy: 0.3353\n",
      "Epoch 51/100\n",
      "7479/7479 [==============================] - 1s 91us/step - loss: -57465.8839 - accuracy: 0.3395 - val_loss: -91337.7433 - val_accuracy: 0.3353\n",
      "Epoch 52/100\n",
      "7479/7479 [==============================] - 1s 91us/step - loss: -61189.1335 - accuracy: 0.3395 - val_loss: -99996.4298 - val_accuracy: 0.3353\n",
      "Epoch 53/100\n",
      "7479/7479 [==============================] - 1s 88us/step - loss: -72560.5898 - accuracy: 0.3395 - val_loss: -110156.3706 - val_accuracy: 0.3353\n",
      "Epoch 54/100\n",
      "7479/7479 [==============================] - 1s 90us/step - loss: -76290.1194 - accuracy: 0.3395 - val_loss: -118980.9203 - val_accuracy: 0.3353\n",
      "Epoch 55/100\n",
      "7479/7479 [==============================] - 1s 91us/step - loss: -81466.6086 - accuracy: 0.3395 - val_loss: -129178.1949 - val_accuracy: 0.3353\n",
      "Epoch 56/100\n",
      "7479/7479 [==============================] - 1s 89us/step - loss: -86875.6509 - accuracy: 0.3395 - val_loss: -138743.0346 - val_accuracy: 0.3353\n",
      "Epoch 57/100\n",
      "7479/7479 [==============================] - 1s 91us/step - loss: -89304.1104 - accuracy: 0.3395 - val_loss: -150159.3564 - val_accuracy: 0.3353\n",
      "Epoch 58/100\n",
      "7479/7479 [==============================] - 1s 90us/step - loss: -100582.7330 - accuracy: 0.3395 - val_loss: -161384.7146 - val_accuracy: 0.3353\n",
      "Epoch 59/100\n",
      "7479/7479 [==============================] - 1s 89us/step - loss: -106891.5813 - accuracy: 0.3395 - val_loss: -173470.0689 - val_accuracy: 0.3353\n",
      "Epoch 60/100\n",
      "7479/7479 [==============================] - 1s 91us/step - loss: -123786.6818 - accuracy: 0.3395 - val_loss: -187650.3328 - val_accuracy: 0.3353\n",
      "Epoch 61/100\n",
      "7479/7479 [==============================] - 1s 92us/step - loss: -127879.8784 - accuracy: 0.3395 - val_loss: -201502.7825 - val_accuracy: 0.3353\n",
      "Epoch 62/100\n",
      "7479/7479 [==============================] - 1s 89us/step - loss: -135847.7865 - accuracy: 0.3395 - val_loss: -216841.7326 - val_accuracy: 0.3353\n",
      "Epoch 63/100\n",
      "7479/7479 [==============================] - 1s 90us/step - loss: -144028.8426 - accuracy: 0.3395 - val_loss: -232696.6910 - val_accuracy: 0.3353\n",
      "Epoch 64/100\n",
      "7479/7479 [==============================] - 1s 97us/step - loss: -150704.2223 - accuracy: 0.3395 - val_loss: -247928.7750 - val_accuracy: 0.3353\n",
      "Epoch 65/100\n",
      "7479/7479 [==============================] - 1s 83us/step - loss: -157241.5469 - accuracy: 0.3395 - val_loss: -264232.3168 - val_accuracy: 0.3353\n",
      "Epoch 66/100\n",
      "7479/7479 [==============================] - 1s 85us/step - loss: -179045.6850 - accuracy: 0.3395 - val_loss: -281802.6232 - val_accuracy: 0.3353\n",
      "Epoch 67/100\n",
      "7479/7479 [==============================] - 1s 83us/step - loss: -185547.8248 - accuracy: 0.3395 - val_loss: -299236.6935 - val_accuracy: 0.3353\n",
      "Epoch 68/100\n",
      "7479/7479 [==============================] - 1s 100us/step - loss: -205813.7219 - accuracy: 0.3395 - val_loss: -318156.4555 - val_accuracy: 0.3353\n",
      "Epoch 69/100\n",
      "7479/7479 [==============================] - 1s 93us/step - loss: -209216.1625 - accuracy: 0.3395 - val_loss: -337471.4483 - val_accuracy: 0.3353\n",
      "Epoch 70/100\n",
      "7479/7479 [==============================] - 1s 94us/step - loss: -234240.6896 - accuracy: 0.3395 - val_loss: -358798.7558 - val_accuracy: 0.3353\n",
      "Epoch 71/100\n",
      "7479/7479 [==============================] - 1s 91us/step - loss: -233718.1978 - accuracy: 0.3395 - val_loss: -381510.8807 - val_accuracy: 0.3353\n",
      "Epoch 72/100\n",
      "7479/7479 [==============================] - ETA: 0s - loss: -242205.4683 - accuracy: 0.34 - 1s 88us/step - loss: -243452.5161 - accuracy: 0.3395 - val_loss: -402981.0999 - val_accuracy: 0.3353\n",
      "Epoch 73/100\n",
      "7479/7479 [==============================] - 1s 93us/step - loss: -272492.2853 - accuracy: 0.3395 - val_loss: -428626.3308 - val_accuracy: 0.3353\n",
      "Epoch 74/100\n",
      "7479/7479 [==============================] - 1s 90us/step - loss: -277551.3711 - accuracy: 0.3395 - val_loss: -451989.5616 - val_accuracy: 0.3353\n",
      "Epoch 75/100\n",
      "7479/7479 [==============================] - 1s 91us/step - loss: -310231.6455 - accuracy: 0.3395 - val_loss: -477376.6084 - val_accuracy: 0.3353\n",
      "Epoch 76/100\n",
      "7479/7479 [==============================] - 1s 93us/step - loss: -316572.6403 - accuracy: 0.3395 - val_loss: -504590.7431 - val_accuracy: 0.3353\n",
      "Epoch 77/100\n",
      "7479/7479 [==============================] - 1s 91us/step - loss: -344691.5686 - accuracy: 0.3395 - val_loss: -533261.2475 - val_accuracy: 0.3353\n",
      "Epoch 78/100\n",
      "7479/7479 [==============================] - 1s 91us/step - loss: -363715.0242 - accuracy: 0.3395 - val_loss: -561641.3177 - val_accuracy: 0.3353\n",
      "Epoch 79/100\n",
      "7479/7479 [==============================] - 1s 92us/step - loss: -382500.5856 - accuracy: 0.3395 - val_loss: -591288.5572 - val_accuracy: 0.3353\n",
      "Epoch 80/100\n",
      "7479/7479 [==============================] - 1s 92us/step - loss: -375124.7932 - accuracy: 0.3395 - val_loss: -623021.2828 - val_accuracy: 0.3353\n",
      "Epoch 81/100\n",
      "7479/7479 [==============================] - 1s 90us/step - loss: -379733.0821 - accuracy: 0.3395 - val_loss: -652495.2766 - val_accuracy: 0.3353\n",
      "Epoch 82/100\n",
      "7479/7479 [==============================] - 1s 89us/step - loss: -446498.8180 - accuracy: 0.3395 - val_loss: -686176.0033 - val_accuracy: 0.3353\n",
      "Epoch 83/100\n",
      "7479/7479 [==============================] - 1s 91us/step - loss: -472908.5194 - accuracy: 0.3395 - val_loss: -723463.7588 - val_accuracy: 0.3353\n",
      "Epoch 84/100\n",
      "7479/7479 [==============================] - 1s 91us/step - loss: -483369.9703 - accuracy: 0.3395 - val_loss: -761890.9829 - val_accuracy: 0.3353\n",
      "Epoch 85/100\n",
      "7479/7479 [==============================] - 1s 88us/step - loss: -495404.9418 - accuracy: 0.3395 - val_loss: -798641.0232 - val_accuracy: 0.3353\n",
      "Epoch 86/100\n",
      "7479/7479 [==============================] - 1s 90us/step - loss: -524850.1270 - accuracy: 0.3395 - val_loss: -836487.7645 - val_accuracy: 0.3353\n",
      "Epoch 87/100\n",
      "7479/7479 [==============================] - 1s 92us/step - loss: -577694.2071 - accuracy: 0.3395 - val_loss: -878764.4813 - val_accuracy: 0.3353\n",
      "Epoch 88/100\n",
      "7479/7479 [==============================] - 1s 90us/step - loss: -566285.4488 - accuracy: 0.3395 - val_loss: -914716.4577 - val_accuracy: 0.3353\n",
      "Epoch 89/100\n",
      "7479/7479 [==============================] - 1s 94us/step - loss: -590024.6509 - accuracy: 0.3395 - val_loss: -958159.1018 - val_accuracy: 0.3353\n",
      "Epoch 90/100\n",
      "7479/7479 [==============================] - 1s 90us/step - loss: -618905.9162 - accuracy: 0.3395 - val_loss: -1000745.1589 - val_accuracy: 0.3353\n",
      "Epoch 91/100\n",
      "7479/7479 [==============================] - 1s 90us/step - loss: -662627.3194 - accuracy: 0.3395 - val_loss: -1048028.3753 - val_accuracy: 0.3353\n",
      "Epoch 92/100\n",
      "7479/7479 [==============================] - 1s 91us/step - loss: -685034.3353 - accuracy: 0.3395 - val_loss: -1100747.3933 - val_accuracy: 0.3353\n",
      "Epoch 93/100\n",
      "7479/7479 [==============================] - 1s 91us/step - loss: -697714.8077 - accuracy: 0.3395 - val_loss: -1151706.6405 - val_accuracy: 0.3353\n",
      "Epoch 94/100\n",
      "7479/7479 [==============================] - 1s 90us/step - loss: -704873.1619 - accuracy: 0.3395 - val_loss: -1197257.8954 - val_accuracy: 0.3353\n",
      "Epoch 95/100\n",
      "7479/7479 [==============================] - 1s 93us/step - loss: -796842.9791 - accuracy: 0.3395 - val_loss: -1256989.7166 - val_accuracy: 0.3353\n",
      "Epoch 96/100\n",
      "7479/7479 [==============================] - 1s 91us/step - loss: -893345.7536 - accuracy: 0.3395 - val_loss: -1318194.4978 - val_accuracy: 0.3353\n",
      "Epoch 97/100\n",
      "7479/7479 [==============================] - 1s 91us/step - loss: -862575.5751 - accuracy: 0.3395 - val_loss: -1379275.6948 - val_accuracy: 0.3353\n",
      "Epoch 98/100\n",
      "7479/7479 [==============================] - 1s 89us/step - loss: -884380.3127 - accuracy: 0.3395 - val_loss: -1432379.9495 - val_accuracy: 0.3353\n",
      "Epoch 99/100\n"
     ]
    },
    {
     "name": "stdout",
     "output_type": "stream",
     "text": [
      "7479/7479 [==============================] - 1s 91us/step - loss: -943631.0947 - accuracy: 0.3395 - val_loss: -1492343.6199 - val_accuracy: 0.3353\n",
      "Epoch 100/100\n",
      "7479/7479 [==============================] - 1s 90us/step - loss: -1072673.0931 - accuracy: 0.3395 - val_loss: -1565991.3080 - val_accuracy: 0.3353\n",
      "{'val_loss': [-0.24805790761655028, -0.558981784783742, -1.1718024902523838, -2.5779900310192514, -4.90273229628403, -8.957410073216586, -15.259963428910403, -24.53518215793977, -40.320955568217336, -63.09712285536496, -97.6726416980519, -146.39267342103355, -213.79980159188338, -300.34945332430266, -408.3704627516435, -536.6798091833605, -716.8928948022465, -926.9185126146531, -1188.5040102667988, -1525.09483201746, -1862.999562737776, -2272.228582127209, -2770.3526911200047, -3340.9653110606146, -3963.0073054512554, -4830.105823700441, -5797.16197530981, -6761.951529599766, -7880.394578821519, -9166.99499609636, -10654.742720496846, -12010.094870827415, -13749.527050569095, -15724.519390575388, -17876.623624587442, -20528.966264204544, -23065.908405161157, -25772.10079939735, -28793.059787362654, -32121.87169463622, -35655.904843253884, -39632.12410209778, -44090.691941205194, -48398.90459046389, -53189.32055353991, -58625.33223638687, -64552.03812906194, -71006.13750274168, -77517.02810799502, -84530.08181035455, -91337.74330131001, -99996.42978313263, -110156.37063484396, -118980.9203004888, -129178.19492735837, -138743.03460138495, -150159.35637579116, -161384.71461233863, -173470.06886103828, -187650.33278194978, -201502.78250366863, -216841.7326183625, -232696.69102502507, -247928.77502571963, -264232.3168219092, -281802.6232056439, -299236.6934520701, -318156.45551875315, -337471.44826242374, -358798.75576406874, -381510.8806544013, -402981.0999200994, -428626.33082229696, -451989.5616042193, -477376.60838272993, -504590.7431480693, -533261.2475194269, -561641.3177327039, -591288.5571693787, -623021.282774247, -652495.2765512721, -686176.0033050374, -723463.7587512011, -761890.9828788227, -798641.023155498, -836487.764488669, -878764.4812795058, -914716.4577081854, -958159.1017955433, -1000745.158923144, -1048028.3753469539, -1100747.3932726856, -1151706.64046209, -1197257.8954007563, -1256989.7166291098, -1318194.4977694424, -1379275.6948451078, -1432379.9494694185, -1492343.619947464, -1565991.3080473712], 'val_accuracy': [0.33529412746429443, 0.33529412746429443, 0.33529412746429443, 0.33529412746429443, 0.33529412746429443, 0.33529412746429443, 0.33529412746429443, 0.33529412746429443, 0.33529412746429443, 0.33529412746429443, 0.33529412746429443, 0.33529412746429443, 0.33582887053489685, 0.33582887053489685, 0.33475935459136963, 0.3342246115207672, 0.3342246115207672, 0.3342246115207672, 0.3342246115207672, 0.3342246115207672, 0.3342246115207672, 0.3331550657749176, 0.33475935459136963, 0.3342246115207672, 0.3342246115207672, 0.3342246115207672, 0.3342246115207672, 0.3336898386478424, 0.3336898386478424, 0.3336898386478424, 0.3336898386478424, 0.3342246115207672, 0.3336898386478424, 0.33475935459136963, 0.3342246115207672, 0.3336898386478424, 0.3336898386478424, 0.3336898386478424, 0.33475935459136963, 0.33475935459136963, 0.33475935459136963, 0.3342246115207672, 0.33529412746429443, 0.33582887053489685, 0.33529412746429443, 0.33529412746429443, 0.33529412746429443, 0.33529412746429443, 0.33529412746429443, 0.33529412746429443, 0.33529412746429443, 0.33529412746429443, 0.33529412746429443, 0.33529412746429443, 0.33529412746429443, 0.33529412746429443, 0.33529412746429443, 0.33529412746429443, 0.33529412746429443, 0.33529412746429443, 0.33529412746429443, 0.33529412746429443, 0.33529412746429443, 0.33529412746429443, 0.33529412746429443, 0.33529412746429443, 0.33529412746429443, 0.33529412746429443, 0.33529412746429443, 0.33529412746429443, 0.33529412746429443, 0.33529412746429443, 0.33529412746429443, 0.33529412746429443, 0.33529412746429443, 0.33529412746429443, 0.33529412746429443, 0.33529412746429443, 0.33529412746429443, 0.33529412746429443, 0.33529412746429443, 0.33529412746429443, 0.33529412746429443, 0.33529412746429443, 0.33529412746429443, 0.33529412746429443, 0.33529412746429443, 0.33529412746429443, 0.33529412746429443, 0.33529412746429443, 0.33529412746429443, 0.33529412746429443, 0.33529412746429443, 0.33529412746429443, 0.33529412746429443, 0.33529412746429443, 0.33529412746429443, 0.33529412746429443, 0.33529412746429443, 0.33529412746429443], 'loss': [0.15399053779935387, -0.102507372560715, -0.3231989852292108, -0.9030097158311172, -1.7776915027840536, -3.235741026541147, -6.107382715122954, -10.464163590591689, -18.37822598154364, -29.3740339063358, -45.84493188750283, -72.65323230228508, -113.36098114484085, -156.10745008117073, -204.7776762437878, -276.7614960780771, -410.04273708428684, -514.3499045509724, -618.9659590438688, -908.2575031848718, -1030.3916306090812, -1308.5536220357737, -1625.584387868878, -1894.1701378672499, -2190.6307171700328, -2868.5311415318197, -3233.032064444752, -3833.607760403242, -4520.085838941158, -5293.2021538603985, -6293.052905173875, -6650.301442239769, -7965.780048474922, -9823.924650538842, -11266.072778984608, -13050.843737432258, -13995.697105786176, -14754.374041211877, -17400.30791502462, -18637.696632031275, -21353.974433345007, -23747.249287621224, -27317.67712173253, -27822.31878994461, -32660.5785187702, -35309.48661598035, -39924.888124896686, -45753.63204044893, -44492.33210938218, -53030.74533268755, -57465.88390945167, -61189.13350098374, -72560.58980674045, -76290.11942781218, -81466.60856217722, -86875.6509454347, -89304.11043985904, -100582.73304791175, -106891.58130108053, -123786.68182447311, -127879.87842090667, -135847.7865020756, -144028.84259468177, -150704.2222578689, -157241.54685402656, -179045.68498217536, -185547.82475358085, -205813.72189000947, -209216.16245981914, -234240.6895588899, -233718.19775899863, -243452.5160854037, -272492.28532769356, -277551.3711439557, -310231.6455378282, -316572.6403326449, -344691.56864983676, -363715.0241980932, -382500.5855656254, -375124.7932253278, -379733.0820678107, -446498.8180038222, -472908.5194205233, -483369.97030905285, -495404.94179692725, -524850.1269766283, -577694.2070834796, -566285.448812404, -590024.650925717, -618905.9161678742, -662627.3193781129, -685034.3353386879, -697714.8076750317, -704873.1619112943, -796842.9790941981, -893345.7535570953, -862575.5750789711, -884380.312650258, -943631.0946945719, -1072673.09307206], 'accuracy': [0.33894905, 0.3394839, 0.3394839, 0.3394839, 0.3394839, 0.3394839, 0.3394839, 0.3394839, 0.3394839, 0.3394839, 0.3393502, 0.3396176, 0.3396176, 0.33988503, 0.3397513, 0.3394839, 0.34001872, 0.3393502, 0.3393502, 0.3397513, 0.33988503, 0.33988503, 0.3396176, 0.34108838, 0.34269288, 0.3429603, 0.34068725, 0.3413558, 0.34255916, 0.34255916, 0.34215805, 0.3414895, 0.34162322, 0.34189063, 0.34255916, 0.34189063, 0.34189063, 0.34255916, 0.34255916, 0.34242547, 0.34242547, 0.34229174, 0.34362882, 0.34202433, 0.34082097, 0.3394839, 0.3394839, 0.3394839, 0.3394839, 0.3394839, 0.3394839, 0.3394839, 0.3394839, 0.3394839, 0.3394839, 0.3394839, 0.3394839, 0.3394839, 0.3394839, 0.3394839, 0.3394839, 0.3394839, 0.3394839, 0.3394839, 0.3394839, 0.3394839, 0.3394839, 0.3394839, 0.3394839, 0.3394839, 0.3394839, 0.3394839, 0.3394839, 0.3394839, 0.3394839, 0.3394839, 0.3394839, 0.3394839, 0.3394839, 0.3394839, 0.3394839, 0.3394839, 0.3394839, 0.3394839, 0.3394839, 0.3394839, 0.3394839, 0.3394839, 0.3394839, 0.3394839, 0.3394839, 0.3394839, 0.3394839, 0.3394839, 0.3394839, 0.3394839, 0.3394839, 0.3394839, 0.3394839, 0.3394839]}\n"
     ]
    }
   ],
   "source": [
    "inp = len(df_X.columns)\n",
    "\n",
    "classifier = Sequential()\n",
    "classifier.add(Dense(units = inp, kernel_initializer = 'uniform', activation = 'relu', input_dim = df_X.shape[1]))\n",
    "classifier.add(Dropout(0.1))\n",
    "classifier.add(Dense(units = inp*2, kernel_initializer = 'uniform', activation = 'relu'))\n",
    "classifier.add(Dropout(0.1))\n",
    "classifier.add(Dense(units = inp*3, kernel_initializer = 'uniform', activation = 'relu'))\n",
    "classifier.add(Dropout(0.1))\n",
    "classifier.add(Dense(units = 1, kernel_initializer = 'uniform', activation = 'sigmoid'))\n",
    "classifier.compile(optimizer = 'RMSProp', loss = 'binary_crossentropy', metrics = ['accuracy'])\n",
    "model_hist = classifier.fit(df_X, df_y, batch_size = 50, epochs = 100, validation_split=0.2)\n",
    "print(model_hist.history)"
   ]
  },
  {
   "cell_type": "code",
   "execution_count": 49,
   "metadata": {},
   "outputs": [
    {
     "data": {
      "image/png": "[encoded data removed]",
      "text/plain": [
       "<Figure size 1296x432 with 1 Axes>"
      ]
     },
     "metadata": {
      "needs_background": "light"
     },
     "output_type": "display_data"
    },
    {
     "data": {
      "image/png": "[encoded data removed]",
      "text/plain": [
       "<Figure size 1296x432 with 1 Axes>"
      ]
     },
     "metadata": {
      "needs_background": "light"
     },
     "output_type": "display_data"
    }
   ],
   "source": [
    "show_learning_curve(model_hist, 'accuracy')"
   ]
  },
  {
   "cell_type": "markdown",
   "metadata": {},
   "source": [
    "#### Bidirectional LSTM Network"
   ]
  },
  {
   "cell_type": "code",
   "execution_count": 50,
   "metadata": {},
   "outputs": [
    {
     "name": "stdout",
     "output_type": "stream",
     "text": [
      "Train on 7479 samples, validate on 1870 samples\n",
      "Epoch 1/100\n",
      "7479/7479 [==============================] - 3s 459us/step - loss: 0.1114 - accuracy: 0.3396 - val_loss: -0.0700 - val_accuracy: 0.3353\n",
      "Epoch 2/100\n",
      "7479/7479 [==============================] - 2s 307us/step - loss: 0.0452 - accuracy: 0.3395 - val_loss: -0.1670 - val_accuracy: 0.3353\n",
      "Epoch 3/100\n",
      "7479/7479 [==============================] - 2s 306us/step - loss: -0.4158 - accuracy: 0.3395 - val_loss: -1.2543 - val_accuracy: 0.3353\n",
      "Epoch 4/100\n",
      "7479/7479 [==============================] - 2s 307us/step - loss: -1.7057 - accuracy: 0.3407 - val_loss: -3.2975 - val_accuracy: 0.3353\n",
      "Epoch 5/100\n",
      "7479/7479 [==============================] - 2s 304us/step - loss: -4.0997 - accuracy: 0.3442 - val_loss: -6.1074 - val_accuracy: 0.3353\n",
      "Epoch 6/100\n",
      "7479/7479 [==============================] - 2s 302us/step - loss: -7.8773 - accuracy: 0.3415 - val_loss: -11.7944 - val_accuracy: 0.3353\n",
      "Epoch 7/100\n",
      "7479/7479 [==============================] - 2s 308us/step - loss: -12.8741 - accuracy: 0.3395 - val_loss: -18.2353 - val_accuracy: 0.3353\n",
      "Epoch 8/100\n",
      "7479/7479 [==============================] - 2s 308us/step - loss: -19.0387 - accuracy: 0.3395 - val_loss: -25.1068 - val_accuracy: 0.3353\n",
      "Epoch 9/100\n",
      "7479/7479 [==============================] - 2s 307us/step - loss: -26.1807 - accuracy: 0.3398 - val_loss: -31.1057 - val_accuracy: 0.3369\n",
      "Epoch 10/100\n",
      "7479/7479 [==============================] - 2s 305us/step - loss: -33.8328 - accuracy: 0.3398 - val_loss: -41.1899 - val_accuracy: 0.3374\n",
      "Epoch 11/100\n",
      "7479/7479 [==============================] - 2s 306us/step - loss: -41.7026 - accuracy: 0.3394 - val_loss: -50.3102 - val_accuracy: 0.335337.5514 \n",
      "Epoch 12/100\n",
      "7479/7479 [==============================] - 2s 307us/step - loss: -52.4695 - accuracy: 0.3406 - val_loss: -61.6520 - val_accuracy: 0.3353\n",
      "Epoch 13/100\n",
      "7479/7479 [==============================] - 2s 304us/step - loss: -63.2703 - accuracy: 0.3404 - val_loss: -73.5402 - val_accuracy: 0.3348\n",
      "Epoch 14/100\n",
      "7479/7479 [==============================] - 2s 308us/step - loss: -75.2544 - accuracy: 0.3404 - val_loss: -85.8617 - val_accuracy: 0.3374\n",
      "Epoch 15/100\n",
      "7479/7479 [==============================] - 2s 304us/step - loss: -85.9384 - accuracy: 0.3439 - val_loss: -95.8001 - val_accuracy: 0.3364 loss: -86.5102 - accuracy: 0.34\n",
      "Epoch 16/100\n",
      "7479/7479 [==============================] - 2s 304us/step - loss: -98.0170 - accuracy: 0.3430 - val_loss: -83.6991 - val_accuracy: 0.3348\n",
      "Epoch 17/100\n",
      "7479/7479 [==============================] - 2s 310us/step - loss: -111.2020 - accuracy: 0.3398 - val_loss: -127.0752 - val_accuracy: 0.3353\n",
      "Epoch 18/100\n",
      "7479/7479 [==============================] - 2s 303us/step - loss: -129.2303 - accuracy: 0.3396 - val_loss: -139.8195 - val_accuracy: 0.3358\n",
      "Epoch 19/100\n",
      "7479/7479 [==============================] - 2s 303us/step - loss: -148.0042 - accuracy: 0.3406 - val_loss: -154.5130 - val_accuracy: 0.3348\n",
      "Epoch 20/100\n",
      "7479/7479 [==============================] - 2s 300us/step - loss: -163.6619 - accuracy: 0.3406 - val_loss: -170.9480 - val_accuracy: 0.3348\n",
      "Epoch 21/100\n",
      "7479/7479 [==============================] - 2s 302us/step - loss: -184.7745 - accuracy: 0.3404 - val_loss: -188.4119 - val_accuracy: 0.3369\n",
      "Epoch 22/100\n",
      "7479/7479 [==============================] - 2s 306us/step - loss: -204.9102 - accuracy: 0.3407 - val_loss: -203.0361 - val_accuracy: 0.3348\n",
      "Epoch 23/100\n",
      "7479/7479 [==============================] - 2s 304us/step - loss: -230.5362 - accuracy: 0.3420 - val_loss: -227.2235 - val_accuracy: 0.3364\n",
      "Epoch 24/100\n",
      "7479/7479 [==============================] - 2s 304us/step - loss: -249.3437 - accuracy: 0.3419 - val_loss: -245.9079 - val_accuracy: 0.3353\n",
      "Epoch 25/100\n",
      "7479/7479 [==============================] - 2s 304us/step - loss: -272.6596 - accuracy: 0.3427 - val_loss: -265.1244 - val_accuracy: 0.3364\n",
      "Epoch 26/100\n",
      "7479/7479 [==============================] - 2s 307us/step - loss: -299.7396 - accuracy: 0.3443 - val_loss: -289.0270 - val_accuracy: 0.3358\n",
      "Epoch 27/100\n",
      "7479/7479 [==============================] - 2s 300us/step - loss: -326.9331 - accuracy: 0.3423 - val_loss: -302.7889 - val_accuracy: 0.3390\n",
      "Epoch 28/100\n",
      "7479/7479 [==============================] - 2s 306us/step - loss: -349.2855 - accuracy: 0.3452 - val_loss: -340.1185 - val_accuracy: 0.3358\n",
      "Epoch 29/100\n",
      "7479/7479 [==============================] - 2s 300us/step - loss: -384.8209 - accuracy: 0.3446 - val_loss: -354.5464 - val_accuracy: 0.3390\n",
      "Epoch 30/100\n",
      "7479/7479 [==============================] - 2s 306us/step - loss: -407.3019 - accuracy: 0.3464 - val_loss: -374.4649 - val_accuracy: 0.3369\n",
      "Epoch 31/100\n",
      "7479/7479 [==============================] - 2s 300us/step - loss: -441.9401 - accuracy: 0.3454 - val_loss: -390.3785 - val_accuracy: 0.3353\n",
      "Epoch 32/100\n",
      "7479/7479 [==============================] - 2s 307us/step - loss: -471.7552 - accuracy: 0.3474 - val_loss: -405.6827 - val_accuracy: 0.3390\n",
      "Epoch 33/100\n",
      "7479/7479 [==============================] - 2s 304us/step - loss: -511.8857 - accuracy: 0.3478 - val_loss: -432.0930 - val_accuracy: 0.3380\n",
      "Epoch 34/100\n",
      "7479/7479 [==============================] - 2s 303us/step - loss: -543.0809 - accuracy: 0.3472 - val_loss: -460.0898 - val_accuracy: 0.3385\n",
      "Epoch 35/100\n",
      "7479/7479 [==============================] - 2s 303us/step - loss: -569.9862 - accuracy: 0.3479 - val_loss: -476.9469 - val_accuracy: 0.3374\n",
      "Epoch 36/100\n",
      "7479/7479 [==============================] - 2s 288us/step - loss: -597.2979 - accuracy: 0.3492 - val_loss: -499.3330 - val_accuracy: 0.3380\n",
      "Epoch 37/100\n",
      "7479/7479 [==============================] - 2s 303us/step - loss: -649.1178 - accuracy: 0.3490 - val_loss: -526.6926 - val_accuracy: 0.3374\n",
      "Epoch 38/100\n",
      "7479/7479 [==============================] - 2s 303us/step - loss: -672.5765 - accuracy: 0.3488 - val_loss: -554.8216 - val_accuracy: 0.3412\n",
      "Epoch 39/100\n",
      "7479/7479 [==============================] - 2s 307us/step - loss: -721.0194 - accuracy: 0.3533 - val_loss: -589.8406 - val_accuracy: 0.3412\n",
      "Epoch 40/100\n",
      "7479/7479 [==============================] - 2s 291us/step - loss: -772.8880 - accuracy: 0.3523 - val_loss: -635.7861 - val_accuracy: 0.3390\n",
      "Epoch 41/100\n",
      "7479/7479 [==============================] - 2s 289us/step - loss: -809.1110 - accuracy: 0.3517 - val_loss: -653.0406 - val_accuracy: 0.3412\n",
      "Epoch 42/100\n",
      "7479/7479 [==============================] - 2s 306us/step - loss: -837.4304 - accuracy: 0.3514 - val_loss: -700.4209 - val_accuracy: 0.3433\n",
      "Epoch 43/100\n",
      "7479/7479 [==============================] - 2s 303us/step - loss: -886.2055 - accuracy: 0.3506 - val_loss: -711.0226 - val_accuracy: 0.3465\n",
      "Epoch 44/100\n",
      "7479/7479 [==============================] - 2s 306us/step - loss: -930.4468 - accuracy: 0.3546 - val_loss: -755.3551 - val_accuracy: 0.3422\n",
      "Epoch 45/100\n",
      "7479/7479 [==============================] - 2s 301us/step - loss: -979.0481 - accuracy: 0.3523 - val_loss: -776.8942 - val_accuracy: 0.3385\n",
      "Epoch 46/100\n",
      "7479/7479 [==============================] - 2s 306us/step - loss: -1020.6533 - accuracy: 0.3529 - val_loss: -804.4204 - val_accuracy: 0.3396\n",
      "Epoch 47/100\n",
      "7479/7479 [==============================] - 2s 308us/step - loss: -1000.2259 - accuracy: 0.3479 - val_loss: -744.2589 - val_accuracy: 0.3401\n",
      "Epoch 48/100\n",
      "7479/7479 [==============================] - 2s 298us/step - loss: -1079.7906 - accuracy: 0.3479 - val_loss: -858.5542 - val_accuracy: 0.3396\n",
      "Epoch 49/100\n",
      "7479/7479 [==============================] - 2s 301us/step - loss: -1159.8444 - accuracy: 0.3499 - val_loss: -934.5392 - val_accuracy: 0.3412\n",
      "Epoch 50/100\n",
      "7479/7479 [==============================] - 2s 306us/step - loss: -1205.4879 - accuracy: 0.3514 - val_loss: -943.2033 - val_accuracy: 0.3412 - accuracy\n",
      "Epoch 51/100\n",
      "7479/7479 [==============================] - 2s 306us/step - loss: -1267.9294 - accuracy: 0.3525 - val_loss: -959.8335 - val_accuracy: 0.3364\n",
      "Epoch 52/100\n",
      "7479/7479 [==============================] - 2s 303us/step - loss: -1302.2650 - accuracy: 0.3500 - val_loss: -1008.4240 - val_accuracy: 0.3385\n",
      "Epoch 53/100\n"
     ]
    },
    {
     "name": "stdout",
     "output_type": "stream",
     "text": [
      "7479/7479 [==============================] - 2s 307us/step - loss: -1340.4679 - accuracy: 0.3522 - val_loss: -1062.1008 - val_accuracy: 0.3348\n",
      "Epoch 54/100\n",
      "7479/7479 [==============================] - 2s 310us/step - loss: -1411.5326 - accuracy: 0.3483 - val_loss: -1090.5011 - val_accuracy: 0.3390\n",
      "Epoch 55/100\n",
      "7479/7479 [==============================] - 2s 304us/step - loss: -1476.1990 - accuracy: 0.3515 - val_loss: -1150.4962 - val_accuracy: 0.3380\n",
      "Epoch 56/100\n",
      "7479/7479 [==============================] - 2s 305us/step - loss: -1507.9610 - accuracy: 0.3549 - val_loss: -1131.7231 - val_accuracy: 0.3358\n",
      "Epoch 57/100\n",
      "7479/7479 [==============================] - 2s 307us/step - loss: -1509.2948 - accuracy: 0.3542 - val_loss: -1166.6415 - val_accuracy: 0.3385\n",
      "Epoch 58/100\n",
      "7479/7479 [==============================] - 2s 304us/step - loss: -1496.7291 - accuracy: 0.3511 - val_loss: -1235.1776 - val_accuracy: 0.3487\n",
      "Epoch 59/100\n",
      "7479/7479 [==============================] - 2s 300us/step - loss: -1588.6359 - accuracy: 0.3558 - val_loss: -1213.8399 - val_accuracy: 0.3358\n",
      "Epoch 60/100\n",
      "7479/7479 [==============================] - 2s 282us/step - loss: -1751.0800 - accuracy: 0.3559 - val_loss: -1304.1403 - val_accuracy: 0.3326.8455 - \n",
      "Epoch 61/100\n",
      "7479/7479 [==============================] - 2s 277us/step - loss: -1793.7012 - accuracy: 0.3559 - val_loss: -1388.2694 - val_accuracy: 0.3326\n",
      "Epoch 62/100\n",
      "7479/7479 [==============================] - 2s 280us/step - loss: -1829.9669 - accuracy: 0.3557 - val_loss: -1445.6510 - val_accuracy: 0.3262\n",
      "Epoch 63/100\n",
      "7479/7479 [==============================] - 2s 275us/step - loss: -1933.4347 - accuracy: 0.3539 - val_loss: -1478.9754 - val_accuracy: 0.3305\n",
      "Epoch 64/100\n",
      "7479/7479 [==============================] - 2s 289us/step - loss: -1943.5367 - accuracy: 0.3534 - val_loss: -1481.3811 - val_accuracy: 0.3337\n",
      "Epoch 65/100\n",
      "7479/7479 [==============================] - 2s 306us/step - loss: -2059.9254 - accuracy: 0.3549 - val_loss: -1571.3572 - val_accuracy: 0.3283\n",
      "Epoch 66/100\n",
      "7479/7479 [==============================] - 2s 305us/step - loss: -2154.8184 - accuracy: 0.3525 - val_loss: -1610.0437 - val_accuracy: 0.3262\n",
      "Epoch 67/100\n",
      "7479/7479 [==============================] - 2s 307us/step - loss: -2213.2085 - accuracy: 0.3582 - val_loss: -1637.1736 - val_accuracy: 0.3358\n",
      "Epoch 68/100\n",
      "7479/7479 [==============================] - 2s 305us/step - loss: -2300.5791 - accuracy: 0.3573 - val_loss: -1682.6536 - val_accuracy: 0.3364\n",
      "Epoch 69/100\n",
      "7479/7479 [==============================] - 2s 304us/step - loss: -2317.9623 - accuracy: 0.3566 - val_loss: -1721.5260 - val_accuracy: 0.3321\n",
      "Epoch 70/100\n",
      "7479/7479 [==============================] - 2s 306us/step - loss: -2377.9962 - accuracy: 0.3561 - val_loss: -1746.3270 - val_accuracy: 0.3332\n",
      "Epoch 71/100\n",
      "7479/7479 [==============================] - 2s 307us/step - loss: -2468.5678 - accuracy: 0.3577 - val_loss: -1831.1189 - val_accuracy: 0.3401\n",
      "Epoch 72/100\n",
      "7479/7479 [==============================] - 2s 308us/step - loss: -2546.9540 - accuracy: 0.3577 - val_loss: -1871.4936 - val_accuracy: 0.3422\n",
      "Epoch 73/100\n",
      "7479/7479 [==============================] - 2s 309us/step - loss: -2623.8579 - accuracy: 0.3602 - val_loss: -1885.5601 - val_accuracy: 0.3412\n",
      "Epoch 74/100\n",
      "7479/7479 [==============================] - 2s 307us/step - loss: -2686.9268 - accuracy: 0.3587 - val_loss: -1913.7571 - val_accuracy: 0.3353\n",
      "Epoch 75/100\n",
      "7479/7479 [==============================] - 2s 307us/step - loss: -2782.9858 - accuracy: 0.3586 - val_loss: -2019.2687 - val_accuracy: 0.3332\n",
      "Epoch 76/100\n",
      "7479/7479 [==============================] - 2s 304us/step - loss: -2844.2167 - accuracy: 0.3567 - val_loss: -2053.2976 - val_accuracy: 0.3353\n",
      "Epoch 77/100\n",
      "7479/7479 [==============================] - 2s 308us/step - loss: -2951.6614 - accuracy: 0.3605 - val_loss: -2128.6139 - val_accuracy: 0.3316\n",
      "Epoch 78/100\n",
      "7479/7479 [==============================] - 2s 310us/step - loss: -3034.3650 - accuracy: 0.3569 - val_loss: -2165.4289 - val_accuracy: 0.3422\n",
      "Epoch 79/100\n",
      "7479/7479 [==============================] - 2s 306us/step - loss: -3122.3794 - accuracy: 0.3578 - val_loss: -2163.2006 - val_accuracy: 0.3406\n",
      "Epoch 80/100\n",
      "7479/7479 [==============================] - 2s 311us/step - loss: -3196.6727 - accuracy: 0.3549 - val_loss: -2237.0206 - val_accuracy: 0.3353\n",
      "Epoch 81/100\n",
      "7479/7479 [==============================] - 2s 311us/step - loss: -3322.2896 - accuracy: 0.3549 - val_loss: -2294.5726 - val_accuracy: 0.3310\n",
      "Epoch 82/100\n",
      "7479/7479 [==============================] - 2s 306us/step - loss: -3413.1021 - accuracy: 0.3601 - val_loss: -2396.5637 - val_accuracy: 0.3390\n",
      "Epoch 83/100\n",
      "7479/7479 [==============================] - 2s 309us/step - loss: -3508.7821 - accuracy: 0.3619 - val_loss: -2388.1214 - val_accuracy: 0.3374\n",
      "Epoch 84/100\n",
      "7479/7479 [==============================] - 2s 312us/step - loss: -3571.5416 - accuracy: 0.3619 - val_loss: -2503.5936 - val_accuracy: 0.3535\n",
      "Epoch 85/100\n",
      "7479/7479 [==============================] - 2s 307us/step - loss: -3682.7815 - accuracy: 0.3613 - val_loss: -2455.3257 - val_accuracy: 0.3348\n",
      "Epoch 86/100\n",
      "7479/7479 [==============================] - 2s 304us/step - loss: -3721.1559 - accuracy: 0.3569 - val_loss: -2563.5916 - val_accuracy: 0.3433\n",
      "Epoch 87/100\n",
      "7479/7479 [==============================] - 2s 308us/step - loss: -3854.7954 - accuracy: 0.3605 - val_loss: -2610.8041 - val_accuracy: 0.3396\n",
      "Epoch 88/100\n",
      "7479/7479 [==============================] - 2s 308us/step - loss: -3976.9415 - accuracy: 0.3594 - val_loss: -2691.7426 - val_accuracy: 0.3342\n",
      "Epoch 89/100\n",
      "7479/7479 [==============================] - 2s 304us/step - loss: -4067.2863 - accuracy: 0.3610 - val_loss: -2710.8563 - val_accuracy: 0.3401\n",
      "Epoch 90/100\n",
      "7479/7479 [==============================] - 2s 305us/step - loss: -4159.3776 - accuracy: 0.3629 - val_loss: -2725.2407 - val_accuracy: 0.3406\n",
      "Epoch 91/100\n",
      "7479/7479 [==============================] - 2s 308us/step - loss: -4286.3778 - accuracy: 0.3613 - val_loss: -2826.3642 - val_accuracy: 0.3412\n",
      "Epoch 92/100\n",
      "7479/7479 [==============================] - 2s 306us/step - loss: -4336.1130 - accuracy: 0.3625 - val_loss: -3003.7257 - val_accuracy: 0.3380\n",
      "Epoch 93/100\n",
      "7479/7479 [==============================] - 2s 292us/step - loss: -4317.6285 - accuracy: 0.3586 - val_loss: -3134.8426 - val_accuracy: 0.3390\n",
      "Epoch 94/100\n",
      "7479/7479 [==============================] - 2s 283us/step - loss: -4433.3131 - accuracy: 0.3587 - val_loss: -3014.5915 - val_accuracy: 0.3374\n",
      "Epoch 95/100\n",
      "7479/7479 [==============================] - 2s 307us/step - loss: -4496.7531 - accuracy: 0.3586 - val_loss: -3087.5815 - val_accuracy: 0.3390\n",
      "Epoch 96/100\n",
      "7479/7479 [==============================] - 2s 308us/step - loss: -4667.9630 - accuracy: 0.3611 - val_loss: -3207.7634 - val_accuracy: 0.3380\n",
      "Epoch 97/100\n",
      "7479/7479 [==============================] - 2s 309us/step - loss: -4850.5483 - accuracy: 0.3566 - val_loss: -3225.6779 - val_accuracy: 0.3455\n",
      "Epoch 98/100\n",
      "7479/7479 [==============================] - 2s 307us/step - loss: -4960.3502 - accuracy: 0.3617 - val_loss: -3234.6205 - val_accuracy: 0.3422\n",
      "Epoch 99/100\n",
      "7479/7479 [==============================] - 2s 295us/step - loss: -4935.0516 - accuracy: 0.3625 - val_loss: -3359.9925 - val_accuracy: 0.3390\n",
      "Epoch 100/100\n",
      "7479/7479 [==============================] - 2s 301us/step - loss: -5146.5507 - accuracy: 0.3618 - val_loss: -3415.5663 - val_accuracy: 0.3449 loss: -5083.473\n",
      "{'val_loss': [-0.07004238753084636, -0.16699379773681017, -1.2543399691741097, -3.297546460108961, -6.107400907233437, -11.794369898138838, -18.235250722039194, -25.10684233489521, -31.10574737334634, -41.18985675490476, -50.31024388195996, -61.65202501974004, -73.54018384760076, -85.86174130567255, -95.80012566090268, -83.69906200444635, -127.07519537879821, -139.8194767549076, -154.51298208797678, -170.94795652889312, -188.41189700141948, -203.0360525406618, -227.2234784294577, -245.90791683401017, -265.12438967903665, -289.0269803337872, -302.788911299272, -340.1184622106705, -354.54642285127693, -374.4649379750624, -390.3784523979228, -405.6827360907978, -432.0930329835351, -460.0898276089347, -476.94685659561566, -499.33300188406906, -526.6925732780268, -554.821574937851, -589.8406175853097, -635.7861162481461, -653.0406072279986, -700.4209006916393, -711.022561083503, -755.3551499575855, -776.8942464328704, -804.4203535681739, -744.258854748731, -858.5541548499449, -934.5392474618187, -943.2033310956496, -959.8334502765839, -1008.4239833418699, -1062.1008263450256, -1090.5010715244925, -1150.4961736240489, -1131.7230747651288, -1166.6415429548783, -1235.177637681604, -1213.8399286933125, -1304.140345282733, -1388.2693642600973, -1445.6510187648835, -1478.975448730795, -1481.3810860511453, -1571.35719388054, -1610.0436548855216, -1637.1735861059178, -1682.6535926043668, -1721.5259877373192, -1746.3269523171818, -1831.118910152007, -1871.4935733570771, -1885.5600838992684, -1913.7570617798178, -2019.2686688428257, -2053.297576340762, -2128.613900938136, -2165.4289189302986, -2163.200596896085, -2237.020579366123, -2294.572646746661, -2396.5637309742483, -2388.1213616355853, -2503.5935542902207, -2455.3256693957323, -2563.5915880254247, -2610.8041428550678, -2691.7425711728674, -2710.8562840344434, -2725.2407367315523, -2826.36420397835, -3003.7257040668937, -3134.842560365238, -3014.591462731999, -3087.581461982931, -3207.7633697999354, -3225.6778526102157, -3234.6204930269782, -3359.992536843142, -3415.566339666193], 'val_accuracy': [0.33529412746429443, 0.33529412746429443, 0.33529412746429443, 0.33529412746429443, 0.33529412746429443, 0.33529412746429443, 0.33529412746429443, 0.33529412746429443, 0.3368983864784241, 0.3374331593513489, 0.33529412746429443, 0.33529412746429443, 0.33475935459136963, 0.3374331593513489, 0.33636364340782166, 0.33475935459136963, 0.33529412746429443, 0.33582887053489685, 0.33475935459136963, 0.33475935459136963, 0.3368983864784241, 0.33475935459136963, 0.33636364340782166, 0.33529412746429443, 0.33636364340782166, 0.33582887053489685, 0.3390374183654785, 0.33582887053489685, 0.3390374183654785, 0.3368983864784241, 0.33529412746429443, 0.3390374183654785, 0.3379679024219513, 0.3385026752948761, 0.3374331593513489, 0.3379679024219513, 0.3374331593513489, 0.34117648005485535, 0.34117648005485535, 0.3390374183654785, 0.34117648005485535, 0.3433155119419098, 0.34652405977249146, 0.34224599599838257, 0.3385026752948761, 0.3395721912384033, 0.3401069641113281, 0.3395721912384033, 0.34117648005485535, 0.34117648005485535, 0.33636364340782166, 0.3385026752948761, 0.33475935459136963, 0.3390374183654785, 0.3379679024219513, 0.33582887053489685, 0.3385026752948761, 0.3486630916595459, 0.33582887053489685, 0.3326203227043152, 0.3326203227043152, 0.32620319724082947, 0.33048129081726074, 0.3336898386478424, 0.3283422589302063, 0.32620319724082947, 0.33582887053489685, 0.33636364340782166, 0.3320855498313904, 0.3331550657749176, 0.3401069641113281, 0.34224599599838257, 0.34117648005485535, 0.33529412746429443, 0.3331550657749176, 0.33529412746429443, 0.33155080676078796, 0.34224599599838257, 0.34064170718193054, 0.33529412746429443, 0.33101603388786316, 0.3390374183654785, 0.3374331593513489, 0.3534759283065796, 0.33475935459136963, 0.3433155119419098, 0.3395721912384033, 0.3342246115207672, 0.3401069641113281, 0.34064170718193054, 0.34117648005485535, 0.3379679024219513, 0.3390374183654785, 0.3374331593513489, 0.3390374183654785, 0.3379679024219513, 0.34545454382896423, 0.34224599599838257, 0.3390374183654785, 0.3449198007583618], 'loss': [0.11143626441783343, 0.04517802696120054, -0.4157592621710994, -1.705735523702094, -4.099691591685684, -7.877315380847746, -12.874062992717128, -19.038684322563366, -26.180691388085624, -33.83281266419928, -41.70264982825726, -52.469464309546446, -63.270286177071455, -75.25441432018333, -85.93837319059253, -98.01697880811496, -111.20198095474417, -129.2302773973014, -148.00415714844405, -163.6619311603159, -184.77448182119406, -204.91017164401725, -230.53617139990467, -249.34369061493368, -272.65957377316846, -299.73964107983977, -326.9330540241477, -349.2855006312444, -384.8209390290234, -407.30194649031364, -441.94007742196135, -471.755170376611, -511.8856861284988, -543.0809231649141, -569.9861902827697, -597.2979421828549, -649.1177814909283, -672.576461658868, -721.0193597302907, -772.8880262807149, -809.1110449458272, -837.4304058939748, -886.2054659449045, -930.4468490999958, -979.048129704375, -1020.6532715977091, -1000.2258599471052, -1079.7905663630434, -1159.8443596563582, -1205.4879304957526, -1267.9293940697528, -1302.2650379926097, -1340.4679446383298, -1411.5326412778309, -1476.1990078751903, -1507.960973573984, -1509.2947614593675, -1496.7291056802205, -1588.635945499286, -1751.0800164513194, -1793.7011963058433, -1829.9668694021932, -1933.4346818491679, -1943.5367005568548, -2059.9254375941805, -2154.8183691583545, -2213.2085472381855, -2300.579120529385, -2317.962349664561, -2377.9961976399313, -2468.5677743892743, -2546.9539619014295, -2623.8578510587904, -2686.926796648046, -2782.9857629356993, -2844.2167370201096, -2951.661354273044, -3034.3649679470354, -3122.379364053966, -3196.672671714749, -3322.2895504772578, -3413.1021126039304, -3508.7821275609303, -3571.541562381953, -3682.781522389991, -3721.1559276721077, -3854.795425004955, -3976.9414877030185, -4067.2863226767004, -4159.377633192846, -4286.377755212153, -4336.113026908286, -4317.628507052821, -4433.313130875389, -4496.753125776915, -4667.962970013956, -4850.548325752986, -4960.350215881772, -4935.05162968376, -5146.550746941506], 'accuracy': [0.3396176, 0.3394839, 0.3394839, 0.34068725, 0.34416366, 0.3414895, 0.3394839, 0.3394839, 0.3397513, 0.3397513, 0.3393502, 0.34055355, 0.34041983, 0.34041983, 0.34389624, 0.3429603, 0.3397513, 0.3396176, 0.34055355, 0.34055355, 0.34041983, 0.34068725, 0.34202433, 0.34189063, 0.34269288, 0.34429738, 0.34229174, 0.34523332, 0.3445648, 0.34643668, 0.345367, 0.34737265, 0.34777376, 0.34723893, 0.34790748, 0.34924456, 0.34897715, 0.34884343, 0.35325578, 0.35231984, 0.35165128, 0.35138386, 0.35058162, 0.35459286, 0.35231984, 0.35285467, 0.34790748, 0.34790748, 0.3499131, 0.35138386, 0.35245353, 0.35004678, 0.3521861, 0.3483086, 0.3515176, 0.35486028, 0.35419175, 0.35111645, 0.35579622, 0.35592994, 0.35592994, 0.35566252, 0.35392433, 0.3533895, 0.35486028, 0.35245353, 0.35820296, 0.35726702, 0.35659847, 0.35606363, 0.35766813, 0.35766813, 0.36020857, 0.3587378, 0.3586041, 0.3567322, 0.360476, 0.35686588, 0.35780185, 0.35486028, 0.35486028, 0.36007488, 0.3619468, 0.3619468, 0.36127824, 0.35686588, 0.360476, 0.35940635, 0.36101082, 0.36288273, 0.36127824, 0.36248162, 0.3586041, 0.3587378, 0.3586041, 0.36114454, 0.35659847, 0.36167938, 0.36248162, 0.36181307]}\n"
     ]
    }
   ],
   "source": [
    "model = Sequential()\n",
    "model.add(Embedding(2000, 128))\n",
    "model.add(Bidirectional(LSTM(32, return_sequences = True)))\n",
    "model.add(GlobalMaxPool1D())\n",
    "model.add(Dense(20, activation=\"relu\"))\n",
    "# model.add(Dropout(0.05))\n",
    "model.add(Dense(1, activation=\"sigmoid\"))\n",
    "model.compile(loss='binary_crossentropy', optimizer='adam', metrics=['accuracy'])\n",
    "\n",
    "model_hist = model.fit(df_X, df_y, batch_size=50, epochs=100, validation_split=0.2)\n",
    "print(model_hist.history)"
   ]
  },
  {
   "cell_type": "code",
   "execution_count": 51,
   "metadata": {},
   "outputs": [
    {
     "data": {
      "image/png": "[encoded data removed]",
      "text/plain": [
       "<Figure size 1296x432 with 1 Axes>"
      ]
     },
     "metadata": {
      "needs_background": "light"
     },
     "output_type": "display_data"
    },
    {
     "data": {
      "image/png": "[encoded data removed]",
      "text/plain": [
       "<Figure size 1296x432 with 1 Axes>"
      ]
     },
     "metadata": {
      "needs_background": "light"
     },
     "output_type": "display_data"
    }
   ],
   "source": [
    "show_learning_curve(model_hist, 'accuracy')"
   ]
  },
  {
   "cell_type": "markdown",
   "metadata": {},
   "source": [
    "## Predicting gold_label for test data"
   ]
  },
  {
   "cell_type": "code",
   "execution_count": 52,
   "metadata": {},
   "outputs": [
    {
     "name": "stdout",
     "output_type": "stream",
     "text": [
      "[1 1 2 2 0 2 0 0 2 0 1 2 1 0 0 1 1 1 0 1 0 0 0 0 0 1 2 2 2 0 2 0 2 1 0 1 0\n",
      " 1 0 0 0 2 0 0 0 0 0 0 1 0 2 2 0 1 2 0 0 0 2 0 1 0 0 2 0 0 0 1 0 0 2 0 0 0\n",
      " 0 0 0 0 0 2 1 0 2 1 1 0 2 0 2 0 2 0 1 0 0 0 0 2 0 0 1 2 1 0 0 1 2 0 2 1 1\n",
      " 1 0 0 2 1 0 0 0 0 0 1 1 0 2 0 0 0 1 2 2 0 2 2 1 0 1 0 0 2 0 0 0 0 0 2 1 2\n",
      " 1 1 0 0 2 0 0 2 2 0 2 1 2 0 0 1 1 0 0 0 1 0 1 1 2 1 0 0 2 0 1 1 1 0 2 1 2\n",
      " 1 1 0 1 0 1 1 0 2 2 0 2 0 0 0 0 1 1 0 1 1 0 0 0 1 0 1 0 0 0 0 0 1 0 1 0 2\n",
      " 0 0 1 0 0 1 2 2 1 1 2 0 1 0 0 0 2 0 1 0 1 1 1 0 0 0 1 0 1 2 1 1 2 1 0 0 0\n",
      " 1 0 0 1 0 1 0 2 0 2 2 1 0 2 1 0 0 0 0 1 2 1 2 0 0 1 2 1 1 2 1 1 0 1 2 0 0\n",
      " 1 2 1 0 2 2 0 0 1 2 2 1 0 1 2 0 2 0 1 2 2 0 0 2 2 0 2 1 2 2 0 0 0 1 0 2 0\n",
      " 0 0 2 0 0 1 1 1 0 0 2 2 1 2 2 1 0 0 2 1 1 1 0 2 2 0 0 2 0 1 1 2 1 0 2 0 0\n",
      " 2 1 1 1 0 1 2 1 1 1 0 2 1 2 2 0 1 2 1 0 0 2 1 1 2 1 1 0 2 0 1 1 0 1 1 1 1\n",
      " 2 2 2 1 2 2 0 0 1 1 1 0 0 1 2 0 0 1 0 0 1 0 1 0 2 2 0 1 1 1 0 0 2 0 0 0 1\n",
      " 1 0 0 0 0 0 0 1 1 2 0 0 2 1 1 0 1 0 0 0 2 2 1 2 0 0 0 2 1 0 0 0 0 0 0 2 0\n",
      " 0 2 0 2 2 0 1 0 0 0 0 1]\n"
     ]
    }
   ],
   "source": [
    "test_prediction = xgb_classifier.predict(df_test_scaled)\n",
    "print(test_prediction)"
   ]
  },
  {
   "cell_type": "markdown",
   "metadata": {},
   "source": [
    "## Building the prediction csv file"
   ]
  },
  {
   "cell_type": "code",
   "execution_count": null,
   "metadata": {},
   "outputs": [],
   "source": [
    "# todo:"
   ]
  }
 ],
 "metadata": {
  "kernelspec": {
   "display_name": "Python 3",
   "language": "python",
   "name": "python3"
  },
  "language_info": {
   "codemirror_mode": {
    "name": "ipython",
    "version": 3
   },
   "file_extension": ".py",
   "mimetype": "text/x-python",
   "name": "python",
   "nbconvert_exporter": "python",
   "pygments_lexer": "ipython3",
   "version": "3.7.3"
  }
 },
 "nbformat": 4,
 "nbformat_minor": 2
}
