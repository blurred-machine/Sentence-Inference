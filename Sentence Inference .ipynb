{
 "cells": [
  {
   "cell_type": "markdown",
   "metadata": {},
   "source": [
    "# Sentence-Inference"
   ]
  },
  {
   "cell_type": "markdown",
   "metadata": {},
   "source": [
    "### The problem is for every given pair of sentences ie. (sentence-1, sentence-2), determine if sentence-2 can be logically inferred given sentence-1."
   ]
  },
  {
   "cell_type": "markdown",
   "metadata": {},
   "source": [
    "## 1. Importing libraries and data"
   ]
  },
  {
   "cell_type": "markdown",
   "metadata": {},
   "source": [
    "### 1.1 Importing libraries"
   ]
  },
  {
   "cell_type": "code",
   "execution_count": 42,
   "metadata": {},
   "outputs": [],
   "source": [
    "import pandas as pd\n",
    "import numpy as np\n",
    "import matplotlib.pyplot as plt\n",
    "%matplotlib inline\n",
    "import seaborn as sns\n",
    "\n",
    "from bs4 import BeautifulSoup\n",
    "import re\n",
    "from tqdm import tqdm "
   ]
  },
  {
   "cell_type": "markdown",
   "metadata": {},
   "source": [
    "### 1.2 Importing Dataset"
   ]
  },
  {
   "cell_type": "code",
   "execution_count": 43,
   "metadata": {},
   "outputs": [
    {
     "data": {
      "text/html": [
       "<div>\n",
       "<style scoped>\n",
       "    .dataframe tbody tr th:only-of-type {\n",
       "        vertical-align: middle;\n",
       "    }\n",
       "\n",
       "    .dataframe tbody tr th {\n",
       "        vertical-align: top;\n",
       "    }\n",
       "\n",
       "    .dataframe thead th {\n",
       "        text-align: right;\n",
       "    }\n",
       "</style>\n",
       "<table border=\"1\" class=\"dataframe\">\n",
       "  <thead>\n",
       "    <tr style=\"text-align: right;\">\n",
       "      <th></th>\n",
       "      <th>gold_label</th>\n",
       "      <th>sentence1</th>\n",
       "      <th>sentence2</th>\n",
       "    </tr>\n",
       "  </thead>\n",
       "  <tbody>\n",
       "    <tr>\n",
       "      <th>0</th>\n",
       "      <td>contradiction</td>\n",
       "      <td>A group of men with cowboy hats are watching a...</td>\n",
       "      <td>A group of women are watching a horse race</td>\n",
       "    </tr>\n",
       "    <tr>\n",
       "      <th>1</th>\n",
       "      <td>entailment</td>\n",
       "      <td>A kid with his head shaved sitting and holding...</td>\n",
       "      <td>Child sits with a cigarette.</td>\n",
       "    </tr>\n",
       "    <tr>\n",
       "      <th>2</th>\n",
       "      <td>neutral</td>\n",
       "      <td>A woman riding a bicycle past a car and a grou...</td>\n",
       "      <td>A woman riding a bicycle near a group of her f...</td>\n",
       "    </tr>\n",
       "    <tr>\n",
       "      <th>3</th>\n",
       "      <td>neutral</td>\n",
       "      <td>A woman looking through what appears to be a t...</td>\n",
       "      <td>An female astronamer looking toward the stars ...</td>\n",
       "    </tr>\n",
       "    <tr>\n",
       "      <th>4</th>\n",
       "      <td>entailment</td>\n",
       "      <td>A large group of people stand outside on a roa...</td>\n",
       "      <td>One group of people are watching what another ...</td>\n",
       "    </tr>\n",
       "    <tr>\n",
       "      <th>5</th>\n",
       "      <td>contradiction</td>\n",
       "      <td>A small dark-haired boy climbing in a large tree.</td>\n",
       "      <td>A small dark-haired boy is climbing over a car...</td>\n",
       "    </tr>\n",
       "    <tr>\n",
       "      <th>6</th>\n",
       "      <td>neutral</td>\n",
       "      <td>A man sits beside parked cars on a city street.</td>\n",
       "      <td>A man is sitting on a bench.</td>\n",
       "    </tr>\n",
       "    <tr>\n",
       "      <th>7</th>\n",
       "      <td>entailment</td>\n",
       "      <td>A dog looks content sitting on a bed after rip...</td>\n",
       "      <td>a dog sitting on a bed after ripping up paper.</td>\n",
       "    </tr>\n",
       "    <tr>\n",
       "      <th>8</th>\n",
       "      <td>contradiction</td>\n",
       "      <td>Young children and parents splashing around a ...</td>\n",
       "      <td>There are families eating lunch</td>\n",
       "    </tr>\n",
       "    <tr>\n",
       "      <th>9</th>\n",
       "      <td>entailment</td>\n",
       "      <td>A football coach guiding one of his players on...</td>\n",
       "      <td>The coach knows how to play football.</td>\n",
       "    </tr>\n",
       "  </tbody>\n",
       "</table>\n",
       "</div>"
      ],
      "text/plain": [
       "      gold_label                                          sentence1  \\\n",
       "0  contradiction  A group of men with cowboy hats are watching a...   \n",
       "1     entailment  A kid with his head shaved sitting and holding...   \n",
       "2        neutral  A woman riding a bicycle past a car and a grou...   \n",
       "3        neutral  A woman looking through what appears to be a t...   \n",
       "4     entailment  A large group of people stand outside on a roa...   \n",
       "5  contradiction  A small dark-haired boy climbing in a large tree.   \n",
       "6        neutral    A man sits beside parked cars on a city street.   \n",
       "7     entailment  A dog looks content sitting on a bed after rip...   \n",
       "8  contradiction  Young children and parents splashing around a ...   \n",
       "9     entailment  A football coach guiding one of his players on...   \n",
       "\n",
       "                                           sentence2  \n",
       "0         A group of women are watching a horse race  \n",
       "1                       Child sits with a cigarette.  \n",
       "2  A woman riding a bicycle near a group of her f...  \n",
       "3  An female astronamer looking toward the stars ...  \n",
       "4  One group of people are watching what another ...  \n",
       "5  A small dark-haired boy is climbing over a car...  \n",
       "6                       A man is sitting on a bench.  \n",
       "7     a dog sitting on a bed after ripping up paper.  \n",
       "8                    There are families eating lunch  \n",
       "9              The coach knows how to play football.  "
      ]
     },
     "execution_count": 43,
     "metadata": {},
     "output_type": "execute_result"
    }
   ],
   "source": [
    "# reading training file with the data\n",
    "df_train = pd.read_csv(\"data_set/train.csv\")\n",
    "df_train.head(10)"
   ]
  },
  {
   "cell_type": "code",
   "execution_count": 40,
   "metadata": {},
   "outputs": [
    {
     "data": {
      "text/plain": [
       "gold_label    False\n",
       "sentence1     False\n",
       "sentence2     False\n",
       "dtype: bool"
      ]
     },
     "execution_count": 40,
     "metadata": {},
     "output_type": "execute_result"
    }
   ],
   "source": [
    "# checking if there any missing value in the dataset\n",
    "df_train.isna().any()"
   ]
  },
  {
   "cell_type": "code",
   "execution_count": 41,
   "metadata": {},
   "outputs": [
    {
     "data": {
      "text/plain": [
       "entailment       3166\n",
       "contradiction    3114\n",
       "neutral          3069\n",
       "Name: gold_label, dtype: int64"
      ]
     },
     "execution_count": 41,
     "metadata": {},
     "output_type": "execute_result"
    }
   ],
   "source": [
    "# checking the total number of classes for the target variable\n",
    "df_train.gold_label.value_counts()"
   ]
  },
  {
   "cell_type": "markdown",
   "metadata": {},
   "source": [
    "### NOTE: the data seems to be balanced with no missing values. <br> Now, I can proceed with data cleaning. "
   ]
  },
  {
   "cell_type": "markdown",
   "metadata": {},
   "source": [
    "## 2. Cleaning Data "
   ]
  },
  {
   "cell_type": "code",
   "execution_count": 44,
   "metadata": {},
   "outputs": [],
   "source": [
    "# custom list of stop words which do not have exceptional values\n",
    "stopwords= set(['br', 'the', 'i', 'me', 'my', 'myself', 'we', 'our', 'ours', 'ourselves', 'you', \"you're\", \"you've\",\\\n",
    "            \"you'll\", \"you'd\", 'your', 'yours', 'yourself', 'yourselves', 'he', 'him', 'his', 'himself', \\\n",
    "            'she', \"she's\", 'her', 'hers', 'herself', 'it', \"it's\", 'its', 'itself', 'they', 'them', 'their',\\\n",
    "            'theirs', 'themselves', 'what', 'which', 'who', 'whom', 'this', 'that', \"that'll\", 'these', 'those', \\\n",
    "            'am', 'is', 'are', 'was', 'were', 'be', 'been', 'being', 'have', 'has', 'had', 'having', 'do', 'does', \\\n",
    "            'did', 'doing', 'a', 'an', 'the', 'and', 'but', 'if', 'or', 'because', 'as', 'until', 'while', 'of', \\\n",
    "            'at', 'by', 'for', 'with', 'about', 'against', 'between', 'into', 'through', 'during', 'before', 'after',\\\n",
    "            'above', 'below', 'to', 'from', 'up', 'down', 'in', 'out', 'on', 'off', 'over', 'under', 'again', 'further',\\\n",
    "            'then', 'once', 'here', 'there', 'when', 'where', 'why', 'how', 'all', 'any', 'both', 'each', 'few', 'more',\\\n",
    "            'most', 'other', 'some', 'such', 'only', 'own', 'same', 'so', 'than', 'too', 'very', \\\n",
    "            's', 't', 'can', 'will', 'just', 'don', \"don't\", 'should', \"should've\", 'now', 'd', 'll', 'm', 'o', 're', \\\n",
    "            've', 'y', 'ain', 'aren', \"aren't\", 'couldn', \"couldn't\", 'didn', \"didn't\", 'doesn', \"doesn't\", 'hadn',\\\n",
    "            \"hadn't\", 'hasn', \"hasn't\", 'haven', \"haven't\", 'isn', \"isn't\", 'ma', 'mightn', \"mightn't\", 'mustn',\\\n",
    "            \"mustn't\", 'needn', \"needn't\", 'shan', \"shan't\", 'shouldn', \"shouldn't\", 'wasn', \"wasn't\", 'weren', \"weren't\", \\\n",
    "            'won', \"won't\", 'wouldn', \"wouldn't\"])"
   ]
  },
  {
   "cell_type": "code",
   "execution_count": 37,
   "metadata": {},
   "outputs": [],
   "source": [
    "def decontracted(phrase):\n",
    "    # specific\n",
    "    phrase = re.sub(r\"won't\", \"will not\", phrase)\n",
    "    phrase = re.sub(r\"can\\'t\", \"can not\", phrase)\n",
    "\n",
    "    # general\n",
    "    phrase = re.sub(r\"n\\'t\", \" not\", phrase)\n",
    "    phrase = re.sub(r\"\\'re\", \" are\", phrase)\n",
    "    phrase = re.sub(r\"\\'s\", \" is\", phrase)\n",
    "    phrase = re.sub(r\"\\'d\", \" would\", phrase)\n",
    "    phrase = re.sub(r\"\\'ll\", \" will\", phrase)\n",
    "    phrase = re.sub(r\"\\'t\", \" not\", phrase)\n",
    "    phrase = re.sub(r\"\\'ve\", \" have\", phrase)\n",
    "    phrase = re.sub(r\"\\'m\", \" am\", phrase)\n",
    "    return phrase"
   ]
  },
  {
   "cell_type": "code",
   "execution_count": 27,
   "metadata": {},
   "outputs": [],
   "source": [
    "def clean_text(sentance):\n",
    "    sentance = re.sub(r\"http\\S+\", \"\", sentance)\n",
    "    sentance = BeautifulSoup(sentance, 'lxml').get_text()\n",
    "    sentance = decontracted(sentance)\n",
    "    sentance = re.sub(\"\\S*\\d\\S*\", \"\", sentance).strip()\n",
    "    sentance = re.sub('[^A-Za-z]+', ' ', sentance)\n",
    "    sentance = ' '.join(e.lower() for e in sentance.split() if e.lower() not in stopwords)\n",
    "    return sentance.strip()"
   ]
  },
  {
   "cell_type": "code",
   "execution_count": 38,
   "metadata": {},
   "outputs": [
    {
     "data": {
      "text/html": [
       "<div>\n",
       "<style scoped>\n",
       "    .dataframe tbody tr th:only-of-type {\n",
       "        vertical-align: middle;\n",
       "    }\n",
       "\n",
       "    .dataframe tbody tr th {\n",
       "        vertical-align: top;\n",
       "    }\n",
       "\n",
       "    .dataframe thead th {\n",
       "        text-align: right;\n",
       "    }\n",
       "</style>\n",
       "<table border=\"1\" class=\"dataframe\">\n",
       "  <thead>\n",
       "    <tr style=\"text-align: right;\">\n",
       "      <th></th>\n",
       "      <th>gold_label</th>\n",
       "      <th>sentence1</th>\n",
       "      <th>sentence2</th>\n",
       "    </tr>\n",
       "  </thead>\n",
       "  <tbody>\n",
       "    <tr>\n",
       "      <th>0</th>\n",
       "      <td>contradiction</td>\n",
       "      <td>A group of men with cowboy hats are watching a...</td>\n",
       "      <td>A group of women are watching a horse race</td>\n",
       "    </tr>\n",
       "    <tr>\n",
       "      <th>1</th>\n",
       "      <td>entailment</td>\n",
       "      <td>A kid with his head shaved sitting and holding...</td>\n",
       "      <td>Child sits with a cigarette.</td>\n",
       "    </tr>\n",
       "    <tr>\n",
       "      <th>2</th>\n",
       "      <td>neutral</td>\n",
       "      <td>A woman riding a bicycle past a car and a grou...</td>\n",
       "      <td>A woman riding a bicycle near a group of her f...</td>\n",
       "    </tr>\n",
       "    <tr>\n",
       "      <th>3</th>\n",
       "      <td>neutral</td>\n",
       "      <td>A woman looking through what appears to be a t...</td>\n",
       "      <td>An female astronamer looking toward the stars ...</td>\n",
       "    </tr>\n",
       "    <tr>\n",
       "      <th>4</th>\n",
       "      <td>entailment</td>\n",
       "      <td>A large group of people stand outside on a roa...</td>\n",
       "      <td>One group of people are watching what another ...</td>\n",
       "    </tr>\n",
       "    <tr>\n",
       "      <th>5</th>\n",
       "      <td>contradiction</td>\n",
       "      <td>A small dark-haired boy climbing in a large tree.</td>\n",
       "      <td>A small dark-haired boy is climbing over a car...</td>\n",
       "    </tr>\n",
       "    <tr>\n",
       "      <th>6</th>\n",
       "      <td>neutral</td>\n",
       "      <td>A man sits beside parked cars on a city street.</td>\n",
       "      <td>A man is sitting on a bench.</td>\n",
       "    </tr>\n",
       "    <tr>\n",
       "      <th>7</th>\n",
       "      <td>entailment</td>\n",
       "      <td>A dog looks content sitting on a bed after rip...</td>\n",
       "      <td>a dog sitting on a bed after ripping up paper.</td>\n",
       "    </tr>\n",
       "    <tr>\n",
       "      <th>8</th>\n",
       "      <td>contradiction</td>\n",
       "      <td>Young children and parents splashing around a ...</td>\n",
       "      <td>There are families eating lunch</td>\n",
       "    </tr>\n",
       "    <tr>\n",
       "      <th>9</th>\n",
       "      <td>entailment</td>\n",
       "      <td>A football coach guiding one of his players on...</td>\n",
       "      <td>The coach knows how to play football.</td>\n",
       "    </tr>\n",
       "  </tbody>\n",
       "</table>\n",
       "</div>"
      ],
      "text/plain": [
       "      gold_label                                          sentence1  \\\n",
       "0  contradiction  A group of men with cowboy hats are watching a...   \n",
       "1     entailment  A kid with his head shaved sitting and holding...   \n",
       "2        neutral  A woman riding a bicycle past a car and a grou...   \n",
       "3        neutral  A woman looking through what appears to be a t...   \n",
       "4     entailment  A large group of people stand outside on a roa...   \n",
       "5  contradiction  A small dark-haired boy climbing in a large tree.   \n",
       "6        neutral    A man sits beside parked cars on a city street.   \n",
       "7     entailment  A dog looks content sitting on a bed after rip...   \n",
       "8  contradiction  Young children and parents splashing around a ...   \n",
       "9     entailment  A football coach guiding one of his players on...   \n",
       "\n",
       "                                           sentence2  \n",
       "0         A group of women are watching a horse race  \n",
       "1                       Child sits with a cigarette.  \n",
       "2  A woman riding a bicycle near a group of her f...  \n",
       "3  An female astronamer looking toward the stars ...  \n",
       "4  One group of people are watching what another ...  \n",
       "5  A small dark-haired boy is climbing over a car...  \n",
       "6                       A man is sitting on a bench.  \n",
       "7     a dog sitting on a bed after ripping up paper.  \n",
       "8                    There are families eating lunch  \n",
       "9              The coach knows how to play football.  "
      ]
     },
     "execution_count": 38,
     "metadata": {},
     "output_type": "execute_result"
    }
   ],
   "source": [
    "# data before cleaning\n",
    "df_train.head(10)"
   ]
  },
  {
   "cell_type": "code",
   "execution_count": 29,
   "metadata": {},
   "outputs": [
    {
     "name": "stderr",
     "output_type": "stream",
     "text": [
      "100%|████████████████████████████████████████████████████████████████████████████| 9349/9349 [00:09<00:00, 1035.13it/s]\n"
     ]
    }
   ],
   "source": [
    "for i in tqdm(range(len(df_train)), position=0, leave=True):\n",
    "    df_train.sentence1[i] = clean_text(df_train.sentence1[i])\n",
    "    df_train.sentence2[i] = clean_text(df_train.sentence2[i])"
   ]
  },
  {
   "cell_type": "code",
   "execution_count": 39,
   "metadata": {},
   "outputs": [
    {
     "data": {
      "text/html": [
       "<div>\n",
       "<style scoped>\n",
       "    .dataframe tbody tr th:only-of-type {\n",
       "        vertical-align: middle;\n",
       "    }\n",
       "\n",
       "    .dataframe tbody tr th {\n",
       "        vertical-align: top;\n",
       "    }\n",
       "\n",
       "    .dataframe thead th {\n",
       "        text-align: right;\n",
       "    }\n",
       "</style>\n",
       "<table border=\"1\" class=\"dataframe\">\n",
       "  <thead>\n",
       "    <tr style=\"text-align: right;\">\n",
       "      <th></th>\n",
       "      <th>gold_label</th>\n",
       "      <th>sentence1</th>\n",
       "      <th>sentence2</th>\n",
       "    </tr>\n",
       "  </thead>\n",
       "  <tbody>\n",
       "    <tr>\n",
       "      <th>0</th>\n",
       "      <td>contradiction</td>\n",
       "      <td>A group of men with cowboy hats are watching a...</td>\n",
       "      <td>A group of women are watching a horse race</td>\n",
       "    </tr>\n",
       "    <tr>\n",
       "      <th>1</th>\n",
       "      <td>entailment</td>\n",
       "      <td>A kid with his head shaved sitting and holding...</td>\n",
       "      <td>Child sits with a cigarette.</td>\n",
       "    </tr>\n",
       "    <tr>\n",
       "      <th>2</th>\n",
       "      <td>neutral</td>\n",
       "      <td>A woman riding a bicycle past a car and a grou...</td>\n",
       "      <td>A woman riding a bicycle near a group of her f...</td>\n",
       "    </tr>\n",
       "    <tr>\n",
       "      <th>3</th>\n",
       "      <td>neutral</td>\n",
       "      <td>A woman looking through what appears to be a t...</td>\n",
       "      <td>An female astronamer looking toward the stars ...</td>\n",
       "    </tr>\n",
       "    <tr>\n",
       "      <th>4</th>\n",
       "      <td>entailment</td>\n",
       "      <td>A large group of people stand outside on a roa...</td>\n",
       "      <td>One group of people are watching what another ...</td>\n",
       "    </tr>\n",
       "    <tr>\n",
       "      <th>5</th>\n",
       "      <td>contradiction</td>\n",
       "      <td>A small dark-haired boy climbing in a large tree.</td>\n",
       "      <td>A small dark-haired boy is climbing over a car...</td>\n",
       "    </tr>\n",
       "    <tr>\n",
       "      <th>6</th>\n",
       "      <td>neutral</td>\n",
       "      <td>A man sits beside parked cars on a city street.</td>\n",
       "      <td>A man is sitting on a bench.</td>\n",
       "    </tr>\n",
       "    <tr>\n",
       "      <th>7</th>\n",
       "      <td>entailment</td>\n",
       "      <td>A dog looks content sitting on a bed after rip...</td>\n",
       "      <td>a dog sitting on a bed after ripping up paper.</td>\n",
       "    </tr>\n",
       "    <tr>\n",
       "      <th>8</th>\n",
       "      <td>contradiction</td>\n",
       "      <td>Young children and parents splashing around a ...</td>\n",
       "      <td>There are families eating lunch</td>\n",
       "    </tr>\n",
       "    <tr>\n",
       "      <th>9</th>\n",
       "      <td>entailment</td>\n",
       "      <td>A football coach guiding one of his players on...</td>\n",
       "      <td>The coach knows how to play football.</td>\n",
       "    </tr>\n",
       "  </tbody>\n",
       "</table>\n",
       "</div>"
      ],
      "text/plain": [
       "      gold_label                                          sentence1  \\\n",
       "0  contradiction  A group of men with cowboy hats are watching a...   \n",
       "1     entailment  A kid with his head shaved sitting and holding...   \n",
       "2        neutral  A woman riding a bicycle past a car and a grou...   \n",
       "3        neutral  A woman looking through what appears to be a t...   \n",
       "4     entailment  A large group of people stand outside on a roa...   \n",
       "5  contradiction  A small dark-haired boy climbing in a large tree.   \n",
       "6        neutral    A man sits beside parked cars on a city street.   \n",
       "7     entailment  A dog looks content sitting on a bed after rip...   \n",
       "8  contradiction  Young children and parents splashing around a ...   \n",
       "9     entailment  A football coach guiding one of his players on...   \n",
       "\n",
       "                                           sentence2  \n",
       "0         A group of women are watching a horse race  \n",
       "1                       Child sits with a cigarette.  \n",
       "2  A woman riding a bicycle near a group of her f...  \n",
       "3  An female astronamer looking toward the stars ...  \n",
       "4  One group of people are watching what another ...  \n",
       "5  A small dark-haired boy is climbing over a car...  \n",
       "6                       A man is sitting on a bench.  \n",
       "7     a dog sitting on a bed after ripping up paper.  \n",
       "8                    There are families eating lunch  \n",
       "9              The coach knows how to play football.  "
      ]
     },
     "execution_count": 39,
     "metadata": {},
     "output_type": "execute_result"
    }
   ],
   "source": [
    "# data after cleaning\n",
    "df_train.head(10)"
   ]
  },
  {
   "cell_type": "code",
   "execution_count": null,
   "metadata": {},
   "outputs": [],
   "source": []
  }
 ],
 "metadata": {
  "kernelspec": {
   "display_name": "Python 3",
   "language": "python",
   "name": "python3"
  },
  "language_info": {
   "codemirror_mode": {
    "name": "ipython",
    "version": 3
   },
   "file_extension": ".py",
   "mimetype": "text/x-python",
   "name": "python",
   "nbconvert_exporter": "python",
   "pygments_lexer": "ipython3",
   "version": "3.7.3"
  }
 },
 "nbformat": 4,
 "nbformat_minor": 2
}
